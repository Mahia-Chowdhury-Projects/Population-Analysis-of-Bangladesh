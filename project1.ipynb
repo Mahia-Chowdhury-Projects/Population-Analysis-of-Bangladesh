{
 "cells": [
  {
   "cell_type": "code",
   "execution_count": 2,
   "id": "e7676f37",
   "metadata": {
    "deletable": false,
    "editable": false
   },
   "outputs": [],
   "source": [
    "# Initialize Otter\n",
    "import otter\n",
    "grader = otter.Notebook(\"project1.ipynb\")"
   ]
  },
  {
   "cell_type": "markdown",
   "id": "4e043053",
   "metadata": {
    "deletable": false,
    "editable": false
   },
   "source": [
    "# Project 1: World Progress"
   ]
  },
  {
   "cell_type": "markdown",
   "id": "9bae4999",
   "metadata": {
    "deletable": false,
    "editable": false
   },
   "source": [
    "In this project, you'll explore data from [Gapminder.org](http://gapminder.org), a website dedicated to providing a fact-based view of the world and how it has changed. That site includes several data visualizations and presentations, but also publishes the raw data that we will use in this project to recreate and extend some of their most famous visualizations.\n",
    "\n",
    "The Gapminder website collects data from many sources and compiles them into tables that describe many countries around the world. All of the data they aggregate are published in the [Systema Globalis](https://github.com/open-numbers/ddf--gapminder--systema_globalis/blob/master/README.md). Their goal is \"to compile all public statistics; Social, Economic and Environmental; into a comparable total dataset.\" All data sets in this project are copied directly from the Systema Globalis without any changes."
   ]
  },
  {
   "cell_type": "markdown",
   "id": "54bc55f4",
   "metadata": {
    "deletable": false,
    "editable": false
   },
   "source": [
    "**Project Instructions:**\n",
    "- This project aims to synthesize the material we have covered in this course so far and assess the python and data wrangling skills you have all learned.  As such, **this project is to be completed on your own**. You may consult the text, your notes, your lab work, our lecture examples, and the web pages associated with the course web page, but no other sources for code are permitted.\n",
    "\n",
    "    While we'd like you to answer the questions on your own, you may discuss these questions and review general concepts from the class materials with the course instructors and TAs.  We're happy to help you interpret error messages, offer debugging advice, review lecture and lab materials, etc.  Please do not discuss your code or solutions with others.\n",
    "    \n",
    "- **Due Date.** This project is due at **10pm on Thursday, Oct 27**. Do not wait until the last minute to complete this work.\n",
    "- **Checkpoint.**  There is one intermediate checkpoint.  You must complete the first 8 questions, and pass the public autograder tests for those parts by **10pm on Sunday, Oct 23**.  Submitting this checkpoint is worth 5% of your entire project grade.  After you've submitted the checkpoint, you may still change your answers before the project deadline - only your final submission, to the Project 1 assignment, will be graded for correctness. \n",
    "\n",
    "**General Notebook Instructions:**\n",
    "- Please complete this notebook by filling in the cells provided. \n",
    "- Before you begin, execute the following cell to setup the notebook by importing some helpful libraries. Each time you start your server, you will need to execute this cell again.  \n",
    "- For all problems that you must write explanations and sentences for, you **must** provide your answer in the designated space. \n",
    "- **Moreover, throughout this lab and all future ones, please be sure to not re-assign variables throughout the notebook!** For example, if you use `max_temperature` in your answer to one question, do not reassign it later on. Otherwise, you will fail tests that you thought you were passing previously!\n",
    "\n",
    "**Reminders:**\n",
    "- The tests that are given are **not comprehensive** and passing the tests for a question **does not** mean that you answered the question correctly. This notebook shows exactly what is checked by the \"public\" tests in the <font color=\"indigo\">purple list</font> at the end of each part.  Tests usually only check that your table has the correct column labels, for example. However, more tests will be applied to verify the correctness of your submission in order to assign your final score, so be careful and check your work! You might want to create your own checks along the way to see if your answers make sense. Additionally, before you submit, make sure that none of your cells take a very long time to run (several minutes).\n",
    "- Develop your answers incrementally. To perform a complicated table manipulation, break it up into steps, perform each step on a different line, give a new name to each result, and check that each intermediate result is what you expect. You can add any additional names or functions you want to the provided cells. Make sure that you are using distinct and meaningful variable names throughout the notebook. Along that line, **DO NOT** reuse the variable names that we use when we grade your answers. For example, in Question 1 of the Global Poverty section we ask you to assign an answer to `latest`. Do not reassign the variable name `latest` to anything else in your notebook, otherwise there is the chance that our tests grade against what `latest` was reassigned to.\n",
    "\n",
    "    You **never** have to use just one line in this project or any others. Use intermediate variables and multiple lines as much as you would like!\n",
    "\n"
   ]
  },
  {
   "cell_type": "code",
   "execution_count": 3,
   "id": "ddc5c72f",
   "metadata": {
    "deletable": false,
    "editable": false
   },
   "outputs": [],
   "source": [
    "# Run this cell to set up the notebook.\n",
    "\n",
    "# These lines import the NumPy and Datascience modules.\n",
    "from datascience import *\n",
    "import numpy as np\n",
    "\n",
    "# These lines do some fancy plotting magic.\n",
    "%matplotlib inline\n",
    "import matplotlib.pyplot as plots\n",
    "plots.style.use('fivethirtyeight')\n",
    "\n",
    "from ipywidgets import interact, interactive, fixed, interact_manual\n",
    "import ipywidgets as widgets"
   ]
  },
  {
   "cell_type": "markdown",
   "id": "4c5c953e",
   "metadata": {
    "deletable": false,
    "editable": false
   },
   "source": [
    "## 1. Global Population Growth (85 pts)\n",
    "\n"
   ]
  },
  {
   "cell_type": "markdown",
   "id": "21eba5ce",
   "metadata": {
    "deletable": false,
    "editable": false
   },
   "source": [
    "The global population of humans reached 1 billion around 1800, 3 billion around 1960, and 7 billion around 2011. The potential impact of exponential population growth has concerned scientists, economists, and politicians alike.\n",
    "\n",
    "The UN Population Division estimates that the world population will likely continue to grow throughout the 21st century, but at a slower rate, perhaps reaching 11 billion by 2100. However, the UN does not rule out scenarios of more extreme growth.\n",
    "\n",
    "<a href=\"http://www.pewresearch.org/fact-tank/2015/06/08/scientists-more-worried-than-public-about-worlds-growing-population/ft_15-06-04_popcount/\"> \n",
    " <img src=\"pew_population_projection.png\"/> \n",
    "</a>\n",
    "\n",
    "In this part of the project, we will examine some of the factors that influence population growth and how they have been changing over the years and around the world. There are two main sub-parts of this analysis.\n",
    "\n",
    "- First, we will examine the data for one country, Bangladesh. We will see how factors such as life expectancy, fertility rate, and child mortality have changed over time in Bangladesh, and how they are related to the rate of population growth.\n",
    "- Next, we will examine whether the changes we have observed for Bangladesh are particular to that country or whether they reflect general patterns observable in other countries too. We will study aspects of world population growth and see how they have been changing.\n",
    "\n",
    "The first table we will consider contains the total population of each country over time. Run the cell below."
   ]
  },
  {
   "cell_type": "code",
   "execution_count": 65,
   "id": "3d44421d",
   "metadata": {
    "deletable": false,
    "editable": false
   },
   "outputs": [
    {
     "data": {
      "text/html": [
       "<table border=\"1\" class=\"dataframe\">\n",
       "    <thead>\n",
       "        <tr>\n",
       "            <th>geo</th> <th>time</th> <th>population_total</th>\n",
       "        </tr>\n",
       "    </thead>\n",
       "    <tbody>\n",
       "        <tr>\n",
       "            <td>afg </td> <td>1800</td> <td>3280000         </td>\n",
       "        </tr>\n",
       "        <tr>\n",
       "            <td>afg </td> <td>1801</td> <td>3280000         </td>\n",
       "        </tr>\n",
       "        <tr>\n",
       "            <td>afg </td> <td>1802</td> <td>3280000         </td>\n",
       "        </tr>\n",
       "    </tbody>\n",
       "</table>\n",
       "<p>... (43534 rows omitted)</p>"
      ],
      "text/plain": [
       "<IPython.core.display.HTML object>"
      ]
     },
     "metadata": {},
     "output_type": "display_data"
    }
   ],
   "source": [
    "population = Table.read_table('population.csv').where(\"time\", are.below(2021))\n",
    "population.show(3)"
   ]
  },
  {
   "cell_type": "markdown",
   "id": "b0948fe2",
   "metadata": {
    "deletable": false,
    "editable": false
   },
   "source": [
    "**Note:** The population csv file can also be found [here](https://github.com/open-numbers/ddf--gapminder--systema_globalis/blob/master/countries-etc-datapoints/ddf--datapoints--population_total--by--geo--time.csv)."
   ]
  },
  {
   "cell_type": "markdown",
   "id": "c57f1f55",
   "metadata": {
    "deletable": false,
    "editable": false
   },
   "source": [
    "### Bangladesh\n",
    "\n",
    "The nation of [Bangladesh](https://en.wikipedia.org/wiki/Bangladesh#People's_Republic_of_Bangladesh) was established as a parliamentary democracy after the Bangladesh Liberation War ended in 1971. The war-ravaged fledgling nation was almost immediately faced with floods and famine. In this section of the project, we will examine aspects of the development of Bangladesh since that time.\n",
    "\n",
    "In the `population` table, the `geo` column contains three-letter codes established by the [International Organization for Standardization](https://en.wikipedia.org/wiki/International_Organization_for_Standardization) (ISO) in the [Alpha-3](https://en.wikipedia.org/wiki/ISO_3166-1_alpha-3#Current_codes) standard. We will begin by taking a close look at Bangladesh. Use the Alpha-3 link to find the 3-letter code for Bangladesh."
   ]
  },
  {
   "cell_type": "markdown",
   "id": "254cc2bb",
   "metadata": {
    "deletable": false,
    "editable": false
   },
   "source": [
    "#### Part 1.1 (5 pts)\n"
   ]
  },
  {
   "cell_type": "markdown",
   "id": "8d6f4786",
   "metadata": {
    "deletable": false,
    "editable": false
   },
   "source": [
    " Create a table called `b_pop` that has two columns labeled `time` and `population_total`. The first column should contain the years from 1970 through 2020 (including both 1970 and 2020) and the second should contain the population of Bangladesh in each of those years.\n",
    "\n"
   ]
  },
  {
   "cell_type": "code",
   "execution_count": 5,
   "id": "29ae6ac0",
   "metadata": {
    "deletable": false,
    "tags": []
   },
   "outputs": [
    {
     "data": {
      "text/html": [
       "<table border=\"1\" class=\"dataframe\">\n",
       "    <thead>\n",
       "        <tr>\n",
       "            <th>time</th> <th>population_total</th>\n",
       "        </tr>\n",
       "    </thead>\n",
       "    <tbody>\n",
       "        <tr>\n",
       "            <td>1970</td> <td>64232486        </td>\n",
       "        </tr>\n",
       "        <tr>\n",
       "            <td>1971</td> <td>65531635        </td>\n",
       "        </tr>\n",
       "        <tr>\n",
       "            <td>1972</td> <td>66625706        </td>\n",
       "        </tr>\n",
       "        <tr>\n",
       "            <td>1973</td> <td>67637541        </td>\n",
       "        </tr>\n",
       "        <tr>\n",
       "            <td>1974</td> <td>68742222        </td>\n",
       "        </tr>\n",
       "        <tr>\n",
       "            <td>1975</td> <td>70066310        </td>\n",
       "        </tr>\n",
       "        <tr>\n",
       "            <td>1976</td> <td>71652386        </td>\n",
       "        </tr>\n",
       "        <tr>\n",
       "            <td>1977</td> <td>73463593        </td>\n",
       "        </tr>\n",
       "        <tr>\n",
       "            <td>1978</td> <td>75450033        </td>\n",
       "        </tr>\n",
       "        <tr>\n",
       "            <td>1979</td> <td>77529040        </td>\n",
       "        </tr>\n",
       "    </tbody>\n",
       "</table>\n",
       "<p>... (41 rows omitted)</p>"
      ],
      "text/plain": [
       "time | population_total\n",
       "1970 | 64232486\n",
       "1971 | 65531635\n",
       "1972 | 66625706\n",
       "1973 | 67637541\n",
       "1974 | 68742222\n",
       "1975 | 70066310\n",
       "1976 | 71652386\n",
       "1977 | 73463593\n",
       "1978 | 75450033\n",
       "1979 | 77529040\n",
       "... (41 rows omitted)"
      ]
     },
     "execution_count": 5,
     "metadata": {},
     "output_type": "execute_result"
    }
   ],
   "source": [
    "b_pop = population.where('geo', are.equal_to('bgd'))\n",
    "b_pop = b_pop.drop('geo').where('time', are.between_or_equal_to(1970,2021))\n",
    "b_pop"
   ]
  },
  {
   "cell_type": "code",
   "execution_count": 6,
   "id": "94140263",
   "metadata": {
    "deletable": false,
    "editable": false
   },
   "outputs": [
    {
     "data": {
      "text/html": [
       "<p><strong><pre style='display: inline;'>q1.1</pre></strong> passed!</p>"
      ],
      "text/plain": [
       "q1.1 results: All test cases passed!"
      ]
     },
     "execution_count": 6,
     "metadata": {},
     "output_type": "execute_result"
    }
   ],
   "source": [
    "grader.check(\"q1.1\")"
   ]
  },
  {
   "cell_type": "markdown",
   "id": "b9e53ddf",
   "metadata": {
    "deletable": false,
    "editable": false
   },
   "source": [
    "<font color=\"indigo\">\n",
    "\n",
    "**Checks:** The grader only checks:\n",
    "* b_pop.labels == ('time', 'population_total')\n",
    "* np.array_equal(b_pop.sort(\"time\").column(\"time\"), np.arange(1970, 2021))\n",
    "\n",
    "</font>\n"
   ]
  },
  {
   "cell_type": "markdown",
   "id": "6b1d0cd4",
   "metadata": {
    "deletable": false,
    "editable": false
   },
   "source": [
    "Run the following cell to create a table called `b_five` that has the population of Bangladesh every five years. At a glance, it appears that the population of Bangladesh has been growing quickly indeed!\n",
    "\n",
    "*Note:* You do not need to change or add anything to the cell below. "
   ]
  },
  {
   "cell_type": "code",
   "execution_count": 7,
   "id": "b6ca3b3d",
   "metadata": {
    "deletable": false,
    "editable": false
   },
   "outputs": [
    {
     "data": {
      "text/html": [
       "<table border=\"1\" class=\"dataframe\">\n",
       "    <thead>\n",
       "        <tr>\n",
       "            <th>time</th> <th>population_total</th>\n",
       "        </tr>\n",
       "    </thead>\n",
       "    <tbody>\n",
       "        <tr>\n",
       "            <td>1970</td> <td>64,232,486      </td>\n",
       "        </tr>\n",
       "        <tr>\n",
       "            <td>1975</td> <td>70,066,310      </td>\n",
       "        </tr>\n",
       "        <tr>\n",
       "            <td>1980</td> <td>79,639,498      </td>\n",
       "        </tr>\n",
       "        <tr>\n",
       "            <td>1985</td> <td>90,764,180      </td>\n",
       "        </tr>\n",
       "        <tr>\n",
       "            <td>1990</td> <td>103,171,957     </td>\n",
       "        </tr>\n",
       "        <tr>\n",
       "            <td>1995</td> <td>115,169,933     </td>\n",
       "        </tr>\n",
       "        <tr>\n",
       "            <td>2000</td> <td>127,657,862     </td>\n",
       "        </tr>\n",
       "        <tr>\n",
       "            <td>2005</td> <td>139,035,505     </td>\n",
       "        </tr>\n",
       "        <tr>\n",
       "            <td>2010</td> <td>147,575,433     </td>\n",
       "        </tr>\n",
       "        <tr>\n",
       "            <td>2015</td> <td>156,256,287     </td>\n",
       "        </tr>\n",
       "        <tr>\n",
       "            <td>2020</td> <td>164,689,383     </td>\n",
       "        </tr>\n",
       "    </tbody>\n",
       "</table>"
      ],
      "text/plain": [
       "<IPython.core.display.HTML object>"
      ]
     },
     "metadata": {},
     "output_type": "display_data"
    }
   ],
   "source": [
    "b_pop.set_format('population_total', NumberFormatter)\n",
    "\n",
    "fives = np.arange(1970, 2021, 5) # 1970, 1975, 1980, ...\n",
    "b_five = b_pop.sort('time').where('time', are.contained_in(fives))\n",
    "b_five.show()"
   ]
  },
  {
   "cell_type": "markdown",
   "id": "d35c2e31",
   "metadata": {
    "deletable": false,
    "editable": false
   },
   "source": [
    "#### Part 1.2 (5 pts)\n"
   ]
  },
  {
   "cell_type": "markdown",
   "id": "334f9ce5",
   "metadata": {
    "deletable": false,
    "editable": false
   },
   "source": [
    "Let's write code to find the population growth rate. \n",
    "\n",
    "Assign `initial` to an array that contains the population for every five year interval from 1970 to 2015 (inclusive). Then, assign `changed` to an array that contains the population for every five year interval from 1975 to 2020 (inclusive). The first array should include both 1970 and 2015, and the second array should include both 1975 and 2020. You should use the `b_five` table to create both arrays, by first filtering the table to only contain the relevant years.\n",
    "\n",
    "The annual growth rate for a time period is equal to:\n",
    "\n",
    "$$(\\frac{\\text{Population at end of period}}{\\text{Population at start of period}}^{\\frac{1}{\\text{number of years}}} )-1$$\n",
    "\n",
    "We have provided the code below that uses  `initial` and `changed` in order to add a column to `b_five` called `annual_growth`. Don't worry about the calculation of the growth rates; run the test below to test your solution.\n",
    "\n",
    "If you are interested in how we came up with the formula for growth rates, consult the [growth rates](https://inferentialthinking.com/chapters/03/2/1/Growth.html) section of the textbook.\n",
    "\n"
   ]
  },
  {
   "cell_type": "code",
   "execution_count": 8,
   "id": "51f8193d",
   "metadata": {
    "deletable": false,
    "tags": []
   },
   "outputs": [
    {
     "data": {
      "text/html": [
       "<table border=\"1\" class=\"dataframe\">\n",
       "    <thead>\n",
       "        <tr>\n",
       "            <th>time</th> <th>population_total</th> <th>annual_growth</th>\n",
       "        </tr>\n",
       "    </thead>\n",
       "    <tbody>\n",
       "        <tr>\n",
       "            <td>1970</td> <td>64,232,486      </td> <td>1.75%        </td>\n",
       "        </tr>\n",
       "        <tr>\n",
       "            <td>1975</td> <td>70,066,310      </td> <td>2.59%        </td>\n",
       "        </tr>\n",
       "        <tr>\n",
       "            <td>1980</td> <td>79,639,498      </td> <td>2.65%        </td>\n",
       "        </tr>\n",
       "        <tr>\n",
       "            <td>1985</td> <td>90,764,180      </td> <td>2.60%        </td>\n",
       "        </tr>\n",
       "        <tr>\n",
       "            <td>1990</td> <td>103,171,957     </td> <td>2.22%        </td>\n",
       "        </tr>\n",
       "        <tr>\n",
       "            <td>1995</td> <td>115,169,933     </td> <td>2.08%        </td>\n",
       "        </tr>\n",
       "        <tr>\n",
       "            <td>2000</td> <td>127,657,862     </td> <td>1.72%        </td>\n",
       "        </tr>\n",
       "        <tr>\n",
       "            <td>2005</td> <td>139,035,505     </td> <td>1.20%        </td>\n",
       "        </tr>\n",
       "        <tr>\n",
       "            <td>2010</td> <td>147,575,433     </td> <td>1.15%        </td>\n",
       "        </tr>\n",
       "        <tr>\n",
       "            <td>2015</td> <td>156,256,287     </td> <td>1.06%        </td>\n",
       "        </tr>\n",
       "    </tbody>\n",
       "</table>"
      ],
      "text/plain": [
       "time | population_total | annual_growth\n",
       "1970 | 64,232,486       | 1.75%\n",
       "1975 | 70,066,310       | 2.59%\n",
       "1980 | 79,639,498       | 2.65%\n",
       "1985 | 90,764,180       | 2.60%\n",
       "1990 | 103,171,957      | 2.22%\n",
       "1995 | 115,169,933      | 2.08%\n",
       "2000 | 127,657,862      | 1.72%\n",
       "2005 | 139,035,505      | 1.20%\n",
       "2010 | 147,575,433      | 1.15%\n",
       "2015 | 156,256,287      | 1.06%"
      ]
     },
     "execution_count": 8,
     "metadata": {},
     "output_type": "execute_result"
    }
   ],
   "source": [
    "initial = b_five.where('time', are.between_or_equal_to(1970,2015)).column('population_total')\n",
    "changed = b_five.where('time', are.between_or_equal_to(1975,2020)).column('population_total')\n",
    "\n",
    "b_1970_through_2015 = b_five.where('time', are.below_or_equal_to(2015)) \n",
    "b_five_growth = b_1970_through_2015.with_column('annual_growth', (changed/initial)**0.2-1)\n",
    "b_five_growth.set_format('annual_growth', PercentFormatter)"
   ]
  },
  {
   "cell_type": "code",
   "execution_count": 9,
   "id": "598bb970",
   "metadata": {
    "deletable": false,
    "editable": false
   },
   "outputs": [
    {
     "data": {
      "text/html": [
       "<p><strong><pre style='display: inline;'>q1.2</pre></strong> passed!</p>"
      ],
      "text/plain": [
       "q1.2 results: All test cases passed!"
      ]
     },
     "execution_count": 9,
     "metadata": {},
     "output_type": "execute_result"
    }
   ],
   "source": [
    "grader.check(\"q1.2\")"
   ]
  },
  {
   "cell_type": "markdown",
   "id": "764b18f7",
   "metadata": {
    "deletable": false,
    "editable": false
   },
   "source": [
    "<font color=\"indigo\">\n",
    "\n",
    "**Checks:** The grader only checks:\n",
    "* 0.005 <= b_five_growth.sort('time').column('annual_growth').item(0) <= 0.05\n",
    "* 0.01 < max(b_five_growth.column('annual_growth')) < 0.03\n",
    "\n",
    "</font>\n"
   ]
  },
  {
   "cell_type": "markdown",
   "id": "1e1946d9",
   "metadata": {
    "deletable": false,
    "editable": false
   },
   "source": [
    "While the population has grown every five years since 1970, the annual growth rate decreased dramatically from 1985 to 2015. Let's look at some other information in order to develop a possible explanation. Run the next cell to load three additional tables of measurements about countries over time."
   ]
  },
  {
   "cell_type": "code",
   "execution_count": 10,
   "id": "80dd5967",
   "metadata": {
    "deletable": false,
    "editable": false
   },
   "outputs": [],
   "source": [
    "life_expectancy = Table.read_table('life_expectancy.csv').where('time', are.below(2021))\n",
    "child_mortality = Table.read_table('child_mortality.csv').relabel(2, 'child_mortality_under_5_per_1000_born').where('time', are.below(2021))\n",
    "fertility = Table.read_table('fertility.csv').where('time', are.below(2021))"
   ]
  },
  {
   "cell_type": "markdown",
   "id": "776bdbd8",
   "metadata": {
    "deletable": false,
    "editable": false
   },
   "source": [
    "The `life_expectancy` table contains a statistic that is often used to measure how long people live, called *life expectancy at birth*. This number, for a country in a given year, [does not measure how long babies born in that year are expected to live](http://blogs.worldbank.org/opendata/what-does-life-expectancy-birth-really-mean). Instead, it measures how long someone would live, on average, if the *mortality conditions* in that year persisted throughout their lifetime. These \"mortality conditions\" describe what fraction of people at each age survived the year. So, it is a way of measuring the proportion of people that are staying alive, aggregated over different age groups in the population."
   ]
  },
  {
   "cell_type": "markdown",
   "id": "b85e7cf8",
   "metadata": {
    "deletable": false,
    "editable": false
   },
   "source": [
    "Run the following cells below to see `life_expectancy`, `child_mortality`, and `fertility`. Refer back to these tables as they will be helpful for answering further questions!"
   ]
  },
  {
   "cell_type": "code",
   "execution_count": 11,
   "id": "ac701c31",
   "metadata": {
    "deletable": false,
    "editable": false
   },
   "outputs": [
    {
     "data": {
      "text/html": [
       "<table border=\"1\" class=\"dataframe\">\n",
       "    <thead>\n",
       "        <tr>\n",
       "            <th>geo</th> <th>time</th> <th>life_expectancy_years</th>\n",
       "        </tr>\n",
       "    </thead>\n",
       "    <tbody>\n",
       "        <tr>\n",
       "            <td>afg </td> <td>1800</td> <td>28.21                </td>\n",
       "        </tr>\n",
       "        <tr>\n",
       "            <td>afg </td> <td>1801</td> <td>28.2                 </td>\n",
       "        </tr>\n",
       "        <tr>\n",
       "            <td>afg </td> <td>1802</td> <td>28.19                </td>\n",
       "        </tr>\n",
       "    </tbody>\n",
       "</table>\n",
       "<p>... (41247 rows omitted)</p>"
      ],
      "text/plain": [
       "<IPython.core.display.HTML object>"
      ]
     },
     "metadata": {},
     "output_type": "display_data"
    }
   ],
   "source": [
    "life_expectancy.show(3)"
   ]
  },
  {
   "cell_type": "code",
   "execution_count": 12,
   "id": "a138ffe9",
   "metadata": {
    "deletable": false,
    "editable": false
   },
   "outputs": [
    {
     "data": {
      "text/html": [
       "<table border=\"1\" class=\"dataframe\">\n",
       "    <thead>\n",
       "        <tr>\n",
       "            <th>geo</th> <th>time</th> <th>child_mortality_under_5_per_1000_born</th>\n",
       "        </tr>\n",
       "    </thead>\n",
       "    <tbody>\n",
       "        <tr>\n",
       "            <td>afg </td> <td>1800</td> <td>468.58                               </td>\n",
       "        </tr>\n",
       "        <tr>\n",
       "            <td>afg </td> <td>1801</td> <td>468.58                               </td>\n",
       "        </tr>\n",
       "        <tr>\n",
       "            <td>afg </td> <td>1802</td> <td>468.58                               </td>\n",
       "        </tr>\n",
       "    </tbody>\n",
       "</table>\n",
       "<p>... (41734 rows omitted)</p>"
      ],
      "text/plain": [
       "<IPython.core.display.HTML object>"
      ]
     },
     "metadata": {},
     "output_type": "display_data"
    }
   ],
   "source": [
    "child_mortality.show(3)"
   ]
  },
  {
   "cell_type": "code",
   "execution_count": 13,
   "id": "1188bfd6",
   "metadata": {
    "deletable": false,
    "editable": false
   },
   "outputs": [
    {
     "data": {
      "text/html": [
       "<table border=\"1\" class=\"dataframe\">\n",
       "    <thead>\n",
       "        <tr>\n",
       "            <th>geo</th> <th>time</th> <th>children_per_woman_total_fertility</th>\n",
       "        </tr>\n",
       "    </thead>\n",
       "    <tbody>\n",
       "        <tr>\n",
       "            <td>abw </td> <td>1800</td> <td>5.64                              </td>\n",
       "        </tr>\n",
       "        <tr>\n",
       "            <td>abw </td> <td>1801</td> <td>5.64                              </td>\n",
       "        </tr>\n",
       "        <tr>\n",
       "            <td>abw </td> <td>1802</td> <td>5.64                              </td>\n",
       "        </tr>\n",
       "    </tbody>\n",
       "</table>\n",
       "<p>... (44632 rows omitted)</p>"
      ],
      "text/plain": [
       "<IPython.core.display.HTML object>"
      ]
     },
     "metadata": {},
     "output_type": "display_data"
    }
   ],
   "source": [
    "fertility.show(3)"
   ]
  },
  {
   "cell_type": "markdown",
   "id": "ec4a5925",
   "metadata": {
    "deletable": false,
    "editable": false
   },
   "source": [
    "<!-- BEGIN QUESTION -->\n",
    "\n",
    "#### Part 1.3 (5 pts)\n"
   ]
  },
  {
   "cell_type": "markdown",
   "id": "03b34fa7",
   "metadata": {
    "deletable": false,
    "editable": false
   },
   "source": [
    "Perhaps population is growing more slowly because people aren't living as long. Use the `life_expectancy` table to draw a line graph with the years 1970 and later on the horizontal axis that shows how the *life expectancy at birth* has changed in Bangladesh.\n",
    " \n",
    "*Note:* We are still focusing only on Bangladesh and no other countries at the moment. "
   ]
  },
  {
   "cell_type": "code",
   "execution_count": 14,
   "id": "cf23faab",
   "metadata": {
    "deletable": false,
    "tags": []
   },
   "outputs": [
    {
     "data": {
      "image/png": "[encoded data removed]",
      "text/plain": [
       "<Figure size 432x432 with 1 Axes>"
      ]
     },
     "metadata": {},
     "output_type": "display_data"
    }
   ],
   "source": [
    "#Fill in code here\n",
    "...\n",
    "life_expectancy1 = life_expectancy.where('time', are.above_or_equal_to(1970)).where('geo', are.equal_to('bgd'))\n",
    "life_expectancy1.plot('time','life_expectancy_years')"
   ]
  },
  {
   "cell_type": "markdown",
   "id": "644fe021",
   "metadata": {
    "deletable": false,
    "editable": false
   },
   "source": [
    "<!-- END QUESTION -->\n",
    "\n",
    "<!-- BEGIN QUESTION -->\n",
    "\n",
    "#### Part 1.4 (5 pts)\n"
   ]
  },
  {
   "cell_type": "markdown",
   "id": "1c833c28",
   "metadata": {
    "deletable": false,
    "editable": false
   },
   "source": [
    " Assuming everything else stays the same, do the trends in life expectancy in the graph above directly explain why the population growth rate decreased from 1985 to 2015 in Bangladesh? Why or why not? \n",
    "\n",
    "*Hint:* What happened in Bangladesh in 1991, and does that event explain the overall change in population growth rate? This [webpage](https://en.wikipedia.org/wiki/1991_Bangladesh_cyclone) provides relevant context.\n",
    "\n"
   ]
  },
  {
   "cell_type": "markdown",
   "id": "143b1de0",
   "metadata": {
    "deletable": false,
    "tags": []
   },
   "source": [
    "<font color=\"red\">\n",
    "    \n",
    "The trends in life expectancy in the graph above do not explain the population decrease, since as the years go by the life expectancy generally increases. Hpwever, in 1991 there is a sharp dip downwards in life expectancy and that is because of the 1991 Bangladesh cyclone, which is regarded as the \"Fourth-deadliest tropical cyclone on record.\"\n",
    "    \n",
    "</font>"
   ]
  },
  {
   "cell_type": "markdown",
   "id": "123dc1e4",
   "metadata": {
    "deletable": false,
    "editable": false
   },
   "source": [
    "<!-- END QUESTION -->\n",
    "\n",
    "#### Part 1.5 (5 pts)\n"
   ]
  },
  {
   "cell_type": "markdown",
   "id": "e9f30f58",
   "metadata": {
    "deletable": false,
    "editable": false
   },
   "source": [
    "The `fertility` table contains a statistic that is often used to measure how many babies are being born, the *total fertility rate*. This number describes the [number of children a woman would have in her lifetime](https://www.measureevaluation.org/prh/rh_indicators/specific/fertility/total-fertility-rate), on average, if the current rates of birth by age of the mother persisted throughout her child bearing years, assuming she survived through age 49. "
   ]
  },
  {
   "cell_type": "markdown",
   "id": "19d17a33",
   "metadata": {
    "deletable": false,
    "editable": false
   },
   "source": [
    " Complete the function `fertility_over_time`. The function has inputs: \n",
    " - `country_code`: an Alpha-3 code of a country\n",
    " - `start` year of the returned table (inclusive) \n",
    " \n",
    "The function returns a two-column table with labels `Year` and `Children per woman` with the country's fertility rate each year, starting at the `start` year (it should include all later years that appear in the `fertility` table). \n",
    "\n",
    "Below: \n",
    "1. Complete the function `fertility_over_time`\n",
    "1. Assign `bangladesh_code` to a string that this the Alpha-3 code for Bangladesh\n",
    "1. Use the provided code  to plot how Bangladesh's fertility rate has changed since 1970. **The expression that draws the line plot is provided for you; please don't change it.**\n",
    "\n",
    "*Note:* The function `fertility_over_time` should not return the plot itself. "
   ]
  },
  {
   "cell_type": "code",
   "execution_count": 15,
   "id": "c872d6ef",
   "metadata": {
    "deletable": false,
    "tags": []
   },
   "outputs": [
    {
     "data": {
      "image/png": "[encoded data removed]",
      "text/plain": [
       "<Figure size 432x432 with 1 Axes>"
      ]
     },
     "metadata": {},
     "output_type": "display_data"
    }
   ],
   "source": [
    "def fertility_over_time(country_code, start):\n",
    "    \"\"\"Create a two-column table that describes a country's total fertility rate each year.\"\"\"\n",
    "    country_fertility = fertility.where('geo', country_code)\n",
    "    country_fertility_after_start = country_fertility.where('time', are.above_or_equal_to(start))\n",
    "    cleaned_table = country_fertility_after_start.relabel('time', 'Year').relabel('children_per_woman_total_fertility', 'Children per woman').drop('geo')\n",
    "    # print(type(cleaned_table))\n",
    "    return cleaned_table\n",
    "    ...\n",
    "\n",
    "bangladesh_code = 'bgd'\n",
    "fertility_over_time(bangladesh_code, 1970).plot(0, 1) # You should *not* change this line."
   ]
  },
  {
   "cell_type": "code",
   "execution_count": 16,
   "id": "c84256b9",
   "metadata": {
    "deletable": false,
    "editable": false
   },
   "outputs": [
    {
     "data": {
      "text/html": [
       "<p><strong><pre style='display: inline;'>q1.5</pre></strong> passed!</p>"
      ],
      "text/plain": [
       "q1.5 results: All test cases passed!"
      ]
     },
     "execution_count": 16,
     "metadata": {},
     "output_type": "execute_result"
    }
   ],
   "source": [
    "grader.check(\"q1.5\")"
   ]
  },
  {
   "cell_type": "markdown",
   "id": "b2606ca5",
   "metadata": {
    "deletable": false,
    "editable": false
   },
   "source": [
    "<font color=\"indigo\">\n",
    "\n",
    "**Checks:** The grader only checks:\n",
    "* fertility_over_time('usa', 2010).labels == ('Year', 'Children per woman')\n",
    "* np.array_equal(fertility_over_time('usa', 2010).column('Year'), np.arange(2010, 2021))\n",
    "* np.array_equal(fertility_over_time('usa', 2005).column('Year'), np.arange(2005, 2021))\n",
    "\n",
    "</font>\n"
   ]
  },
  {
   "cell_type": "markdown",
   "id": "8933befc",
   "metadata": {
    "deletable": false,
    "editable": false
   },
   "source": [
    "<!-- BEGIN QUESTION -->\n",
    "\n",
    "#### Part 1.6 (5 pts)\n"
   ]
  },
  {
   "cell_type": "markdown",
   "id": "11bc33a1",
   "metadata": {
    "deletable": false,
    "editable": false
   },
   "source": [
    " Assuming everything else is constant, do the trends in fertility in the graph above help directly explain why the population growth rate decreased from 1980 to 2020 in Bangladesh? Why or why not?\n",
    "\n"
   ]
  },
  {
   "cell_type": "markdown",
   "id": "9e84da62",
   "metadata": {
    "deletable": false,
    "tags": []
   },
   "source": [
    "<font color=\"red\">\n",
    "    \n",
    "Because the fertility rates have a genral decreasing pattern from 1980 to 2020, this explains why the population growth also decreased during this time interval in Bangldesh. Generally, the higher the fertility rate is within a certain area, the larger the population size should be, and so a decreased fertility rate can account for a decreased population. \n",
    "    \n",
    "</font>"
   ]
  },
  {
   "cell_type": "markdown",
   "id": "8873d253",
   "metadata": {
    "deletable": false,
    "editable": false
   },
   "source": [
    "<!-- END QUESTION -->\n",
    "\n",
    "#### Part 1.7 (5 pts)\n"
   ]
  },
  {
   "cell_type": "markdown",
   "id": "e923c610",
   "metadata": {
    "deletable": false,
    "editable": false
   },
   "source": [
    "It has been [observed](https://www.ageing.ox.ac.uk/download/143) that lower fertility rates are often associated with lower child mortality rates. The link has been attributed to family planning: if parents can expect that their children will all survive into adulthood, then they will choose to have fewer children. In the reverse direction, having fewer children may allow families to devote more resources to each child, reducing child mortality. We can see if this association is evident in Bangladesh by plotting the relationship between total fertility rate and [child mortality rate per 1000 children](https://en.wikipedia.org/wiki/Child_mortality)."
   ]
  },
  {
   "cell_type": "markdown",
   "id": "a26c7cad",
   "metadata": {
    "deletable": false,
    "editable": false
   },
   "source": [
    "Using both the `fertility` and `child_mortality` tables, we will draw a scatter diagram that has Bangladesh's total fertility on the horizontal axis and its child mortality on the vertical axis with one point for each year, starting with 1970.\n",
    "\n",
    "**The code that draws the scatter diagram is provided for you; please don't change it.** \n",
    "\n",
    "Instead, create a table called `post_1969_fertility_and_child_mortality` with the appropriate column labels and data in order to generate the chart correctly. Use the label `Children per woman` to describe total fertility and the label `Child deaths per 1000 born` to describe child mortality.  Your table should also have a `time` column.\n",
    "\n",
    "*Note*: Do not drop the `time` column or you will get an error in the scatterplot in the next cell!"
   ]
  },
  {
   "cell_type": "code",
   "execution_count": 17,
   "id": "2dd84380",
   "metadata": {
    "deletable": false,
    "tags": []
   },
   "outputs": [
    {
     "name": "stderr",
     "output_type": "stream",
     "text": [
      "/tmp/ipykernel_1670421/3619251878.py:14: MatplotlibDeprecationWarning: Auto-removal of grids by pcolor() and pcolormesh() is deprecated since 3.5 and will be removed two minor releases later; please call grid(False) first.\n",
      "  plots.colorbar()\n"
     ]
    },
    {
     "data": {
      "text/html": [
       "<table border=\"1\" class=\"dataframe\">\n",
       "    <thead>\n",
       "        <tr>\n",
       "            <th>time</th> <th>Child deaths per 1000 born</th> <th>Children per woman</th>\n",
       "        </tr>\n",
       "    </thead>\n",
       "    <tbody>\n",
       "        <tr>\n",
       "            <td>1970</td> <td>223.13                    </td> <td>6.95              </td>\n",
       "        </tr>\n",
       "        <tr>\n",
       "            <td>1971</td> <td>222.36                    </td> <td>6.94              </td>\n",
       "        </tr>\n",
       "        <tr>\n",
       "            <td>1972</td> <td>221.54                    </td> <td>6.93              </td>\n",
       "        </tr>\n",
       "        <tr>\n",
       "            <td>1973</td> <td>220.49                    </td> <td>6.9               </td>\n",
       "        </tr>\n",
       "        <tr>\n",
       "            <td>1974</td> <td>219.01                    </td> <td>6.87              </td>\n",
       "        </tr>\n",
       "        <tr>\n",
       "            <td>1975</td> <td>217.02                    </td> <td>6.82              </td>\n",
       "        </tr>\n",
       "        <tr>\n",
       "            <td>1976</td> <td>214.39                    </td> <td>6.76              </td>\n",
       "        </tr>\n",
       "        <tr>\n",
       "            <td>1977</td> <td>211.11                    </td> <td>6.68              </td>\n",
       "        </tr>\n",
       "        <tr>\n",
       "            <td>1978</td> <td>207.32                    </td> <td>6.59              </td>\n",
       "        </tr>\n",
       "        <tr>\n",
       "            <td>1979</td> <td>203.15                    </td> <td>6.48              </td>\n",
       "        </tr>\n",
       "    </tbody>\n",
       "</table>\n",
       "<p>... (41 rows omitted)</p>"
      ],
      "text/plain": [
       "time | Child deaths per 1000 born | Children per woman\n",
       "1970 | 223.13                     | 6.95\n",
       "1971 | 222.36                     | 6.94\n",
       "1972 | 221.54                     | 6.93\n",
       "1973 | 220.49                     | 6.9\n",
       "1974 | 219.01                     | 6.87\n",
       "1975 | 217.02                     | 6.82\n",
       "1976 | 214.39                     | 6.76\n",
       "1977 | 211.11                     | 6.68\n",
       "1978 | 207.32                     | 6.59\n",
       "1979 | 203.15                     | 6.48\n",
       "... (41 rows omitted)"
      ]
     },
     "execution_count": 17,
     "metadata": {},
     "output_type": "execute_result"
    },
    {
     "data": {
      "image/png": "[encoded data removed]",
      "text/plain": [
       "<Figure size 432x432 with 2 Axes>"
      ]
     },
     "metadata": {},
     "output_type": "display_data"
    }
   ],
   "source": [
    "bgd_fertility = fertility.where('geo', are.equal_to('bgd')).where('time', are.above_or_equal_to(1970))\n",
    "bgd_child_mortality = child_mortality.where('geo', are.equal_to('bgd')).where('time', are.above_or_equal_to(1970))\n",
    "\n",
    "fertility_and_child_mortality = bgd_child_mortality.with_columns(bgd_fertility).drop('geo')\n",
    "post_1969_fertility_and_child_mortality = fertility_and_child_mortality.relabel('child_mortality_under_5_per_1000_born','Child deaths per 1000 born').relabel('children_per_woman_total_fertility','Children per woman',)\n",
    "\n",
    "# Don't change anything below this line!\n",
    "x_births = post_1969_fertility_and_child_mortality.column(\"Children per woman\")\n",
    "y_deaths = post_1969_fertility_and_child_mortality.column(\"Child deaths per 1000 born\")\n",
    "time_colors = post_1969_fertility_and_child_mortality.column(\"time\")\n",
    "\n",
    "plots.figure(figsize=(6,6))\n",
    "plots.scatter(x_births, y_deaths, c=time_colors, cmap=\"Blues_r\")\n",
    "plots.colorbar()                  \n",
    "plots.xlabel(\"Children per woman\")\n",
    "plots.ylabel(\"Child deaths per 1000 born\");\n",
    "fertility_and_child_mortality"
   ]
  },
  {
   "cell_type": "code",
   "execution_count": 18,
   "id": "73682b59",
   "metadata": {
    "deletable": false,
    "editable": false
   },
   "outputs": [
    {
     "data": {
      "text/html": [
       "<p><strong><pre style='display: inline;'>q1.7</pre></strong> passed!</p>"
      ],
      "text/plain": [
       "q1.7 results: All test cases passed!"
      ]
     },
     "execution_count": 18,
     "metadata": {},
     "output_type": "execute_result"
    }
   ],
   "source": [
    "grader.check(\"q1.7\")"
   ]
  },
  {
   "cell_type": "markdown",
   "id": "baf0ff9b",
   "metadata": {
    "deletable": false,
    "editable": false
   },
   "source": [
    "<font color=\"indigo\">\n",
    "\n",
    "**Checks:** The grader only checks:\n",
    "* 'Child deaths per 1000 born' in post_1969_fertility_and_child_mortality.labels\n",
    "* 'Children per woman' in post_1969_fertility_and_child_mortality.labels\n",
    "* post_1969_fertility_and_child_mortality.num_rows == 51\n",
    "\n",
    "</font>\n"
   ]
  },
  {
   "cell_type": "markdown",
   "id": "b5307b22",
   "metadata": {
    "deletable": false,
    "editable": false
   },
   "source": [
    "The plot above uses **color** to encode data about the `time` column from the table `post_1969_fertility_and_child_mortality`. The colors, ranging from dark blue to white, represent the passing of time between the 1970s to the 2020s. For example, a point on the scatter plot representing data from the 1970s would appear as **dark blue** and a point from the 2010s would appear as **light blue**.\n"
   ]
  },
  {
   "cell_type": "markdown",
   "id": "3bd10c7f",
   "metadata": {
    "deletable": false,
    "editable": false
   },
   "source": [
    "<!-- BEGIN QUESTION -->\n",
    "\n",
    "#### Part 1.8 (5 pts)\n"
   ]
  },
  {
   "cell_type": "markdown",
   "id": "aa25bb7e",
   "metadata": {
    "deletable": false,
    "editable": false
   },
   "source": [
    " In one or two sentences, describe the association (if any) that is illustrated by this scatter diagram. Does the diagram show that reduced child mortality *causes* parents to choose to have fewer children?\n",
    "\n"
   ]
  },
  {
   "cell_type": "markdown",
   "id": "e48216d3",
   "metadata": {
    "deletable": false,
    "tags": []
   },
   "source": [
    "<font color=\"red\">\n",
    "    \n",
    "In this graph, there seems to be a relationship between the fertility rates and the mortality rates over time. In eariler years, within the 1900s, both child mortality rates and fertility rates were at a high. However, in more recent years, especially after 2010s, there was both less fertility rates and child mortality rates. HOWEVER, we do not have enough information to say that a reduced child mortality CAUSES parents to have fewer children because they predict that much more of their children will survive. \n",
    "    \n",
    "</font>"
   ]
  },
  {
   "cell_type": "markdown",
   "id": "07d3a9d0",
   "metadata": {
    "deletable": false,
    "editable": false,
    "tags": []
   },
   "source": [
    "<!-- END QUESTION -->\n",
    "\n",
    "### Checkpoint (due 10pm, Sunday, Oct 23)\n",
    "\n",
    "Congratulations, you have reached the checkpoint!  Follow these steps to submit your work:\n",
    "* Run the tests and verify that they pass as you expect, and that all images/graphs appear in the output.\n",
    "* Choose **Save Notebook** from the **File** menu.\n",
    "* **Run the following cell** and click the link below to download the zip file. \n",
    "\n",
    "Once you have downloaded that file, go to [Gradescope](https://www.gradescope.com/) and submit the zip file to the assignment is \"Project 1 Checkpoint\". **Be sure your work is saved before running the next cell!**"
   ]
  },
  {
   "cell_type": "code",
   "execution_count": 19,
   "id": "bbb4d525",
   "metadata": {
    "deletable": false,
    "editable": false
   },
   "outputs": [
    {
     "data": {
      "text/html": [
       "\n",
       "            <p>Your submission has been exported. Click <a href=\"project1_2022_10_27T21_35_17_825820.zip\" download=\"project1_2022_10_27T21_35_17_825820.zip\" target=\"_blank\">here</a>\n",
       "            to download the zip file.</p>\n",
       "            "
      ],
      "text/plain": [
       "<IPython.core.display.HTML object>"
      ]
     },
     "metadata": {},
     "output_type": "display_data"
    }
   ],
   "source": [
    "# Save your notebook first, then run this cell to export your submission.\n",
    "grader.export(pdf=True)"
   ]
  },
  {
   "cell_type": "markdown",
   "id": "8da8e35f",
   "metadata": {
    "deletable": false,
    "editable": false
   },
   "source": [
    "### The World\n",
    "\n",
    "The change observed in Bangladesh since 1970 can also be observed in many other developing countries: health services improve, life expectancy increases, and child mortality decreases. At the same time, the fertility rate often plummets, and so the population growth rate decreases despite increasing longevity."
   ]
  },
  {
   "cell_type": "markdown",
   "id": "8159a79a",
   "metadata": {
    "deletable": false,
    "editable": false
   },
   "source": [
    "Run the cell below to generate two overlaid histograms, one for 1960 and one for 2010, that show the distributions of total fertility rates for these two years among all 201 countries in the `fertility` table."
   ]
  },
  {
   "cell_type": "code",
   "execution_count": 20,
   "id": "641de494",
   "metadata": {
    "deletable": false,
    "editable": false
   },
   "outputs": [
    {
     "data": {
      "image/png": "[encoded data removed]",
      "text/plain": [
       "<Figure size 432x288 with 1 Axes>"
      ]
     },
     "metadata": {},
     "output_type": "display_data"
    }
   ],
   "source": [
    "fertility_1960_2010 = Table().with_columns(\n",
    "    '1960', fertility.where('time', 1960).column('children_per_woman_total_fertility'),\n",
    "    '2010', fertility.where('time', 2010).column('children_per_woman_total_fertility')\n",
    ")\n",
    "fertility_1960_2010.hist(bins=np.arange(0, 10, 0.5), unit='child per woman')\n",
    "\n",
    "plots.xlabel('Children per woman (Fertility rate)');\n",
    "plots.ylabel('Percent per children per woman');\n",
    "plots.xticks(np.arange(10));"
   ]
  },
  {
   "cell_type": "markdown",
   "id": "f2c1cab1",
   "metadata": {
    "deletable": false,
    "editable": false
   },
   "source": [
    "#### Part 1.9 (4 pts)\n"
   ]
  },
  {
   "cell_type": "markdown",
   "id": "2e45e6eb",
   "metadata": {
    "deletable": false,
    "editable": false
   },
   "source": [
    "Using the histogram above, please answer the following two questions:\n",
    "\n",
    "1. In 2010, roughly what percent of countries had a fertility rate between 1.5 and 2?\n",
    "2. In 1960, roughly what percent of countries had a fertility rate below 3?\n",
    "\n",
    "Assign your answers to the variables `percent_2010` and `percent_1960` below.  They need not be exact, but simply a reasonable estimate based on you reading the histogram properly."
   ]
  },
  {
   "cell_type": "code",
   "execution_count": 21,
   "id": "a1d20a9b",
   "metadata": {
    "deletable": false,
    "tags": []
   },
   "outputs": [],
   "source": [
    "percent_2010 = 45\n",
    "percent_1960 = 28"
   ]
  },
  {
   "cell_type": "code",
   "execution_count": 22,
   "id": "78e39725",
   "metadata": {
    "deletable": false,
    "editable": false
   },
   "outputs": [
    {
     "data": {
      "text/html": [
       "<p><strong><pre style='display: inline;'>q1.9</pre></strong> passed!</p>"
      ],
      "text/plain": [
       "q1.9 results: All test cases passed!"
      ]
     },
     "execution_count": 22,
     "metadata": {},
     "output_type": "execute_result"
    }
   ],
   "source": [
    "grader.check(\"q1.9\")"
   ]
  },
  {
   "cell_type": "markdown",
   "id": "11e251e1",
   "metadata": {
    "deletable": false,
    "editable": false
   },
   "source": [
    "<font color=\"indigo\">\n",
    "\n",
    "**Checks:** The grader only checks:\n",
    "* 0 <= percent_2010 <= 100\n",
    "* 0 <= percent_1960 <= 100\n",
    "\n",
    "</font>\n"
   ]
  },
  {
   "cell_type": "markdown",
   "id": "bb5577e7",
   "metadata": {
    "deletable": false,
    "editable": false
   },
   "source": [
    "<!-- BEGIN QUESTION -->\n",
    "\n",
    "#### Part 1.10 (4 pts)\n"
   ]
  },
  {
   "cell_type": "markdown",
   "id": "e5937b51",
   "metadata": {
    "deletable": false,
    "editable": false
   },
   "source": [
    "Describe the most striking distinction you see between fertility rates in 1960 and 2010?  In one or two sentences, quantify that distinction using the data presented in the histogram above."
   ]
  },
  {
   "cell_type": "markdown",
   "id": "990ccd60",
   "metadata": {
    "deletable": false,
    "tags": []
   },
   "source": [
    "<font color=\"red\">\n",
    "The most striking distinction I see is that in 1960s the fertility rate was mostly between 6.5 and 7 for the populations in the datat set whereas in 2010 the fertlity rate was drastically lower as it was between 1.5 and 2. \n",
    "</font>"
   ]
  },
  {
   "cell_type": "markdown",
   "id": "7a6411cc",
   "metadata": {
    "deletable": false,
    "editable": false
   },
   "source": [
    "<!-- END QUESTION -->\n",
    "\n",
    "<!-- BEGIN QUESTION -->\n",
    "\n",
    "#### Part 1.11 (5 pts)\n"
   ]
  },
  {
   "cell_type": "markdown",
   "id": "29967f9a",
   "metadata": {
    "deletable": false,
    "editable": false
   },
   "source": [
    " Draw a line plot of the world population from 1800 through 2020 (inclusive of both endpoints). The world population is the sum of all of the countries' populations. You should use the `population` table defined earlier in the project. \n",
    "\n"
   ]
  },
  {
   "cell_type": "code",
   "execution_count": 67,
   "id": "620de988",
   "metadata": {
    "deletable": false,
    "tags": []
   },
   "outputs": [
    {
     "data": {
      "image/png": "[encoded data removed]",
      "text/plain": [
       "<Figure size 432x432 with 1 Axes>"
      ]
     },
     "metadata": {},
     "output_type": "display_data"
    }
   ],
   "source": [
    "#Fill in code here\n",
    "population1 = population.group('time',np.sum)\n",
    "population1.plot('time','population_total sum')"
   ]
  },
  {
   "cell_type": "code",
   "execution_count": 58,
   "id": "f736ec75-7474-4224-92fe-8c51ca3cc7f2",
   "metadata": {},
   "outputs": [
    {
     "data": {
      "text/html": [
       "<table border=\"1\" class=\"dataframe\">\n",
       "    <thead>\n",
       "        <tr>\n",
       "            <th>time</th> <th>count sum sum sum</th>\n",
       "        </tr>\n",
       "    </thead>\n",
       "    <tbody>\n",
       "        <tr>\n",
       "            <td>1800</td> <td>197              </td>\n",
       "        </tr>\n",
       "        <tr>\n",
       "            <td>1801</td> <td>197              </td>\n",
       "        </tr>\n",
       "        <tr>\n",
       "            <td>1802</td> <td>197              </td>\n",
       "        </tr>\n",
       "        <tr>\n",
       "            <td>1803</td> <td>197              </td>\n",
       "        </tr>\n",
       "        <tr>\n",
       "            <td>1804</td> <td>197              </td>\n",
       "        </tr>\n",
       "        <tr>\n",
       "            <td>1805</td> <td>197              </td>\n",
       "        </tr>\n",
       "        <tr>\n",
       "            <td>1806</td> <td>197              </td>\n",
       "        </tr>\n",
       "        <tr>\n",
       "            <td>1807</td> <td>197              </td>\n",
       "        </tr>\n",
       "        <tr>\n",
       "            <td>1808</td> <td>197              </td>\n",
       "        </tr>\n",
       "        <tr>\n",
       "            <td>1809</td> <td>197              </td>\n",
       "        </tr>\n",
       "    </tbody>\n",
       "</table>\n",
       "<p>... (291 rows omitted)</p>"
      ],
      "text/plain": [
       "time | count sum sum sum\n",
       "1800 | 197\n",
       "1801 | 197\n",
       "1802 | 197\n",
       "1803 | 197\n",
       "1804 | 197\n",
       "1805 | 197\n",
       "1806 | 197\n",
       "1807 | 197\n",
       "1808 | 197\n",
       "1809 | 197\n",
       "... (291 rows omitted)"
      ]
     },
     "execution_count": 58,
     "metadata": {},
     "output_type": "execute_result"
    }
   ],
   "source": []
  },
  {
   "cell_type": "markdown",
   "id": "3485f7cc",
   "metadata": {
    "deletable": false,
    "editable": false
   },
   "source": [
    "<!-- END QUESTION -->\n",
    "\n",
    "#### Part 1.12 (5 pts)\n"
   ]
  },
  {
   "cell_type": "markdown",
   "id": "1f8875b5",
   "metadata": {
    "deletable": false,
    "editable": false
   },
   "source": [
    " Create a function `stats_for_year` that takes a `year` and returns a table of statistics. The table it returns should have four columns: `geo`, `population_total`, `children_per_woman_total_fertility`, and `child_mortality_under_5_per_1000_born`, in that order. Each row should contain one unique Alpha-3 country code and three statistics: population, fertility rate, and child mortality for that `year` from the `population`, `fertility` and `child_mortality` tables. Only include rows for which all three statistics are available for the country and year.\n",
    "\n",
    "In addition, restrict the result to country codes that appears in `big_50`, an array of the 50 most populous countries in 2020. This restriction will speed up computations later in the project.\n",
    "\n",
    "After you write `stats_for_year`, try calling `stats_for_year` on any year between 1960 and 2020. Try to understand the output of stats_for_year.\n",
    "\n",
    "*Hint*: The tests for this question are quite comprehensive, so if you pass the tests, your function is probably correct. However, without calling your function yourself and looking at the output, it will be very difficult to understand any problems you have, so try your best to write the function correctly and check that it works before you rely on the `grader` tests to confirm your work.\n",
    "\n",
    "*Hint*: What do all three tables have in common (pay attention to column names)?\n",
    "\n"
   ]
  },
  {
   "cell_type": "code",
   "execution_count": 24,
   "id": "fcbea1f4",
   "metadata": {
    "deletable": false,
    "tags": []
   },
   "outputs": [
    {
     "data": {
      "text/html": [
       "<table border=\"1\" class=\"dataframe\">\n",
       "    <thead>\n",
       "        <tr>\n",
       "            <th>geo</th> <th>population_total</th> <th>children_per_woman_total_fertility</th> <th>child_mortality_under_5_per_1000_born</th>\n",
       "        </tr>\n",
       "    </thead>\n",
       "    <tbody>\n",
       "        <tr>\n",
       "            <td>afg </td> <td>8996967         </td> <td>7.45                              </td> <td>356.9                                </td>\n",
       "        </tr>\n",
       "        <tr>\n",
       "            <td>ago </td> <td>5454938         </td> <td>7.48                              </td> <td>308.45                               </td>\n",
       "        </tr>\n",
       "        <tr>\n",
       "            <td>arg </td> <td>20481781        </td> <td>3.11                              </td> <td>73.28                                </td>\n",
       "        </tr>\n",
       "        <tr>\n",
       "            <td>bgd </td> <td>48013505        </td> <td>6.73                              </td> <td>260.24                               </td>\n",
       "        </tr>\n",
       "        <tr>\n",
       "            <td>bra </td> <td>72179235        </td> <td>6.21                              </td> <td>169.18                               </td>\n",
       "        </tr>\n",
       "        <tr>\n",
       "            <td>can </td> <td>17847404        </td> <td>3.88                              </td> <td>32.6                                 </td>\n",
       "        </tr>\n",
       "        <tr>\n",
       "            <td>chn </td> <td>660408054       </td> <td>3.99                              </td> <td>308.99                               </td>\n",
       "        </tr>\n",
       "        <tr>\n",
       "            <td>cod </td> <td>15248256        </td> <td>6                                 </td> <td>273.92                               </td>\n",
       "        </tr>\n",
       "        <tr>\n",
       "            <td>col </td> <td>16057714        </td> <td>6.81                              </td> <td>135.64                               </td>\n",
       "        </tr>\n",
       "        <tr>\n",
       "            <td>deu </td> <td>73414229        </td> <td>2.4                               </td> <td>40.47                                </td>\n",
       "        </tr>\n",
       "    </tbody>\n",
       "</table>\n",
       "<p>... (40 rows omitted)</p>"
      ],
      "text/plain": [
       "geo  | population_total | children_per_woman_total_fertility | child_mortality_under_5_per_1000_born\n",
       "afg  | 8996967          | 7.45                               | 356.9\n",
       "ago  | 5454938          | 7.48                               | 308.45\n",
       "arg  | 20481781         | 3.11                               | 73.28\n",
       "bgd  | 48013505         | 6.73                               | 260.24\n",
       "bra  | 72179235         | 6.21                               | 169.18\n",
       "can  | 17847404         | 3.88                               | 32.6\n",
       "chn  | 660408054        | 3.99                               | 308.99\n",
       "cod  | 15248256         | 6                                  | 273.92\n",
       "col  | 16057714         | 6.81                               | 135.64\n",
       "deu  | 73414229         | 2.4                                | 40.47\n",
       "... (40 rows omitted)"
      ]
     },
     "execution_count": 24,
     "metadata": {},
     "output_type": "execute_result"
    }
   ],
   "source": [
    "# We first create a population table that only includes the \n",
    "# 50 countries with the largest 2020 populations. We focus on \n",
    "# these 50 countries only so that plotting later will run faster.\n",
    "big_50 = population.where('time', are.equal_to(2020)).sort(\"population_total\", descending=True).take(np.arange(50)).column('geo')\n",
    "population_of_big_50 = population.where('time', are.above(1959)).where('geo', are.contained_in(big_50))\n",
    "\n",
    "def stats_for_year(year):\n",
    "    \"\"\"Return a table of the stats for each country that year.\"\"\"\n",
    "    p = population_of_big_50.where('time', are.equal_to(year)).drop('time')\n",
    "    f = fertility.where('time', are.equal_to(year)).drop('time').where('geo', are.contained_in(big_50)).drop('geo')\n",
    "    c = child_mortality.where('time', are.equal_to(year)).drop('time').where('geo', are.contained_in(big_50)).drop('geo')\n",
    "    stats_for_year = p.with_columns(f).with_columns(c)\n",
    "    return stats_for_year\n",
    "\n",
    "stats_for_year(1960)"
   ]
  },
  {
   "cell_type": "code",
   "execution_count": 25,
   "id": "d3a4ec08",
   "metadata": {
    "deletable": false,
    "editable": false
   },
   "outputs": [
    {
     "data": {
      "text/html": [
       "<p><strong><pre style='display: inline;'>q1.12</pre></strong> passed!</p>"
      ],
      "text/plain": [
       "q1.12 results: All test cases passed!"
      ]
     },
     "execution_count": 25,
     "metadata": {},
     "output_type": "execute_result"
    }
   ],
   "source": [
    "grader.check(\"q1.12\")"
   ]
  },
  {
   "cell_type": "markdown",
   "id": "f3e3b8bb",
   "metadata": {
    "deletable": false,
    "editable": false
   },
   "source": [
    "<font color=\"indigo\">\n",
    "\n",
    "**Checks:** The grader only checks:\n",
    "* stats_for_year(1990).labels == ('geo', 'population_total', 'children_per_woman_total_fertility', 'child_mortality_under_5_per_1000_born')\n",
    "* stats_for_year(1990).num_rows == 50\n",
    "* print(stats_for_year(1960).sort('geo').take(np.arange(5, 50, 5)))\n",
    "* print(stats_for_year(2010).sort('geo').take(np.arange(3, 50, 5)))\n",
    "\n",
    "</font>\n"
   ]
  },
  {
   "cell_type": "markdown",
   "id": "a172f6f1",
   "metadata": {
    "deletable": false,
    "editable": false
   },
   "source": [
    "#### Part 1.13 (5 pts)\n"
   ]
  },
  {
   "cell_type": "markdown",
   "id": "010b6b78",
   "metadata": {
    "deletable": false,
    "editable": false
   },
   "source": [
    "In the next two question parts, we will build up to creating a table with the world population for the first year of each decade. "
   ]
  },
  {
   "cell_type": "markdown",
   "id": "33c7fbc9",
   "metadata": {
    "deletable": false,
    "editable": false
   },
   "source": [
    "First, create a helper function `pop_for_year` that computes the total population per year for all countries in the `big_50` table defined above. \n",
    "\n",
    "*Hint:* Your answer should use the `stats_for_year` function from the previous question."
   ]
  },
  {
   "cell_type": "code",
   "execution_count": 26,
   "id": "98686000",
   "metadata": {
    "deletable": false,
    "tags": []
   },
   "outputs": [],
   "source": [
    "def pop_for_year(year):\n",
    "    \"\"\"Return the total population for the specified year.\"\"\"\n",
    "    return sum(stats_for_year(year).column('population_total'))\n"
   ]
  },
  {
   "cell_type": "code",
   "execution_count": 27,
   "id": "89c6670e",
   "metadata": {
    "deletable": false,
    "editable": false
   },
   "outputs": [
    {
     "data": {
      "text/html": [
       "<p><strong><pre style='display: inline;'>q1.13</pre></strong> passed!</p>"
      ],
      "text/plain": [
       "q1.13 results: All test cases passed!"
      ]
     },
     "execution_count": 27,
     "metadata": {},
     "output_type": "execute_result"
    }
   ],
   "source": [
    "grader.check(\"q1.13\")"
   ]
  },
  {
   "cell_type": "markdown",
   "id": "7f37f339",
   "metadata": {
    "deletable": false,
    "editable": false
   },
   "source": [
    "<font color=\"indigo\">\n",
    "\n",
    "**Checks:** The grader only checks:\n",
    "* pop_for_year(1972) == 3355562066\n",
    "* pop_for_year(2020) == 6765161289\n",
    "* pop_for_year(1989) == 4576679948\n",
    "* pop_for_year(2002) == 5514129422\n",
    "\n",
    "</font>\n"
   ]
  },
  {
   "cell_type": "markdown",
   "id": "4588fc44",
   "metadata": {
    "deletable": false,
    "editable": false
   },
   "source": [
    "#### Part 1.14 (5 pts)\n"
   ]
  },
  {
   "cell_type": "markdown",
   "id": "870dbd95",
   "metadata": {
    "deletable": false,
    "editable": false
   },
   "source": [
    "Now that you've defined your helper function, create a table called `pop_by_decade` with two columns called `decade` and `population`, in that order. \n",
    "\n",
    "The `pop_by_decade` table should have a row for each year that starts a decade, in increasing order starting with 1960 and ending with 2020. For example, 1960 is the start of the 1960's decade. \n",
    "\n",
    "The `population` column contains the total population of all countries included in the result of `stats_for_year(year)` for the first `year` of the decade. You should see that these countries contain most of the world's population.\n",
    "\n",
    "*Hint:* `.apply()` might be helpful here. "
   ]
  },
  {
   "cell_type": "code",
   "execution_count": 28,
   "id": "1aa321cd",
   "metadata": {
    "deletable": false,
    "tags": []
   },
   "outputs": [
    {
     "name": "stderr",
     "output_type": "stream",
     "text": [
      "/opt/tljh/user/lib/python3.9/site-packages/datascience/tables.py:471: FutureWarning: column lists are deprecated; pass each as an argument\n",
      "  warnings.warn(\n"
     ]
    },
    {
     "data": {
      "text/html": [
       "<table border=\"1\" class=\"dataframe\">\n",
       "    <thead>\n",
       "        <tr>\n",
       "            <th>decade</th> <th>population</th>\n",
       "        </tr>\n",
       "    </thead>\n",
       "    <tbody>\n",
       "        <tr>\n",
       "            <td>1960  </td> <td>2,635,123,897</td>\n",
       "        </tr>\n",
       "        <tr>\n",
       "            <td>1970  </td> <td>3,221,457,416</td>\n",
       "        </tr>\n",
       "        <tr>\n",
       "            <td>1980  </td> <td>3,890,044,418</td>\n",
       "        </tr>\n",
       "        <tr>\n",
       "            <td>1990  </td> <td>4,656,339,803</td>\n",
       "        </tr>\n",
       "        <tr>\n",
       "            <td>2000  </td> <td>5,377,062,169</td>\n",
       "        </tr>\n",
       "        <tr>\n",
       "            <td>2010  </td> <td>6,064,674,132</td>\n",
       "        </tr>\n",
       "        <tr>\n",
       "            <td>2020  </td> <td>6,765,161,289</td>\n",
       "        </tr>\n",
       "    </tbody>\n",
       "</table>"
      ],
      "text/plain": [
       "decade | population\n",
       "1960   | 2,635,123,897\n",
       "1970   | 3,221,457,416\n",
       "1980   | 3,890,044,418\n",
       "1990   | 4,656,339,803\n",
       "2000   | 5,377,062,169\n",
       "2010   | 6,064,674,132\n",
       "2020   | 6,765,161,289"
      ]
     },
     "execution_count": 28,
     "metadata": {},
     "output_type": "execute_result"
    }
   ],
   "source": [
    "# Tabile with the years starting each decade\n",
    "decades = Table().with_column('decade', np.arange(1960, 2021, 10))\n",
    "\n",
    "pop_by_decade = decades.with_column('population', decades.apply(pop_for_year,decades))\n",
    "\n",
    "pop_by_decade.set_format(1, NumberFormatter)  # Make the numbers have ,'s for readability.\n",
    "pop_by_decade"
   ]
  },
  {
   "cell_type": "code",
   "execution_count": 29,
   "id": "2f162150",
   "metadata": {
    "deletable": false,
    "editable": false
   },
   "outputs": [
    {
     "data": {
      "text/html": [
       "<p><strong><pre style='display: inline;'>q1.14</pre></strong> passed!</p>"
      ],
      "text/plain": [
       "q1.14 results: All test cases passed!"
      ]
     },
     "execution_count": 29,
     "metadata": {},
     "output_type": "execute_result"
    }
   ],
   "source": [
    "grader.check(\"q1.14\")"
   ]
  },
  {
   "cell_type": "markdown",
   "id": "dda833af",
   "metadata": {
    "deletable": false,
    "editable": false
   },
   "source": [
    "<font color=\"indigo\">\n",
    "\n",
    "**Checks:** The grader only checks:\n",
    "* pop_by_decade.labels == ('decade', 'population')\n",
    "* pop_by_decade.column(0).item(0) == 1960\n",
    "\n",
    "</font>\n"
   ]
  },
  {
   "cell_type": "markdown",
   "id": "4fdcf606",
   "metadata": {
    "deletable": false,
    "editable": false
   },
   "source": [
    "The `countries` table below describes various characteristics of countries. The `country` column contains the same codes as the `geo` column in each of the other data tables (`population`, `fertility`, and `child_mortality`). The `world_6region` column classifies each country into a region of the world. Run the cell below to inspect the data."
   ]
  },
  {
   "cell_type": "code",
   "execution_count": 30,
   "id": "5e630b06",
   "metadata": {
    "deletable": false,
    "editable": false
   },
   "outputs": [
    {
     "data": {
      "text/html": [
       "<table border=\"1\" class=\"dataframe\">\n",
       "    <thead>\n",
       "        <tr>\n",
       "            <th>country</th> <th>name</th> <th>world_6region</th>\n",
       "        </tr>\n",
       "    </thead>\n",
       "    <tbody>\n",
       "        <tr>\n",
       "            <td>afg    </td> <td>Afghanistan         </td> <td>south_asia              </td>\n",
       "        </tr>\n",
       "        <tr>\n",
       "            <td>ago    </td> <td>Angola              </td> <td>sub_saharan_africa      </td>\n",
       "        </tr>\n",
       "        <tr>\n",
       "            <td>alb    </td> <td>Albania             </td> <td>europe_central_asia     </td>\n",
       "        </tr>\n",
       "        <tr>\n",
       "            <td>and    </td> <td>Andorra             </td> <td>europe_central_asia     </td>\n",
       "        </tr>\n",
       "        <tr>\n",
       "            <td>are    </td> <td>United Arab Emirates</td> <td>middle_east_north_africa</td>\n",
       "        </tr>\n",
       "        <tr>\n",
       "            <td>arg    </td> <td>Argentina           </td> <td>america                 </td>\n",
       "        </tr>\n",
       "        <tr>\n",
       "            <td>arm    </td> <td>Armenia             </td> <td>europe_central_asia     </td>\n",
       "        </tr>\n",
       "        <tr>\n",
       "            <td>atg    </td> <td>Antigua and Barbuda </td> <td>america                 </td>\n",
       "        </tr>\n",
       "        <tr>\n",
       "            <td>aus    </td> <td>Australia           </td> <td>east_asia_pacific       </td>\n",
       "        </tr>\n",
       "        <tr>\n",
       "            <td>aut    </td> <td>Austria             </td> <td>europe_central_asia     </td>\n",
       "        </tr>\n",
       "    </tbody>\n",
       "</table>\n",
       "<p>... (187 rows omitted)</p>"
      ],
      "text/plain": [
       "country | name                 | world_6region\n",
       "afg     | Afghanistan          | south_asia\n",
       "ago     | Angola               | sub_saharan_africa\n",
       "alb     | Albania              | europe_central_asia\n",
       "and     | Andorra              | europe_central_asia\n",
       "are     | United Arab Emirates | middle_east_north_africa\n",
       "arg     | Argentina            | america\n",
       "arm     | Armenia              | europe_central_asia\n",
       "atg     | Antigua and Barbuda  | america\n",
       "aus     | Australia            | east_asia_pacific\n",
       "aut     | Austria              | europe_central_asia\n",
       "... (187 rows omitted)"
      ]
     },
     "execution_count": 30,
     "metadata": {},
     "output_type": "execute_result"
    }
   ],
   "source": [
    "countries = Table.read_table('countries.csv').where('country', are.contained_in(population.group('geo').column('geo')))\n",
    "countries.select('country', 'name', 'world_6region')"
   ]
  },
  {
   "cell_type": "markdown",
   "id": "dfcbd824",
   "metadata": {
    "deletable": false,
    "editable": false
   },
   "source": [
    "#### Part 1.15 (5 pts)\n"
   ]
  },
  {
   "cell_type": "markdown",
   "id": "4960d285",
   "metadata": {
    "deletable": false,
    "editable": false
   },
   "source": [
    " Create a table called `region_counts`. It should contain two columns called `region` and `count`. The `region` column should contain regions of the world, and the `count` column should contain the number of countries in each region that appears in the result of `stats_for_year(2020)`. \n",
    "\n",
    "For example, one row would have `south_asia` as its `region` value and an integer as its `count` value: the number of large South Asian countries for which we have population, fertility, and child mortality numbers from 2020.\n",
    "\n",
    "*Hint*: You may have to relabel a column to name it `region`. \n",
    "\n"
   ]
  },
  {
   "cell_type": "code",
   "execution_count": 31,
   "id": "d98e73ed",
   "metadata": {
    "deletable": false,
    "tags": []
   },
   "outputs": [
    {
     "data": {
      "text/html": [
       "<table border=\"1\" class=\"dataframe\">\n",
       "    <thead>\n",
       "        <tr>\n",
       "            <th>region</th> <th>count</th>\n",
       "        </tr>\n",
       "    </thead>\n",
       "    <tbody>\n",
       "        <tr>\n",
       "            <td>america                 </td> <td>8    </td>\n",
       "        </tr>\n",
       "        <tr>\n",
       "            <td>east_asia_pacific       </td> <td>9    </td>\n",
       "        </tr>\n",
       "        <tr>\n",
       "            <td>europe_central_asia     </td> <td>10   </td>\n",
       "        </tr>\n",
       "        <tr>\n",
       "            <td>middle_east_north_africa</td> <td>7    </td>\n",
       "        </tr>\n",
       "        <tr>\n",
       "            <td>south_asia              </td> <td>5    </td>\n",
       "        </tr>\n",
       "        <tr>\n",
       "            <td>sub_saharan_africa      </td> <td>11   </td>\n",
       "        </tr>\n",
       "    </tbody>\n",
       "</table>"
      ],
      "text/plain": [
       "region                   | count\n",
       "america                  | 8\n",
       "east_asia_pacific        | 9\n",
       "europe_central_asia      | 10\n",
       "middle_east_north_africa | 7\n",
       "south_asia               | 5\n",
       "sub_saharan_africa       | 11"
      ]
     },
     "execution_count": 31,
     "metadata": {},
     "output_type": "execute_result"
    }
   ],
   "source": [
    "def geo_region_convert(geo):\n",
    "    region = countries.where('country', are.equal_to(geo))[17][0]\n",
    "    return region\n",
    "stats_for_2020 = stats_for_year(2020)\n",
    "region_counts = stats_for_2020.with_columns('region',stats_for_2020.apply(geo_region_convert,'geo')).group('region')\n",
    "\n",
    "\n",
    "region_counts"
   ]
  },
  {
   "cell_type": "code",
   "execution_count": 32,
   "id": "23b2546d",
   "metadata": {
    "deletable": false,
    "editable": false
   },
   "outputs": [
    {
     "data": {
      "text/html": [
       "<p><strong><pre style='display: inline;'>q1.15</pre></strong> passed!</p>"
      ],
      "text/plain": [
       "q1.15 results: All test cases passed!"
      ]
     },
     "execution_count": 32,
     "metadata": {},
     "output_type": "execute_result"
    }
   ],
   "source": [
    "grader.check(\"q1.15\")"
   ]
  },
  {
   "cell_type": "markdown",
   "id": "4b9e38ff",
   "metadata": {
    "deletable": false,
    "editable": false
   },
   "source": [
    "<font color=\"indigo\">\n",
    "\n",
    "**Checks:** The grader only checks:\n",
    "* region_counts.labels == ('region', 'count')\n",
    "* sum(region_counts.column('count')) == 50\n",
    "\n",
    "</font>\n"
   ]
  },
  {
   "cell_type": "markdown",
   "id": "f18537e8",
   "metadata": {
    "deletable": false,
    "editable": false
   },
   "source": [
    "The following scatter diagram compares total fertility rate and child mortality rate for each country in 1960. The area of each dot represents the population of the country, and the color represents its region of the world. Run the cell. Do you think you can identify any of the dots?"
   ]
  },
  {
   "cell_type": "code",
   "execution_count": 33,
   "id": "c9f6583a",
   "metadata": {
    "deletable": false,
    "editable": false
   },
   "outputs": [
    {
     "data": {
      "image/png": "[encoded data removed]",
      "text/plain": [
       "<Figure size 360x360 with 1 Axes>"
      ]
     },
     "metadata": {},
     "output_type": "display_data"
    }
   ],
   "source": [
    "from functools import lru_cache as cache\n",
    "\n",
    "# This cache annotation makes sure that if the same year\n",
    "# is passed as an argument twice, the work of computing\n",
    "# the result is only carried out once.\n",
    "@cache(None)\n",
    "def stats_relabeled(year):\n",
    "    \"\"\"Relabeled and cached version of stats_for_year.\"\"\"\n",
    "    stats = stats_for_year(year)\n",
    "    stats = stats.relabel('children_per_woman_total_fertility', 'Children per woman')\n",
    "    stats = stats.relabel('child_mortality_under_5_per_1000_born', 'Child deaths per 1000 born')\n",
    "    return stats\n",
    "\n",
    "def fertility_vs_child_mortality(year):\n",
    "    \"\"\"Draw a color scatter diagram comparing child mortality and fertility.\"\"\"\n",
    "    with_region = stats_relabeled(year).join('geo', countries.select('country', 'world_6region'), 'country')\n",
    "    with_region.scatter('Children per woman', \n",
    "                        'Child deaths per 1000 born', \n",
    "                        sizes='population_total', \n",
    "                        group='world_6region', \n",
    "                        s=500)\n",
    "    plots.xlim(0,10)\n",
    "    plots.ylim(-50, 500)\n",
    "    plots.title(year)\n",
    "    plots.show()\n",
    "\n",
    "fertility_vs_child_mortality(1960)"
   ]
  },
  {
   "cell_type": "markdown",
   "id": "1c599d89",
   "metadata": {
    "deletable": false,
    "editable": false
   },
   "source": [
    "<!-- BEGIN QUESTION -->\n",
    "\n",
    "#### Part 1.16 (3 pts)\n"
   ]
  },
  {
   "cell_type": "markdown",
   "id": "91d2cc95",
   "metadata": {
    "deletable": false,
    "editable": false
   },
   "source": [
    "As a whole, which region had the lowest child mortality rate?  Justify your answer in one sentence using the scatter plot above."
   ]
  },
  {
   "cell_type": "markdown",
   "id": "a05465ce",
   "metadata": {
    "deletable": false,
    "tags": []
   },
   "source": [
    "<font color=\"red\">\n",
    "    The region \"europe-central-asia\" had the lowest child mortality rate because as shown in the scatter plot above, most of its points are clustered around a rate of less 100 for child morality, which is the y-axis, \"child deaths per 1000 born,\" on this graph. \n",
    "\n",
    "    \n",
    "</font>"
   ]
  },
  {
   "cell_type": "markdown",
   "id": "919c4d52",
   "metadata": {
    "deletable": false,
    "editable": false
   },
   "source": [
    "<!-- END QUESTION -->\n",
    "\n",
    "<!-- BEGIN QUESTION -->\n",
    "\n",
    "#### Part 1.17 (3 pts)\n"
   ]
  },
  {
   "cell_type": "markdown",
   "id": "1382c486",
   "metadata": {
    "deletable": false,
    "editable": false
   },
   "source": [
    "Complete this statement: \"Most regions have a fertility rate above ...\".  Justify your answer in one sentence using the scatter plot above."
   ]
  },
  {
   "cell_type": "markdown",
   "id": "5b7cc553",
   "metadata": {
    "deletable": false,
    "tags": []
   },
   "source": [
    "<font color=\"red\">\n",
    "    \n",
    "Most regions have a fertility rate above about 5, as much of the clustering of points for various regions is around 6 and above. \n",
    "</font>"
   ]
  },
  {
   "cell_type": "markdown",
   "id": "4695adc8",
   "metadata": {
    "deletable": false,
    "editable": false
   },
   "source": [
    "<!-- END QUESTION -->\n",
    "\n",
    "<!-- BEGIN QUESTION -->\n",
    "\n",
    "#### Part 1.18 (3 pts)\n"
   ]
  },
  {
   "cell_type": "markdown",
   "id": "a7a2a3c4",
   "metadata": {
    "deletable": false,
    "editable": false
   },
   "source": [
    "Is there any association between child mortality and fertility? Why? Is it causal?"
   ]
  },
  {
   "cell_type": "markdown",
   "id": "e03be5c4",
   "metadata": {
    "deletable": false,
    "tags": []
   },
   "source": [
    "<font color=\"red\">\n",
    "Yes, there is a positive relationship between child mortality and fertility as countries with higher fertility rates generally also have higher child mortality rates than countries with low fertility rates. HOWEVER, we do not have enough information to know that this is causal.\n",
    "    \n",
    "</font>"
   ]
  },
  {
   "cell_type": "markdown",
   "id": "ff540045",
   "metadata": {
    "deletable": false,
    "editable": false
   },
   "source": [
    "<!-- END QUESTION -->\n",
    "\n",
    "<!-- BEGIN QUESTION -->\n",
    "\n",
    "#### Part 1.19 (3 pts)\n"
   ]
  },
  {
   "cell_type": "markdown",
   "id": "89abf173",
   "metadata": {
    "deletable": false,
    "editable": false
   },
   "source": [
    "Is there any relationship between the largest countries by population and the child mortality rates?  Justify your answer in one sentence using the scatter plot above."
   ]
  },
  {
   "cell_type": "markdown",
   "id": "bd5dea46",
   "metadata": {
    "deletable": false,
    "tags": []
   },
   "source": [
    "<font color=\"red\">\n",
    "    \n",
    "There is no relationship apparent on the plot because the dots regardless of the size are scattered and certain sizes do not show a trend to be clustered in a particular area more than others. \n",
    "    \n",
    "</font>"
   ]
  },
  {
   "cell_type": "markdown",
   "id": "b78d9861",
   "metadata": {
    "deletable": false,
    "editable": false
   },
   "source": [
    "<!-- END QUESTION -->\n",
    "\n",
    "### Visualizing Changes Over Time"
   ]
  },
  {
   "cell_type": "markdown",
   "id": "c84c0508",
   "metadata": {
    "deletable": false,
    "editable": false
   },
   "source": [
    "The result of the cell below is interactive. Drag the slider to the right to see how countries have changed over time. You'll find that the great divide between so-called \"Western\" and \"developing\" countries that existed in the 1960's has nearly disappeared. This shift in fertility rates is the reason that the global population is expected to grow more slowly in the 21st century than it did in the 19th and 20th centuries.\n",
    "\n",
    "**Note:** Don't worry if a red warning pops up when running the cell below. You'll still be able to run the cell!"
   ]
  },
  {
   "cell_type": "code",
   "execution_count": 34,
   "id": "b4a22910",
   "metadata": {
    "deletable": false,
    "editable": false
   },
   "outputs": [
    {
     "data": {
      "application/vnd.jupyter.widget-view+json": {
       "model_id": "9ef1d659619b4158853ecf1b09c6049a",
       "version_major": 2,
       "version_minor": 0
      },
      "text/plain": [
       "interactive(children=(IntSlider(value=1960, description='year', max=2020, min=1960), Output()), _dom_classes=(…"
      ]
     },
     "metadata": {},
     "output_type": "display_data"
    }
   ],
   "source": [
    "import ipywidgets as widgets\n",
    "\n",
    "_ = widgets.interact(fertility_vs_child_mortality, \n",
    "                     year=widgets.IntSlider(min=1960, max=2020, value=1960))"
   ]
  },
  {
   "cell_type": "markdown",
   "id": "fbf74bc1",
   "metadata": {
    "deletable": false,
    "editable": false
   },
   "source": [
    "Now is a great time to take a break and watch the same data presented by [Hans Rosling in a 2010 TEDx talk](https://www.gapminder.org/videos/reducing-child-mortality-a-moral-and-environmental-imperative) with smoother animation and witty commentary."
   ]
  },
  {
   "cell_type": "markdown",
   "id": "e710c437",
   "metadata": {
    "deletable": false,
    "editable": false
   },
   "source": [
    "## 2. Global Poverty (30 pts)\n",
    "\n"
   ]
  },
  {
   "cell_type": "markdown",
   "id": "31c025cc",
   "metadata": {
    "deletable": false,
    "editable": false
   },
   "source": [
    "In 1800, 85% of the world's 1 billion people lived in [extreme poverty](https://en.wikipedia.org/wiki/Extreme_poverty), defined by the United Nations as \"a condition characterized by severe deprivation of basic human needs, including food, safe drinking water, sanitation facilities, health, shelter, education and information.\" At the time when the data in this project were gathered, a common definition of extreme poverty was a person living on less than \\$1.25 a day.\n",
    "\n",
    "In 2018, the proportion of people living in extreme poverty was estimated to be [about 9\\%](https://unstats.un.org/sdgs/report/2019/goal-01/). Although the world rate of extreme poverty has declined consistently for hundreds of years, the number of people living in extreme poverty is still over 600 million. The United Nations adopted an [ambitious goal](http://www.un.org/sustainabledevelopment/poverty/): \"By 2030, eradicate extreme poverty for all people everywhere.\" In this part of the project we will examine aspects of global poverty that might affect whether the goal is achievable."
   ]
  },
  {
   "cell_type": "markdown",
   "id": "4b150bfa",
   "metadata": {
    "deletable": false,
    "editable": false
   },
   "source": [
    "First, load the population and poverty rate by country and year and the country descriptions. While the `population` table has values for every recent year for many countries, the `poverty` table only includes certain years for each country in which a measurement of the rate of extreme poverty was available."
   ]
  },
  {
   "cell_type": "code",
   "execution_count": 35,
   "id": "e6e17d81",
   "metadata": {
    "deletable": false,
    "editable": false
   },
   "outputs": [
    {
     "data": {
      "text/html": [
       "<table border=\"1\" class=\"dataframe\">\n",
       "    <thead>\n",
       "        <tr>\n",
       "            <th>geo</th> <th>time</th> <th>extreme_poverty_percent_people_below_125_a_day</th>\n",
       "        </tr>\n",
       "    </thead>\n",
       "    <tbody>\n",
       "        <tr>\n",
       "            <td>alb </td> <td>1996</td> <td>0.2                                           </td>\n",
       "        </tr>\n",
       "        <tr>\n",
       "            <td>alb </td> <td>2002</td> <td>0.73                                          </td>\n",
       "        </tr>\n",
       "        <tr>\n",
       "            <td>alb </td> <td>2004</td> <td>0.53                                          </td>\n",
       "        </tr>\n",
       "    </tbody>\n",
       "</table>\n",
       "<p>... (1096 rows omitted)</p>"
      ],
      "text/plain": [
       "<IPython.core.display.HTML object>"
      ]
     },
     "metadata": {},
     "output_type": "display_data"
    }
   ],
   "source": [
    "population = Table.read_table('population.csv')\n",
    "countries = Table.read_table('countries.csv').where('country', are.contained_in(population.group('geo').column('geo')))\n",
    "poverty = Table.read_table('poverty.csv')\n",
    "poverty.show(3)"
   ]
  },
  {
   "cell_type": "markdown",
   "id": "37c7513b",
   "metadata": {
    "deletable": false,
    "editable": false
   },
   "source": [
    "#### Part 2.1 (5 pts)\n"
   ]
  },
  {
   "cell_type": "markdown",
   "id": "26111982",
   "metadata": {
    "deletable": false,
    "editable": false
   },
   "source": [
    " Assign `latest_poverty` to a three-column table with one row for each country that appears in the `poverty` table. \n",
    " - The first column should contain the 3-letter code for the country. \n",
    " - The second column should contain the most recent year for which an extreme poverty rate is available for the country. \n",
    " - The third column should contain the poverty rate in that year. \n",
    " \n",
    "**Do not change the last line, so that the labels of your table are set correctly.**\n",
    "\n",
    "*Hint*: It will be useful to keep in mind how ```group``` works: it searches the table from top to bottom, collecting values in the order in which they appear.  It then applies the aggregation function to an array containing those values in the order in which they were found.  Thus, the first item in the array passed to the aggregation function corresponds to the first row found that is part of the group being processed.  The `first` function may be helpful, provided you sort the table appropriately before grouping..."
   ]
  },
  {
   "cell_type": "code",
   "execution_count": 68,
   "id": "471fd7f6",
   "metadata": {
    "deletable": false,
    "tags": []
   },
   "outputs": [
    {
     "data": {
      "text/html": [
       "<table border=\"1\" class=\"dataframe\">\n",
       "    <thead>\n",
       "        <tr>\n",
       "            <th>geo</th> <th>time</th> <th>poverty_percent</th>\n",
       "        </tr>\n",
       "    </thead>\n",
       "    <tbody>\n",
       "        <tr>\n",
       "            <td>ago </td> <td>2009</td> <td>43.37          </td>\n",
       "        </tr>\n",
       "        <tr>\n",
       "            <td>alb </td> <td>2012</td> <td>0.46           </td>\n",
       "        </tr>\n",
       "        <tr>\n",
       "            <td>arg </td> <td>2011</td> <td>1.41           </td>\n",
       "        </tr>\n",
       "        <tr>\n",
       "            <td>arm </td> <td>2012</td> <td>1.75           </td>\n",
       "        </tr>\n",
       "        <tr>\n",
       "            <td>aus </td> <td>2003</td> <td>1.36           </td>\n",
       "        </tr>\n",
       "        <tr>\n",
       "            <td>aut </td> <td>2004</td> <td>0.34           </td>\n",
       "        </tr>\n",
       "        <tr>\n",
       "            <td>aze </td> <td>2008</td> <td>0.31           </td>\n",
       "        </tr>\n",
       "        <tr>\n",
       "            <td>bdi </td> <td>2006</td> <td>81.32          </td>\n",
       "        </tr>\n",
       "        <tr>\n",
       "            <td>bel </td> <td>2000</td> <td>0.5            </td>\n",
       "        </tr>\n",
       "        <tr>\n",
       "            <td>ben </td> <td>2012</td> <td>51.61          </td>\n",
       "        </tr>\n",
       "        <tr>\n",
       "            <td>bfa </td> <td>2009</td> <td>44.46          </td>\n",
       "        </tr>\n",
       "        <tr>\n",
       "            <td>bgd </td> <td>2010</td> <td>43.25          </td>\n",
       "        </tr>\n",
       "        <tr>\n",
       "            <td>bgr </td> <td>2011</td> <td>1.9            </td>\n",
       "        </tr>\n",
       "        <tr>\n",
       "            <td>bih </td> <td>2007</td> <td>0.04           </td>\n",
       "        </tr>\n",
       "        <tr>\n",
       "            <td>blr </td> <td>2011</td> <td>0              </td>\n",
       "        </tr>\n",
       "        <tr>\n",
       "            <td>blz </td> <td>1999</td> <td>12.21          </td>\n",
       "        </tr>\n",
       "        <tr>\n",
       "            <td>bol </td> <td>2012</td> <td>7.98           </td>\n",
       "        </tr>\n",
       "        <tr>\n",
       "            <td>bra </td> <td>2012</td> <td>3.75           </td>\n",
       "        </tr>\n",
       "        <tr>\n",
       "            <td>btn </td> <td>2012</td> <td>2.38           </td>\n",
       "        </tr>\n",
       "        <tr>\n",
       "            <td>bwa </td> <td>2009</td> <td>13.41          </td>\n",
       "        </tr>\n",
       "        <tr>\n",
       "            <td>caf </td> <td>2008</td> <td>62.83          </td>\n",
       "        </tr>\n",
       "        <tr>\n",
       "            <td>can </td> <td>2010</td> <td>0.34           </td>\n",
       "        </tr>\n",
       "        <tr>\n",
       "            <td>che </td> <td>2004</td> <td>0.67           </td>\n",
       "        </tr>\n",
       "        <tr>\n",
       "            <td>chl </td> <td>2011</td> <td>0.83           </td>\n",
       "        </tr>\n",
       "        <tr>\n",
       "            <td>chn </td> <td>2011</td> <td>6.26           </td>\n",
       "        </tr>\n",
       "        <tr>\n",
       "            <td>civ </td> <td>2008</td> <td>35.04          </td>\n",
       "        </tr>\n",
       "        <tr>\n",
       "            <td>cmr </td> <td>2007</td> <td>27.61          </td>\n",
       "        </tr>\n",
       "        <tr>\n",
       "            <td>cod </td> <td>2006</td> <td>87.72          </td>\n",
       "        </tr>\n",
       "        <tr>\n",
       "            <td>cog </td> <td>2011</td> <td>32.82          </td>\n",
       "        </tr>\n",
       "        <tr>\n",
       "            <td>col </td> <td>2012</td> <td>5.63           </td>\n",
       "        </tr>\n",
       "        <tr>\n",
       "            <td>com </td> <td>2004</td> <td>46.11          </td>\n",
       "        </tr>\n",
       "        <tr>\n",
       "            <td>cpv </td> <td>2008</td> <td>13.72          </td>\n",
       "        </tr>\n",
       "        <tr>\n",
       "            <td>cri </td> <td>2012</td> <td>1.35           </td>\n",
       "        </tr>\n",
       "        <tr>\n",
       "            <td>cze </td> <td>2011</td> <td>0.03           </td>\n",
       "        </tr>\n",
       "        <tr>\n",
       "            <td>deu </td> <td>2010</td> <td>0.34           </td>\n",
       "        </tr>\n",
       "        <tr>\n",
       "            <td>dji </td> <td>2002</td> <td>18.83          </td>\n",
       "        </tr>\n",
       "        <tr>\n",
       "            <td>dnk </td> <td>2010</td> <td>0.67           </td>\n",
       "        </tr>\n",
       "        <tr>\n",
       "            <td>dom </td> <td>2012</td> <td>2.25           </td>\n",
       "        </tr>\n",
       "        <tr>\n",
       "            <td>dza </td> <td>1995</td> <td>6.38           </td>\n",
       "        </tr>\n",
       "        <tr>\n",
       "            <td>ecu </td> <td>2012</td> <td>3.95           </td>\n",
       "        </tr>\n",
       "        <tr>\n",
       "            <td>egy </td> <td>2008</td> <td>1.68           </td>\n",
       "        </tr>\n",
       "        <tr>\n",
       "            <td>esp </td> <td>2010</td> <td>2.34           </td>\n",
       "        </tr>\n",
       "        <tr>\n",
       "            <td>est </td> <td>2011</td> <td>0.98           </td>\n",
       "        </tr>\n",
       "        <tr>\n",
       "            <td>eth </td> <td>2011</td> <td>36.79          </td>\n",
       "        </tr>\n",
       "        <tr>\n",
       "            <td>fin </td> <td>2010</td> <td>0              </td>\n",
       "        </tr>\n",
       "        <tr>\n",
       "            <td>fji </td> <td>2009</td> <td>5.88           </td>\n",
       "        </tr>\n",
       "        <tr>\n",
       "            <td>fra </td> <td>2005</td> <td>0.33           </td>\n",
       "        </tr>\n",
       "        <tr>\n",
       "            <td>fsm </td> <td>2000</td> <td>31.15          </td>\n",
       "        </tr>\n",
       "        <tr>\n",
       "            <td>gab </td> <td>2005</td> <td>6.09           </td>\n",
       "        </tr>\n",
       "        <tr>\n",
       "            <td>gbr </td> <td>2010</td> <td>1.01           </td>\n",
       "        </tr>\n",
       "        <tr>\n",
       "            <td>geo </td> <td>2012</td> <td>14.14          </td>\n",
       "        </tr>\n",
       "        <tr>\n",
       "            <td>gha </td> <td>2006</td> <td>28.59          </td>\n",
       "        </tr>\n",
       "        <tr>\n",
       "            <td>gin </td> <td>2012</td> <td>40.87          </td>\n",
       "        </tr>\n",
       "        <tr>\n",
       "            <td>gmb </td> <td>2003</td> <td>33.63          </td>\n",
       "        </tr>\n",
       "        <tr>\n",
       "            <td>gnb </td> <td>2002</td> <td>48.9           </td>\n",
       "        </tr>\n",
       "        <tr>\n",
       "            <td>grc </td> <td>2010</td> <td>1.37           </td>\n",
       "        </tr>\n",
       "        <tr>\n",
       "            <td>gtm </td> <td>2011</td> <td>13.7           </td>\n",
       "        </tr>\n",
       "        <tr>\n",
       "            <td>guy </td> <td>1998</td> <td>8.7            </td>\n",
       "        </tr>\n",
       "        <tr>\n",
       "            <td>hnd </td> <td>2011</td> <td>16.48          </td>\n",
       "        </tr>\n",
       "        <tr>\n",
       "            <td>hrv </td> <td>2008</td> <td>0              </td>\n",
       "        </tr>\n",
       "        <tr>\n",
       "            <td>hti </td> <td>2001</td> <td>61.71          </td>\n",
       "        </tr>\n",
       "        <tr>\n",
       "            <td>hun </td> <td>2011</td> <td>0.05           </td>\n",
       "        </tr>\n",
       "        <tr>\n",
       "            <td>idn </td> <td>2011</td> <td>16.2           </td>\n",
       "        </tr>\n",
       "        <tr>\n",
       "            <td>ind </td> <td>2012</td> <td>23.63          </td>\n",
       "        </tr>\n",
       "        <tr>\n",
       "            <td>irl </td> <td>2010</td> <td>0.36           </td>\n",
       "        </tr>\n",
       "        <tr>\n",
       "            <td>irn </td> <td>2005</td> <td>1.45           </td>\n",
       "        </tr>\n",
       "        <tr>\n",
       "            <td>irq </td> <td>2012</td> <td>3.91           </td>\n",
       "        </tr>\n",
       "        <tr>\n",
       "            <td>isr </td> <td>2010</td> <td>0.39           </td>\n",
       "        </tr>\n",
       "        <tr>\n",
       "            <td>ita </td> <td>2010</td> <td>1.35           </td>\n",
       "        </tr>\n",
       "        <tr>\n",
       "            <td>jam </td> <td>2004</td> <td>0.24           </td>\n",
       "        </tr>\n",
       "        <tr>\n",
       "            <td>jor </td> <td>2010</td> <td>0.08           </td>\n",
       "        </tr>\n",
       "        <tr>\n",
       "            <td>jpn </td> <td>2008</td> <td>0.35           </td>\n",
       "        </tr>\n",
       "        <tr>\n",
       "            <td>kaz </td> <td>2010</td> <td>0.06           </td>\n",
       "        </tr>\n",
       "        <tr>\n",
       "            <td>ken </td> <td>2005</td> <td>43.37          </td>\n",
       "        </tr>\n",
       "        <tr>\n",
       "            <td>kgz </td> <td>2011</td> <td>5.11           </td>\n",
       "        </tr>\n",
       "        <tr>\n",
       "            <td>khm </td> <td>2011</td> <td>10.05          </td>\n",
       "        </tr>\n",
       "        <tr>\n",
       "            <td>lao </td> <td>2012</td> <td>30.26          </td>\n",
       "        </tr>\n",
       "        <tr>\n",
       "            <td>lbr </td> <td>2007</td> <td>83.76          </td>\n",
       "        </tr>\n",
       "        <tr>\n",
       "            <td>lca </td> <td>1995</td> <td>20.96          </td>\n",
       "        </tr>\n",
       "        <tr>\n",
       "            <td>lka </td> <td>2010</td> <td>4.11           </td>\n",
       "        </tr>\n",
       "        <tr>\n",
       "            <td>lso </td> <td>2010</td> <td>56.22          </td>\n",
       "        </tr>\n",
       "        <tr>\n",
       "            <td>ltu </td> <td>2011</td> <td>0.83           </td>\n",
       "        </tr>\n",
       "        <tr>\n",
       "            <td>lva </td> <td>2011</td> <td>1.07           </td>\n",
       "        </tr>\n",
       "        <tr>\n",
       "            <td>mar </td> <td>2007</td> <td>2.57           </td>\n",
       "        </tr>\n",
       "        <tr>\n",
       "            <td>mda </td> <td>2011</td> <td>0.23           </td>\n",
       "        </tr>\n",
       "        <tr>\n",
       "            <td>mdg </td> <td>2010</td> <td>87.67          </td>\n",
       "        </tr>\n",
       "        <tr>\n",
       "            <td>mdv </td> <td>2004</td> <td>1.48           </td>\n",
       "        </tr>\n",
       "        <tr>\n",
       "            <td>mex </td> <td>2012</td> <td>1.03           </td>\n",
       "        </tr>\n",
       "        <tr>\n",
       "            <td>mkd </td> <td>2008</td> <td>0.28           </td>\n",
       "        </tr>\n",
       "        <tr>\n",
       "            <td>mli </td> <td>2010</td> <td>50.61          </td>\n",
       "        </tr>\n",
       "        <tr>\n",
       "            <td>mne </td> <td>2011</td> <td>0.21           </td>\n",
       "        </tr>\n",
       "        <tr>\n",
       "            <td>moz </td> <td>2009</td> <td>60.71          </td>\n",
       "        </tr>\n",
       "        <tr>\n",
       "            <td>mrt </td> <td>2008</td> <td>23.43          </td>\n",
       "        </tr>\n",
       "        <tr>\n",
       "            <td>mwi </td> <td>2010</td> <td>72.16          </td>\n",
       "        </tr>\n",
       "        <tr>\n",
       "            <td>mys </td> <td>2009</td> <td>0              </td>\n",
       "        </tr>\n",
       "        <tr>\n",
       "            <td>nam </td> <td>2010</td> <td>23.54          </td>\n",
       "        </tr>\n",
       "        <tr>\n",
       "            <td>ner </td> <td>2011</td> <td>40.81          </td>\n",
       "        </tr>\n",
       "        <tr>\n",
       "            <td>nga </td> <td>2010</td> <td>62.03          </td>\n",
       "        </tr>\n",
       "        <tr>\n",
       "            <td>nic </td> <td>2009</td> <td>8.54           </td>\n",
       "        </tr>\n",
       "        <tr>\n",
       "            <td>nld </td> <td>2010</td> <td>0.35           </td>\n",
       "        </tr>\n",
       "        <tr>\n",
       "            <td>nor </td> <td>2010</td> <td>0.67           </td>\n",
       "        </tr>\n",
       "        <tr>\n",
       "            <td>npl </td> <td>2010</td> <td>23.74          </td>\n",
       "        </tr>\n",
       "        <tr>\n",
       "            <td>pak </td> <td>2011</td> <td>12.74          </td>\n",
       "        </tr>\n",
       "        <tr>\n",
       "            <td>pan </td> <td>2012</td> <td>3.99           </td>\n",
       "        </tr>\n",
       "        <tr>\n",
       "            <td>per </td> <td>2012</td> <td>2.89           </td>\n",
       "        </tr>\n",
       "        <tr>\n",
       "            <td>phl </td> <td>2012</td> <td>18.96          </td>\n",
       "        </tr>\n",
       "        <tr>\n",
       "            <td>png </td> <td>1996</td> <td>35.79          </td>\n",
       "        </tr>\n",
       "        <tr>\n",
       "            <td>pol </td> <td>2011</td> <td>0              </td>\n",
       "        </tr>\n",
       "        <tr>\n",
       "            <td>pry </td> <td>2012</td> <td>3.03           </td>\n",
       "        </tr>\n",
       "        <tr>\n",
       "            <td>pse </td> <td>2009</td> <td>0.08           </td>\n",
       "        </tr>\n",
       "        <tr>\n",
       "            <td>rou </td> <td>2012</td> <td>0              </td>\n",
       "        </tr>\n",
       "        <tr>\n",
       "            <td>rus </td> <td>2009</td> <td>0.03           </td>\n",
       "        </tr>\n",
       "        <tr>\n",
       "            <td>rwa </td> <td>2011</td> <td>63.02          </td>\n",
       "        </tr>\n",
       "        <tr>\n",
       "            <td>sdn </td> <td>2009</td> <td>19.8           </td>\n",
       "        </tr>\n",
       "        <tr>\n",
       "            <td>sen </td> <td>2011</td> <td>34.06          </td>\n",
       "        </tr>\n",
       "        <tr>\n",
       "            <td>sle </td> <td>2011</td> <td>56.63          </td>\n",
       "        </tr>\n",
       "        <tr>\n",
       "            <td>slv </td> <td>2012</td> <td>2.53           </td>\n",
       "        </tr>\n",
       "        <tr>\n",
       "            <td>srb </td> <td>2010</td> <td>0.05           </td>\n",
       "        </tr>\n",
       "        <tr>\n",
       "            <td>stp </td> <td>2010</td> <td>43.53          </td>\n",
       "        </tr>\n",
       "        <tr>\n",
       "            <td>sur </td> <td>1999</td> <td>15.54          </td>\n",
       "        </tr>\n",
       "        <tr>\n",
       "            <td>svk </td> <td>2011</td> <td>0.3            </td>\n",
       "        </tr>\n",
       "        <tr>\n",
       "            <td>svn </td> <td>2011</td> <td>0              </td>\n",
       "        </tr>\n",
       "        <tr>\n",
       "            <td>swe </td> <td>2005</td> <td>0.35           </td>\n",
       "        </tr>\n",
       "        <tr>\n",
       "            <td>swz </td> <td>2010</td> <td>39.3           </td>\n",
       "        </tr>\n",
       "        <tr>\n",
       "            <td>syc </td> <td>2007</td> <td>0.25           </td>\n",
       "        </tr>\n",
       "        <tr>\n",
       "            <td>syr </td> <td>2004</td> <td>1.71           </td>\n",
       "        </tr>\n",
       "        <tr>\n",
       "            <td>tcd </td> <td>2011</td> <td>36.52          </td>\n",
       "        </tr>\n",
       "        <tr>\n",
       "            <td>tgo </td> <td>2011</td> <td>52.46          </td>\n",
       "        </tr>\n",
       "        <tr>\n",
       "            <td>tha </td> <td>2010</td> <td>0.31           </td>\n",
       "        </tr>\n",
       "        <tr>\n",
       "            <td>tjk </td> <td>2009</td> <td>6.47           </td>\n",
       "        </tr>\n",
       "        <tr>\n",
       "            <td>tkm </td> <td>1998</td> <td>24.82          </td>\n",
       "        </tr>\n",
       "        <tr>\n",
       "            <td>tls </td> <td>2007</td> <td>34.87          </td>\n",
       "        </tr>\n",
       "        <tr>\n",
       "            <td>tto </td> <td>1992</td> <td>4.16           </td>\n",
       "        </tr>\n",
       "        <tr>\n",
       "            <td>tun </td> <td>2010</td> <td>0.74           </td>\n",
       "        </tr>\n",
       "        <tr>\n",
       "            <td>tur </td> <td>2011</td> <td>0.08           </td>\n",
       "        </tr>\n",
       "        <tr>\n",
       "            <td>tza </td> <td>2012</td> <td>43.48          </td>\n",
       "        </tr>\n",
       "        <tr>\n",
       "            <td>uga </td> <td>2013</td> <td>37.78          </td>\n",
       "        </tr>\n",
       "        <tr>\n",
       "            <td>ukr </td> <td>2010</td> <td>0              </td>\n",
       "        </tr>\n",
       "        <tr>\n",
       "            <td>ury </td> <td>2012</td> <td>0.31           </td>\n",
       "        </tr>\n",
       "        <tr>\n",
       "            <td>usa </td> <td>2010</td> <td>1.67           </td>\n",
       "        </tr>\n",
       "        <tr>\n",
       "            <td>ven </td> <td>2006</td> <td>6.63           </td>\n",
       "        </tr>\n",
       "        <tr>\n",
       "            <td>vnm </td> <td>2012</td> <td>2.44           </td>\n",
       "        </tr>\n",
       "        <tr>\n",
       "            <td>yem </td> <td>2005</td> <td>9.78           </td>\n",
       "        </tr>\n",
       "        <tr>\n",
       "            <td>zaf </td> <td>2011</td> <td>9.42           </td>\n",
       "        </tr>\n",
       "        <tr>\n",
       "            <td>zmb </td> <td>2010</td> <td>74.32          </td>\n",
       "        </tr>\n",
       "    </tbody>\n",
       "</table>"
      ],
      "text/plain": [
       "<IPython.core.display.HTML object>"
      ]
     },
     "metadata": {},
     "output_type": "display_data"
    }
   ],
   "source": [
    "def sort1(geo, time): \n",
    "    return poverty.where('geo', are.equal_to(geo)).where('time', are.equal_to(time))[2][0]\n",
    "\n",
    "latest_poverty = poverty.group('geo', max).drop('extreme_poverty_percent_people_below_125_a_day max')\n",
    "latest_poverty= latest_poverty.with_columns('poverty',latest_poverty.apply(sort1, 'geo','time max'))\n",
    "latest_poverty = latest_poverty.relabeled(0, 'geo').relabeled(1, 'time').relabeled(2, 'poverty_percent') # You should *not* change this line.\n",
    "\n",
    "latest_poverty.show()\n"
   ]
  },
  {
   "cell_type": "code",
   "execution_count": 37,
   "id": "f079e70e",
   "metadata": {
    "deletable": false,
    "editable": false
   },
   "outputs": [
    {
     "data": {
      "text/html": [
       "<p><strong><pre style='display: inline;'>q2.1</pre></strong> passed!</p>"
      ],
      "text/plain": [
       "q2.1 results: All test cases passed!"
      ]
     },
     "execution_count": 37,
     "metadata": {},
     "output_type": "execute_result"
    }
   ],
   "source": [
    "grader.check(\"q2.1\")"
   ]
  },
  {
   "cell_type": "markdown",
   "id": "0bafe9b4",
   "metadata": {
    "deletable": false,
    "editable": false
   },
   "source": [
    "<font color=\"indigo\">\n",
    "\n",
    "**Checks:** The grader only checks:\n",
    "* latest_poverty.labels==('geo', 'time','poverty_percent')\n",
    "* latest_poverty.num_rows == 145\n",
    "\n",
    "</font>\n"
   ]
  },
  {
   "cell_type": "markdown",
   "id": "fb49d992",
   "metadata": {
    "deletable": false,
    "editable": false
   },
   "source": [
    "#### Part 2.2 (5 pts)\n"
   ]
  },
  {
   "cell_type": "markdown",
   "id": "05db51e9",
   "metadata": {
    "deletable": false,
    "editable": false
   },
   "source": [
    " Using both `latest_poverty` and `population`, create a four-column table called `recent_poverty_total` with one row for each country in `latest_poverty`. The four columns should have the following labels and contents:\n",
    "1. `geo` contains the 3-letter country code,\n",
    "1. `poverty_percent` contains the most recent poverty percent,\n",
    "1. `population_total` contains the population of the country in 2010,\n",
    "1. `poverty_total` contains the number of people in poverty **rounded to the nearest integer**, based on the 2010 population and most recent poverty rate.\n",
    "\n",
    "*Hint*: Our solution starts by creating a table `poverty_and_pop` containing three columns: the geo code, the population, and latest poverty rate.  You may find this useful, and you are always welcome to add any additional variables. \n"
   ]
  },
  {
   "cell_type": "code",
   "execution_count": 38,
   "id": "823828c1",
   "metadata": {
    "deletable": false,
    "tags": []
   },
   "outputs": [
    {
     "data": {
      "text/html": [
       "<table border=\"1\" class=\"dataframe\">\n",
       "    <thead>\n",
       "        <tr>\n",
       "            <th>geo</th> <th>poverty_percent</th> <th>population_total</th> <th>poverty_total</th>\n",
       "        </tr>\n",
       "    </thead>\n",
       "    <tbody>\n",
       "        <tr>\n",
       "            <td>ago </td> <td>43.37          </td> <td>23356247        </td> <td>1.01296e+07  </td>\n",
       "        </tr>\n",
       "        <tr>\n",
       "            <td>alb </td> <td>0.46           </td> <td>2948029         </td> <td>13561        </td>\n",
       "        </tr>\n",
       "        <tr>\n",
       "            <td>arg </td> <td>1.41           </td> <td>40895751        </td> <td>576630       </td>\n",
       "        </tr>\n",
       "        <tr>\n",
       "            <td>arm </td> <td>1.75           </td> <td>2877314         </td> <td>50353        </td>\n",
       "        </tr>\n",
       "        <tr>\n",
       "            <td>aus </td> <td>1.36           </td> <td>22154687        </td> <td>301304       </td>\n",
       "        </tr>\n",
       "        <tr>\n",
       "            <td>aut </td> <td>0.34           </td> <td>8409945         </td> <td>28594        </td>\n",
       "        </tr>\n",
       "        <tr>\n",
       "            <td>aze </td> <td>0.31           </td> <td>9032465         </td> <td>28001        </td>\n",
       "        </tr>\n",
       "        <tr>\n",
       "            <td>bdi </td> <td>81.32          </td> <td>8675606         </td> <td>7.055e+06    </td>\n",
       "        </tr>\n",
       "        <tr>\n",
       "            <td>bel </td> <td>0.5            </td> <td>10938735        </td> <td>54694        </td>\n",
       "        </tr>\n",
       "        <tr>\n",
       "            <td>ben </td> <td>51.61          </td> <td>9199254         </td> <td>4.74774e+06  </td>\n",
       "        </tr>\n",
       "    </tbody>\n",
       "</table>\n",
       "<p>... (135 rows omitted)</p>"
      ],
      "text/plain": [
       "geo  | poverty_percent | population_total | poverty_total\n",
       "ago  | 43.37           | 23356247         | 1.01296e+07\n",
       "alb  | 0.46            | 2948029          | 13561\n",
       "arg  | 1.41            | 40895751         | 576630\n",
       "arm  | 1.75            | 2877314          | 50353\n",
       "aus  | 1.36            | 22154687         | 301304\n",
       "aut  | 0.34            | 8409945          | 28594\n",
       "aze  | 0.31            | 9032465          | 28001\n",
       "bdi  | 81.32           | 8675606          | 7.055e+06\n",
       "bel  | 0.5             | 10938735         | 54694\n",
       "ben  | 51.61           | 9199254          | 4.74774e+06\n",
       "... (135 rows omitted)"
      ]
     },
     "execution_count": 38,
     "metadata": {},
     "output_type": "execute_result"
    }
   ],
   "source": [
    "initial =population.where('time', are.equal_to(2010)).drop('time')\n",
    "poverty_and_pop = latest_poverty.drop('time').join('geo',initial)\n",
    "\n",
    "recent_poverty_total = poverty_and_pop.with_column('poverty_total',np.round(poverty_and_pop.column('poverty_percent')* (poverty_and_pop.column('population_total')/100)))\n",
    "\n",
    "recent_poverty_total.labels\n",
    "recent_poverty_total"
   ]
  },
  {
   "cell_type": "code",
   "execution_count": 39,
   "id": "26499e15",
   "metadata": {
    "deletable": false,
    "editable": false
   },
   "outputs": [
    {
     "data": {
      "text/html": [
       "<p><strong><pre style='display: inline;'>q2.2</pre></strong> passed!</p>"
      ],
      "text/plain": [
       "q2.2 results: All test cases passed!"
      ]
     },
     "execution_count": 39,
     "metadata": {},
     "output_type": "execute_result"
    }
   ],
   "source": [
    "grader.check(\"q2.2\")"
   ]
  },
  {
   "cell_type": "markdown",
   "id": "a311dd6a",
   "metadata": {
    "deletable": false,
    "editable": false
   },
   "source": [
    "<font color=\"indigo\">\n",
    "\n",
    "**Checks:** The grader only checks:\n",
    "* recent_poverty_total.labels==('geo', 'poverty_percent','population_total','poverty_total')\n",
    "* recent_poverty_total.where('geo',are.equal_to('aus')).column('population_total').item(0) == 22154687\n",
    "* np.isclose(recent_poverty_total.where('geo', 'aus').column('poverty_total').item(0), 301304)\n",
    "\n",
    "</font>\n"
   ]
  },
  {
   "cell_type": "markdown",
   "id": "4945ff0f",
   "metadata": {
    "deletable": false,
    "editable": false
   },
   "source": [
    "#### Part 2.3 (5 pts)\n"
   ]
  },
  {
   "cell_type": "markdown",
   "id": "60df4d03",
   "metadata": {
    "deletable": false,
    "editable": false
   },
   "source": [
    " Assign the name `poverty_percent` to the known percentage of the world’s 2010 population that were living in extreme poverty. Assume that the `poverty_total` numbers in the `recent_poverty_total` table describe **all** people in 2010 living in extreme poverty. You should get a number that is above the 2018 global estimate of 9%, since many country-specific poverty rates are older than 2018.\n",
    "\n",
    "*Hint*: Break this up into multiple lines to make it easier to debug.\n",
    "\n",
    "*Hint*: The sum of the `population_total` column in the `recent_poverty_total` table is not the world population, because only a subset of the world's countries are included in the `recent_poverty_total` table (only some countries have known poverty rates). Use the `population` table to compute the world's 2010 total population.\n",
    "\n",
    "*Hint*: We are computing a percentage (value between 0 and 100), not a proportion (value between 0 and 1).\n",
    "\n"
   ]
  },
  {
   "cell_type": "code",
   "execution_count": 40,
   "id": "5642abfe",
   "metadata": {
    "deletable": false,
    "tags": []
   },
   "outputs": [
    {
     "data": {
      "text/plain": [
       "14.248865303997139"
      ]
     },
     "execution_count": 40,
     "metadata": {},
     "output_type": "execute_result"
    }
   ],
   "source": [
    "pop2010 = sum(population.where('time', are.equal_to(2010)).column('population_total'))\n",
    "pov2010sum = sum(recent_poverty_total.column('poverty_total'))\n",
    "poverty_percent = (pov2010sum/pop2010)*100\n",
    "poverty_percent"
   ]
  },
  {
   "cell_type": "code",
   "execution_count": 41,
   "id": "21f6ab03",
   "metadata": {
    "deletable": false,
    "editable": false
   },
   "outputs": [
    {
     "data": {
      "text/html": [
       "<p><strong><pre style='display: inline;'>q2.3</pre></strong> passed!</p>"
      ],
      "text/plain": [
       "q2.3 results: All test cases passed!"
      ]
     },
     "execution_count": 41,
     "metadata": {},
     "output_type": "execute_result"
    }
   ],
   "source": [
    "grader.check(\"q2.3\")"
   ]
  },
  {
   "cell_type": "markdown",
   "id": "7a8b9639",
   "metadata": {
    "deletable": false,
    "editable": false
   },
   "source": [
    "<font color=\"indigo\">\n",
    "\n",
    "**Checks:** The grader only checks:\n",
    "* 10 <= poverty_percent <= 20\n",
    "\n",
    "</font>\n"
   ]
  },
  {
   "cell_type": "markdown",
   "id": "573f5f5e",
   "metadata": {
    "deletable": false,
    "editable": false
   },
   "source": [
    "The `countries` table includes not only the name and region of countries, but also their positions on the globe."
   ]
  },
  {
   "cell_type": "code",
   "execution_count": 42,
   "id": "36e9a8bd",
   "metadata": {
    "deletable": false,
    "editable": false
   },
   "outputs": [
    {
     "data": {
      "text/html": [
       "<table border=\"1\" class=\"dataframe\">\n",
       "    <thead>\n",
       "        <tr>\n",
       "            <th>country</th> <th>name</th> <th>world_4region</th> <th>latitude</th> <th>longitude</th>\n",
       "        </tr>\n",
       "    </thead>\n",
       "    <tbody>\n",
       "        <tr>\n",
       "            <td>afg    </td> <td>Afghanistan         </td> <td>asia         </td> <td>33      </td> <td>66       </td>\n",
       "        </tr>\n",
       "        <tr>\n",
       "            <td>ago    </td> <td>Angola              </td> <td>africa       </td> <td>-12.5   </td> <td>18.5     </td>\n",
       "        </tr>\n",
       "        <tr>\n",
       "            <td>alb    </td> <td>Albania             </td> <td>europe       </td> <td>41      </td> <td>20       </td>\n",
       "        </tr>\n",
       "        <tr>\n",
       "            <td>and    </td> <td>Andorra             </td> <td>europe       </td> <td>42.5078 </td> <td>1.52109  </td>\n",
       "        </tr>\n",
       "        <tr>\n",
       "            <td>are    </td> <td>United Arab Emirates</td> <td>asia         </td> <td>23.75   </td> <td>54.5     </td>\n",
       "        </tr>\n",
       "        <tr>\n",
       "            <td>arg    </td> <td>Argentina           </td> <td>americas     </td> <td>-34     </td> <td>-64      </td>\n",
       "        </tr>\n",
       "        <tr>\n",
       "            <td>arm    </td> <td>Armenia             </td> <td>europe       </td> <td>40.25   </td> <td>45       </td>\n",
       "        </tr>\n",
       "        <tr>\n",
       "            <td>atg    </td> <td>Antigua and Barbuda </td> <td>americas     </td> <td>17.05   </td> <td>-61.8    </td>\n",
       "        </tr>\n",
       "        <tr>\n",
       "            <td>aus    </td> <td>Australia           </td> <td>asia         </td> <td>-25     </td> <td>135      </td>\n",
       "        </tr>\n",
       "        <tr>\n",
       "            <td>aut    </td> <td>Austria             </td> <td>europe       </td> <td>47.3333 </td> <td>13.3333  </td>\n",
       "        </tr>\n",
       "    </tbody>\n",
       "</table>\n",
       "<p>... (187 rows omitted)</p>"
      ],
      "text/plain": [
       "country | name                 | world_4region | latitude | longitude\n",
       "afg     | Afghanistan          | asia          | 33       | 66\n",
       "ago     | Angola               | africa        | -12.5    | 18.5\n",
       "alb     | Albania              | europe        | 41       | 20\n",
       "and     | Andorra              | europe        | 42.5078  | 1.52109\n",
       "are     | United Arab Emirates | asia          | 23.75    | 54.5\n",
       "arg     | Argentina            | americas      | -34      | -64\n",
       "arm     | Armenia              | europe        | 40.25    | 45\n",
       "atg     | Antigua and Barbuda  | americas      | 17.05    | -61.8\n",
       "aus     | Australia            | asia          | -25      | 135\n",
       "aut     | Austria              | europe        | 47.3333  | 13.3333\n",
       "... (187 rows omitted)"
      ]
     },
     "execution_count": 42,
     "metadata": {},
     "output_type": "execute_result"
    }
   ],
   "source": [
    "countries.select('country', 'name', 'world_4region', 'latitude', 'longitude')"
   ]
  },
  {
   "cell_type": "markdown",
   "id": "e62bee32",
   "metadata": {
    "deletable": false,
    "editable": false
   },
   "source": [
    "#### Part 2.4 (5 pts)\n"
   ]
  },
  {
   "cell_type": "markdown",
   "id": "4f47c355",
   "metadata": {
    "deletable": false,
    "editable": false
   },
   "source": [
    " Using both `countries` and `recent_poverty_total`, create a five-column table called `poverty_map` with one row for every country in `recent_poverty_total`.  The five columns should have the following labels and contents:\n",
    "1. `latitude` contains the country's latitude,\n",
    "1. `longitude` contains the country's longitude,\n",
    "1. `name` contains the country's name,\n",
    "1. `region` contains the country's region from the `world_4region` column of `countries`,\n",
    "1. `poverty_total` contains the country's poverty total.\n",
    "\n",
    "*Hint:*  Be sure to put the columns in the order specified.  You may find it useful to remember that that a call to `table.select(...)` puts columns in the order that they are specified as parameters in the call to select."
   ]
  },
  {
   "cell_type": "code",
   "execution_count": 43,
   "id": "e7947652",
   "metadata": {
    "deletable": false,
    "tags": []
   },
   "outputs": [
    {
     "data": {
      "text/html": [
       "<table border=\"1\" class=\"dataframe\">\n",
       "    <thead>\n",
       "        <tr>\n",
       "            <th>latitude</th> <th>longitude</th> <th>name</th> <th>region</th> <th>poverty_total</th>\n",
       "        </tr>\n",
       "    </thead>\n",
       "    <tbody>\n",
       "        <tr>\n",
       "            <td>-12.5   </td> <td>18.5     </td> <td>Angola    </td> <td>africa  </td> <td>1.01296e+07  </td>\n",
       "        </tr>\n",
       "        <tr>\n",
       "            <td>41      </td> <td>20       </td> <td>Albania   </td> <td>europe  </td> <td>13561        </td>\n",
       "        </tr>\n",
       "        <tr>\n",
       "            <td>-34     </td> <td>-64      </td> <td>Argentina </td> <td>americas</td> <td>576630       </td>\n",
       "        </tr>\n",
       "        <tr>\n",
       "            <td>40.25   </td> <td>45       </td> <td>Armenia   </td> <td>europe  </td> <td>50353        </td>\n",
       "        </tr>\n",
       "        <tr>\n",
       "            <td>-25     </td> <td>135      </td> <td>Australia </td> <td>asia    </td> <td>301304       </td>\n",
       "        </tr>\n",
       "        <tr>\n",
       "            <td>47.3333 </td> <td>13.3333  </td> <td>Austria   </td> <td>europe  </td> <td>28594        </td>\n",
       "        </tr>\n",
       "        <tr>\n",
       "            <td>40.5    </td> <td>47.5     </td> <td>Azerbaijan</td> <td>europe  </td> <td>28001        </td>\n",
       "        </tr>\n",
       "        <tr>\n",
       "            <td>-3.5    </td> <td>30       </td> <td>Burundi   </td> <td>africa  </td> <td>7.055e+06    </td>\n",
       "        </tr>\n",
       "        <tr>\n",
       "            <td>50.75   </td> <td>4.5      </td> <td>Belgium   </td> <td>europe  </td> <td>54694        </td>\n",
       "        </tr>\n",
       "        <tr>\n",
       "            <td>9.5     </td> <td>2.25     </td> <td>Benin     </td> <td>africa  </td> <td>4.74774e+06  </td>\n",
       "        </tr>\n",
       "    </tbody>\n",
       "</table>\n",
       "<p>... (135 rows omitted)</p>"
      ],
      "text/plain": [
       "latitude | longitude | name       | region   | poverty_total\n",
       "-12.5    | 18.5      | Angola     | africa   | 1.01296e+07\n",
       "41       | 20        | Albania    | europe   | 13561\n",
       "-34      | -64       | Argentina  | americas | 576630\n",
       "40.25    | 45        | Armenia    | europe   | 50353\n",
       "-25      | 135       | Australia  | asia     | 301304\n",
       "47.3333  | 13.3333   | Austria    | europe   | 28594\n",
       "40.5     | 47.5      | Azerbaijan | europe   | 28001\n",
       "-3.5     | 30        | Burundi    | africa   | 7.055e+06\n",
       "50.75    | 4.5       | Belgium    | europe   | 54694\n",
       "9.5      | 2.25      | Benin      | africa   | 4.74774e+06\n",
       "... (135 rows omitted)"
      ]
     },
     "execution_count": 43,
     "metadata": {},
     "output_type": "execute_result"
    }
   ],
   "source": [
    "poverty_map =countries.where('country', are.contained_in(recent_poverty_total.column('geo'))).select('latitude', 'longitude','name', 'world_4region').with_column('poverty_total',recent_poverty_total.column('poverty_total'))\n",
    "\n",
    "poverty_map =poverty_map.relabel('world_4region', 'region')\n",
    "poverty_map"
   ]
  },
  {
   "cell_type": "code",
   "execution_count": 44,
   "id": "b282e602",
   "metadata": {
    "deletable": false,
    "editable": false
   },
   "outputs": [
    {
     "data": {
      "text/html": [
       "<p><strong><pre style='display: inline;'>q2.4</pre></strong> passed!</p>"
      ],
      "text/plain": [
       "q2.4 results: All test cases passed!"
      ]
     },
     "execution_count": 44,
     "metadata": {},
     "output_type": "execute_result"
    }
   ],
   "source": [
    "grader.check(\"q2.4\")"
   ]
  },
  {
   "cell_type": "markdown",
   "id": "98eb8080",
   "metadata": {
    "deletable": false,
    "editable": false
   },
   "source": [
    "<font color=\"indigo\">\n",
    "\n",
    "**Checks:** The grader only checks:\n",
    "* poverty_map.labels == ('latitude', 'longitude', 'name', 'region', 'poverty_total')\n",
    "* list(np.sort(np.unique(poverty_map.column('region')))) == ['africa', 'americas', 'asia', 'europe']\n",
    "\n",
    "</font>\n"
   ]
  },
  {
   "cell_type": "markdown",
   "id": "d932dd8a",
   "metadata": {
    "deletable": false,
    "editable": false
   },
   "source": [
    "Run the cell below to draw a map of the world in which the areas of circles represent the number of people living in extreme poverty. Double-click on the map to zoom in."
   ]
  },
  {
   "cell_type": "code",
   "execution_count": 45,
   "id": "c19fd534",
   "metadata": {
    "deletable": false,
    "editable": false
   },
   "outputs": [
    {
     "data": {
      "text/html": [
       "<div style=\"width:100%;\"><div style=\"position:relative;width:100%;height:0;padding-bottom:60%;\"><span style=\"color:#565656\">Make this Notebook Trusted to load map: File -> Trust Notebook</span><iframe src=\"about:blank\" style=\"position:absolute;width:100%;height:100%;left:0;top:0;border:none !important;\" data-html=%3C%21DOCTYPE%20html%3E%0A%3Chead%3E%20%20%20%20%0A%20%20%20%20%3Cmeta%20http-equiv%3D%22content-type%22%20content%3D%22text/html%3B%20charset%3DUTF-8%22%20/%3E%0A%20%20%20%20%0A%20%20%20%20%20%20%20%20%3Cscript%3E%0A%20%20%20%20%20%20%20%20%20%20%20%20L_NO_TOUCH%20%3D%20false%3B%0A%20%20%20%20%20%20%20%20%20%20%20%20L_DISABLE_3D%20%3D%20false%3B%0A%20%20%20%20%20%20%20%20%3C/script%3E%0A%20%20%20%20%0A%20%20%20%20%3Cstyle%3Ehtml%2C%20body%20%7Bwidth%3A%20100%25%3Bheight%3A%20100%25%3Bmargin%3A%200%3Bpadding%3A%200%3B%7D%3C/style%3E%0A%20%20%20%20%3Cstyle%3E%23map%20%7Bposition%3Aabsolute%3Btop%3A0%3Bbottom%3A0%3Bright%3A0%3Bleft%3A0%3B%7D%3C/style%3E%0A%20%20%20%20%3Cscript%20src%3D%22https%3A//cdn.jsdelivr.net/npm/leaflet%401.6.0/dist/leaflet.js%22%3E%3C/script%3E%0A%20%20%20%20%3Cscript%20src%3D%22https%3A//code.jquery.com/jquery-1.12.4.min.js%22%3E%3C/script%3E%0A%20%20%20%20%3Cscript%20src%3D%22https%3A//maxcdn.bootstrapcdn.com/bootstrap/3.2.0/js/bootstrap.min.js%22%3E%3C/script%3E%0A%20%20%20%20%3Cscript%20src%3D%22https%3A//cdnjs.cloudflare.com/ajax/libs/Leaflet.awesome-markers/2.0.2/leaflet.awesome-markers.js%22%3E%3C/script%3E%0A%20%20%20%20%3Clink%20rel%3D%22stylesheet%22%20href%3D%22https%3A//cdn.jsdelivr.net/npm/leaflet%401.6.0/dist/leaflet.css%22/%3E%0A%20%20%20%20%3Clink%20rel%3D%22stylesheet%22%20href%3D%22https%3A//maxcdn.bootstrapcdn.com/bootstrap/3.2.0/css/bootstrap.min.css%22/%3E%0A%20%20%20%20%3Clink%20rel%3D%22stylesheet%22%20href%3D%22https%3A//maxcdn.bootstrapcdn.com/bootstrap/3.2.0/css/bootstrap-theme.min.css%22/%3E%0A%20%20%20%20%3Clink%20rel%3D%22stylesheet%22%20href%3D%22https%3A//maxcdn.bootstrapcdn.com/font-awesome/4.6.3/css/font-awesome.min.css%22/%3E%0A%20%20%20%20%3Clink%20rel%3D%22stylesheet%22%20href%3D%22https%3A//cdnjs.cloudflare.com/ajax/libs/Leaflet.awesome-markers/2.0.2/leaflet.awesome-markers.css%22/%3E%0A%20%20%20%20%3Clink%20rel%3D%22stylesheet%22%20href%3D%22https%3A//cdn.jsdelivr.net/gh/python-visualization/folium/folium/templates/leaflet.awesome.rotate.min.css%22/%3E%0A%20%20%20%20%0A%20%20%20%20%20%20%20%20%20%20%20%20%3Cmeta%20name%3D%22viewport%22%20content%3D%22width%3Ddevice-width%2C%0A%20%20%20%20%20%20%20%20%20%20%20%20%20%20%20%20initial-scale%3D1.0%2C%20maximum-scale%3D1.0%2C%20user-scalable%3Dno%22%20/%3E%0A%20%20%20%20%20%20%20%20%20%20%20%20%3Cstyle%3E%0A%20%20%20%20%20%20%20%20%20%20%20%20%20%20%20%20%23map_8f87285f909e45c9934e020e26ba2b97%20%7B%0A%20%20%20%20%20%20%20%20%20%20%20%20%20%20%20%20%20%20%20%20position%3A%20relative%3B%0A%20%20%20%20%20%20%20%20%20%20%20%20%20%20%20%20%20%20%20%20width%3A%20960.0px%3B%0A%20%20%20%20%20%20%20%20%20%20%20%20%20%20%20%20%20%20%20%20height%3A%20500.0px%3B%0A%20%20%20%20%20%20%20%20%20%20%20%20%20%20%20%20%20%20%20%20left%3A%200.0%25%3B%0A%20%20%20%20%20%20%20%20%20%20%20%20%20%20%20%20%20%20%20%20top%3A%200.0%25%3B%0A%20%20%20%20%20%20%20%20%20%20%20%20%20%20%20%20%7D%0A%20%20%20%20%20%20%20%20%20%20%20%20%3C/style%3E%0A%20%20%20%20%20%20%20%20%0A%3C/head%3E%0A%3Cbody%3E%20%20%20%20%0A%20%20%20%20%0A%20%20%20%20%20%20%20%20%20%20%20%20%3Cdiv%20class%3D%22folium-map%22%20id%3D%22map_8f87285f909e45c9934e020e26ba2b97%22%20%3E%3C/div%3E%0A%20%20%20%20%20%20%20%20%0A%3C/body%3E%0A%3Cscript%3E%20%20%20%20%0A%20%20%20%20%0A%20%20%20%20%20%20%20%20%20%20%20%20var%20map_8f87285f909e45c9934e020e26ba2b97%20%3D%20L.map%28%0A%20%20%20%20%20%20%20%20%20%20%20%20%20%20%20%20%22map_8f87285f909e45c9934e020e26ba2b97%22%2C%0A%20%20%20%20%20%20%20%20%20%20%20%20%20%20%20%20%7B%0A%20%20%20%20%20%20%20%20%20%20%20%20%20%20%20%20%20%20%20%20center%3A%20%5B15.0%2C%2032.17871%5D%2C%0A%20%20%20%20%20%20%20%20%20%20%20%20%20%20%20%20%20%20%20%20crs%3A%20L.CRS.EPSG3857%2C%0A%20%20%20%20%20%20%20%20%20%20%20%20%20%20%20%20%20%20%20%20zoom%3A%201%2C%0A%20%20%20%20%20%20%20%20%20%20%20%20%20%20%20%20%20%20%20%20zoomControl%3A%20true%2C%0A%20%20%20%20%20%20%20%20%20%20%20%20%20%20%20%20%20%20%20%20preferCanvas%3A%20false%2C%0A%20%20%20%20%20%20%20%20%20%20%20%20%20%20%20%20%20%20%20%20clusteredMarker%3A%20false%2C%0A%20%20%20%20%20%20%20%20%20%20%20%20%20%20%20%20%20%20%20%20includeColorScaleOutliers%3A%20true%2C%0A%20%20%20%20%20%20%20%20%20%20%20%20%20%20%20%20%20%20%20%20radiusInMeters%3A%20false%2C%0A%20%20%20%20%20%20%20%20%20%20%20%20%20%20%20%20%7D%0A%20%20%20%20%20%20%20%20%20%20%20%20%29%3B%0A%0A%20%20%20%20%20%20%20%20%20%20%20%20%0A%0A%20%20%20%20%20%20%20%20%0A%20%20%20%20%0A%20%20%20%20%20%20%20%20%20%20%20%20var%20tile_layer_32e82900e88e4367a4d2e4067303dc1e%20%3D%20L.tileLayer%28%0A%20%20%20%20%20%20%20%20%20%20%20%20%20%20%20%20%22https%3A//%7Bs%7D.tile.openstreetmap.org/%7Bz%7D/%7Bx%7D/%7By%7D.png%22%2C%0A%20%20%20%20%20%20%20%20%20%20%20%20%20%20%20%20%7B%22attribution%22%3A%20%22Data%20by%20%5Cu0026copy%3B%20%5Cu003ca%20href%3D%5C%22http%3A//openstreetmap.org%5C%22%5Cu003eOpenStreetMap%5Cu003c/a%5Cu003e%2C%20under%20%5Cu003ca%20href%3D%5C%22http%3A//www.openstreetmap.org/copyright%5C%22%5Cu003eODbL%5Cu003c/a%5Cu003e.%22%2C%20%22detectRetina%22%3A%20false%2C%20%22maxNativeZoom%22%3A%2017%2C%20%22maxZoom%22%3A%2017%2C%20%22minZoom%22%3A%20-1%2C%20%22noWrap%22%3A%20false%2C%20%22opacity%22%3A%201%2C%20%22subdomains%22%3A%20%22abc%22%2C%20%22tms%22%3A%20false%7D%0A%20%20%20%20%20%20%20%20%20%20%20%20%29.addTo%28map_8f87285f909e45c9934e020e26ba2b97%29%3B%0A%20%20%20%20%20%20%20%20%0A%20%20%20%20%0A%20%20%20%20%20%20%20%20%20%20%20%20var%20circle_marker_f168d571e3af41d1bc950e145cfa2ded%20%3D%20L.circleMarker%28%0A%20%20%20%20%20%20%20%20%20%20%20%20%20%20%20%20%5B-12.5%2C%2018.5%5D%2C%0A%20%20%20%20%20%20%20%20%20%20%20%20%20%20%20%20%7B%22bubblingMouseEvents%22%3A%20true%2C%20%22color%22%3A%20%22%233388ff%22%2C%20%22dashArray%22%3A%20null%2C%20%22dashOffset%22%3A%20null%2C%20%22fill%22%3A%20true%2C%20%22fillColor%22%3A%20%22blue%22%2C%20%22fillOpacity%22%3A%200.2%2C%20%22fillRule%22%3A%20%22evenodd%22%2C%20%22lineCap%22%3A%20%22round%22%2C%20%22lineJoin%22%3A%20%22round%22%2C%20%22opacity%22%3A%201.0%2C%20%22radius%22%3A%2017.956483776972792%2C%20%22stroke%22%3A%20true%2C%20%22weight%22%3A%203%7D%0A%20%20%20%20%20%20%20%20%20%20%20%20%29.addTo%28map_8f87285f909e45c9934e020e26ba2b97%29%3B%0A%20%20%20%20%20%20%20%20%0A%20%20%20%20%0A%20%20%20%20%20%20%20%20var%20popup_e59a6d42f2e745a4936db8b78705504a%20%3D%20L.popup%28%7B%22maxWidth%22%3A%20%22100%25%22%7D%29%3B%0A%0A%20%20%20%20%20%20%20%20%0A%20%20%20%20%20%20%20%20%20%20%20%20var%20html_0cd362ccd9cd479c988aa60d381a76c9%20%3D%20%24%28%60%3Cdiv%20id%3D%22html_0cd362ccd9cd479c988aa60d381a76c9%22%20style%3D%22width%3A%20100.0%25%3B%20height%3A%20100.0%25%3B%22%3EAngola%3C/div%3E%60%29%5B0%5D%3B%0A%20%20%20%20%20%20%20%20%20%20%20%20popup_e59a6d42f2e745a4936db8b78705504a.setContent%28html_0cd362ccd9cd479c988aa60d381a76c9%29%3B%0A%20%20%20%20%20%20%20%20%0A%0A%20%20%20%20%20%20%20%20circle_marker_f168d571e3af41d1bc950e145cfa2ded.bindPopup%28popup_e59a6d42f2e745a4936db8b78705504a%29%0A%20%20%20%20%20%20%20%20%3B%0A%0A%20%20%20%20%20%20%20%20%0A%20%20%20%20%0A%20%20%20%20%0A%20%20%20%20%20%20%20%20%20%20%20%20var%20circle_marker_df5846b2c2414edbbf18763fc0d8d5ff%20%3D%20L.circleMarker%28%0A%20%20%20%20%20%20%20%20%20%20%20%20%20%20%20%20%5B41.0%2C%2020.0%5D%2C%0A%20%20%20%20%20%20%20%20%20%20%20%20%20%20%20%20%7B%22bubblingMouseEvents%22%3A%20true%2C%20%22color%22%3A%20%22%233388ff%22%2C%20%22dashArray%22%3A%20null%2C%20%22dashOffset%22%3A%20null%2C%20%22fill%22%3A%20true%2C%20%22fillColor%22%3A%20%22black%22%2C%20%22fillOpacity%22%3A%200.2%2C%20%22fillRule%22%3A%20%22evenodd%22%2C%20%22lineCap%22%3A%20%22round%22%2C%20%22lineJoin%22%3A%20%22round%22%2C%20%22opacity%22%3A%201.0%2C%20%22radius%22%3A%200.6570083992262493%2C%20%22stroke%22%3A%20true%2C%20%22weight%22%3A%203%7D%0A%20%20%20%20%20%20%20%20%20%20%20%20%29.addTo%28map_8f87285f909e45c9934e020e26ba2b97%29%3B%0A%20%20%20%20%20%20%20%20%0A%20%20%20%20%0A%20%20%20%20%20%20%20%20var%20popup_810e3501eb364931870d5ac291949fef%20%3D%20L.popup%28%7B%22maxWidth%22%3A%20%22100%25%22%7D%29%3B%0A%0A%20%20%20%20%20%20%20%20%0A%20%20%20%20%20%20%20%20%20%20%20%20var%20html_4b6cc3ef08584fdda770712bff18b377%20%3D%20%24%28%60%3Cdiv%20id%3D%22html_4b6cc3ef08584fdda770712bff18b377%22%20style%3D%22width%3A%20100.0%25%3B%20height%3A%20100.0%25%3B%22%3EAlbania%3C/div%3E%60%29%5B0%5D%3B%0A%20%20%20%20%20%20%20%20%20%20%20%20popup_810e3501eb364931870d5ac291949fef.setContent%28html_4b6cc3ef08584fdda770712bff18b377%29%3B%0A%20%20%20%20%20%20%20%20%0A%0A%20%20%20%20%20%20%20%20circle_marker_df5846b2c2414edbbf18763fc0d8d5ff.bindPopup%28popup_810e3501eb364931870d5ac291949fef%29%0A%20%20%20%20%20%20%20%20%3B%0A%0A%20%20%20%20%20%20%20%20%0A%20%20%20%20%0A%20%20%20%20%0A%20%20%20%20%20%20%20%20%20%20%20%20var%20circle_marker_e712b50cfbbb41619dce3997cf7fbd85%20%3D%20L.circleMarker%28%0A%20%20%20%20%20%20%20%20%20%20%20%20%20%20%20%20%5B-34.0%2C%20-64.0%5D%2C%0A%20%20%20%20%20%20%20%20%20%20%20%20%20%20%20%20%7B%22bubblingMouseEvents%22%3A%20true%2C%20%22color%22%3A%20%22%233388ff%22%2C%20%22dashArray%22%3A%20null%2C%20%22dashOffset%22%3A%20null%2C%20%22fill%22%3A%20true%2C%20%22fillColor%22%3A%20%22green%22%2C%20%22fillOpacity%22%3A%200.2%2C%20%22fillRule%22%3A%20%22evenodd%22%2C%20%22lineCap%22%3A%20%22round%22%2C%20%22lineJoin%22%3A%20%22round%22%2C%20%22opacity%22%3A%201.0%2C%20%22radius%22%3A%204.284238901720576%2C%20%22stroke%22%3A%20true%2C%20%22weight%22%3A%203%7D%0A%20%20%20%20%20%20%20%20%20%20%20%20%29.addTo%28map_8f87285f909e45c9934e020e26ba2b97%29%3B%0A%20%20%20%20%20%20%20%20%0A%20%20%20%20%0A%20%20%20%20%20%20%20%20var%20popup_d57e6ccb87754294a234943f4ba484b5%20%3D%20L.popup%28%7B%22maxWidth%22%3A%20%22100%25%22%7D%29%3B%0A%0A%20%20%20%20%20%20%20%20%0A%20%20%20%20%20%20%20%20%20%20%20%20var%20html_5e993feb3f6948678c95f2d2f6077fad%20%3D%20%24%28%60%3Cdiv%20id%3D%22html_5e993feb3f6948678c95f2d2f6077fad%22%20style%3D%22width%3A%20100.0%25%3B%20height%3A%20100.0%25%3B%22%3EArgentina%3C/div%3E%60%29%5B0%5D%3B%0A%20%20%20%20%20%20%20%20%20%20%20%20popup_d57e6ccb87754294a234943f4ba484b5.setContent%28html_5e993feb3f6948678c95f2d2f6077fad%29%3B%0A%20%20%20%20%20%20%20%20%0A%0A%20%20%20%20%20%20%20%20circle_marker_e712b50cfbbb41619dce3997cf7fbd85.bindPopup%28popup_d57e6ccb87754294a234943f4ba484b5%29%0A%20%20%20%20%20%20%20%20%3B%0A%0A%20%20%20%20%20%20%20%20%0A%20%20%20%20%0A%20%20%20%20%0A%20%20%20%20%20%20%20%20%20%20%20%20var%20circle_marker_fac452ac39f74e5c921913f2b7c0da9d%20%3D%20L.circleMarker%28%0A%20%20%20%20%20%20%20%20%20%20%20%20%20%20%20%20%5B40.25%2C%2045.0%5D%2C%0A%20%20%20%20%20%20%20%20%20%20%20%20%20%20%20%20%7B%22bubblingMouseEvents%22%3A%20true%2C%20%22color%22%3A%20%22%233388ff%22%2C%20%22dashArray%22%3A%20null%2C%20%22dashOffset%22%3A%20null%2C%20%22fill%22%3A%20true%2C%20%22fillColor%22%3A%20%22black%22%2C%20%22fillOpacity%22%3A%200.2%2C%20%22fillRule%22%3A%20%22evenodd%22%2C%20%22lineCap%22%3A%20%22round%22%2C%20%22lineJoin%22%3A%20%22round%22%2C%20%22opacity%22%3A%201.0%2C%20%22radius%22%3A%201.2660117574103493%2C%20%22stroke%22%3A%20true%2C%20%22weight%22%3A%203%7D%0A%20%20%20%20%20%20%20%20%20%20%20%20%29.addTo%28map_8f87285f909e45c9934e020e26ba2b97%29%3B%0A%20%20%20%20%20%20%20%20%0A%20%20%20%20%0A%20%20%20%20%20%20%20%20var%20popup_09baafa865bf4e48a5d7a8f76c1dbcad%20%3D%20L.popup%28%7B%22maxWidth%22%3A%20%22100%25%22%7D%29%3B%0A%0A%20%20%20%20%20%20%20%20%0A%20%20%20%20%20%20%20%20%20%20%20%20var%20html_fdd016c59eb8403ba6edf4cb64b5d775%20%3D%20%24%28%60%3Cdiv%20id%3D%22html_fdd016c59eb8403ba6edf4cb64b5d775%22%20style%3D%22width%3A%20100.0%25%3B%20height%3A%20100.0%25%3B%22%3EArmenia%3C/div%3E%60%29%5B0%5D%3B%0A%20%20%20%20%20%20%20%20%20%20%20%20popup_09baafa865bf4e48a5d7a8f76c1dbcad.setContent%28html_fdd016c59eb8403ba6edf4cb64b5d775%29%3B%0A%20%20%20%20%20%20%20%20%0A%0A%20%20%20%20%20%20%20%20circle_marker_fac452ac39f74e5c921913f2b7c0da9d.bindPopup%28popup_09baafa865bf4e48a5d7a8f76c1dbcad%29%0A%20%20%20%20%20%20%20%20%3B%0A%0A%20%20%20%20%20%20%20%20%0A%20%20%20%20%0A%20%20%20%20%0A%20%20%20%20%20%20%20%20%20%20%20%20var%20circle_marker_c0312bb460fb4b5a8a028d76097eb2ec%20%3D%20L.circleMarker%28%0A%20%20%20%20%20%20%20%20%20%20%20%20%20%20%20%20%5B-25.0%2C%20135.0%5D%2C%0A%20%20%20%20%20%20%20%20%20%20%20%20%20%20%20%20%7B%22bubblingMouseEvents%22%3A%20true%2C%20%22color%22%3A%20%22%233388ff%22%2C%20%22dashArray%22%3A%20null%2C%20%22dashOffset%22%3A%20null%2C%20%22fill%22%3A%20true%2C%20%22fillColor%22%3A%20%22red%22%2C%20%22fillOpacity%22%3A%200.2%2C%20%22fillRule%22%3A%20%22evenodd%22%2C%20%22lineCap%22%3A%20%22round%22%2C%20%22lineJoin%22%3A%20%22round%22%2C%20%22opacity%22%3A%201.0%2C%20%22radius%22%3A%203.0969023547202914%2C%20%22stroke%22%3A%20true%2C%20%22weight%22%3A%203%7D%0A%20%20%20%20%20%20%20%20%20%20%20%20%29.addTo%28map_8f87285f909e45c9934e020e26ba2b97%29%3B%0A%20%20%20%20%20%20%20%20%0A%20%20%20%20%0A%20%20%20%20%20%20%20%20var%20popup_dc365ce3094a4815a5ebee27c6d66502%20%3D%20L.popup%28%7B%22maxWidth%22%3A%20%22100%25%22%7D%29%3B%0A%0A%20%20%20%20%20%20%20%20%0A%20%20%20%20%20%20%20%20%20%20%20%20var%20html_882c7c06747149a8a21357dc560397fb%20%3D%20%24%28%60%3Cdiv%20id%3D%22html_882c7c06747149a8a21357dc560397fb%22%20style%3D%22width%3A%20100.0%25%3B%20height%3A%20100.0%25%3B%22%3EAustralia%3C/div%3E%60%29%5B0%5D%3B%0A%20%20%20%20%20%20%20%20%20%20%20%20popup_dc365ce3094a4815a5ebee27c6d66502.setContent%28html_882c7c06747149a8a21357dc560397fb%29%3B%0A%20%20%20%20%20%20%20%20%0A%0A%20%20%20%20%20%20%20%20circle_marker_c0312bb460fb4b5a8a028d76097eb2ec.bindPopup%28popup_dc365ce3094a4815a5ebee27c6d66502%29%0A%20%20%20%20%20%20%20%20%3B%0A%0A%20%20%20%20%20%20%20%20%0A%20%20%20%20%0A%20%20%20%20%0A%20%20%20%20%20%20%20%20%20%20%20%20var%20circle_marker_18ee820011e7425386a61bec579cdd39%20%3D%20L.circleMarker%28%0A%20%20%20%20%20%20%20%20%20%20%20%20%20%20%20%20%5B47.33333%2C%2013.33333%5D%2C%0A%20%20%20%20%20%20%20%20%20%20%20%20%20%20%20%20%7B%22bubblingMouseEvents%22%3A%20true%2C%20%22color%22%3A%20%22%233388ff%22%2C%20%22dashArray%22%3A%20null%2C%20%22dashOffset%22%3A%20null%2C%20%22fill%22%3A%20true%2C%20%22fillColor%22%3A%20%22black%22%2C%20%22fillOpacity%22%3A%200.2%2C%20%22fillRule%22%3A%20%22evenodd%22%2C%20%22lineCap%22%3A%20%22round%22%2C%20%22lineJoin%22%3A%20%22round%22%2C%20%22opacity%22%3A%201.0%2C%20%22radius%22%3A%200.9540310731595334%2C%20%22stroke%22%3A%20true%2C%20%22weight%22%3A%203%7D%0A%20%20%20%20%20%20%20%20%20%20%20%20%29.addTo%28map_8f87285f909e45c9934e020e26ba2b97%29%3B%0A%20%20%20%20%20%20%20%20%0A%20%20%20%20%0A%20%20%20%20%20%20%20%20var%20popup_4a65532beb384410a0c8824b961fdfa1%20%3D%20L.popup%28%7B%22maxWidth%22%3A%20%22100%25%22%7D%29%3B%0A%0A%20%20%20%20%20%20%20%20%0A%20%20%20%20%20%20%20%20%20%20%20%20var%20html_c1d574fa41284340982c9237694d20c2%20%3D%20%24%28%60%3Cdiv%20id%3D%22html_c1d574fa41284340982c9237694d20c2%22%20style%3D%22width%3A%20100.0%25%3B%20height%3A%20100.0%25%3B%22%3EAustria%3C/div%3E%60%29%5B0%5D%3B%0A%20%20%20%20%20%20%20%20%20%20%20%20popup_4a65532beb384410a0c8824b961fdfa1.setContent%28html_c1d574fa41284340982c9237694d20c2%29%3B%0A%20%20%20%20%20%20%20%20%0A%0A%20%20%20%20%20%20%20%20circle_marker_18ee820011e7425386a61bec579cdd39.bindPopup%28popup_4a65532beb384410a0c8824b961fdfa1%29%0A%20%20%20%20%20%20%20%20%3B%0A%0A%20%20%20%20%20%20%20%20%0A%20%20%20%20%0A%20%20%20%20%0A%20%20%20%20%20%20%20%20%20%20%20%20var%20circle_marker_ebf696f3bf2f4b028a3bdd0c169b2eab%20%3D%20L.circleMarker%28%0A%20%20%20%20%20%20%20%20%20%20%20%20%20%20%20%20%5B40.5%2C%2047.5%5D%2C%0A%20%20%20%20%20%20%20%20%20%20%20%20%20%20%20%20%7B%22bubblingMouseEvents%22%3A%20true%2C%20%22color%22%3A%20%22%233388ff%22%2C%20%22dashArray%22%3A%20null%2C%20%22dashOffset%22%3A%20null%2C%20%22fill%22%3A%20true%2C%20%22fillColor%22%3A%20%22black%22%2C%20%22fillOpacity%22%3A%200.2%2C%20%22fillRule%22%3A%20%22evenodd%22%2C%20%22lineCap%22%3A%20%22round%22%2C%20%22lineJoin%22%3A%20%22round%22%2C%20%22opacity%22%3A%201.0%2C%20%22radius%22%3A%200.9440866021203946%2C%20%22stroke%22%3A%20true%2C%20%22weight%22%3A%203%7D%0A%20%20%20%20%20%20%20%20%20%20%20%20%29.addTo%28map_8f87285f909e45c9934e020e26ba2b97%29%3B%0A%20%20%20%20%20%20%20%20%0A%20%20%20%20%0A%20%20%20%20%20%20%20%20var%20popup_2ad92b4b203847de9b56c0230ffcaa6e%20%3D%20L.popup%28%7B%22maxWidth%22%3A%20%22100%25%22%7D%29%3B%0A%0A%20%20%20%20%20%20%20%20%0A%20%20%20%20%20%20%20%20%20%20%20%20var%20html_5212a2d6a4d2440c8a04b53f1a5ea251%20%3D%20%24%28%60%3Cdiv%20id%3D%22html_5212a2d6a4d2440c8a04b53f1a5ea251%22%20style%3D%22width%3A%20100.0%25%3B%20height%3A%20100.0%25%3B%22%3EAzerbaijan%3C/div%3E%60%29%5B0%5D%3B%0A%20%20%20%20%20%20%20%20%20%20%20%20popup_2ad92b4b203847de9b56c0230ffcaa6e.setContent%28html_5212a2d6a4d2440c8a04b53f1a5ea251%29%3B%0A%20%20%20%20%20%20%20%20%0A%0A%20%20%20%20%20%20%20%20circle_marker_ebf696f3bf2f4b028a3bdd0c169b2eab.bindPopup%28popup_2ad92b4b203847de9b56c0230ffcaa6e%29%0A%20%20%20%20%20%20%20%20%3B%0A%0A%20%20%20%20%20%20%20%20%0A%20%20%20%20%0A%20%20%20%20%0A%20%20%20%20%20%20%20%20%20%20%20%20var%20circle_marker_ab758abe5b444c0999655e73eeb811af%20%3D%20L.circleMarker%28%0A%20%20%20%20%20%20%20%20%20%20%20%20%20%20%20%20%5B-3.5%2C%2030.0%5D%2C%0A%20%20%20%20%20%20%20%20%20%20%20%20%20%20%20%20%7B%22bubblingMouseEvents%22%3A%20true%2C%20%22color%22%3A%20%22%233388ff%22%2C%20%22dashArray%22%3A%20null%2C%20%22dashOffset%22%3A%20null%2C%20%22fill%22%3A%20true%2C%20%22fillColor%22%3A%20%22blue%22%2C%20%22fillOpacity%22%3A%200.2%2C%20%22fillRule%22%3A%20%22evenodd%22%2C%20%22lineCap%22%3A%20%22round%22%2C%20%22lineJoin%22%3A%20%22round%22%2C%20%22opacity%22%3A%201.0%2C%20%22radius%22%3A%2014.985583745574617%2C%20%22stroke%22%3A%20true%2C%20%22weight%22%3A%203%7D%0A%20%20%20%20%20%20%20%20%20%20%20%20%29.addTo%28map_8f87285f909e45c9934e020e26ba2b97%29%3B%0A%20%20%20%20%20%20%20%20%0A%20%20%20%20%0A%20%20%20%20%20%20%20%20var%20popup_ad9ab099f0a746668832b457c554b042%20%3D%20L.popup%28%7B%22maxWidth%22%3A%20%22100%25%22%7D%29%3B%0A%0A%20%20%20%20%20%20%20%20%0A%20%20%20%20%20%20%20%20%20%20%20%20var%20html_81f9a98cce12421a9d135afa37908a38%20%3D%20%24%28%60%3Cdiv%20id%3D%22html_81f9a98cce12421a9d135afa37908a38%22%20style%3D%22width%3A%20100.0%25%3B%20height%3A%20100.0%25%3B%22%3EBurundi%3C/div%3E%60%29%5B0%5D%3B%0A%20%20%20%20%20%20%20%20%20%20%20%20popup_ad9ab099f0a746668832b457c554b042.setContent%28html_81f9a98cce12421a9d135afa37908a38%29%3B%0A%20%20%20%20%20%20%20%20%0A%0A%20%20%20%20%20%20%20%20circle_marker_ab758abe5b444c0999655e73eeb811af.bindPopup%28popup_ad9ab099f0a746668832b457c554b042%29%0A%20%20%20%20%20%20%20%20%3B%0A%0A%20%20%20%20%20%20%20%20%0A%20%20%20%20%0A%20%20%20%20%0A%20%20%20%20%20%20%20%20%20%20%20%20var%20circle_marker_b9f79b52b0be424fbb2a26b5d89db8e8%20%3D%20L.circleMarker%28%0A%20%20%20%20%20%20%20%20%20%20%20%20%20%20%20%20%5B50.75%2C%204.5%5D%2C%0A%20%20%20%20%20%20%20%20%20%20%20%20%20%20%20%20%7B%22bubblingMouseEvents%22%3A%20true%2C%20%22color%22%3A%20%22%233388ff%22%2C%20%22dashArray%22%3A%20null%2C%20%22dashOffset%22%3A%20null%2C%20%22fill%22%3A%20true%2C%20%22fillColor%22%3A%20%22black%22%2C%20%22fillOpacity%22%3A%200.2%2C%20%22fillRule%22%3A%20%22evenodd%22%2C%20%22lineCap%22%3A%20%22round%22%2C%20%22lineJoin%22%3A%20%22round%22%2C%20%22opacity%22%3A%201.0%2C%20%22radius%22%3A%201.3194559831588262%2C%20%22stroke%22%3A%20true%2C%20%22weight%22%3A%203%7D%0A%20%20%20%20%20%20%20%20%20%20%20%20%29.addTo%28map_8f87285f909e45c9934e020e26ba2b97%29%3B%0A%20%20%20%20%20%20%20%20%0A%20%20%20%20%0A%20%20%20%20%20%20%20%20var%20popup_ed817438948b4460bc6f1bde0125f08c%20%3D%20L.popup%28%7B%22maxWidth%22%3A%20%22100%25%22%7D%29%3B%0A%0A%20%20%20%20%20%20%20%20%0A%20%20%20%20%20%20%20%20%20%20%20%20var%20html_15242f286fe44195aa4f34d8b6a8b979%20%3D%20%24%28%60%3Cdiv%20id%3D%22html_15242f286fe44195aa4f34d8b6a8b979%22%20style%3D%22width%3A%20100.0%25%3B%20height%3A%20100.0%25%3B%22%3EBelgium%3C/div%3E%60%29%5B0%5D%3B%0A%20%20%20%20%20%20%20%20%20%20%20%20popup_ed817438948b4460bc6f1bde0125f08c.setContent%28html_15242f286fe44195aa4f34d8b6a8b979%29%3B%0A%20%20%20%20%20%20%20%20%0A%0A%20%20%20%20%20%20%20%20circle_marker_b9f79b52b0be424fbb2a26b5d89db8e8.bindPopup%28popup_ed817438948b4460bc6f1bde0125f08c%29%0A%20%20%20%20%20%20%20%20%3B%0A%0A%20%20%20%20%20%20%20%20%0A%20%20%20%20%0A%20%20%20%20%0A%20%20%20%20%20%20%20%20%20%20%20%20var%20circle_marker_cc6e6a929e464e2e99ae5e79de5f9867%20%3D%20L.circleMarker%28%0A%20%20%20%20%20%20%20%20%20%20%20%20%20%20%20%20%5B9.5%2C%202.25%5D%2C%0A%20%20%20%20%20%20%20%20%20%20%20%20%20%20%20%20%7B%22bubblingMouseEvents%22%3A%20true%2C%20%22color%22%3A%20%22%233388ff%22%2C%20%22dashArray%22%3A%20null%2C%20%22dashOffset%22%3A%20null%2C%20%22fill%22%3A%20true%2C%20%22fillColor%22%3A%20%22blue%22%2C%20%22fillOpacity%22%3A%200.2%2C%20%22fillRule%22%3A%20%22evenodd%22%2C%20%22lineCap%22%3A%20%22round%22%2C%20%22lineJoin%22%3A%20%22round%22%2C%20%22opacity%22%3A%201.0%2C%20%22radius%22%3A%2012.293294869483931%2C%20%22stroke%22%3A%20true%2C%20%22weight%22%3A%203%7D%0A%20%20%20%20%20%20%20%20%20%20%20%20%29.addTo%28map_8f87285f909e45c9934e020e26ba2b97%29%3B%0A%20%20%20%20%20%20%20%20%0A%20%20%20%20%0A%20%20%20%20%20%20%20%20var%20popup_3ca3b67fb4bd4953bf3c3ad9d5060002%20%3D%20L.popup%28%7B%22maxWidth%22%3A%20%22100%25%22%7D%29%3B%0A%0A%20%20%20%20%20%20%20%20%0A%20%20%20%20%20%20%20%20%20%20%20%20var%20html_392348a04ebb4788b40802eebf9bb923%20%3D%20%24%28%60%3Cdiv%20id%3D%22html_392348a04ebb4788b40802eebf9bb923%22%20style%3D%22width%3A%20100.0%25%3B%20height%3A%20100.0%25%3B%22%3EBenin%3C/div%3E%60%29%5B0%5D%3B%0A%20%20%20%20%20%20%20%20%20%20%20%20popup_3ca3b67fb4bd4953bf3c3ad9d5060002.setContent%28html_392348a04ebb4788b40802eebf9bb923%29%3B%0A%20%20%20%20%20%20%20%20%0A%0A%20%20%20%20%20%20%20%20circle_marker_cc6e6a929e464e2e99ae5e79de5f9867.bindPopup%28popup_3ca3b67fb4bd4953bf3c3ad9d5060002%29%0A%20%20%20%20%20%20%20%20%3B%0A%0A%20%20%20%20%20%20%20%20%0A%20%20%20%20%0A%20%20%20%20%0A%20%20%20%20%20%20%20%20%20%20%20%20var%20circle_marker_b9275f46775342639af62228f5fc730b%20%3D%20L.circleMarker%28%0A%20%20%20%20%20%20%20%20%20%20%20%20%20%20%20%20%5B12.5%2C%20-1.66667%5D%2C%0A%20%20%20%20%20%20%20%20%20%20%20%20%20%20%20%20%7B%22bubblingMouseEvents%22%3A%20true%2C%20%22color%22%3A%20%22%233388ff%22%2C%20%22dashArray%22%3A%20null%2C%20%22dashOffset%22%3A%20null%2C%20%22fill%22%3A%20true%2C%20%22fillColor%22%3A%20%22blue%22%2C%20%22fillOpacity%22%3A%200.2%2C%20%22fillRule%22%3A%20%22evenodd%22%2C%20%22lineCap%22%3A%20%22round%22%2C%20%22lineJoin%22%3A%20%22round%22%2C%20%22opacity%22%3A%201.0%2C%20%22radius%22%3A%2014.860883218047224%2C%20%22stroke%22%3A%20true%2C%20%22weight%22%3A%203%7D%0A%20%20%20%20%20%20%20%20%20%20%20%20%29.addTo%28map_8f87285f909e45c9934e020e26ba2b97%29%3B%0A%20%20%20%20%20%20%20%20%0A%20%20%20%20%0A%20%20%20%20%20%20%20%20var%20popup_5cd96a62c16f44a39c304c7b650e9740%20%3D%20L.popup%28%7B%22maxWidth%22%3A%20%22100%25%22%7D%29%3B%0A%0A%20%20%20%20%20%20%20%20%0A%20%20%20%20%20%20%20%20%20%20%20%20var%20html_c89f3c61bfc14e0dadf033ba05952803%20%3D%20%24%28%60%3Cdiv%20id%3D%22html_c89f3c61bfc14e0dadf033ba05952803%22%20style%3D%22width%3A%20100.0%25%3B%20height%3A%20100.0%25%3B%22%3EBurkina%20Faso%3C/div%3E%60%29%5B0%5D%3B%0A%20%20%20%20%20%20%20%20%20%20%20%20popup_5cd96a62c16f44a39c304c7b650e9740.setContent%28html_c89f3c61bfc14e0dadf033ba05952803%29%3B%0A%20%20%20%20%20%20%20%20%0A%0A%20%20%20%20%20%20%20%20circle_marker_b9275f46775342639af62228f5fc730b.bindPopup%28popup_5cd96a62c16f44a39c304c7b650e9740%29%0A%20%20%20%20%20%20%20%20%3B%0A%0A%20%20%20%20%20%20%20%20%0A%20%20%20%20%0A%20%20%20%20%0A%20%20%20%20%20%20%20%20%20%20%20%20var%20circle_marker_f8840d8b7052431c8e067ff7cc0f57e5%20%3D%20L.circleMarker%28%0A%20%20%20%20%20%20%20%20%20%20%20%20%20%20%20%20%5B24.0%2C%2090.0%5D%2C%0A%20%20%20%20%20%20%20%20%20%20%20%20%20%20%20%20%7B%22bubblingMouseEvents%22%3A%20true%2C%20%22color%22%3A%20%22%233388ff%22%2C%20%22dashArray%22%3A%20null%2C%20%22dashOffset%22%3A%20null%2C%20%22fill%22%3A%20true%2C%20%22fillColor%22%3A%20%22red%22%2C%20%22fillOpacity%22%3A%200.2%2C%20%22fillRule%22%3A%20%22evenodd%22%2C%20%22lineCap%22%3A%20%22round%22%2C%20%22lineJoin%22%3A%20%22round%22%2C%20%22opacity%22%3A%201.0%2C%20%22radius%22%3A%2045.07390171903687%2C%20%22stroke%22%3A%20true%2C%20%22weight%22%3A%203%7D%0A%20%20%20%20%20%20%20%20%20%20%20%20%29.addTo%28map_8f87285f909e45c9934e020e26ba2b97%29%3B%0A%20%20%20%20%20%20%20%20%0A%20%20%20%20%0A%20%20%20%20%20%20%20%20var%20popup_3d50fae0771145a1b49f56df778e1b45%20%3D%20L.popup%28%7B%22maxWidth%22%3A%20%22100%25%22%7D%29%3B%0A%0A%20%20%20%20%20%20%20%20%0A%20%20%20%20%20%20%20%20%20%20%20%20var%20html_4e7106bdddd54303a1fbe4eae6bdd606%20%3D%20%24%28%60%3Cdiv%20id%3D%22html_4e7106bdddd54303a1fbe4eae6bdd606%22%20style%3D%22width%3A%20100.0%25%3B%20height%3A%20100.0%25%3B%22%3EBangladesh%3C/div%3E%60%29%5B0%5D%3B%0A%20%20%20%20%20%20%20%20%20%20%20%20popup_3d50fae0771145a1b49f56df778e1b45.setContent%28html_4e7106bdddd54303a1fbe4eae6bdd606%29%3B%0A%20%20%20%20%20%20%20%20%0A%0A%20%20%20%20%20%20%20%20circle_marker_f8840d8b7052431c8e067ff7cc0f57e5.bindPopup%28popup_3d50fae0771145a1b49f56df778e1b45%29%0A%20%20%20%20%20%20%20%20%3B%0A%0A%20%20%20%20%20%20%20%20%0A%20%20%20%20%0A%20%20%20%20%0A%20%20%20%20%20%20%20%20%20%20%20%20var%20circle_marker_20468e2d1fe44eb5a79a559bfda040ee%20%3D%20L.circleMarker%28%0A%20%20%20%20%20%20%20%20%20%20%20%20%20%20%20%20%5B42.66667%2C%2025.25%5D%2C%0A%20%20%20%20%20%20%20%20%20%20%20%20%20%20%20%20%7B%22bubblingMouseEvents%22%3A%20true%2C%20%22color%22%3A%20%22%233388ff%22%2C%20%22dashArray%22%3A%20null%2C%20%22dashOffset%22%3A%20null%2C%20%22fill%22%3A%20true%2C%20%22fillColor%22%3A%20%22black%22%2C%20%22fillOpacity%22%3A%200.2%2C%20%22fillRule%22%3A%20%22evenodd%22%2C%20%22lineCap%22%3A%20%22round%22%2C%20%22lineJoin%22%3A%20%22round%22%2C%20%22opacity%22%3A%201.0%2C%20%22radius%22%3A%202.119093372019701%2C%20%22stroke%22%3A%20true%2C%20%22weight%22%3A%203%7D%0A%20%20%20%20%20%20%20%20%20%20%20%20%29.addTo%28map_8f87285f909e45c9934e020e26ba2b97%29%3B%0A%20%20%20%20%20%20%20%20%0A%20%20%20%20%0A%20%20%20%20%20%20%20%20var%20popup_a4c5b2cf45b04775a41d662c81179e74%20%3D%20L.popup%28%7B%22maxWidth%22%3A%20%22100%25%22%7D%29%3B%0A%0A%20%20%20%20%20%20%20%20%0A%20%20%20%20%20%20%20%20%20%20%20%20var%20html_b5726d1f4ee84df2b4a89eac8aa2ccac%20%3D%20%24%28%60%3Cdiv%20id%3D%22html_b5726d1f4ee84df2b4a89eac8aa2ccac%22%20style%3D%22width%3A%20100.0%25%3B%20height%3A%20100.0%25%3B%22%3EBulgaria%3C/div%3E%60%29%5B0%5D%3B%0A%20%20%20%20%20%20%20%20%20%20%20%20popup_a4c5b2cf45b04775a41d662c81179e74.setContent%28html_b5726d1f4ee84df2b4a89eac8aa2ccac%29%3B%0A%20%20%20%20%20%20%20%20%0A%0A%20%20%20%20%20%20%20%20circle_marker_20468e2d1fe44eb5a79a559bfda040ee.bindPopup%28popup_a4c5b2cf45b04775a41d662c81179e74%29%0A%20%20%20%20%20%20%20%20%3B%0A%0A%20%20%20%20%20%20%20%20%0A%20%20%20%20%0A%20%20%20%20%0A%20%20%20%20%20%20%20%20%20%20%20%20var%20circle_marker_69bb4a5e6e07408b8260733abf5eb404%20%3D%20L.circleMarker%28%0A%20%20%20%20%20%20%20%20%20%20%20%20%20%20%20%20%5B44.25%2C%2017.83333%5D%2C%0A%20%20%20%20%20%20%20%20%20%20%20%20%20%20%20%20%7B%22bubblingMouseEvents%22%3A%20true%2C%20%22color%22%3A%20%22%233388ff%22%2C%20%22dashArray%22%3A%20null%2C%20%22dashOffset%22%3A%20null%2C%20%22fill%22%3A%20true%2C%20%22fillColor%22%3A%20%22black%22%2C%20%22fillOpacity%22%3A%200.2%2C%20%22fillRule%22%3A%20%22evenodd%22%2C%20%22lineCap%22%3A%20%22round%22%2C%20%22lineJoin%22%3A%20%22round%22%2C%20%22opacity%22%3A%201.0%2C%20%22radius%22%3A%200.217194671049816%2C%20%22stroke%22%3A%20true%2C%20%22weight%22%3A%203%7D%0A%20%20%20%20%20%20%20%20%20%20%20%20%29.addTo%28map_8f87285f909e45c9934e020e26ba2b97%29%3B%0A%20%20%20%20%20%20%20%20%0A%20%20%20%20%0A%20%20%20%20%20%20%20%20var%20popup_f40b5596ba6e4513a0e27d490f72d96a%20%3D%20L.popup%28%7B%22maxWidth%22%3A%20%22100%25%22%7D%29%3B%0A%0A%20%20%20%20%20%20%20%20%0A%20%20%20%20%20%20%20%20%20%20%20%20var%20html_5adcbc64e3b04f2ea97000f620d5c926%20%3D%20%24%28%60%3Cdiv%20id%3D%22html_5adcbc64e3b04f2ea97000f620d5c926%22%20style%3D%22width%3A%20100.0%25%3B%20height%3A%20100.0%25%3B%22%3EBosnia%20and%20Herzegovina%3C/div%3E%60%29%5B0%5D%3B%0A%20%20%20%20%20%20%20%20%20%20%20%20popup_f40b5596ba6e4513a0e27d490f72d96a.setContent%28html_5adcbc64e3b04f2ea97000f620d5c926%29%3B%0A%20%20%20%20%20%20%20%20%0A%0A%20%20%20%20%20%20%20%20circle_marker_69bb4a5e6e07408b8260733abf5eb404.bindPopup%28popup_f40b5596ba6e4513a0e27d490f72d96a%29%0A%20%20%20%20%20%20%20%20%3B%0A%0A%20%20%20%20%20%20%20%20%0A%20%20%20%20%0A%20%20%20%20%0A%20%20%20%20%20%20%20%20%20%20%20%20var%20circle_marker_ee74cc4b41d646a78ff097f745227b3c%20%3D%20L.circleMarker%28%0A%20%20%20%20%20%20%20%20%20%20%20%20%20%20%20%20%5B53.0%2C%2028.0%5D%2C%0A%20%20%20%20%20%20%20%20%20%20%20%20%20%20%20%20%7B%22bubblingMouseEvents%22%3A%20true%2C%20%22color%22%3A%20%22%233388ff%22%2C%20%22dashArray%22%3A%20null%2C%20%22dashOffset%22%3A%20null%2C%20%22fill%22%3A%20true%2C%20%22fillColor%22%3A%20%22black%22%2C%20%22fillOpacity%22%3A%200.2%2C%20%22fillRule%22%3A%20%22evenodd%22%2C%20%22lineCap%22%3A%20%22round%22%2C%20%22lineJoin%22%3A%20%22round%22%2C%20%22opacity%22%3A%201.0%2C%20%22stroke%22%3A%20true%2C%20%22weight%22%3A%203%7D%0A%20%20%20%20%20%20%20%20%20%20%20%20%29.addTo%28map_8f87285f909e45c9934e020e26ba2b97%29%3B%0A%20%20%20%20%20%20%20%20%0A%20%20%20%20%0A%20%20%20%20%20%20%20%20var%20popup_887928acbf934d829f822908ed823717%20%3D%20L.popup%28%7B%22maxWidth%22%3A%20%22100%25%22%7D%29%3B%0A%0A%20%20%20%20%20%20%20%20%0A%20%20%20%20%20%20%20%20%20%20%20%20var%20html_69a3b65241e949b59a0fd45c01ebd988%20%3D%20%24%28%60%3Cdiv%20id%3D%22html_69a3b65241e949b59a0fd45c01ebd988%22%20style%3D%22width%3A%20100.0%25%3B%20height%3A%20100.0%25%3B%22%3EBelarus%3C/div%3E%60%29%5B0%5D%3B%0A%20%20%20%20%20%20%20%20%20%20%20%20popup_887928acbf934d829f822908ed823717.setContent%28html_69a3b65241e949b59a0fd45c01ebd988%29%3B%0A%20%20%20%20%20%20%20%20%0A%0A%20%20%20%20%20%20%20%20circle_marker_ee74cc4b41d646a78ff097f745227b3c.bindPopup%28popup_887928acbf934d829f822908ed823717%29%0A%20%20%20%20%20%20%20%20%3B%0A%0A%20%20%20%20%20%20%20%20%0A%20%20%20%20%0A%20%20%20%20%0A%20%20%20%20%20%20%20%20%20%20%20%20var%20circle_marker_2a6cc4861ba848258f242b1525ed7cb4%20%3D%20L.circleMarker%28%0A%20%20%20%20%20%20%20%20%20%20%20%20%20%20%20%20%5B17.49952%2C%20-88.19756%5D%2C%0A%20%20%20%20%20%20%20%20%20%20%20%20%20%20%20%20%7B%22bubblingMouseEvents%22%3A%20true%2C%20%22color%22%3A%20%22%233388ff%22%2C%20%22dashArray%22%3A%20null%2C%20%22dashOffset%22%3A%20null%2C%20%22fill%22%3A%20true%2C%20%22fillColor%22%3A%20%22green%22%2C%20%22fillOpacity%22%3A%200.2%2C%20%22fillRule%22%3A%20%22evenodd%22%2C%20%22lineCap%22%3A%20%22round%22%2C%20%22lineJoin%22%3A%20%22round%22%2C%20%22opacity%22%3A%201.0%2C%20%22radius%22%3A%201.1195005649268066%2C%20%22stroke%22%3A%20true%2C%20%22weight%22%3A%203%7D%0A%20%20%20%20%20%20%20%20%20%20%20%20%29.addTo%28map_8f87285f909e45c9934e020e26ba2b97%29%3B%0A%20%20%20%20%20%20%20%20%0A%20%20%20%20%0A%20%20%20%20%20%20%20%20var%20popup_02b80c2bc47a42c1b98bde96fd3fcd81%20%3D%20L.popup%28%7B%22maxWidth%22%3A%20%22100%25%22%7D%29%3B%0A%0A%20%20%20%20%20%20%20%20%0A%20%20%20%20%20%20%20%20%20%20%20%20var%20html_6ad303a495ab4982af1bc100e7298746%20%3D%20%24%28%60%3Cdiv%20id%3D%22html_6ad303a495ab4982af1bc100e7298746%22%20style%3D%22width%3A%20100.0%25%3B%20height%3A%20100.0%25%3B%22%3EBelize%3C/div%3E%60%29%5B0%5D%3B%0A%20%20%20%20%20%20%20%20%20%20%20%20popup_02b80c2bc47a42c1b98bde96fd3fcd81.setContent%28html_6ad303a495ab4982af1bc100e7298746%29%3B%0A%20%20%20%20%20%20%20%20%0A%0A%20%20%20%20%20%20%20%20circle_marker_2a6cc4861ba848258f242b1525ed7cb4.bindPopup%28popup_02b80c2bc47a42c1b98bde96fd3fcd81%29%0A%20%20%20%20%20%20%20%20%3B%0A%0A%20%20%20%20%20%20%20%20%0A%20%20%20%20%0A%20%20%20%20%0A%20%20%20%20%20%20%20%20%20%20%20%20var%20circle_marker_2f5bb369be524c6fa1481c511406941a%20%3D%20L.circleMarker%28%0A%20%20%20%20%20%20%20%20%20%20%20%20%20%20%20%20%5B-17.0%2C%20-65.0%5D%2C%0A%20%20%20%20%20%20%20%20%20%20%20%20%20%20%20%20%7B%22bubblingMouseEvents%22%3A%20true%2C%20%22color%22%3A%20%22%233388ff%22%2C%20%22dashArray%22%3A%20null%2C%20%22dashOffset%22%3A%20null%2C%20%22fill%22%3A%20true%2C%20%22fillColor%22%3A%20%22green%22%2C%20%22fillOpacity%22%3A%200.2%2C%20%22fillRule%22%3A%20%22evenodd%22%2C%20%22lineCap%22%3A%20%22round%22%2C%20%22lineJoin%22%3A%20%22round%22%2C%20%22opacity%22%3A%201.0%2C%20%22radius%22%3A%205.0521846256177705%2C%20%22stroke%22%3A%20true%2C%20%22weight%22%3A%203%7D%0A%20%20%20%20%20%20%20%20%20%20%20%20%29.addTo%28map_8f87285f909e45c9934e020e26ba2b97%29%3B%0A%20%20%20%20%20%20%20%20%0A%20%20%20%20%0A%20%20%20%20%20%20%20%20var%20popup_d62b0c458bbe429f9d19b1ad10a9b399%20%3D%20L.popup%28%7B%22maxWidth%22%3A%20%22100%25%22%7D%29%3B%0A%0A%20%20%20%20%20%20%20%20%0A%20%20%20%20%20%20%20%20%20%20%20%20var%20html_fa018cf3e64441f9b3667cb4805110ec%20%3D%20%24%28%60%3Cdiv%20id%3D%22html_fa018cf3e64441f9b3667cb4805110ec%22%20style%3D%22width%3A%20100.0%25%3B%20height%3A%20100.0%25%3B%22%3EBolivia%3C/div%3E%60%29%5B0%5D%3B%0A%20%20%20%20%20%20%20%20%20%20%20%20popup_d62b0c458bbe429f9d19b1ad10a9b399.setContent%28html_fa018cf3e64441f9b3667cb4805110ec%29%3B%0A%20%20%20%20%20%20%20%20%0A%0A%20%20%20%20%20%20%20%20circle_marker_2f5bb369be524c6fa1481c511406941a.bindPopup%28popup_d62b0c458bbe429f9d19b1ad10a9b399%29%0A%20%20%20%20%20%20%20%20%3B%0A%0A%20%20%20%20%20%20%20%20%0A%20%20%20%20%0A%20%20%20%20%0A%20%20%20%20%20%20%20%20%20%20%20%20var%20circle_marker_1a2847e34b52417ca339bd677b50ec17%20%3D%20L.circleMarker%28%0A%20%20%20%20%20%20%20%20%20%20%20%20%20%20%20%20%5B-10.0%2C%20-55.0%5D%2C%0A%20%20%20%20%20%20%20%20%20%20%20%20%20%20%20%20%7B%22bubblingMouseEvents%22%3A%20true%2C%20%22color%22%3A%20%22%233388ff%22%2C%20%22dashArray%22%3A%20null%2C%20%22dashOffset%22%3A%20null%2C%20%22fill%22%3A%20true%2C%20%22fillColor%22%3A%20%22green%22%2C%20%22fillOpacity%22%3A%200.2%2C%20%22fillRule%22%3A%20%22evenodd%22%2C%20%22lineCap%22%3A%20%22round%22%2C%20%22lineJoin%22%3A%20%22round%22%2C%20%22opacity%22%3A%201.0%2C%20%22radius%22%3A%2015.284499774553087%2C%20%22stroke%22%3A%20true%2C%20%22weight%22%3A%203%7D%0A%20%20%20%20%20%20%20%20%20%20%20%20%29.addTo%28map_8f87285f909e45c9934e020e26ba2b97%29%3B%0A%20%20%20%20%20%20%20%20%0A%20%20%20%20%0A%20%20%20%20%20%20%20%20var%20popup_1effe2e557984285abdff87447ae3789%20%3D%20L.popup%28%7B%22maxWidth%22%3A%20%22100%25%22%7D%29%3B%0A%0A%20%20%20%20%20%20%20%20%0A%20%20%20%20%20%20%20%20%20%20%20%20var%20html_f3f27bcf96794f2192934f151a55c80f%20%3D%20%24%28%60%3Cdiv%20id%3D%22html_f3f27bcf96794f2192934f151a55c80f%22%20style%3D%22width%3A%20100.0%25%3B%20height%3A%20100.0%25%3B%22%3EBrazil%3C/div%3E%60%29%5B0%5D%3B%0A%20%20%20%20%20%20%20%20%20%20%20%20popup_1effe2e557984285abdff87447ae3789.setContent%28html_f3f27bcf96794f2192934f151a55c80f%29%3B%0A%20%20%20%20%20%20%20%20%0A%0A%20%20%20%20%20%20%20%20circle_marker_1a2847e34b52417ca339bd677b50ec17.bindPopup%28popup_1effe2e557984285abdff87447ae3789%29%0A%20%20%20%20%20%20%20%20%3B%0A%0A%20%20%20%20%20%20%20%20%0A%20%20%20%20%0A%20%20%20%20%0A%20%20%20%20%20%20%20%20%20%20%20%20var%20circle_marker_3252d63f0d1046d08612b44cc278e26f%20%3D%20L.circleMarker%28%0A%20%20%20%20%20%20%20%20%20%20%20%20%20%20%20%20%5B27.5%2C%2090.5%5D%2C%0A%20%20%20%20%20%20%20%20%20%20%20%20%20%20%20%20%7B%22bubblingMouseEvents%22%3A%20true%2C%20%22color%22%3A%20%22%233388ff%22%2C%20%22dashArray%22%3A%20null%2C%20%22dashOffset%22%3A%20null%2C%20%22fill%22%3A%20true%2C%20%22fillColor%22%3A%20%22red%22%2C%20%22fillOpacity%22%3A%200.2%2C%20%22fillRule%22%3A%20%22evenodd%22%2C%20%22lineCap%22%3A%20%22round%22%2C%20%22lineJoin%22%3A%20%22round%22%2C%20%22opacity%22%3A%201.0%2C%20%22radius%22%3A%200.7206403952796807%2C%20%22stroke%22%3A%20true%2C%20%22weight%22%3A%203%7D%0A%20%20%20%20%20%20%20%20%20%20%20%20%29.addTo%28map_8f87285f909e45c9934e020e26ba2b97%29%3B%0A%20%20%20%20%20%20%20%20%0A%20%20%20%20%0A%20%20%20%20%20%20%20%20var%20popup_f6d64f602e6a422f989b89bb3d54042a%20%3D%20L.popup%28%7B%22maxWidth%22%3A%20%22100%25%22%7D%29%3B%0A%0A%20%20%20%20%20%20%20%20%0A%20%20%20%20%20%20%20%20%20%20%20%20var%20html_d67d56d800eb4b409a67faece629451b%20%3D%20%24%28%60%3Cdiv%20id%3D%22html_d67d56d800eb4b409a67faece629451b%22%20style%3D%22width%3A%20100.0%25%3B%20height%3A%20100.0%25%3B%22%3EBhutan%3C/div%3E%60%29%5B0%5D%3B%0A%20%20%20%20%20%20%20%20%20%20%20%20popup_f6d64f602e6a422f989b89bb3d54042a.setContent%28html_d67d56d800eb4b409a67faece629451b%29%3B%0A%20%20%20%20%20%20%20%20%0A%0A%20%20%20%20%20%20%20%20circle_marker_3252d63f0d1046d08612b44cc278e26f.bindPopup%28popup_f6d64f602e6a422f989b89bb3d54042a%29%0A%20%20%20%20%20%20%20%20%3B%0A%0A%20%20%20%20%20%20%20%20%0A%20%20%20%20%0A%20%20%20%20%0A%20%20%20%20%20%20%20%20%20%20%20%20var%20circle_marker_9082b368cec24bc7aebb770abcfb37ac%20%3D%20L.circleMarker%28%0A%20%20%20%20%20%20%20%20%20%20%20%20%20%20%20%20%5B-22.0%2C%2024.0%5D%2C%0A%20%20%20%20%20%20%20%20%20%20%20%20%20%20%20%20%7B%22bubblingMouseEvents%22%3A%20true%2C%20%22color%22%3A%20%22%233388ff%22%2C%20%22dashArray%22%3A%20null%2C%20%22dashOffset%22%3A%20null%2C%20%22fill%22%3A%20true%2C%20%22fillColor%22%3A%20%22blue%22%2C%20%22fillOpacity%22%3A%200.2%2C%20%22fillRule%22%3A%20%22evenodd%22%2C%20%22lineCap%22%3A%20%22round%22%2C%20%22lineJoin%22%3A%20%22round%22%2C%20%22opacity%22%3A%201.0%2C%20%22radius%22%3A%202.9123934088869396%2C%20%22stroke%22%3A%20true%2C%20%22weight%22%3A%203%7D%0A%20%20%20%20%20%20%20%20%20%20%20%20%29.addTo%28map_8f87285f909e45c9934e020e26ba2b97%29%3B%0A%20%20%20%20%20%20%20%20%0A%20%20%20%20%0A%20%20%20%20%20%20%20%20var%20popup_8174d8b3328b4e4ba34e63eca82fc633%20%3D%20L.popup%28%7B%22maxWidth%22%3A%20%22100%25%22%7D%29%3B%0A%0A%20%20%20%20%20%20%20%20%0A%20%20%20%20%20%20%20%20%20%20%20%20var%20html_1d2f8ff418b84125af3ee111cb722fe9%20%3D%20%24%28%60%3Cdiv%20id%3D%22html_1d2f8ff418b84125af3ee111cb722fe9%22%20style%3D%22width%3A%20100.0%25%3B%20height%3A%20100.0%25%3B%22%3EBotswana%3C/div%3E%60%29%5B0%5D%3B%0A%20%20%20%20%20%20%20%20%20%20%20%20popup_8174d8b3328b4e4ba34e63eca82fc633.setContent%28html_1d2f8ff418b84125af3ee111cb722fe9%29%3B%0A%20%20%20%20%20%20%20%20%0A%0A%20%20%20%20%20%20%20%20circle_marker_9082b368cec24bc7aebb770abcfb37ac.bindPopup%28popup_8174d8b3328b4e4ba34e63eca82fc633%29%0A%20%20%20%20%20%20%20%20%3B%0A%0A%20%20%20%20%20%20%20%20%0A%20%20%20%20%0A%20%20%20%20%0A%20%20%20%20%20%20%20%20%20%20%20%20var%20circle_marker_ce8363f625fb4dc9bb61382a213ab06c%20%3D%20L.circleMarker%28%0A%20%20%20%20%20%20%20%20%20%20%20%20%20%20%20%20%5B7.0%2C%2021.0%5D%2C%0A%20%20%20%20%20%20%20%20%20%20%20%20%20%20%20%20%7B%22bubblingMouseEvents%22%3A%20true%2C%20%22color%22%3A%20%22%233388ff%22%2C%20%22dashArray%22%3A%20null%2C%20%22dashOffset%22%3A%20null%2C%20%22fill%22%3A%20true%2C%20%22fillColor%22%3A%20%22blue%22%2C%20%22fillOpacity%22%3A%200.2%2C%20%22fillRule%22%3A%20%22evenodd%22%2C%20%22lineCap%22%3A%20%22round%22%2C%20%22lineJoin%22%3A%20%22round%22%2C%20%22opacity%22%3A%201.0%2C%20%22radius%22%3A%209.366573447847983%2C%20%22stroke%22%3A%20true%2C%20%22weight%22%3A%203%7D%0A%20%20%20%20%20%20%20%20%20%20%20%20%29.addTo%28map_8f87285f909e45c9934e020e26ba2b97%29%3B%0A%20%20%20%20%20%20%20%20%0A%20%20%20%20%0A%20%20%20%20%20%20%20%20var%20popup_23d4259a4ead4aad988517546c281f6c%20%3D%20L.popup%28%7B%22maxWidth%22%3A%20%22100%25%22%7D%29%3B%0A%0A%20%20%20%20%20%20%20%20%0A%20%20%20%20%20%20%20%20%20%20%20%20var%20html_3a214e2235754435b7f554add04d5b21%20%3D%20%24%28%60%3Cdiv%20id%3D%22html_3a214e2235754435b7f554add04d5b21%22%20style%3D%22width%3A%20100.0%25%3B%20height%3A%20100.0%25%3B%22%3ECentral%20African%20Republic%3C/div%3E%60%29%5B0%5D%3B%0A%20%20%20%20%20%20%20%20%20%20%20%20popup_23d4259a4ead4aad988517546c281f6c.setContent%28html_3a214e2235754435b7f554add04d5b21%29%3B%0A%20%20%20%20%20%20%20%20%0A%0A%20%20%20%20%20%20%20%20circle_marker_ce8363f625fb4dc9bb61382a213ab06c.bindPopup%28popup_23d4259a4ead4aad988517546c281f6c%29%0A%20%20%20%20%20%20%20%20%3B%0A%0A%20%20%20%20%20%20%20%20%0A%20%20%20%20%0A%20%20%20%20%0A%20%20%20%20%20%20%20%20%20%20%20%20var%20circle_marker_114b7490eee0452e93f06842d46ed15b%20%3D%20L.circleMarker%28%0A%20%20%20%20%20%20%20%20%20%20%20%20%20%20%20%20%5B60.10867%2C%20-113.64258%5D%2C%0A%20%20%20%20%20%20%20%20%20%20%20%20%20%20%20%20%7B%22bubblingMouseEvents%22%3A%20true%2C%20%22color%22%3A%20%22%233388ff%22%2C%20%22dashArray%22%3A%20null%2C%20%22dashOffset%22%3A%20null%2C%20%22fill%22%3A%20true%2C%20%22fillColor%22%3A%20%22green%22%2C%20%22fillOpacity%22%3A%200.2%2C%20%22fillRule%22%3A%20%22evenodd%22%2C%20%22lineCap%22%3A%20%22round%22%2C%20%22lineJoin%22%3A%20%22round%22%2C%20%22opacity%22%3A%201.0%2C%20%22radius%22%3A%201.9224051187434574%2C%20%22stroke%22%3A%20true%2C%20%22weight%22%3A%203%7D%0A%20%20%20%20%20%20%20%20%20%20%20%20%29.addTo%28map_8f87285f909e45c9934e020e26ba2b97%29%3B%0A%20%20%20%20%20%20%20%20%0A%20%20%20%20%0A%20%20%20%20%20%20%20%20var%20popup_a1a6fd5df77545fcbe0639b98c002df1%20%3D%20L.popup%28%7B%22maxWidth%22%3A%20%22100%25%22%7D%29%3B%0A%0A%20%20%20%20%20%20%20%20%0A%20%20%20%20%20%20%20%20%20%20%20%20var%20html_ed6e9775f8f047e08131ab980d57f388%20%3D%20%24%28%60%3Cdiv%20id%3D%22html_ed6e9775f8f047e08131ab980d57f388%22%20style%3D%22width%3A%20100.0%25%3B%20height%3A%20100.0%25%3B%22%3ECanada%3C/div%3E%60%29%5B0%5D%3B%0A%20%20%20%20%20%20%20%20%20%20%20%20popup_a1a6fd5df77545fcbe0639b98c002df1.setContent%28html_ed6e9775f8f047e08131ab980d57f388%29%3B%0A%20%20%20%20%20%20%20%20%0A%0A%20%20%20%20%20%20%20%20circle_marker_114b7490eee0452e93f06842d46ed15b.bindPopup%28popup_a1a6fd5df77545fcbe0639b98c002df1%29%0A%20%20%20%20%20%20%20%20%3B%0A%0A%20%20%20%20%20%20%20%20%0A%20%20%20%20%0A%20%20%20%20%0A%20%20%20%20%20%20%20%20%20%20%20%20var%20circle_marker_c7d869fd96ba41caa17e001fd72432c5%20%3D%20L.circleMarker%28%0A%20%20%20%20%20%20%20%20%20%20%20%20%20%20%20%20%5B47.00016%2C%208.01427%5D%2C%0A%20%20%20%20%20%20%20%20%20%20%20%20%20%20%20%20%7B%22bubblingMouseEvents%22%3A%20true%2C%20%22color%22%3A%20%22%233388ff%22%2C%20%22dashArray%22%3A%20null%2C%20%22dashOffset%22%3A%20null%2C%20%22fill%22%3A%20true%2C%20%22fillColor%22%3A%20%22black%22%2C%20%22fillOpacity%22%3A%200.2%2C%20%22fillRule%22%3A%20%22evenodd%22%2C%20%22lineCap%22%3A%20%22round%22%2C%20%22lineJoin%22%3A%20%22round%22%2C%20%22opacity%22%3A%201.0%2C%20%22radius%22%3A%201.2904780751862297%2C%20%22stroke%22%3A%20true%2C%20%22weight%22%3A%203%7D%0A%20%20%20%20%20%20%20%20%20%20%20%20%29.addTo%28map_8f87285f909e45c9934e020e26ba2b97%29%3B%0A%20%20%20%20%20%20%20%20%0A%20%20%20%20%0A%20%20%20%20%20%20%20%20var%20popup_afd0ba4652194b8693d8f7eb58f4f522%20%3D%20L.popup%28%7B%22maxWidth%22%3A%20%22100%25%22%7D%29%3B%0A%0A%20%20%20%20%20%20%20%20%0A%20%20%20%20%20%20%20%20%20%20%20%20var%20html_c649d3382f24482a9bcdd98863298d99%20%3D%20%24%28%60%3Cdiv%20id%3D%22html_c649d3382f24482a9bcdd98863298d99%22%20style%3D%22width%3A%20100.0%25%3B%20height%3A%20100.0%25%3B%22%3ESwitzerland%3C/div%3E%60%29%5B0%5D%3B%0A%20%20%20%20%20%20%20%20%20%20%20%20popup_afd0ba4652194b8693d8f7eb58f4f522.setContent%28html_c649d3382f24482a9bcdd98863298d99%29%3B%0A%20%20%20%20%20%20%20%20%0A%0A%20%20%20%20%20%20%20%20circle_marker_c7d869fd96ba41caa17e001fd72432c5.bindPopup%28popup_afd0ba4652194b8693d8f7eb58f4f522%29%0A%20%20%20%20%20%20%20%20%3B%0A%0A%20%20%20%20%20%20%20%20%0A%20%20%20%20%0A%20%20%20%20%0A%20%20%20%20%20%20%20%20%20%20%20%20var%20circle_marker_0887541382724368952dee0dc0aa4c83%20%3D%20L.circleMarker%28%0A%20%20%20%20%20%20%20%20%20%20%20%20%20%20%20%20%5B-33.45694%2C%20-70.64827%5D%2C%0A%20%20%20%20%20%20%20%20%20%20%20%20%20%20%20%20%7B%22bubblingMouseEvents%22%3A%20true%2C%20%22color%22%3A%20%22%233388ff%22%2C%20%22dashArray%22%3A%20null%2C%20%22dashOffset%22%3A%20null%2C%20%22fill%22%3A%20true%2C%20%22fillColor%22%3A%20%22green%22%2C%20%22fillOpacity%22%3A%200.2%2C%20%22fillRule%22%3A%20%22evenodd%22%2C%20%22lineCap%22%3A%20%22round%22%2C%20%22lineJoin%22%3A%20%22round%22%2C%20%22opacity%22%3A%201.0%2C%20%22radius%22%3A%202.123175164028212%2C%20%22stroke%22%3A%20true%2C%20%22weight%22%3A%203%7D%0A%20%20%20%20%20%20%20%20%20%20%20%20%29.addTo%28map_8f87285f909e45c9934e020e26ba2b97%29%3B%0A%20%20%20%20%20%20%20%20%0A%20%20%20%20%0A%20%20%20%20%20%20%20%20var%20popup_e7f748170a55417998fcb2fac8671eba%20%3D%20L.popup%28%7B%22maxWidth%22%3A%20%22100%25%22%7D%29%3B%0A%0A%20%20%20%20%20%20%20%20%0A%20%20%20%20%20%20%20%20%20%20%20%20var%20html_cc352170242a4ad4a4c718bc821c21fb%20%3D%20%24%28%60%3Cdiv%20id%3D%22html_cc352170242a4ad4a4c718bc821c21fb%22%20style%3D%22width%3A%20100.0%25%3B%20height%3A%20100.0%25%3B%22%3EChile%3C/div%3E%60%29%5B0%5D%3B%0A%20%20%20%20%20%20%20%20%20%20%20%20popup_e7f748170a55417998fcb2fac8671eba.setContent%28html_cc352170242a4ad4a4c718bc821c21fb%29%3B%0A%20%20%20%20%20%20%20%20%0A%0A%20%20%20%20%20%20%20%20circle_marker_0887541382724368952dee0dc0aa4c83.bindPopup%28popup_e7f748170a55417998fcb2fac8671eba%29%0A%20%20%20%20%20%20%20%20%3B%0A%0A%20%20%20%20%20%20%20%20%0A%20%20%20%20%0A%20%20%20%20%0A%20%20%20%20%20%20%20%20%20%20%20%20var%20circle_marker_3c410a320acc498b90c1dd176ed11341%20%3D%20L.circleMarker%28%0A%20%20%20%20%20%20%20%20%20%20%20%20%20%20%20%20%5B35.0%2C%20105.0%5D%2C%0A%20%20%20%20%20%20%20%20%20%20%20%20%20%20%20%20%7B%22bubblingMouseEvents%22%3A%20true%2C%20%22color%22%3A%20%22%233388ff%22%2C%20%22dashArray%22%3A%20null%2C%20%22dashOffset%22%3A%20null%2C%20%22fill%22%3A%20true%2C%20%22fillColor%22%3A%20%22red%22%2C%20%22fillOpacity%22%3A%200.2%2C%20%22fillRule%22%3A%20%22evenodd%22%2C%20%22lineCap%22%3A%20%22round%22%2C%20%22lineJoin%22%3A%20%22round%22%2C%20%22opacity%22%3A%201.0%2C%20%22radius%22%3A%2052.225656891999506%2C%20%22stroke%22%3A%20true%2C%20%22weight%22%3A%203%7D%0A%20%20%20%20%20%20%20%20%20%20%20%20%29.addTo%28map_8f87285f909e45c9934e020e26ba2b97%29%3B%0A%20%20%20%20%20%20%20%20%0A%20%20%20%20%0A%20%20%20%20%20%20%20%20var%20popup_e39545203c074623bba3c2808bb3c5bf%20%3D%20L.popup%28%7B%22maxWidth%22%3A%20%22100%25%22%7D%29%3B%0A%0A%20%20%20%20%20%20%20%20%0A%20%20%20%20%20%20%20%20%20%20%20%20var%20html_61ede737c48f4840976c0082e9cebbe0%20%3D%20%24%28%60%3Cdiv%20id%3D%22html_61ede737c48f4840976c0082e9cebbe0%22%20style%3D%22width%3A%20100.0%25%3B%20height%3A%20100.0%25%3B%22%3EChina%3C/div%3E%60%29%5B0%5D%3B%0A%20%20%20%20%20%20%20%20%20%20%20%20popup_e39545203c074623bba3c2808bb3c5bf.setContent%28html_61ede737c48f4840976c0082e9cebbe0%29%3B%0A%20%20%20%20%20%20%20%20%0A%0A%20%20%20%20%20%20%20%20circle_marker_3c410a320acc498b90c1dd176ed11341.bindPopup%28popup_e39545203c074623bba3c2808bb3c5bf%29%0A%20%20%20%20%20%20%20%20%3B%0A%0A%20%20%20%20%20%20%20%20%0A%20%20%20%20%0A%20%20%20%20%0A%20%20%20%20%20%20%20%20%20%20%20%20var%20circle_marker_56b06bac3ec447e6ac78b7c18d557e03%20%3D%20L.circleMarker%28%0A%20%20%20%20%20%20%20%20%20%20%20%20%20%20%20%20%5B8.0%2C%20-5.5%5D%2C%0A%20%20%20%20%20%20%20%20%20%20%20%20%20%20%20%20%7B%22bubblingMouseEvents%22%3A%20true%2C%20%22color%22%3A%20%22%233388ff%22%2C%20%22dashArray%22%3A%20null%2C%20%22dashOffset%22%3A%20null%2C%20%22fill%22%3A%20true%2C%20%22fillColor%22%3A%20%22blue%22%2C%20%22fillOpacity%22%3A%200.2%2C%20%22fillRule%22%3A%20%22evenodd%22%2C%20%22lineCap%22%3A%20%22round%22%2C%20%22lineJoin%22%3A%20%22round%22%2C%20%22opacity%22%3A%201.0%2C%20%22radius%22%3A%2015.133268463096499%2C%20%22stroke%22%3A%20true%2C%20%22weight%22%3A%203%7D%0A%20%20%20%20%20%20%20%20%20%20%20%20%29.addTo%28map_8f87285f909e45c9934e020e26ba2b97%29%3B%0A%20%20%20%20%20%20%20%20%0A%20%20%20%20%0A%20%20%20%20%20%20%20%20var%20popup_918640abe03c43908bf5786a21cdec0c%20%3D%20L.popup%28%7B%22maxWidth%22%3A%20%22100%25%22%7D%29%3B%0A%0A%20%20%20%20%20%20%20%20%0A%20%20%20%20%20%20%20%20%20%20%20%20var%20html_5a4f0bf65d034c479140db4348678a7e%20%3D%20%24%28%60%3Cdiv%20id%3D%22html_5a4f0bf65d034c479140db4348678a7e%22%20style%3D%22width%3A%20100.0%25%3B%20height%3A%20100.0%25%3B%22%3ECote%20d%27Ivoire%3C/div%3E%60%29%5B0%5D%3B%0A%20%20%20%20%20%20%20%20%20%20%20%20popup_918640abe03c43908bf5786a21cdec0c.setContent%28html_5a4f0bf65d034c479140db4348678a7e%29%3B%0A%20%20%20%20%20%20%20%20%0A%0A%20%20%20%20%20%20%20%20circle_marker_56b06bac3ec447e6ac78b7c18d557e03.bindPopup%28popup_918640abe03c43908bf5786a21cdec0c%29%0A%20%20%20%20%20%20%20%20%3B%0A%0A%20%20%20%20%20%20%20%20%0A%20%20%20%20%0A%20%20%20%20%0A%20%20%20%20%20%20%20%20%20%20%20%20var%20circle_marker_191b63cd9b7d483ea6eda00886cd046a%20%3D%20L.circleMarker%28%0A%20%20%20%20%20%20%20%20%20%20%20%20%20%20%20%20%5B6.0%2C%2012.5%5D%2C%0A%20%20%20%20%20%20%20%20%20%20%20%20%20%20%20%20%7B%22bubblingMouseEvents%22%3A%20true%2C%20%22color%22%3A%20%22%233388ff%22%2C%20%22dashArray%22%3A%20null%2C%20%22dashOffset%22%3A%20null%2C%20%22fill%22%3A%20true%2C%20%22fillColor%22%3A%20%22blue%22%2C%20%22fillOpacity%22%3A%200.2%2C%20%22fillRule%22%3A%20%22evenodd%22%2C%20%22lineCap%22%3A%20%22round%22%2C%20%22lineJoin%22%3A%20%22round%22%2C%20%22opacity%22%3A%201.0%2C%20%22radius%22%3A%2013.37047776795466%2C%20%22stroke%22%3A%20true%2C%20%22weight%22%3A%203%7D%0A%20%20%20%20%20%20%20%20%20%20%20%20%29.addTo%28map_8f87285f909e45c9934e020e26ba2b97%29%3B%0A%20%20%20%20%20%20%20%20%0A%20%20%20%20%0A%20%20%20%20%20%20%20%20var%20popup_8b9180f8282f4820964f3830f8329c49%20%3D%20L.popup%28%7B%22maxWidth%22%3A%20%22100%25%22%7D%29%3B%0A%0A%20%20%20%20%20%20%20%20%0A%20%20%20%20%20%20%20%20%20%20%20%20var%20html_a0b40895819844299816ceba3228fd1d%20%3D%20%24%28%60%3Cdiv%20id%3D%22html_a0b40895819844299816ceba3228fd1d%22%20style%3D%22width%3A%20100.0%25%3B%20height%3A%20100.0%25%3B%22%3ECameroon%3C/div%3E%60%29%5B0%5D%3B%0A%20%20%20%20%20%20%20%20%20%20%20%20popup_8b9180f8282f4820964f3830f8329c49.setContent%28html_a0b40895819844299816ceba3228fd1d%29%3B%0A%20%20%20%20%20%20%20%20%0A%0A%20%20%20%20%20%20%20%20circle_marker_191b63cd9b7d483ea6eda00886cd046a.bindPopup%28popup_8b9180f8282f4820964f3830f8329c49%29%0A%20%20%20%20%20%20%20%20%3B%0A%0A%20%20%20%20%20%20%20%20%0A%20%20%20%20%0A%20%20%20%20%0A%20%20%20%20%20%20%20%20%20%20%20%20var%20circle_marker_8f0c1d72f1454f10b66046d7e683515d%20%3D%20L.circleMarker%28%0A%20%20%20%20%20%20%20%20%20%20%20%20%20%20%20%20%5B-2.5%2C%2023.5%5D%2C%0A%20%20%20%20%20%20%20%20%20%20%20%20%20%20%20%20%7B%22bubblingMouseEvents%22%3A%20true%2C%20%22color%22%3A%20%22%233388ff%22%2C%20%22dashArray%22%3A%20null%2C%20%22dashOffset%22%3A%20null%2C%20%22fill%22%3A%20true%2C%20%22fillColor%22%3A%20%22blue%22%2C%20%22fillOpacity%22%3A%200.2%2C%20%22fillRule%22%3A%20%22evenodd%22%2C%20%22lineCap%22%3A%20%22round%22%2C%20%22lineJoin%22%3A%20%22round%22%2C%20%22opacity%22%3A%201.0%2C%20%22radius%22%3A%2042.45893492268982%2C%20%22stroke%22%3A%20true%2C%20%22weight%22%3A%203%7D%0A%20%20%20%20%20%20%20%20%20%20%20%20%29.addTo%28map_8f87285f909e45c9934e020e26ba2b97%29%3B%0A%20%20%20%20%20%20%20%20%0A%20%20%20%20%0A%20%20%20%20%20%20%20%20var%20popup_69ed3026ed344ba7a7885c5e37185f27%20%3D%20L.popup%28%7B%22maxWidth%22%3A%20%22100%25%22%7D%29%3B%0A%0A%20%20%20%20%20%20%20%20%0A%20%20%20%20%20%20%20%20%20%20%20%20var%20html_cfa4ebc6f5274feaa994695bb6367ae8%20%3D%20%24%28%60%3Cdiv%20id%3D%22html_cfa4ebc6f5274feaa994695bb6367ae8%22%20style%3D%22width%3A%20100.0%25%3B%20height%3A%20100.0%25%3B%22%3ECongo%2C%20Dem.%20Rep.%3C/div%3E%60%29%5B0%5D%3B%0A%20%20%20%20%20%20%20%20%20%20%20%20popup_69ed3026ed344ba7a7885c5e37185f27.setContent%28html_cfa4ebc6f5274feaa994695bb6367ae8%29%3B%0A%20%20%20%20%20%20%20%20%0A%0A%20%20%20%20%20%20%20%20circle_marker_8f0c1d72f1454f10b66046d7e683515d.bindPopup%28popup_69ed3026ed344ba7a7885c5e37185f27%29%0A%20%20%20%20%20%20%20%20%3B%0A%0A%20%20%20%20%20%20%20%20%0A%20%20%20%20%0A%20%20%20%20%0A%20%20%20%20%20%20%20%20%20%20%20%20var%20circle_marker_2bde52b558e84c448b1f2f9566f7c12f%20%3D%20L.circleMarker%28%0A%20%20%20%20%20%20%20%20%20%20%20%20%20%20%20%20%5B-1.0%2C%2015.5%5D%2C%0A%20%20%20%20%20%20%20%20%20%20%20%20%20%20%20%20%7B%22bubblingMouseEvents%22%3A%20true%2C%20%22color%22%3A%20%22%233388ff%22%2C%20%22dashArray%22%3A%20null%2C%20%22dashOffset%22%3A%20null%2C%20%22fill%22%3A%20true%2C%20%22fillColor%22%3A%20%22blue%22%2C%20%22fillOpacity%22%3A%200.2%2C%20%22fillRule%22%3A%20%22evenodd%22%2C%20%22lineCap%22%3A%20%22round%22%2C%20%22lineJoin%22%3A%20%22round%22%2C%20%22opacity%22%3A%201.0%2C%20%22radius%22%3A%206.681874714978711%2C%20%22stroke%22%3A%20true%2C%20%22weight%22%3A%203%7D%0A%20%20%20%20%20%20%20%20%20%20%20%20%29.addTo%28map_8f87285f909e45c9934e020e26ba2b97%29%3B%0A%20%20%20%20%20%20%20%20%0A%20%20%20%20%0A%20%20%20%20%20%20%20%20var%20popup_7521a0e5b260439cb73f106e515bb1e7%20%3D%20L.popup%28%7B%22maxWidth%22%3A%20%22100%25%22%7D%29%3B%0A%0A%20%20%20%20%20%20%20%20%0A%20%20%20%20%20%20%20%20%20%20%20%20var%20html_d35ed9a784c5461ab91d231271bdf4b7%20%3D%20%24%28%60%3Cdiv%20id%3D%22html_d35ed9a784c5461ab91d231271bdf4b7%22%20style%3D%22width%3A%20100.0%25%3B%20height%3A%20100.0%25%3B%22%3ECongo%2C%20Rep.%3C/div%3E%60%29%5B0%5D%3B%0A%20%20%20%20%20%20%20%20%20%20%20%20popup_7521a0e5b260439cb73f106e515bb1e7.setContent%28html_d35ed9a784c5461ab91d231271bdf4b7%29%3B%0A%20%20%20%20%20%20%20%20%0A%0A%20%20%20%20%20%20%20%20circle_marker_2bde52b558e84c448b1f2f9566f7c12f.bindPopup%28popup_7521a0e5b260439cb73f106e515bb1e7%29%0A%20%20%20%20%20%20%20%20%3B%0A%0A%20%20%20%20%20%20%20%20%0A%20%20%20%20%0A%20%20%20%20%0A%20%20%20%20%20%20%20%20%20%20%20%20var%20circle_marker_d942ccf3aabf4690af9994c87fab34d3%20%3D%20L.circleMarker%28%0A%20%20%20%20%20%20%20%20%20%20%20%20%20%20%20%20%5B4.0%2C%20-73.25%5D%2C%0A%20%20%20%20%20%20%20%20%20%20%20%20%20%20%20%20%7B%22bubblingMouseEvents%22%3A%20true%2C%20%22color%22%3A%20%22%233388ff%22%2C%20%22dashArray%22%3A%20null%2C%20%22dashOffset%22%3A%20null%2C%20%22fill%22%3A%20true%2C%20%22fillColor%22%3A%20%22green%22%2C%20%22fillOpacity%22%3A%200.2%2C%20%22fillRule%22%3A%20%22evenodd%22%2C%20%22lineCap%22%3A%20%22round%22%2C%20%22lineJoin%22%3A%20%22round%22%2C%20%22opacity%22%3A%201.0%2C%20%22radius%22%3A%209.002383384413296%2C%20%22stroke%22%3A%20true%2C%20%22weight%22%3A%203%7D%0A%20%20%20%20%20%20%20%20%20%20%20%20%29.addTo%28map_8f87285f909e45c9934e020e26ba2b97%29%3B%0A%20%20%20%20%20%20%20%20%0A%20%20%20%20%0A%20%20%20%20%20%20%20%20var%20popup_0a660e7c8935405da841ec840ba6dbfc%20%3D%20L.popup%28%7B%22maxWidth%22%3A%20%22100%25%22%7D%29%3B%0A%0A%20%20%20%20%20%20%20%20%0A%20%20%20%20%20%20%20%20%20%20%20%20var%20html_16f90f19802345398bee5637d1445ab5%20%3D%20%24%28%60%3Cdiv%20id%3D%22html_16f90f19802345398bee5637d1445ab5%22%20style%3D%22width%3A%20100.0%25%3B%20height%3A%20100.0%25%3B%22%3EColombia%3C/div%3E%60%29%5B0%5D%3B%0A%20%20%20%20%20%20%20%20%20%20%20%20popup_0a660e7c8935405da841ec840ba6dbfc.setContent%28html_16f90f19802345398bee5637d1445ab5%29%3B%0A%20%20%20%20%20%20%20%20%0A%0A%20%20%20%20%20%20%20%20circle_marker_d942ccf3aabf4690af9994c87fab34d3.bindPopup%28popup_0a660e7c8935405da841ec840ba6dbfc%29%0A%20%20%20%20%20%20%20%20%3B%0A%0A%20%20%20%20%20%20%20%20%0A%20%20%20%20%0A%20%20%20%20%0A%20%20%20%20%20%20%20%20%20%20%20%20var%20circle_marker_0b872dad07724e268e38570fab543831%20%3D%20L.circleMarker%28%0A%20%20%20%20%20%20%20%20%20%20%20%20%20%20%20%20%5B-12.23333%2C%2044.44553%5D%2C%0A%20%20%20%20%20%20%20%20%20%20%20%20%20%20%20%20%7B%22bubblingMouseEvents%22%3A%20true%2C%20%22color%22%3A%20%22%233388ff%22%2C%20%22dashArray%22%3A%20null%2C%20%22dashOffset%22%3A%20null%2C%20%22fill%22%3A%20true%2C%20%22fillColor%22%3A%20%22blue%22%2C%20%22fillOpacity%22%3A%200.2%2C%20%22fillRule%22%3A%20%22evenodd%22%2C%20%22lineCap%22%3A%20%22round%22%2C%20%22lineJoin%22%3A%20%22round%22%2C%20%22opacity%22%3A%201.0%2C%20%22radius%22%3A%203.1816440984856076%2C%20%22stroke%22%3A%20true%2C%20%22weight%22%3A%203%7D%0A%20%20%20%20%20%20%20%20%20%20%20%20%29.addTo%28map_8f87285f909e45c9934e020e26ba2b97%29%3B%0A%20%20%20%20%20%20%20%20%0A%20%20%20%20%0A%20%20%20%20%20%20%20%20var%20popup_15f7b80d7d564da09896b3ecd79fff5e%20%3D%20L.popup%28%7B%22maxWidth%22%3A%20%22100%25%22%7D%29%3B%0A%0A%20%20%20%20%20%20%20%20%0A%20%20%20%20%20%20%20%20%20%20%20%20var%20html_5fa56744841c4989972df3aebd85ffb9%20%3D%20%24%28%60%3Cdiv%20id%3D%22html_5fa56744841c4989972df3aebd85ffb9%22%20style%3D%22width%3A%20100.0%25%3B%20height%3A%20100.0%25%3B%22%3EComoros%3C/div%3E%60%29%5B0%5D%3B%0A%20%20%20%20%20%20%20%20%20%20%20%20popup_15f7b80d7d564da09896b3ecd79fff5e.setContent%28html_5fa56744841c4989972df3aebd85ffb9%29%3B%0A%20%20%20%20%20%20%20%20%0A%0A%20%20%20%20%20%20%20%20circle_marker_0b872dad07724e268e38570fab543831.bindPopup%28popup_15f7b80d7d564da09896b3ecd79fff5e%29%0A%20%20%20%20%20%20%20%20%3B%0A%0A%20%20%20%20%20%20%20%20%0A%20%20%20%20%0A%20%20%20%20%0A%20%20%20%20%20%20%20%20%20%20%20%20var%20circle_marker_6b7ce664ede647b8873a7ffff04d65b1%20%3D%20L.circleMarker%28%0A%20%20%20%20%20%20%20%20%20%20%20%20%20%20%20%20%5B16.0%2C%20-24.0%5D%2C%0A%20%20%20%20%20%20%20%20%20%20%20%20%20%20%20%20%7B%22bubblingMouseEvents%22%3A%20true%2C%20%22color%22%3A%20%22%233388ff%22%2C%20%22dashArray%22%3A%20null%2C%20%22dashOffset%22%3A%20null%2C%20%22fill%22%3A%20true%2C%20%22fillColor%22%3A%20%22blue%22%2C%20%22fillOpacity%22%3A%200.2%2C%20%22fillRule%22%3A%20%22evenodd%22%2C%20%22lineCap%22%3A%20%22round%22%2C%20%22lineJoin%22%3A%20%22round%22%2C%20%22opacity%22%3A%201.0%2C%20%22radius%22%3A%201.4667952657766725%2C%20%22stroke%22%3A%20true%2C%20%22weight%22%3A%203%7D%0A%20%20%20%20%20%20%20%20%20%20%20%20%29.addTo%28map_8f87285f909e45c9934e020e26ba2b97%29%3B%0A%20%20%20%20%20%20%20%20%0A%20%20%20%20%0A%20%20%20%20%20%20%20%20var%20popup_3ff2bc4410b046f9923df83eec5eaa23%20%3D%20L.popup%28%7B%22maxWidth%22%3A%20%22100%25%22%7D%29%3B%0A%0A%20%20%20%20%20%20%20%20%0A%20%20%20%20%20%20%20%20%20%20%20%20var%20html_577baf5b0f3c4c92bb55304befea9a7b%20%3D%20%24%28%60%3Cdiv%20id%3D%22html_577baf5b0f3c4c92bb55304befea9a7b%22%20style%3D%22width%3A%20100.0%25%3B%20height%3A%20100.0%25%3B%22%3ECape%20Verde%3C/div%3E%60%29%5B0%5D%3B%0A%20%20%20%20%20%20%20%20%20%20%20%20popup_3ff2bc4410b046f9923df83eec5eaa23.setContent%28html_577baf5b0f3c4c92bb55304befea9a7b%29%3B%0A%20%20%20%20%20%20%20%20%0A%0A%20%20%20%20%20%20%20%20circle_marker_6b7ce664ede647b8873a7ffff04d65b1.bindPopup%28popup_3ff2bc4410b046f9923df83eec5eaa23%29%0A%20%20%20%20%20%20%20%20%3B%0A%0A%20%20%20%20%20%20%20%20%0A%20%20%20%20%0A%20%20%20%20%0A%20%20%20%20%20%20%20%20%20%20%20%20var%20circle_marker_7019bdd090b74e4aab042a7ff4d7bd2a%20%3D%20L.circleMarker%28%0A%20%20%20%20%20%20%20%20%20%20%20%20%20%20%20%20%5B10.0%2C%20-84.0%5D%2C%0A%20%20%20%20%20%20%20%20%20%20%20%20%20%20%20%20%7B%22bubblingMouseEvents%22%3A%20true%2C%20%22color%22%3A%20%22%233388ff%22%2C%20%22dashArray%22%3A%20null%2C%20%22dashOffset%22%3A%20null%2C%20%22fill%22%3A%20true%2C%20%22fillColor%22%3A%20%22green%22%2C%20%22fillOpacity%22%3A%200.2%2C%20%22fillRule%22%3A%20%22evenodd%22%2C%20%22lineCap%22%3A%20%22round%22%2C%20%22lineJoin%22%3A%20%22round%22%2C%20%22opacity%22%3A%201.0%2C%20%22radius%22%3A%201.402496325012203%2C%20%22stroke%22%3A%20true%2C%20%22weight%22%3A%203%7D%0A%20%20%20%20%20%20%20%20%20%20%20%20%29.addTo%28map_8f87285f909e45c9934e020e26ba2b97%29%3B%0A%20%20%20%20%20%20%20%20%0A%20%20%20%20%0A%20%20%20%20%20%20%20%20var%20popup_e5285985a9e648ec81396faa843cd65e%20%3D%20L.popup%28%7B%22maxWidth%22%3A%20%22100%25%22%7D%29%3B%0A%0A%20%20%20%20%20%20%20%20%0A%20%20%20%20%20%20%20%20%20%20%20%20var%20html_3ea99311719f4971b7397e8c91edae8f%20%3D%20%24%28%60%3Cdiv%20id%3D%22html_3ea99311719f4971b7397e8c91edae8f%22%20style%3D%22width%3A%20100.0%25%3B%20height%3A%20100.0%25%3B%22%3ECosta%20Rica%3C/div%3E%60%29%5B0%5D%3B%0A%20%20%20%20%20%20%20%20%20%20%20%20popup_e5285985a9e648ec81396faa843cd65e.setContent%28html_3ea99311719f4971b7397e8c91edae8f%29%3B%0A%20%20%20%20%20%20%20%20%0A%0A%20%20%20%20%20%20%20%20circle_marker_7019bdd090b74e4aab042a7ff4d7bd2a.bindPopup%28popup_e5285985a9e648ec81396faa843cd65e%29%0A%20%20%20%20%20%20%20%20%3B%0A%0A%20%20%20%20%20%20%20%20%0A%20%20%20%20%0A%20%20%20%20%0A%20%20%20%20%20%20%20%20%20%20%20%20var%20circle_marker_ed09e1b6c0cd4a7492ddf046602bc811%20%3D%20L.circleMarker%28%0A%20%20%20%20%20%20%20%20%20%20%20%20%20%20%20%20%5B49.75%2C%2015.0%5D%2C%0A%20%20%20%20%20%20%20%20%20%20%20%20%20%20%20%20%7B%22bubblingMouseEvents%22%3A%20true%2C%20%22color%22%3A%20%22%233388ff%22%2C%20%22dashArray%22%3A%20null%2C%20%22dashOffset%22%3A%20null%2C%20%22fill%22%3A%20true%2C%20%22fillColor%22%3A%20%22black%22%2C%20%22fillOpacity%22%3A%200.2%2C%20%22fillRule%22%3A%20%22evenodd%22%2C%20%22lineCap%22%3A%20%22round%22%2C%20%22lineJoin%22%3A%20%22round%22%2C%20%22opacity%22%3A%201.0%2C%20%22radius%22%3A%200.31720301862166483%2C%20%22stroke%22%3A%20true%2C%20%22weight%22%3A%203%7D%0A%20%20%20%20%20%20%20%20%20%20%20%20%29.addTo%28map_8f87285f909e45c9934e020e26ba2b97%29%3B%0A%20%20%20%20%20%20%20%20%0A%20%20%20%20%0A%20%20%20%20%20%20%20%20var%20popup_1486e130e4404b88b6fd32a47575fd26%20%3D%20L.popup%28%7B%22maxWidth%22%3A%20%22100%25%22%7D%29%3B%0A%0A%20%20%20%20%20%20%20%20%0A%20%20%20%20%20%20%20%20%20%20%20%20var%20html_7e81103358dd4543bc95194e1322d328%20%3D%20%24%28%60%3Cdiv%20id%3D%22html_7e81103358dd4543bc95194e1322d328%22%20style%3D%22width%3A%20100.0%25%3B%20height%3A%20100.0%25%3B%22%3ECzech%20Republic%3C/div%3E%60%29%5B0%5D%3B%0A%20%20%20%20%20%20%20%20%20%20%20%20popup_1486e130e4404b88b6fd32a47575fd26.setContent%28html_7e81103358dd4543bc95194e1322d328%29%3B%0A%20%20%20%20%20%20%20%20%0A%0A%20%20%20%20%20%20%20%20circle_marker_ed09e1b6c0cd4a7492ddf046602bc811.bindPopup%28popup_1486e130e4404b88b6fd32a47575fd26%29%0A%20%20%20%20%20%20%20%20%3B%0A%0A%20%20%20%20%20%20%20%20%0A%20%20%20%20%0A%20%20%20%20%0A%20%20%20%20%20%20%20%20%20%20%20%20var%20circle_marker_079e58ffdfc2437dbb53d793f15a71cb%20%3D%20L.circleMarker%28%0A%20%20%20%20%20%20%20%20%20%20%20%20%20%20%20%20%5B51.5%2C%2010.5%5D%2C%0A%20%20%20%20%20%20%20%20%20%20%20%20%20%20%20%20%7B%22bubblingMouseEvents%22%3A%20true%2C%20%22color%22%3A%20%22%233388ff%22%2C%20%22dashArray%22%3A%20null%2C%20%22dashOffset%22%3A%20null%2C%20%22fill%22%3A%20true%2C%20%22fillColor%22%3A%20%22black%22%2C%20%22fillOpacity%22%3A%200.2%2C%20%22fillRule%22%3A%20%22evenodd%22%2C%20%22lineCap%22%3A%20%22round%22%2C%20%22lineJoin%22%3A%20%22round%22%2C%20%22opacity%22%3A%201.0%2C%20%22radius%22%3A%202.957623648166546%2C%20%22stroke%22%3A%20true%2C%20%22weight%22%3A%203%7D%0A%20%20%20%20%20%20%20%20%20%20%20%20%29.addTo%28map_8f87285f909e45c9934e020e26ba2b97%29%3B%0A%20%20%20%20%20%20%20%20%0A%20%20%20%20%0A%20%20%20%20%20%20%20%20var%20popup_a398412a62fc42cba91303ebb401fa47%20%3D%20L.popup%28%7B%22maxWidth%22%3A%20%22100%25%22%7D%29%3B%0A%0A%20%20%20%20%20%20%20%20%0A%20%20%20%20%20%20%20%20%20%20%20%20var%20html_7cec5c80921d4594a405ccfd8aa196f9%20%3D%20%24%28%60%3Cdiv%20id%3D%22html_7cec5c80921d4594a405ccfd8aa196f9%22%20style%3D%22width%3A%20100.0%25%3B%20height%3A%20100.0%25%3B%22%3EGermany%3C/div%3E%60%29%5B0%5D%3B%0A%20%20%20%20%20%20%20%20%20%20%20%20popup_a398412a62fc42cba91303ebb401fa47.setContent%28html_7cec5c80921d4594a405ccfd8aa196f9%29%3B%0A%20%20%20%20%20%20%20%20%0A%0A%20%20%20%20%20%20%20%20circle_marker_079e58ffdfc2437dbb53d793f15a71cb.bindPopup%28popup_a398412a62fc42cba91303ebb401fa47%29%0A%20%20%20%20%20%20%20%20%3B%0A%0A%20%20%20%20%20%20%20%20%0A%20%20%20%20%0A%20%20%20%20%0A%20%20%20%20%20%20%20%20%20%20%20%20var%20circle_marker_3c8adc97d394457d945fb38a35ffb120%20%3D%20L.circleMarker%28%0A%20%20%20%20%20%20%20%20%20%20%20%20%20%20%20%20%5B11.58901%2C%2043.14503%5D%2C%0A%20%20%20%20%20%20%20%20%20%20%20%20%20%20%20%20%7B%22bubblingMouseEvents%22%3A%20true%2C%20%22color%22%3A%20%22%233388ff%22%2C%20%22dashArray%22%3A%20null%2C%20%22dashOffset%22%3A%20null%2C%20%22fill%22%3A%20true%2C%20%22fillColor%22%3A%20%22blue%22%2C%20%22fillOpacity%22%3A%200.2%2C%20%22fillRule%22%3A%20%22evenodd%22%2C%20%22lineCap%22%3A%20%22round%22%2C%20%22lineJoin%22%3A%20%22round%22%2C%20%22opacity%22%3A%201.0%2C%20%22radius%22%3A%202.244091994176071%2C%20%22stroke%22%3A%20true%2C%20%22weight%22%3A%203%7D%0A%20%20%20%20%20%20%20%20%20%20%20%20%29.addTo%28map_8f87285f909e45c9934e020e26ba2b97%29%3B%0A%20%20%20%20%20%20%20%20%0A%20%20%20%20%0A%20%20%20%20%20%20%20%20var%20popup_e781b56375ab47edb4b4dbd165556de1%20%3D%20L.popup%28%7B%22maxWidth%22%3A%20%22100%25%22%7D%29%3B%0A%0A%20%20%20%20%20%20%20%20%0A%20%20%20%20%20%20%20%20%20%20%20%20var%20html_9f08a825c1bd49d0a9c30dca074dc3b2%20%3D%20%24%28%60%3Cdiv%20id%3D%22html_9f08a825c1bd49d0a9c30dca074dc3b2%22%20style%3D%22width%3A%20100.0%25%3B%20height%3A%20100.0%25%3B%22%3EDjibouti%3C/div%3E%60%29%5B0%5D%3B%0A%20%20%20%20%20%20%20%20%20%20%20%20popup_e781b56375ab47edb4b4dbd165556de1.setContent%28html_9f08a825c1bd49d0a9c30dca074dc3b2%29%3B%0A%20%20%20%20%20%20%20%20%0A%0A%20%20%20%20%20%20%20%20circle_marker_3c8adc97d394457d945fb38a35ffb120.bindPopup%28popup_e781b56375ab47edb4b4dbd165556de1%29%0A%20%20%20%20%20%20%20%20%3B%0A%0A%20%20%20%20%20%20%20%20%0A%20%20%20%20%0A%20%20%20%20%0A%20%20%20%20%20%20%20%20%20%20%20%20var%20circle_marker_1080f9a998ac4006a759e01c0821a965%20%3D%20L.circleMarker%28%0A%20%20%20%20%20%20%20%20%20%20%20%20%20%20%20%20%5B56.0%2C%2010.0%5D%2C%0A%20%20%20%20%20%20%20%20%20%20%20%20%20%20%20%20%7B%22bubblingMouseEvents%22%3A%20true%2C%20%22color%22%3A%20%22%233388ff%22%2C%20%22dashArray%22%3A%20null%2C%20%22dashOffset%22%3A%20null%2C%20%22fill%22%3A%20true%2C%20%22fillColor%22%3A%20%22black%22%2C%20%22fillOpacity%22%3A%200.2%2C%20%22fillRule%22%3A%20%22evenodd%22%2C%20%22lineCap%22%3A%20%22round%22%2C%20%22lineJoin%22%3A%20%22round%22%2C%20%22opacity%22%3A%201.0%2C%20%22radius%22%3A%201.0884180738164053%2C%20%22stroke%22%3A%20true%2C%20%22weight%22%3A%203%7D%0A%20%20%20%20%20%20%20%20%20%20%20%20%29.addTo%28map_8f87285f909e45c9934e020e26ba2b97%29%3B%0A%20%20%20%20%20%20%20%20%0A%20%20%20%20%0A%20%20%20%20%20%20%20%20var%20popup_f217d7421f634020857ce0d1dfa02ea5%20%3D%20L.popup%28%7B%22maxWidth%22%3A%20%22100%25%22%7D%29%3B%0A%0A%20%20%20%20%20%20%20%20%0A%20%20%20%20%20%20%20%20%20%20%20%20var%20html_19bf47770cc74f0c957dc81392c5151a%20%3D%20%24%28%60%3Cdiv%20id%3D%22html_19bf47770cc74f0c957dc81392c5151a%22%20style%3D%22width%3A%20100.0%25%3B%20height%3A%20100.0%25%3B%22%3EDenmark%3C/div%3E%60%29%5B0%5D%3B%0A%20%20%20%20%20%20%20%20%20%20%20%20popup_f217d7421f634020857ce0d1dfa02ea5.setContent%28html_19bf47770cc74f0c957dc81392c5151a%29%3B%0A%20%20%20%20%20%20%20%20%0A%0A%20%20%20%20%20%20%20%20circle_marker_1080f9a998ac4006a759e01c0821a965.bindPopup%28popup_f217d7421f634020857ce0d1dfa02ea5%29%0A%20%20%20%20%20%20%20%20%3B%0A%0A%20%20%20%20%20%20%20%20%0A%20%20%20%20%0A%20%20%20%20%0A%20%20%20%20%20%20%20%20%20%20%20%20var%20circle_marker_1dfc6bed4d4040c492a4681a3a78b885%20%3D%20L.circleMarker%28%0A%20%20%20%20%20%20%20%20%20%20%20%20%20%20%20%20%5B19.0%2C%20-70.66667%5D%2C%0A%20%20%20%20%20%20%20%20%20%20%20%20%20%20%20%20%7B%22bubblingMouseEvents%22%3A%20true%2C%20%22color%22%3A%20%22%233388ff%22%2C%20%22dashArray%22%3A%20null%2C%20%22dashOffset%22%3A%20null%2C%20%22fill%22%3A%20true%2C%20%22fillColor%22%3A%20%22green%22%2C%20%22fillOpacity%22%3A%200.2%2C%20%22fillRule%22%3A%20%22evenodd%22%2C%20%22lineCap%22%3A%20%22round%22%2C%20%22lineJoin%22%3A%20%22round%22%2C%20%22opacity%22%3A%201.0%2C%20%22radius%22%3A%202.6350734064183507%2C%20%22stroke%22%3A%20true%2C%20%22weight%22%3A%203%7D%0A%20%20%20%20%20%20%20%20%20%20%20%20%29.addTo%28map_8f87285f909e45c9934e020e26ba2b97%29%3B%0A%20%20%20%20%20%20%20%20%0A%20%20%20%20%0A%20%20%20%20%20%20%20%20var%20popup_84725ef277534ddb96726868cff8f765%20%3D%20L.popup%28%7B%22maxWidth%22%3A%20%22100%25%22%7D%29%3B%0A%0A%20%20%20%20%20%20%20%20%0A%20%20%20%20%20%20%20%20%20%20%20%20var%20html_1b7b53e0724e4adf9d29a5e7ceeb479e%20%3D%20%24%28%60%3Cdiv%20id%3D%22html_1b7b53e0724e4adf9d29a5e7ceeb479e%22%20style%3D%22width%3A%20100.0%25%3B%20height%3A%20100.0%25%3B%22%3EDominican%20Republic%3C/div%3E%60%29%5B0%5D%3B%0A%20%20%20%20%20%20%20%20%20%20%20%20popup_84725ef277534ddb96726868cff8f765.setContent%28html_1b7b53e0724e4adf9d29a5e7ceeb479e%29%3B%0A%20%20%20%20%20%20%20%20%0A%0A%20%20%20%20%20%20%20%20circle_marker_1dfc6bed4d4040c492a4681a3a78b885.bindPopup%28popup_84725ef277534ddb96726868cff8f765%29%0A%20%20%20%20%20%20%20%20%3B%0A%0A%20%20%20%20%20%20%20%20%0A%20%20%20%20%0A%20%20%20%20%0A%20%20%20%20%20%20%20%20%20%20%20%20var%20circle_marker_2a5abf44445945efb3910011066afa8c%20%3D%20L.circleMarker%28%0A%20%20%20%20%20%20%20%20%20%20%20%20%20%20%20%20%5B28.0%2C%203.0%5D%2C%0A%20%20%20%20%20%20%20%20%20%20%20%20%20%20%20%20%7B%22bubblingMouseEvents%22%3A%20true%2C%20%22color%22%3A%20%22%233388ff%22%2C%20%22dashArray%22%3A%20null%2C%20%22dashOffset%22%3A%20null%2C%20%22fill%22%3A%20true%2C%20%22fillColor%22%3A%20%22blue%22%2C%20%22fillOpacity%22%3A%200.2%2C%20%22fillRule%22%3A%20%22evenodd%22%2C%20%22lineCap%22%3A%20%22round%22%2C%20%22lineJoin%22%3A%20%22round%22%2C%20%22opacity%22%3A%201.0%2C%20%22radius%22%3A%208.547725420605834%2C%20%22stroke%22%3A%20true%2C%20%22weight%22%3A%203%7D%0A%20%20%20%20%20%20%20%20%20%20%20%20%29.addTo%28map_8f87285f909e45c9934e020e26ba2b97%29%3B%0A%20%20%20%20%20%20%20%20%0A%20%20%20%20%0A%20%20%20%20%20%20%20%20var%20popup_ff609a07e41d4343ba6c851ab1d06d5f%20%3D%20L.popup%28%7B%22maxWidth%22%3A%20%22100%25%22%7D%29%3B%0A%0A%20%20%20%20%20%20%20%20%0A%20%20%20%20%20%20%20%20%20%20%20%20var%20html_1f2070afc2a8482f9b2124212412eb3b%20%3D%20%24%28%60%3Cdiv%20id%3D%22html_1f2070afc2a8482f9b2124212412eb3b%22%20style%3D%22width%3A%20100.0%25%3B%20height%3A%20100.0%25%3B%22%3EAlgeria%3C/div%3E%60%29%5B0%5D%3B%0A%20%20%20%20%20%20%20%20%20%20%20%20popup_ff609a07e41d4343ba6c851ab1d06d5f.setContent%28html_1f2070afc2a8482f9b2124212412eb3b%29%3B%0A%20%20%20%20%20%20%20%20%0A%0A%20%20%20%20%20%20%20%20circle_marker_2a5abf44445945efb3910011066afa8c.bindPopup%28popup_ff609a07e41d4343ba6c851ab1d06d5f%29%0A%20%20%20%20%20%20%20%20%3B%0A%0A%20%20%20%20%20%20%20%20%0A%20%20%20%20%0A%20%20%20%20%0A%20%20%20%20%20%20%20%20%20%20%20%20var%20circle_marker_8874c6f5ee154a2da3a9912ff018b488%20%3D%20L.circleMarker%28%0A%20%20%20%20%20%20%20%20%20%20%20%20%20%20%20%20%5B-1.25%2C%20-78.25%5D%2C%0A%20%20%20%20%20%20%20%20%20%20%20%20%20%20%20%20%7B%22bubblingMouseEvents%22%3A%20true%2C%20%22color%22%3A%20%22%233388ff%22%2C%20%22dashArray%22%3A%20null%2C%20%22dashOffset%22%3A%20null%2C%20%22fill%22%3A%20true%2C%20%22fillColor%22%3A%20%22green%22%2C%20%22fillOpacity%22%3A%200.2%2C%20%22fillRule%22%3A%20%22evenodd%22%2C%20%22lineCap%22%3A%20%22round%22%2C%20%22lineJoin%22%3A%20%22round%22%2C%20%22opacity%22%3A%201.0%2C%20%22radius%22%3A%204.34440267014846%2C%20%22stroke%22%3A%20true%2C%20%22weight%22%3A%203%7D%0A%20%20%20%20%20%20%20%20%20%20%20%20%29.addTo%28map_8f87285f909e45c9934e020e26ba2b97%29%3B%0A%20%20%20%20%20%20%20%20%0A%20%20%20%20%0A%20%20%20%20%20%20%20%20var%20popup_093ff0343c1c46bfbb2bf85503c14880%20%3D%20L.popup%28%7B%22maxWidth%22%3A%20%22100%25%22%7D%29%3B%0A%0A%20%20%20%20%20%20%20%20%0A%20%20%20%20%20%20%20%20%20%20%20%20var%20html_8c17875ee4a142baa3779425c5cb62af%20%3D%20%24%28%60%3Cdiv%20id%3D%22html_8c17875ee4a142baa3779425c5cb62af%22%20style%3D%22width%3A%20100.0%25%3B%20height%3A%20100.0%25%3B%22%3EEcuador%3C/div%3E%60%29%5B0%5D%3B%0A%20%20%20%20%20%20%20%20%20%20%20%20popup_093ff0343c1c46bfbb2bf85503c14880.setContent%28html_8c17875ee4a142baa3779425c5cb62af%29%3B%0A%20%20%20%20%20%20%20%20%0A%0A%20%20%20%20%20%20%20%20circle_marker_8874c6f5ee154a2da3a9912ff018b488.bindPopup%28popup_093ff0343c1c46bfbb2bf85503c14880%29%0A%20%20%20%20%20%20%20%20%3B%0A%0A%20%20%20%20%20%20%20%20%0A%20%20%20%20%0A%20%20%20%20%0A%20%20%20%20%20%20%20%20%20%20%20%20var%20circle_marker_b0735b722ba547adbc6ad6ed831747ad%20%3D%20L.circleMarker%28%0A%20%20%20%20%20%20%20%20%20%20%20%20%20%20%20%20%5B27.0%2C%2030.0%5D%2C%0A%20%20%20%20%20%20%20%20%20%20%20%20%20%20%20%20%7B%22bubblingMouseEvents%22%3A%20true%2C%20%22color%22%3A%20%22%233388ff%22%2C%20%22dashArray%22%3A%20null%2C%20%22dashOffset%22%3A%20null%2C%20%22fill%22%3A%20true%2C%20%22fillColor%22%3A%20%22blue%22%2C%20%22fillOpacity%22%3A%200.2%2C%20%22fillRule%22%3A%20%22evenodd%22%2C%20%22lineCap%22%3A%20%22round%22%2C%20%22lineJoin%22%3A%20%22round%22%2C%20%22opacity%22%3A%201.0%2C%20%22radius%22%3A%206.652627784125568%2C%20%22stroke%22%3A%20true%2C%20%22weight%22%3A%203%7D%0A%20%20%20%20%20%20%20%20%20%20%20%20%29.addTo%28map_8f87285f909e45c9934e020e26ba2b97%29%3B%0A%20%20%20%20%20%20%20%20%0A%20%20%20%20%0A%20%20%20%20%20%20%20%20var%20popup_df6d2b2db8d84b87bf02b1977ae89af8%20%3D%20L.popup%28%7B%22maxWidth%22%3A%20%22100%25%22%7D%29%3B%0A%0A%20%20%20%20%20%20%20%20%0A%20%20%20%20%20%20%20%20%20%20%20%20var%20html_0a2eebfe14554545919ac51cacc36025%20%3D%20%24%28%60%3Cdiv%20id%3D%22html_0a2eebfe14554545919ac51cacc36025%22%20style%3D%22width%3A%20100.0%25%3B%20height%3A%20100.0%25%3B%22%3EEgypt%3C/div%3E%60%29%5B0%5D%3B%0A%20%20%20%20%20%20%20%20%20%20%20%20popup_df6d2b2db8d84b87bf02b1977ae89af8.setContent%28html_0a2eebfe14554545919ac51cacc36025%29%3B%0A%20%20%20%20%20%20%20%20%0A%0A%20%20%20%20%20%20%20%20circle_marker_b0735b722ba547adbc6ad6ed831747ad.bindPopup%28popup_df6d2b2db8d84b87bf02b1977ae89af8%29%0A%20%20%20%20%20%20%20%20%3B%0A%0A%20%20%20%20%20%20%20%20%0A%20%20%20%20%0A%20%20%20%20%0A%20%20%20%20%20%20%20%20%20%20%20%20var%20circle_marker_1408858b0b2a482299a893627f16fa7d%20%3D%20L.circleMarker%28%0A%20%20%20%20%20%20%20%20%20%20%20%20%20%20%20%20%5B40.0%2C%20-4.0%5D%2C%0A%20%20%20%20%20%20%20%20%20%20%20%20%20%20%20%20%7B%22bubblingMouseEvents%22%3A%20true%2C%20%22color%22%3A%20%22%233388ff%22%2C%20%22dashArray%22%3A%20null%2C%20%22dashOffset%22%3A%20null%2C%20%22fill%22%3A%20true%2C%20%22fillColor%22%3A%20%22black%22%2C%20%22fillOpacity%22%3A%200.2%2C%20%22fillRule%22%3A%20%22evenodd%22%2C%20%22lineCap%22%3A%20%22round%22%2C%20%22lineJoin%22%3A%20%22round%22%2C%20%22opacity%22%3A%201.0%2C%20%22radius%22%3A%205.912389201233562%2C%20%22stroke%22%3A%20true%2C%20%22weight%22%3A%203%7D%0A%20%20%20%20%20%20%20%20%20%20%20%20%29.addTo%28map_8f87285f909e45c9934e020e26ba2b97%29%3B%0A%20%20%20%20%20%20%20%20%0A%20%20%20%20%0A%20%20%20%20%20%20%20%20var%20popup_5c9306816ab84efa87fe6f16a8a15478%20%3D%20L.popup%28%7B%22maxWidth%22%3A%20%22100%25%22%7D%29%3B%0A%0A%20%20%20%20%20%20%20%20%0A%20%20%20%20%20%20%20%20%20%20%20%20var%20html_577a3c914d72479d8e8e969eb3b28d7f%20%3D%20%24%28%60%3Cdiv%20id%3D%22html_577a3c914d72479d8e8e969eb3b28d7f%22%20style%3D%22width%3A%20100.0%25%3B%20height%3A%20100.0%25%3B%22%3ESpain%3C/div%3E%60%29%5B0%5D%3B%0A%20%20%20%20%20%20%20%20%20%20%20%20popup_5c9306816ab84efa87fe6f16a8a15478.setContent%28html_577a3c914d72479d8e8e969eb3b28d7f%29%3B%0A%20%20%20%20%20%20%20%20%0A%0A%20%20%20%20%20%20%20%20circle_marker_1408858b0b2a482299a893627f16fa7d.bindPopup%28popup_5c9306816ab84efa87fe6f16a8a15478%29%0A%20%20%20%20%20%20%20%20%3B%0A%0A%20%20%20%20%20%20%20%20%0A%20%20%20%20%0A%20%20%20%20%0A%20%20%20%20%20%20%20%20%20%20%20%20var%20circle_marker_9ae0dda384cb41488fa28aa10c8f0e92%20%3D%20L.circleMarker%28%0A%20%20%20%20%20%20%20%20%20%20%20%20%20%20%20%20%5B59.0%2C%2026.0%5D%2C%0A%20%20%20%20%20%20%20%20%20%20%20%20%20%20%20%20%7B%22bubblingMouseEvents%22%3A%20true%2C%20%22color%22%3A%20%22%233388ff%22%2C%20%22dashArray%22%3A%20null%2C%20%22dashOffset%22%3A%20null%2C%20%22fill%22%3A%20true%2C%20%22fillColor%22%3A%20%22black%22%2C%20%22fillOpacity%22%3A%200.2%2C%20%22fillRule%22%3A%20%22evenodd%22%2C%20%22lineCap%22%3A%20%22round%22%2C%20%22lineJoin%22%3A%20%22round%22%2C%20%22opacity%22%3A%201.0%2C%20%22radius%22%3A%200.6446344362605358%2C%20%22stroke%22%3A%20true%2C%20%22weight%22%3A%203%7D%0A%20%20%20%20%20%20%20%20%20%20%20%20%29.addTo%28map_8f87285f909e45c9934e020e26ba2b97%29%3B%0A%20%20%20%20%20%20%20%20%0A%20%20%20%20%0A%20%20%20%20%20%20%20%20var%20popup_fbb33aecf65f47d189330edbeff20625%20%3D%20L.popup%28%7B%22maxWidth%22%3A%20%22100%25%22%7D%29%3B%0A%0A%20%20%20%20%20%20%20%20%0A%20%20%20%20%20%20%20%20%20%20%20%20var%20html_2d709071bb43410b82caff955659fd74%20%3D%20%24%28%60%3Cdiv%20id%3D%22html_2d709071bb43410b82caff955659fd74%22%20style%3D%22width%3A%20100.0%25%3B%20height%3A%20100.0%25%3B%22%3EEstonia%3C/div%3E%60%29%5B0%5D%3B%0A%20%20%20%20%20%20%20%20%20%20%20%20popup_fbb33aecf65f47d189330edbeff20625.setContent%28html_2d709071bb43410b82caff955659fd74%29%3B%0A%20%20%20%20%20%20%20%20%0A%0A%20%20%20%20%20%20%20%20circle_marker_9ae0dda384cb41488fa28aa10c8f0e92.bindPopup%28popup_fbb33aecf65f47d189330edbeff20625%29%0A%20%20%20%20%20%20%20%20%3B%0A%0A%20%20%20%20%20%20%20%20%0A%20%20%20%20%0A%20%20%20%20%0A%20%20%20%20%20%20%20%20%20%20%20%20var%20circle_marker_4938793b19c44e7e83f189334b153fe8%20%3D%20L.circleMarker%28%0A%20%20%20%20%20%20%20%20%20%20%20%20%20%20%20%20%5B9.0%2C%2039.5%5D%2C%0A%20%20%20%20%20%20%20%20%20%20%20%20%20%20%20%20%7B%22bubblingMouseEvents%22%3A%20true%2C%20%22color%22%3A%20%22%233388ff%22%2C%20%22dashArray%22%3A%20null%2C%20%22dashOffset%22%3A%20null%2C%20%22fill%22%3A%20true%2C%20%22fillColor%22%3A%20%22blue%22%2C%20%22fillOpacity%22%3A%200.2%2C%20%22fillRule%22%3A%20%22evenodd%22%2C%20%22lineCap%22%3A%20%22round%22%2C%20%22lineJoin%22%3A%20%22round%22%2C%20%22opacity%22%3A%201.0%2C%20%22radius%22%3A%2032.036203795508186%2C%20%22stroke%22%3A%20true%2C%20%22weight%22%3A%203%7D%0A%20%20%20%20%20%20%20%20%20%20%20%20%29.addTo%28map_8f87285f909e45c9934e020e26ba2b97%29%3B%0A%20%20%20%20%20%20%20%20%0A%20%20%20%20%0A%20%20%20%20%20%20%20%20var%20popup_60e5dd254dfd4890bfa6cccb718d4959%20%3D%20L.popup%28%7B%22maxWidth%22%3A%20%22100%25%22%7D%29%3B%0A%0A%20%20%20%20%20%20%20%20%0A%20%20%20%20%20%20%20%20%20%20%20%20var%20html_911f6b5c9e224e5ba198cbdec7acb4b4%20%3D%20%24%28%60%3Cdiv%20id%3D%22html_911f6b5c9e224e5ba198cbdec7acb4b4%22%20style%3D%22width%3A%20100.0%25%3B%20height%3A%20100.0%25%3B%22%3EEthiopia%3C/div%3E%60%29%5B0%5D%3B%0A%20%20%20%20%20%20%20%20%20%20%20%20popup_60e5dd254dfd4890bfa6cccb718d4959.setContent%28html_911f6b5c9e224e5ba198cbdec7acb4b4%29%3B%0A%20%20%20%20%20%20%20%20%0A%0A%20%20%20%20%20%20%20%20circle_marker_4938793b19c44e7e83f189334b153fe8.bindPopup%28popup_60e5dd254dfd4890bfa6cccb718d4959%29%0A%20%20%20%20%20%20%20%20%3B%0A%0A%20%20%20%20%20%20%20%20%0A%20%20%20%20%0A%20%20%20%20%0A%20%20%20%20%20%20%20%20%20%20%20%20var%20circle_marker_21602171e66b412083a4e460950769ea%20%3D%20L.circleMarker%28%0A%20%20%20%20%20%20%20%20%20%20%20%20%20%20%20%20%5B64.0%2C%2026.0%5D%2C%0A%20%20%20%20%20%20%20%20%20%20%20%20%20%20%20%20%7B%22bubblingMouseEvents%22%3A%20true%2C%20%22color%22%3A%20%22%233388ff%22%2C%20%22dashArray%22%3A%20null%2C%20%22dashOffset%22%3A%20null%2C%20%22fill%22%3A%20true%2C%20%22fillColor%22%3A%20%22black%22%2C%20%22fillOpacity%22%3A%200.2%2C%20%22fillRule%22%3A%20%22evenodd%22%2C%20%22lineCap%22%3A%20%22round%22%2C%20%22lineJoin%22%3A%20%22round%22%2C%20%22opacity%22%3A%201.0%2C%20%22stroke%22%3A%20true%2C%20%22weight%22%3A%203%7D%0A%20%20%20%20%20%20%20%20%20%20%20%20%29.addTo%28map_8f87285f909e45c9934e020e26ba2b97%29%3B%0A%20%20%20%20%20%20%20%20%0A%20%20%20%20%0A%20%20%20%20%20%20%20%20var%20popup_52ba5737d3824f7dad6b81bb2e3f5a92%20%3D%20L.popup%28%7B%22maxWidth%22%3A%20%22100%25%22%7D%29%3B%0A%0A%20%20%20%20%20%20%20%20%0A%20%20%20%20%20%20%20%20%20%20%20%20var%20html_024a789982004eba97226f1dfcb4e738%20%3D%20%24%28%60%3Cdiv%20id%3D%22html_024a789982004eba97226f1dfcb4e738%22%20style%3D%22width%3A%20100.0%25%3B%20height%3A%20100.0%25%3B%22%3EFinland%3C/div%3E%60%29%5B0%5D%3B%0A%20%20%20%20%20%20%20%20%20%20%20%20popup_52ba5737d3824f7dad6b81bb2e3f5a92.setContent%28html_024a789982004eba97226f1dfcb4e738%29%3B%0A%20%20%20%20%20%20%20%20%0A%0A%20%20%20%20%20%20%20%20circle_marker_21602171e66b412083a4e460950769ea.bindPopup%28popup_52ba5737d3824f7dad6b81bb2e3f5a92%29%0A%20%20%20%20%20%20%20%20%3B%0A%0A%20%20%20%20%20%20%20%20%0A%20%20%20%20%0A%20%20%20%20%0A%20%20%20%20%20%20%20%20%20%20%20%20var%20circle_marker_984715cb36584fed9fc8d046e912a5c7%20%3D%20L.circleMarker%28%0A%20%20%20%20%20%20%20%20%20%20%20%20%20%20%20%20%5B-18.0%2C%20178.0%5D%2C%0A%20%20%20%20%20%20%20%20%20%20%20%20%20%20%20%20%7B%22bubblingMouseEvents%22%3A%20true%2C%20%22color%22%3A%20%22%233388ff%22%2C%20%22dashArray%22%3A%20null%2C%20%22dashOffset%22%3A%20null%2C%20%22fill%22%3A%20true%2C%20%22fillColor%22%3A%20%22red%22%2C%20%22fillOpacity%22%3A%200.2%2C%20%22fillRule%22%3A%20%22evenodd%22%2C%20%22lineCap%22%3A%20%22round%22%2C%20%22lineJoin%22%3A%20%22round%22%2C%20%22opacity%22%3A%201.0%2C%20%22radius%22%3A%201.2685737233520922%2C%20%22stroke%22%3A%20true%2C%20%22weight%22%3A%203%7D%0A%20%20%20%20%20%20%20%20%20%20%20%20%29.addTo%28map_8f87285f909e45c9934e020e26ba2b97%29%3B%0A%20%20%20%20%20%20%20%20%0A%20%20%20%20%0A%20%20%20%20%20%20%20%20var%20popup_5f6c1d592380410dbe5e49982e341515%20%3D%20L.popup%28%7B%22maxWidth%22%3A%20%22100%25%22%7D%29%3B%0A%0A%20%20%20%20%20%20%20%20%0A%20%20%20%20%20%20%20%20%20%20%20%20var%20html_2faf3b3defdf48f98630c525de3044c4%20%3D%20%24%28%60%3Cdiv%20id%3D%22html_2faf3b3defdf48f98630c525de3044c4%22%20style%3D%22width%3A%20100.0%25%3B%20height%3A%20100.0%25%3B%22%3EFiji%3C/div%3E%60%29%5B0%5D%3B%0A%20%20%20%20%20%20%20%20%20%20%20%20popup_5f6c1d592380410dbe5e49982e341515.setContent%28html_2faf3b3defdf48f98630c525de3044c4%29%3B%0A%20%20%20%20%20%20%20%20%0A%0A%20%20%20%20%20%20%20%20circle_marker_984715cb36584fed9fc8d046e912a5c7.bindPopup%28popup_5f6c1d592380410dbe5e49982e341515%29%0A%20%20%20%20%20%20%20%20%3B%0A%0A%20%20%20%20%20%20%20%20%0A%20%20%20%20%0A%20%20%20%20%0A%20%20%20%20%20%20%20%20%20%20%20%20var%20circle_marker_4097dac2dd7b45d7aa11a6270c11bb1c%20%3D%20L.circleMarker%28%0A%20%20%20%20%20%20%20%20%20%20%20%20%20%20%20%20%5B46.0%2C%202.0%5D%2C%0A%20%20%20%20%20%20%20%20%20%20%20%20%20%20%20%20%7B%22bubblingMouseEvents%22%3A%20true%2C%20%22color%22%3A%20%22%233388ff%22%2C%20%22dashArray%22%3A%20null%2C%20%22dashOffset%22%3A%20null%2C%20%22fill%22%3A%20true%2C%20%22fillColor%22%3A%20%22black%22%2C%20%22fillOpacity%22%3A%200.2%2C%20%22fillRule%22%3A%20%22evenodd%22%2C%20%22lineCap%22%3A%20%22round%22%2C%20%22lineJoin%22%3A%20%22round%22%2C%20%22opacity%22%3A%201.0%2C%20%22radius%22%3A%202.57001824901904%2C%20%22stroke%22%3A%20true%2C%20%22weight%22%3A%203%7D%0A%20%20%20%20%20%20%20%20%20%20%20%20%29.addTo%28map_8f87285f909e45c9934e020e26ba2b97%29%3B%0A%20%20%20%20%20%20%20%20%0A%20%20%20%20%0A%20%20%20%20%20%20%20%20var%20popup_b5e43a6a3ab344d58076ad811cfd8217%20%3D%20L.popup%28%7B%22maxWidth%22%3A%20%22100%25%22%7D%29%3B%0A%0A%20%20%20%20%20%20%20%20%0A%20%20%20%20%20%20%20%20%20%20%20%20var%20html_a5789a17b30b4d71974759e9fc3935e8%20%3D%20%24%28%60%3Cdiv%20id%3D%22html_a5789a17b30b4d71974759e9fc3935e8%22%20style%3D%22width%3A%20100.0%25%3B%20height%3A%20100.0%25%3B%22%3EFrance%3C/div%3E%60%29%5B0%5D%3B%0A%20%20%20%20%20%20%20%20%20%20%20%20popup_b5e43a6a3ab344d58076ad811cfd8217.setContent%28html_a5789a17b30b4d71974759e9fc3935e8%29%3B%0A%20%20%20%20%20%20%20%20%0A%0A%20%20%20%20%20%20%20%20circle_marker_4097dac2dd7b45d7aa11a6270c11bb1c.bindPopup%28popup_b5e43a6a3ab344d58076ad811cfd8217%29%0A%20%20%20%20%20%20%20%20%3B%0A%0A%20%20%20%20%20%20%20%20%0A%20%20%20%20%0A%20%20%20%20%0A%20%20%20%20%20%20%20%20%20%20%20%20var%20circle_marker_259a51673a0b4bddac9cd68aa9e66900%20%3D%20L.circleMarker%28%0A%20%20%20%20%20%20%20%20%20%20%20%20%20%20%20%20%5B6.924%2C%20158.162%5D%2C%0A%20%20%20%20%20%20%20%20%20%20%20%20%20%20%20%20%7B%22bubblingMouseEvents%22%3A%20true%2C%20%22color%22%3A%20%22%233388ff%22%2C%20%22dashArray%22%3A%20null%2C%20%22dashOffset%22%3A%20null%2C%20%22fill%22%3A%20true%2C%20%22fillColor%22%3A%20%22red%22%2C%20%22fillOpacity%22%3A%200.2%2C%20%22fillRule%22%3A%20%22evenodd%22%2C%20%22lineCap%22%3A%20%22round%22%2C%20%22lineJoin%22%3A%20%22round%22%2C%20%22opacity%22%3A%201.0%2C%20%22radius%22%3A%201.0101672302782327%2C%20%22stroke%22%3A%20true%2C%20%22weight%22%3A%203%7D%0A%20%20%20%20%20%20%20%20%20%20%20%20%29.addTo%28map_8f87285f909e45c9934e020e26ba2b97%29%3B%0A%20%20%20%20%20%20%20%20%0A%20%20%20%20%0A%20%20%20%20%20%20%20%20var%20popup_13b0d181664447479fc4822f4913f4e7%20%3D%20L.popup%28%7B%22maxWidth%22%3A%20%22100%25%22%7D%29%3B%0A%0A%20%20%20%20%20%20%20%20%0A%20%20%20%20%20%20%20%20%20%20%20%20var%20html_9f8918e36a6b4204b5fd7f7f4c4cd678%20%3D%20%24%28%60%3Cdiv%20id%3D%22html_9f8918e36a6b4204b5fd7f7f4c4cd678%22%20style%3D%22width%3A%20100.0%25%3B%20height%3A%20100.0%25%3B%22%3EMicronesia%2C%20Fed.%20Sts.%3C/div%3E%60%29%5B0%5D%3B%0A%20%20%20%20%20%20%20%20%20%20%20%20popup_13b0d181664447479fc4822f4913f4e7.setContent%28html_9f8918e36a6b4204b5fd7f7f4c4cd678%29%3B%0A%20%20%20%20%20%20%20%20%0A%0A%20%20%20%20%20%20%20%20circle_marker_259a51673a0b4bddac9cd68aa9e66900.bindPopup%28popup_13b0d181664447479fc4822f4913f4e7%29%0A%20%20%20%20%20%20%20%20%3B%0A%0A%20%20%20%20%20%20%20%20%0A%20%20%20%20%0A%20%20%20%20%0A%20%20%20%20%20%20%20%20%20%20%20%20var%20circle_marker_c839932879684f6dbd603f72a78e99b8%20%3D%20L.circleMarker%28%0A%20%20%20%20%20%20%20%20%20%20%20%20%20%20%20%20%5B-1.0%2C%2011.75%5D%2C%0A%20%20%20%20%20%20%20%20%20%20%20%20%20%20%20%20%7B%22bubblingMouseEvents%22%3A%20true%2C%20%22color%22%3A%20%22%233388ff%22%2C%20%22dashArray%22%3A%20null%2C%20%22dashOffset%22%3A%20null%2C%20%22fill%22%3A%20true%2C%20%22fillColor%22%3A%20%22blue%22%2C%20%22fillOpacity%22%3A%200.2%2C%20%22fillRule%22%3A%20%22evenodd%22%2C%20%22lineCap%22%3A%20%22round%22%2C%20%22lineJoin%22%3A%20%22round%22%2C%20%22opacity%22%3A%201.0%2C%20%22radius%22%3A%201.7743739978493467%2C%20%22stroke%22%3A%20true%2C%20%22weight%22%3A%203%7D%0A%20%20%20%20%20%20%20%20%20%20%20%20%29.addTo%28map_8f87285f909e45c9934e020e26ba2b97%29%3B%0A%20%20%20%20%20%20%20%20%0A%20%20%20%20%0A%20%20%20%20%20%20%20%20var%20popup_92c9f543008c4f7a81aadffd2823bbdf%20%3D%20L.popup%28%7B%22maxWidth%22%3A%20%22100%25%22%7D%29%3B%0A%0A%20%20%20%20%20%20%20%20%0A%20%20%20%20%20%20%20%20%20%20%20%20var%20html_5c997ee6d3f84fd5ac7946458ad0dd69%20%3D%20%24%28%60%3Cdiv%20id%3D%22html_5c997ee6d3f84fd5ac7946458ad0dd69%22%20style%3D%22width%3A%20100.0%25%3B%20height%3A%20100.0%25%3B%22%3EGabon%3C/div%3E%60%29%5B0%5D%3B%0A%20%20%20%20%20%20%20%20%20%20%20%20popup_92c9f543008c4f7a81aadffd2823bbdf.setContent%28html_5c997ee6d3f84fd5ac7946458ad0dd69%29%3B%0A%20%20%20%20%20%20%20%20%0A%0A%20%20%20%20%20%20%20%20circle_marker_c839932879684f6dbd603f72a78e99b8.bindPopup%28popup_92c9f543008c4f7a81aadffd2823bbdf%29%0A%20%20%20%20%20%20%20%20%3B%0A%0A%20%20%20%20%20%20%20%20%0A%20%20%20%20%0A%20%20%20%20%0A%20%20%20%20%20%20%20%20%20%20%20%20var%20circle_marker_bc778084c5e64b1cb05c87809fddbaba%20%3D%20L.circleMarker%28%0A%20%20%20%20%20%20%20%20%20%20%20%20%20%20%20%20%5B54.75844%2C%20-2.69531%5D%2C%0A%20%20%20%20%20%20%20%20%20%20%20%20%20%20%20%20%7B%22bubblingMouseEvents%22%3A%20true%2C%20%22color%22%3A%20%22%233388ff%22%2C%20%22dashArray%22%3A%20null%2C%20%22dashOffset%22%3A%20null%2C%20%22fill%22%3A%20true%2C%20%22fillColor%22%3A%20%22black%22%2C%20%22fillOpacity%22%3A%200.2%2C%20%22fillRule%22%3A%20%22evenodd%22%2C%20%22lineCap%22%3A%20%22round%22%2C%20%22lineJoin%22%3A%20%22round%22%2C%20%22opacity%22%3A%201.0%2C%20%22radius%22%3A%204.516844160364442%2C%20%22stroke%22%3A%20true%2C%20%22weight%22%3A%203%7D%0A%20%20%20%20%20%20%20%20%20%20%20%20%29.addTo%28map_8f87285f909e45c9934e020e26ba2b97%29%3B%0A%20%20%20%20%20%20%20%20%0A%20%20%20%20%0A%20%20%20%20%20%20%20%20var%20popup_a5e35c1d8a614e82aefc283c10763869%20%3D%20L.popup%28%7B%22maxWidth%22%3A%20%22100%25%22%7D%29%3B%0A%0A%20%20%20%20%20%20%20%20%0A%20%20%20%20%20%20%20%20%20%20%20%20var%20html_8d5d7cea52144463a89d26492a522b95%20%3D%20%24%28%60%3Cdiv%20id%3D%22html_8d5d7cea52144463a89d26492a522b95%22%20style%3D%22width%3A%20100.0%25%3B%20height%3A%20100.0%25%3B%22%3EUnited%20Kingdom%3C/div%3E%60%29%5B0%5D%3B%0A%20%20%20%20%20%20%20%20%20%20%20%20popup_a5e35c1d8a614e82aefc283c10763869.setContent%28html_8d5d7cea52144463a89d26492a522b95%29%3B%0A%20%20%20%20%20%20%20%20%0A%0A%20%20%20%20%20%20%20%20circle_marker_bc778084c5e64b1cb05c87809fddbaba.bindPopup%28popup_a5e35c1d8a614e82aefc283c10763869%29%0A%20%20%20%20%20%20%20%20%3B%0A%0A%20%20%20%20%20%20%20%20%0A%20%20%20%20%0A%20%20%20%20%0A%20%20%20%20%20%20%20%20%20%20%20%20var%20circle_marker_fccf6a6b93604c0e8ee3ef608f620770%20%3D%20L.circleMarker%28%0A%20%20%20%20%20%20%20%20%20%20%20%20%20%20%20%20%5B41.99998%2C%2043.4999%5D%2C%0A%20%20%20%20%20%20%20%20%20%20%20%20%20%20%20%20%7B%22bubblingMouseEvents%22%3A%20true%2C%20%22color%22%3A%20%22%233388ff%22%2C%20%22dashArray%22%3A%20null%2C%20%22dashOffset%22%3A%20null%2C%20%22fill%22%3A%20true%2C%20%22fillColor%22%3A%20%22black%22%2C%20%22fillOpacity%22%3A%200.2%2C%20%22fillRule%22%3A%20%22evenodd%22%2C%20%22lineCap%22%3A%20%22round%22%2C%20%22lineJoin%22%3A%20%22round%22%2C%20%22opacity%22%3A%201.0%2C%20%22radius%22%3A%204.2953024311538215%2C%20%22stroke%22%3A%20true%2C%20%22weight%22%3A%203%7D%0A%20%20%20%20%20%20%20%20%20%20%20%20%29.addTo%28map_8f87285f909e45c9934e020e26ba2b97%29%3B%0A%20%20%20%20%20%20%20%20%0A%20%20%20%20%0A%20%20%20%20%20%20%20%20var%20popup_1a5c58a9ddba4e8c92210f2ade0a2e02%20%3D%20L.popup%28%7B%22maxWidth%22%3A%20%22100%25%22%7D%29%3B%0A%0A%20%20%20%20%20%20%20%20%0A%20%20%20%20%20%20%20%20%20%20%20%20var%20html_fdcb012a226b486c92eb80c3a2c9d559%20%3D%20%24%28%60%3Cdiv%20id%3D%22html_fdcb012a226b486c92eb80c3a2c9d559%22%20style%3D%22width%3A%20100.0%25%3B%20height%3A%20100.0%25%3B%22%3EGeorgia%3C/div%3E%60%29%5B0%5D%3B%0A%20%20%20%20%20%20%20%20%20%20%20%20popup_1a5c58a9ddba4e8c92210f2ade0a2e02.setContent%28html_fdcb012a226b486c92eb80c3a2c9d559%29%3B%0A%20%20%20%20%20%20%20%20%0A%0A%20%20%20%20%20%20%20%20circle_marker_fccf6a6b93604c0e8ee3ef608f620770.bindPopup%28popup_1a5c58a9ddba4e8c92210f2ade0a2e02%29%0A%20%20%20%20%20%20%20%20%3B%0A%0A%20%20%20%20%20%20%20%20%0A%20%20%20%20%0A%20%20%20%20%0A%20%20%20%20%20%20%20%20%20%20%20%20var%20circle_marker_54c7ede1286e49ac90fe5715f0819de2%20%3D%20L.circleMarker%28%0A%20%20%20%20%20%20%20%20%20%20%20%20%20%20%20%20%5B8.1%2C%20-1.2%5D%2C%0A%20%20%20%20%20%20%20%20%20%20%20%20%20%20%20%20%7B%22bubblingMouseEvents%22%3A%20true%2C%20%22color%22%3A%20%22%233388ff%22%2C%20%22dashArray%22%3A%20null%2C%20%22dashOffset%22%3A%20null%2C%20%22fill%22%3A%20true%2C%20%22fillColor%22%3A%20%22blue%22%2C%20%22fillOpacity%22%3A%200.2%2C%20%22fillRule%22%3A%20%22evenodd%22%2C%20%22lineCap%22%3A%20%22round%22%2C%20%22lineJoin%22%3A%20%22round%22%2C%20%22opacity%22%3A%201.0%2C%20%22radius%22%3A%2015.016869987417403%2C%20%22stroke%22%3A%20true%2C%20%22weight%22%3A%203%7D%0A%20%20%20%20%20%20%20%20%20%20%20%20%29.addTo%28map_8f87285f909e45c9934e020e26ba2b97%29%3B%0A%20%20%20%20%20%20%20%20%0A%20%20%20%20%0A%20%20%20%20%20%20%20%20var%20popup_29164f093a9f478a8e43bc34523d583d%20%3D%20L.popup%28%7B%22maxWidth%22%3A%20%22100%25%22%7D%29%3B%0A%0A%20%20%20%20%20%20%20%20%0A%20%20%20%20%20%20%20%20%20%20%20%20var%20html_19530875744b496aa223f942feb323b9%20%3D%20%24%28%60%3Cdiv%20id%3D%22html_19530875744b496aa223f942feb323b9%22%20style%3D%22width%3A%20100.0%25%3B%20height%3A%20100.0%25%3B%22%3EGhana%3C/div%3E%60%29%5B0%5D%3B%0A%20%20%20%20%20%20%20%20%20%20%20%20popup_29164f093a9f478a8e43bc34523d583d.setContent%28html_19530875744b496aa223f942feb323b9%29%3B%0A%20%20%20%20%20%20%20%20%0A%0A%20%20%20%20%20%20%20%20circle_marker_54c7ede1286e49ac90fe5715f0819de2.bindPopup%28popup_29164f093a9f478a8e43bc34523d583d%29%0A%20%20%20%20%20%20%20%20%3B%0A%0A%20%20%20%20%20%20%20%20%0A%20%20%20%20%0A%20%20%20%20%0A%20%20%20%20%20%20%20%20%20%20%20%20var%20circle_marker_7a0976832b6541aa9d9a3f42512a12f1%20%3D%20L.circleMarker%28%0A%20%20%20%20%20%20%20%20%20%20%20%20%20%20%20%20%5B10.83333%2C%20-10.66667%5D%2C%0A%20%20%20%20%20%20%20%20%20%20%20%20%20%20%20%20%7B%22bubblingMouseEvents%22%3A%20true%2C%20%22color%22%3A%20%22%233388ff%22%2C%20%22dashArray%22%3A%20null%2C%20%22dashOffset%22%3A%20null%2C%20%22fill%22%3A%20true%2C%20%22fillColor%22%3A%20%22blue%22%2C%20%22fillOpacity%22%3A%200.2%2C%20%22fillRule%22%3A%20%22evenodd%22%2C%20%22lineCap%22%3A%20%22round%22%2C%20%22lineJoin%22%3A%20%22round%22%2C%20%22opacity%22%3A%201.0%2C%20%22radius%22%3A%2011.514913134644747%2C%20%22stroke%22%3A%20true%2C%20%22weight%22%3A%203%7D%0A%20%20%20%20%20%20%20%20%20%20%20%20%29.addTo%28map_8f87285f909e45c9934e020e26ba2b97%29%3B%0A%20%20%20%20%20%20%20%20%0A%20%20%20%20%0A%20%20%20%20%20%20%20%20var%20popup_cb7dd20995b8498f93bf0176e50320c1%20%3D%20L.popup%28%7B%22maxWidth%22%3A%20%22100%25%22%7D%29%3B%0A%0A%20%20%20%20%20%20%20%20%0A%20%20%20%20%20%20%20%20%20%20%20%20var%20html_ec8011484e374a128187d6d0ac37673b%20%3D%20%24%28%60%3Cdiv%20id%3D%22html_ec8011484e374a128187d6d0ac37673b%22%20style%3D%22width%3A%20100.0%25%3B%20height%3A%20100.0%25%3B%22%3EGuinea%3C/div%3E%60%29%5B0%5D%3B%0A%20%20%20%20%20%20%20%20%20%20%20%20popup_cb7dd20995b8498f93bf0176e50320c1.setContent%28html_ec8011484e374a128187d6d0ac37673b%29%3B%0A%20%20%20%20%20%20%20%20%0A%0A%20%20%20%20%20%20%20%20circle_marker_7a0976832b6541aa9d9a3f42512a12f1.bindPopup%28popup_cb7dd20995b8498f93bf0176e50320c1%29%0A%20%20%20%20%20%20%20%20%3B%0A%0A%20%20%20%20%20%20%20%20%0A%20%20%20%20%0A%20%20%20%20%0A%20%20%20%20%20%20%20%20%20%20%20%20var%20circle_marker_548a41e9f8914d3a884b91d483787199%20%3D%20L.circleMarker%28%0A%20%20%20%20%20%20%20%20%20%20%20%20%20%20%20%20%5B13.5%2C%20-15.5%5D%2C%0A%20%20%20%20%20%20%20%20%20%20%20%20%20%20%20%20%7B%22bubblingMouseEvents%22%3A%20true%2C%20%22color%22%3A%20%22%233388ff%22%2C%20%22dashArray%22%3A%20null%2C%20%22dashOffset%22%3A%20null%2C%20%22fill%22%3A%20true%2C%20%22fillColor%22%3A%20%22blue%22%2C%20%22fillOpacity%22%3A%200.2%2C%20%22fillRule%22%3A%20%22evenodd%22%2C%20%22lineCap%22%3A%20%22round%22%2C%20%22lineJoin%22%3A%20%22round%22%2C%20%22opacity%22%3A%201.0%2C%20%22radius%22%3A%204.381298115773378%2C%20%22stroke%22%3A%20true%2C%20%22weight%22%3A%203%7D%0A%20%20%20%20%20%20%20%20%20%20%20%20%29.addTo%28map_8f87285f909e45c9934e020e26ba2b97%29%3B%0A%20%20%20%20%20%20%20%20%0A%20%20%20%20%0A%20%20%20%20%20%20%20%20var%20popup_d3e79e0f75564a4ea97453d0e092600f%20%3D%20L.popup%28%7B%22maxWidth%22%3A%20%22100%25%22%7D%29%3B%0A%0A%20%20%20%20%20%20%20%20%0A%20%20%20%20%20%20%20%20%20%20%20%20var%20html_016f1f76ac084a34b3b3fceb306bfbdb%20%3D%20%24%28%60%3Cdiv%20id%3D%22html_016f1f76ac084a34b3b3fceb306bfbdb%22%20style%3D%22width%3A%20100.0%25%3B%20height%3A%20100.0%25%3B%22%3EGambia%3C/div%3E%60%29%5B0%5D%3B%0A%20%20%20%20%20%20%20%20%20%20%20%20popup_d3e79e0f75564a4ea97453d0e092600f.setContent%28html_016f1f76ac084a34b3b3fceb306bfbdb%29%3B%0A%20%20%20%20%20%20%20%20%0A%0A%20%20%20%20%20%20%20%20circle_marker_548a41e9f8914d3a884b91d483787199.bindPopup%28popup_d3e79e0f75564a4ea97453d0e092600f%29%0A%20%20%20%20%20%20%20%20%3B%0A%0A%20%20%20%20%20%20%20%20%0A%20%20%20%20%0A%20%20%20%20%0A%20%20%20%20%20%20%20%20%20%20%20%20var%20circle_marker_c995fd3d63bd4ba99d938153d5bcfc5a%20%3D%20L.circleMarker%28%0A%20%20%20%20%20%20%20%20%20%20%20%20%20%20%20%20%5B12.0%2C%20-15.0%5D%2C%0A%20%20%20%20%20%20%20%20%20%20%20%20%20%20%20%20%7B%22bubblingMouseEvents%22%3A%20true%2C%20%22color%22%3A%20%22%233388ff%22%2C%20%22dashArray%22%3A%20null%2C%20%22dashOffset%22%3A%20null%2C%20%22fill%22%3A%20true%2C%20%22fillColor%22%3A%20%22blue%22%2C%20%22fillOpacity%22%3A%200.2%2C%20%22fillRule%22%3A%20%22evenodd%22%2C%20%22lineCap%22%3A%20%22round%22%2C%20%22lineJoin%22%3A%20%22round%22%2C%20%22opacity%22%3A%201.0%2C%20%22radius%22%3A%204.868250000644995%2C%20%22stroke%22%3A%20true%2C%20%22weight%22%3A%203%7D%0A%20%20%20%20%20%20%20%20%20%20%20%20%29.addTo%28map_8f87285f909e45c9934e020e26ba2b97%29%3B%0A%20%20%20%20%20%20%20%20%0A%20%20%20%20%0A%20%20%20%20%20%20%20%20var%20popup_076a41a59f4d4f9aa487a0756b696f03%20%3D%20L.popup%28%7B%22maxWidth%22%3A%20%22100%25%22%7D%29%3B%0A%0A%20%20%20%20%20%20%20%20%0A%20%20%20%20%20%20%20%20%20%20%20%20var%20html_8b951cf339164dccabe6649cc1203124%20%3D%20%24%28%60%3Cdiv%20id%3D%22html_8b951cf339164dccabe6649cc1203124%22%20style%3D%22width%3A%20100.0%25%3B%20height%3A%20100.0%25%3B%22%3EGuinea-Bissau%3C/div%3E%60%29%5B0%5D%3B%0A%20%20%20%20%20%20%20%20%20%20%20%20popup_076a41a59f4d4f9aa487a0756b696f03.setContent%28html_8b951cf339164dccabe6649cc1203124%29%3B%0A%20%20%20%20%20%20%20%20%0A%0A%20%20%20%20%20%20%20%20circle_marker_c995fd3d63bd4ba99d938153d5bcfc5a.bindPopup%28popup_076a41a59f4d4f9aa487a0756b696f03%29%0A%20%20%20%20%20%20%20%20%3B%0A%0A%20%20%20%20%20%20%20%20%0A%20%20%20%20%0A%20%20%20%20%0A%20%20%20%20%20%20%20%20%20%20%20%20var%20circle_marker_361263825f8b4140b002ac78afd5399c%20%3D%20L.circleMarker%28%0A%20%20%20%20%20%20%20%20%20%20%20%20%20%20%20%20%5B39.0%2C%2022.0%5D%2C%0A%20%20%20%20%20%20%20%20%20%20%20%20%20%20%20%20%7B%22bubblingMouseEvents%22%3A%20true%2C%20%22color%22%3A%20%22%233388ff%22%2C%20%22dashArray%22%3A%20null%2C%20%22dashOffset%22%3A%20null%2C%20%22fill%22%3A%20true%2C%20%22fillColor%22%3A%20%22black%22%2C%20%22fillOpacity%22%3A%200.2%2C%20%22fillRule%22%3A%20%22evenodd%22%2C%20%22lineCap%22%3A%20%22round%22%2C%20%22lineJoin%22%3A%20%22round%22%2C%20%22opacity%22%3A%201.0%2C%20%22radius%22%3A%202.178977304449507%2C%20%22stroke%22%3A%20true%2C%20%22weight%22%3A%203%7D%0A%20%20%20%20%20%20%20%20%20%20%20%20%29.addTo%28map_8f87285f909e45c9934e020e26ba2b97%29%3B%0A%20%20%20%20%20%20%20%20%0A%20%20%20%20%0A%20%20%20%20%20%20%20%20var%20popup_9a5470849eb141359c0c8b262cc773f1%20%3D%20L.popup%28%7B%22maxWidth%22%3A%20%22100%25%22%7D%29%3B%0A%0A%20%20%20%20%20%20%20%20%0A%20%20%20%20%20%20%20%20%20%20%20%20var%20html_46b2f03d7f1e4e87b7836f1bd3962ae6%20%3D%20%24%28%60%3Cdiv%20id%3D%22html_46b2f03d7f1e4e87b7836f1bd3962ae6%22%20style%3D%22width%3A%20100.0%25%3B%20height%3A%20100.0%25%3B%22%3EGreece%3C/div%3E%60%29%5B0%5D%3B%0A%20%20%20%20%20%20%20%20%20%20%20%20popup_9a5470849eb141359c0c8b262cc773f1.setContent%28html_46b2f03d7f1e4e87b7836f1bd3962ae6%29%3B%0A%20%20%20%20%20%20%20%20%0A%0A%20%20%20%20%20%20%20%20circle_marker_361263825f8b4140b002ac78afd5399c.bindPopup%28popup_9a5470849eb141359c0c8b262cc773f1%29%0A%20%20%20%20%20%20%20%20%3B%0A%0A%20%20%20%20%20%20%20%20%0A%20%20%20%20%0A%20%20%20%20%0A%20%20%20%20%20%20%20%20%20%20%20%20var%20circle_marker_963b5a5511ae4a6496cfb8eb25c7490b%20%3D%20L.circleMarker%28%0A%20%20%20%20%20%20%20%20%20%20%20%20%20%20%20%20%5B14.64072%2C%20-90.51327%5D%2C%0A%20%20%20%20%20%20%20%20%20%20%20%20%20%20%20%20%7B%22bubblingMouseEvents%22%3A%20true%2C%20%22color%22%3A%20%22%233388ff%22%2C%20%22dashArray%22%3A%20null%2C%20%22dashOffset%22%3A%20null%2C%20%22fill%22%3A%20true%2C%20%22fillColor%22%3A%20%22green%22%2C%20%22fillOpacity%22%3A%200.2%2C%20%22fillRule%22%3A%20%22evenodd%22%2C%20%22lineCap%22%3A%20%22round%22%2C%20%22lineJoin%22%3A%20%22round%22%2C%20%22opacity%22%3A%201.0%2C%20%22radius%22%3A%207.987553755377376%2C%20%22stroke%22%3A%20true%2C%20%22weight%22%3A%203%7D%0A%20%20%20%20%20%20%20%20%20%20%20%20%29.addTo%28map_8f87285f909e45c9934e020e26ba2b97%29%3B%0A%20%20%20%20%20%20%20%20%0A%20%20%20%20%0A%20%20%20%20%20%20%20%20var%20popup_764f7a97b9a44923800a8cddfc2e1eaf%20%3D%20L.popup%28%7B%22maxWidth%22%3A%20%22100%25%22%7D%29%3B%0A%0A%20%20%20%20%20%20%20%20%0A%20%20%20%20%20%20%20%20%20%20%20%20var%20html_b1a1544479eb4e409d9748849cb9e5c0%20%3D%20%24%28%60%3Cdiv%20id%3D%22html_b1a1544479eb4e409d9748849cb9e5c0%22%20style%3D%22width%3A%20100.0%25%3B%20height%3A%20100.0%25%3B%22%3EGuatemala%3C/div%3E%60%29%5B0%5D%3B%0A%20%20%20%20%20%20%20%20%20%20%20%20popup_764f7a97b9a44923800a8cddfc2e1eaf.setContent%28html_b1a1544479eb4e409d9748849cb9e5c0%29%3B%0A%20%20%20%20%20%20%20%20%0A%0A%20%20%20%20%20%20%20%20circle_marker_963b5a5511ae4a6496cfb8eb25c7490b.bindPopup%28popup_764f7a97b9a44923800a8cddfc2e1eaf%29%0A%20%20%20%20%20%20%20%20%3B%0A%0A%20%20%20%20%20%20%20%20%0A%20%20%20%20%0A%20%20%20%20%0A%20%20%20%20%20%20%20%20%20%20%20%20var%20circle_marker_57681c031bd94ad8acd3af575f6d3c5b%20%3D%20L.circleMarker%28%0A%20%20%20%20%20%20%20%20%20%20%20%20%20%20%20%20%5B5.0%2C%20-59.0%5D%2C%0A%20%20%20%20%20%20%20%20%20%20%20%20%20%20%20%20%7B%22bubblingMouseEvents%22%3A%20true%2C%20%22color%22%3A%20%22%233388ff%22%2C%20%22dashArray%22%3A%20null%2C%20%22dashOffset%22%3A%20null%2C%20%22fill%22%3A%20true%2C%20%22fillColor%22%3A%20%22green%22%2C%20%22fillOpacity%22%3A%200.2%2C%20%22fillRule%22%3A%20%22evenodd%22%2C%20%22lineCap%22%3A%20%22round%22%2C%20%22lineJoin%22%3A%20%22round%22%2C%20%22opacity%22%3A%201.0%2C%20%22radius%22%3A%201.4406180819073164%2C%20%22stroke%22%3A%20true%2C%20%22weight%22%3A%203%7D%0A%20%20%20%20%20%20%20%20%20%20%20%20%29.addTo%28map_8f87285f909e45c9934e020e26ba2b97%29%3B%0A%20%20%20%20%20%20%20%20%0A%20%20%20%20%0A%20%20%20%20%20%20%20%20var%20popup_f49b37a603ae41b491fb9f79550e4dbc%20%3D%20L.popup%28%7B%22maxWidth%22%3A%20%22100%25%22%7D%29%3B%0A%0A%20%20%20%20%20%20%20%20%0A%20%20%20%20%20%20%20%20%20%20%20%20var%20html_eac8414f1cef4b16acf034cd0d142317%20%3D%20%24%28%60%3Cdiv%20id%3D%22html_eac8414f1cef4b16acf034cd0d142317%22%20style%3D%22width%3A%20100.0%25%3B%20height%3A%20100.0%25%3B%22%3EGuyana%3C/div%3E%60%29%5B0%5D%3B%0A%20%20%20%20%20%20%20%20%20%20%20%20popup_f49b37a603ae41b491fb9f79550e4dbc.setContent%28html_eac8414f1cef4b16acf034cd0d142317%29%3B%0A%20%20%20%20%20%20%20%20%0A%0A%20%20%20%20%20%20%20%20circle_marker_57681c031bd94ad8acd3af575f6d3c5b.bindPopup%28popup_f49b37a603ae41b491fb9f79550e4dbc%29%0A%20%20%20%20%20%20%20%20%3B%0A%0A%20%20%20%20%20%20%20%20%0A%20%20%20%20%0A%20%20%20%20%0A%20%20%20%20%20%20%20%20%20%20%20%20var%20circle_marker_9e1e902a760040bc865d404e616be246%20%3D%20L.circleMarker%28%0A%20%20%20%20%20%20%20%20%20%20%20%20%20%20%20%20%5B15.0%2C%20-86.5%5D%2C%0A%20%20%20%20%20%20%20%20%20%20%20%20%20%20%20%20%7B%22bubblingMouseEvents%22%3A%20true%2C%20%22color%22%3A%20%22%233388ff%22%2C%20%22dashArray%22%3A%20null%2C%20%22dashOffset%22%3A%20null%2C%20%22fill%22%3A%20true%2C%20%22fillColor%22%3A%20%22green%22%2C%20%22fillOpacity%22%3A%200.2%2C%20%22fillRule%22%3A%20%22evenodd%22%2C%20%22lineCap%22%3A%20%22round%22%2C%20%22lineJoin%22%3A%20%22round%22%2C%20%22opacity%22%3A%201.0%2C%20%22radius%22%3A%206.605402401670616%2C%20%22stroke%22%3A%20true%2C%20%22weight%22%3A%203%7D%0A%20%20%20%20%20%20%20%20%20%20%20%20%29.addTo%28map_8f87285f909e45c9934e020e26ba2b97%29%3B%0A%20%20%20%20%20%20%20%20%0A%20%20%20%20%0A%20%20%20%20%20%20%20%20var%20popup_5c4d52563c7541b6afc65420d95be0ae%20%3D%20L.popup%28%7B%22maxWidth%22%3A%20%22100%25%22%7D%29%3B%0A%0A%20%20%20%20%20%20%20%20%0A%20%20%20%20%20%20%20%20%20%20%20%20var%20html_b346fbabec584933ba8300fa9081c15e%20%3D%20%24%28%60%3Cdiv%20id%3D%22html_b346fbabec584933ba8300fa9081c15e%22%20style%3D%22width%3A%20100.0%25%3B%20height%3A%20100.0%25%3B%22%3EHonduras%3C/div%3E%60%29%5B0%5D%3B%0A%20%20%20%20%20%20%20%20%20%20%20%20popup_5c4d52563c7541b6afc65420d95be0ae.setContent%28html_b346fbabec584933ba8300fa9081c15e%29%3B%0A%20%20%20%20%20%20%20%20%0A%0A%20%20%20%20%20%20%20%20circle_marker_9e1e902a760040bc865d404e616be246.bindPopup%28popup_5c4d52563c7541b6afc65420d95be0ae%29%0A%20%20%20%20%20%20%20%20%3B%0A%0A%20%20%20%20%20%20%20%20%0A%20%20%20%20%0A%20%20%20%20%0A%20%20%20%20%20%20%20%20%20%20%20%20var%20circle_marker_bf6a2be7fbea444c91fe8ef6480e93d1%20%3D%20L.circleMarker%28%0A%20%20%20%20%20%20%20%20%20%20%20%20%20%20%20%20%5B45.16667%2C%2015.5%5D%2C%0A%20%20%20%20%20%20%20%20%20%20%20%20%20%20%20%20%7B%22bubblingMouseEvents%22%3A%20true%2C%20%22color%22%3A%20%22%233388ff%22%2C%20%22dashArray%22%3A%20null%2C%20%22dashOffset%22%3A%20null%2C%20%22fill%22%3A%20true%2C%20%22fillColor%22%3A%20%22black%22%2C%20%22fillOpacity%22%3A%200.2%2C%20%22fillRule%22%3A%20%22evenodd%22%2C%20%22lineCap%22%3A%20%22round%22%2C%20%22lineJoin%22%3A%20%22round%22%2C%20%22opacity%22%3A%201.0%2C%20%22stroke%22%3A%20true%2C%20%22weight%22%3A%203%7D%0A%20%20%20%20%20%20%20%20%20%20%20%20%29.addTo%28map_8f87285f909e45c9934e020e26ba2b97%29%3B%0A%20%20%20%20%20%20%20%20%0A%20%20%20%20%0A%20%20%20%20%20%20%20%20var%20popup_7b4155a9f327447ca9c5832e1af4b907%20%3D%20L.popup%28%7B%22maxWidth%22%3A%20%22100%25%22%7D%29%3B%0A%0A%20%20%20%20%20%20%20%20%0A%20%20%20%20%20%20%20%20%20%20%20%20var%20html_18243a6173884851a9bc9fd9e7babfa7%20%3D%20%24%28%60%3Cdiv%20id%3D%22html_18243a6173884851a9bc9fd9e7babfa7%22%20style%3D%22width%3A%20100.0%25%3B%20height%3A%20100.0%25%3B%22%3ECroatia%3C/div%3E%60%29%5B0%5D%3B%0A%20%20%20%20%20%20%20%20%20%20%20%20popup_7b4155a9f327447ca9c5832e1af4b907.setContent%28html_18243a6173884851a9bc9fd9e7babfa7%29%3B%0A%20%20%20%20%20%20%20%20%0A%0A%20%20%20%20%20%20%20%20circle_marker_bf6a2be7fbea444c91fe8ef6480e93d1.bindPopup%28popup_7b4155a9f327447ca9c5832e1af4b907%29%0A%20%20%20%20%20%20%20%20%3B%0A%0A%20%20%20%20%20%20%20%20%0A%20%20%20%20%0A%20%20%20%20%0A%20%20%20%20%20%20%20%20%20%20%20%20var%20circle_marker_b6b5fe2e268e45a3bc8109854d4b4919%20%3D%20L.circleMarker%28%0A%20%20%20%20%20%20%20%20%20%20%20%20%20%20%20%20%5B19.0%2C%20-72.41667%5D%2C%0A%20%20%20%20%20%20%20%20%20%20%20%20%20%20%20%20%7B%22bubblingMouseEvents%22%3A%20true%2C%20%22color%22%3A%20%22%233388ff%22%2C%20%22dashArray%22%3A%20null%2C%20%22dashOffset%22%3A%20null%2C%20%22fill%22%3A%20true%2C%20%22fillColor%22%3A%20%22green%22%2C%20%22fillOpacity%22%3A%200.2%2C%20%22fillRule%22%3A%20%22evenodd%22%2C%20%22lineCap%22%3A%20%22round%22%2C%20%22lineJoin%22%3A%20%22round%22%2C%20%22opacity%22%3A%201.0%2C%20%22radius%22%3A%2013.979752671774591%2C%20%22stroke%22%3A%20true%2C%20%22weight%22%3A%203%7D%0A%20%20%20%20%20%20%20%20%20%20%20%20%29.addTo%28map_8f87285f909e45c9934e020e26ba2b97%29%3B%0A%20%20%20%20%20%20%20%20%0A%20%20%20%20%0A%20%20%20%20%20%20%20%20var%20popup_d048c1ffab5a4bd9b7e30dd47e2589ca%20%3D%20L.popup%28%7B%22maxWidth%22%3A%20%22100%25%22%7D%29%3B%0A%0A%20%20%20%20%20%20%20%20%0A%20%20%20%20%20%20%20%20%20%20%20%20var%20html_161581176990420db3bdd569ce870955%20%3D%20%24%28%60%3Cdiv%20id%3D%22html_161581176990420db3bdd569ce870955%22%20style%3D%22width%3A%20100.0%25%3B%20height%3A%20100.0%25%3B%22%3EHaiti%3C/div%3E%60%29%5B0%5D%3B%0A%20%20%20%20%20%20%20%20%20%20%20%20popup_d048c1ffab5a4bd9b7e30dd47e2589ca.setContent%28html_161581176990420db3bdd569ce870955%29%3B%0A%20%20%20%20%20%20%20%20%0A%0A%20%20%20%20%20%20%20%20circle_marker_b6b5fe2e268e45a3bc8109854d4b4919.bindPopup%28popup_d048c1ffab5a4bd9b7e30dd47e2589ca%29%0A%20%20%20%20%20%20%20%20%3B%0A%0A%20%20%20%20%20%20%20%20%0A%20%20%20%20%0A%20%20%20%20%0A%20%20%20%20%20%20%20%20%20%20%20%20var%20circle_marker_6e8d08f252b54df49881170d060af69d%20%3D%20L.circleMarker%28%0A%20%20%20%20%20%20%20%20%20%20%20%20%20%20%20%20%5B47.0%2C%2020.0%5D%2C%0A%20%20%20%20%20%20%20%20%20%20%20%20%20%20%20%20%7B%22bubblingMouseEvents%22%3A%20true%2C%20%22color%22%3A%20%22%233388ff%22%2C%20%22dashArray%22%3A%20null%2C%20%22dashOffset%22%3A%20null%2C%20%22fill%22%3A%20true%2C%20%22fillColor%22%3A%20%22black%22%2C%20%22fillOpacity%22%3A%200.2%2C%20%22fillRule%22%3A%20%22evenodd%22%2C%20%22lineCap%22%3A%20%22round%22%2C%20%22lineJoin%22%3A%20%22round%22%2C%20%22opacity%22%3A%201.0%2C%20%22radius%22%3A%200.39750349369739346%2C%20%22stroke%22%3A%20true%2C%20%22weight%22%3A%203%7D%0A%20%20%20%20%20%20%20%20%20%20%20%20%29.addTo%28map_8f87285f909e45c9934e020e26ba2b97%29%3B%0A%20%20%20%20%20%20%20%20%0A%20%20%20%20%0A%20%20%20%20%20%20%20%20var%20popup_18d749ff7d7c43da8ec26a74aea5450f%20%3D%20L.popup%28%7B%22maxWidth%22%3A%20%22100%25%22%7D%29%3B%0A%0A%20%20%20%20%20%20%20%20%0A%20%20%20%20%20%20%20%20%20%20%20%20var%20html_03b539e2a4b74db6a437a7fdf11da76d%20%3D%20%24%28%60%3Cdiv%20id%3D%22html_03b539e2a4b74db6a437a7fdf11da76d%22%20style%3D%22width%3A%20100.0%25%3B%20height%3A%20100.0%25%3B%22%3EHungary%3C/div%3E%60%29%5B0%5D%3B%0A%20%20%20%20%20%20%20%20%20%20%20%20popup_18d749ff7d7c43da8ec26a74aea5450f.setContent%28html_03b539e2a4b74db6a437a7fdf11da76d%29%3B%0A%20%20%20%20%20%20%20%20%0A%0A%20%20%20%20%20%20%20%20circle_marker_6e8d08f252b54df49881170d060af69d.bindPopup%28popup_18d749ff7d7c43da8ec26a74aea5450f%29%0A%20%20%20%20%20%20%20%20%3B%0A%0A%20%20%20%20%20%20%20%20%0A%20%20%20%20%0A%20%20%20%20%0A%20%20%20%20%20%20%20%20%20%20%20%20var%20circle_marker_6ceebfdd4e0c45dcbb97a4ad91596aa2%20%3D%20L.circleMarker%28%0A%20%20%20%20%20%20%20%20%20%20%20%20%20%20%20%20%5B-5.0%2C%20120.0%5D%2C%0A%20%20%20%20%20%20%20%20%20%20%20%20%20%20%20%20%7B%22bubblingMouseEvents%22%3A%20true%2C%20%22color%22%3A%20%22%233388ff%22%2C%20%22dashArray%22%3A%20null%2C%20%22dashOffset%22%3A%20null%2C%20%22fill%22%3A%20true%2C%20%22fillColor%22%3A%20%22red%22%2C%20%22fillOpacity%22%3A%200.2%2C%20%22fillRule%22%3A%20%22evenodd%22%2C%20%22lineCap%22%3A%20%22round%22%2C%20%22lineJoin%22%3A%20%22round%22%2C%20%22opacity%22%3A%201.0%2C%20%22radius%22%3A%2035.313556272281424%2C%20%22stroke%22%3A%20true%2C%20%22weight%22%3A%203%7D%0A%20%20%20%20%20%20%20%20%20%20%20%20%29.addTo%28map_8f87285f909e45c9934e020e26ba2b97%29%3B%0A%20%20%20%20%20%20%20%20%0A%20%20%20%20%0A%20%20%20%20%20%20%20%20var%20popup_9d13ce869566446197e55b78ae443f1e%20%3D%20L.popup%28%7B%22maxWidth%22%3A%20%22100%25%22%7D%29%3B%0A%0A%20%20%20%20%20%20%20%20%0A%20%20%20%20%20%20%20%20%20%20%20%20var%20html_39c3321857974b6ea0f1867ac8cfe302%20%3D%20%24%28%60%3Cdiv%20id%3D%22html_39c3321857974b6ea0f1867ac8cfe302%22%20style%3D%22width%3A%20100.0%25%3B%20height%3A%20100.0%25%3B%22%3EIndonesia%3C/div%3E%60%29%5B0%5D%3B%0A%20%20%20%20%20%20%20%20%20%20%20%20popup_9d13ce869566446197e55b78ae443f1e.setContent%28html_39c3321857974b6ea0f1867ac8cfe302%29%3B%0A%20%20%20%20%20%20%20%20%0A%0A%20%20%20%20%20%20%20%20circle_marker_6ceebfdd4e0c45dcbb97a4ad91596aa2.bindPopup%28popup_9d13ce869566446197e55b78ae443f1e%29%0A%20%20%20%20%20%20%20%20%3B%0A%0A%20%20%20%20%20%20%20%20%0A%20%20%20%20%0A%20%20%20%20%0A%20%20%20%20%20%20%20%20%20%20%20%20var%20circle_marker_8096fc9cfdec42f1b54b640b05d74c84%20%3D%20L.circleMarker%28%0A%20%20%20%20%20%20%20%20%20%20%20%20%20%20%20%20%5B22.0%2C%2079.0%5D%2C%0A%20%20%20%20%20%20%20%20%20%20%20%20%20%20%20%20%7B%22bubblingMouseEvents%22%3A%20true%2C%20%22color%22%3A%20%22%233388ff%22%2C%20%22dashArray%22%3A%20null%2C%20%22dashOffset%22%3A%20null%2C%20%22fill%22%3A%20true%2C%20%22fillColor%22%3A%20%22red%22%2C%20%22fillOpacity%22%3A%200.2%2C%20%22fillRule%22%3A%20%22evenodd%22%2C%20%22lineCap%22%3A%20%22round%22%2C%20%22lineJoin%22%3A%20%22round%22%2C%20%22opacity%22%3A%201.0%2C%20%22radius%22%3A%2096.35271911284168%2C%20%22stroke%22%3A%20true%2C%20%22weight%22%3A%203%7D%0A%20%20%20%20%20%20%20%20%20%20%20%20%29.addTo%28map_8f87285f909e45c9934e020e26ba2b97%29%3B%0A%20%20%20%20%20%20%20%20%0A%20%20%20%20%0A%20%20%20%20%20%20%20%20var%20popup_dc0c3a4146984db998f79c3123309dd4%20%3D%20L.popup%28%7B%22maxWidth%22%3A%20%22100%25%22%7D%29%3B%0A%0A%20%20%20%20%20%20%20%20%0A%20%20%20%20%20%20%20%20%20%20%20%20var%20html_f5ecfe82a8704b8b98d670ac0b220e58%20%3D%20%24%28%60%3Cdiv%20id%3D%22html_f5ecfe82a8704b8b98d670ac0b220e58%22%20style%3D%22width%3A%20100.0%25%3B%20height%3A%20100.0%25%3B%22%3EIndia%3C/div%3E%60%29%5B0%5D%3B%0A%20%20%20%20%20%20%20%20%20%20%20%20popup_dc0c3a4146984db998f79c3123309dd4.setContent%28html_f5ecfe82a8704b8b98d670ac0b220e58%29%3B%0A%20%20%20%20%20%20%20%20%0A%0A%20%20%20%20%20%20%20%20circle_marker_8096fc9cfdec42f1b54b640b05d74c84.bindPopup%28popup_dc0c3a4146984db998f79c3123309dd4%29%0A%20%20%20%20%20%20%20%20%3B%0A%0A%20%20%20%20%20%20%20%20%0A%20%20%20%20%0A%20%20%20%20%0A%20%20%20%20%20%20%20%20%20%20%20%20var%20circle_marker_e3726e14ded346288300550b950f0f09%20%3D%20L.circleMarker%28%0A%20%20%20%20%20%20%20%20%20%20%20%20%20%20%20%20%5B53.0%2C%20-8.0%5D%2C%0A%20%20%20%20%20%20%20%20%20%20%20%20%20%20%20%20%7B%22bubblingMouseEvents%22%3A%20true%2C%20%22color%22%3A%20%22%233388ff%22%2C%20%22dashArray%22%3A%20null%2C%20%22dashOffset%22%3A%20null%2C%20%22fill%22%3A%20true%2C%20%22fillColor%22%3A%20%22black%22%2C%20%22fillOpacity%22%3A%200.2%2C%20%22fillRule%22%3A%20%22evenodd%22%2C%20%22lineCap%22%3A%20%22round%22%2C%20%22lineJoin%22%3A%20%22round%22%2C%20%22opacity%22%3A%201.0%2C%20%22radius%22%3A%200.7224270824013612%2C%20%22stroke%22%3A%20true%2C%20%22weight%22%3A%203%7D%0A%20%20%20%20%20%20%20%20%20%20%20%20%29.addTo%28map_8f87285f909e45c9934e020e26ba2b97%29%3B%0A%20%20%20%20%20%20%20%20%0A%20%20%20%20%0A%20%20%20%20%20%20%20%20var%20popup_e21cfc3f37b64fee9f1fab0c9bc7c136%20%3D%20L.popup%28%7B%22maxWidth%22%3A%20%22100%25%22%7D%29%3B%0A%0A%20%20%20%20%20%20%20%20%0A%20%20%20%20%20%20%20%20%20%20%20%20var%20html_859f586f535c470688169ccbabccdc78%20%3D%20%24%28%60%3Cdiv%20id%3D%22html_859f586f535c470688169ccbabccdc78%22%20style%3D%22width%3A%20100.0%25%3B%20height%3A%20100.0%25%3B%22%3EIreland%3C/div%3E%60%29%5B0%5D%3B%0A%20%20%20%20%20%20%20%20%20%20%20%20popup_e21cfc3f37b64fee9f1fab0c9bc7c136.setContent%28html_859f586f535c470688169ccbabccdc78%29%3B%0A%20%20%20%20%20%20%20%20%0A%0A%20%20%20%20%20%20%20%20circle_marker_e3726e14ded346288300550b950f0f09.bindPopup%28popup_e21cfc3f37b64fee9f1fab0c9bc7c136%29%0A%20%20%20%20%20%20%20%20%3B%0A%0A%20%20%20%20%20%20%20%20%0A%20%20%20%20%0A%20%20%20%20%0A%20%20%20%20%20%20%20%20%20%20%20%20var%20circle_marker_cdea243043e144c8bca0b93134771977%20%3D%20L.circleMarker%28%0A%20%20%20%20%20%20%20%20%20%20%20%20%20%20%20%20%5B32.0%2C%2053.0%5D%2C%0A%20%20%20%20%20%20%20%20%20%20%20%20%20%20%20%20%7B%22bubblingMouseEvents%22%3A%20true%2C%20%22color%22%3A%20%22%233388ff%22%2C%20%22dashArray%22%3A%20null%2C%20%22dashOffset%22%3A%20null%2C%20%22fill%22%3A%20true%2C%20%22fillColor%22%3A%20%22red%22%2C%20%22fillOpacity%22%3A%200.2%2C%20%22fillRule%22%3A%20%22evenodd%22%2C%20%22lineCap%22%3A%20%22round%22%2C%20%22lineJoin%22%3A%20%22round%22%2C%20%22opacity%22%3A%201.0%2C%20%22radius%22%3A%205.834814195302852%2C%20%22stroke%22%3A%20true%2C%20%22weight%22%3A%203%7D%0A%20%20%20%20%20%20%20%20%20%20%20%20%29.addTo%28map_8f87285f909e45c9934e020e26ba2b97%29%3B%0A%20%20%20%20%20%20%20%20%0A%20%20%20%20%0A%20%20%20%20%20%20%20%20var%20popup_c132453b18774d8f95dea95cacc111d2%20%3D%20L.popup%28%7B%22maxWidth%22%3A%20%22100%25%22%7D%29%3B%0A%0A%20%20%20%20%20%20%20%20%0A%20%20%20%20%20%20%20%20%20%20%20%20var%20html_aacfb37c7e9a47b09b3c5cf96013db81%20%3D%20%24%28%60%3Cdiv%20id%3D%22html_aacfb37c7e9a47b09b3c5cf96013db81%22%20style%3D%22width%3A%20100.0%25%3B%20height%3A%20100.0%25%3B%22%3EIran%3C/div%3E%60%29%5B0%5D%3B%0A%20%20%20%20%20%20%20%20%20%20%20%20popup_c132453b18774d8f95dea95cacc111d2.setContent%28html_aacfb37c7e9a47b09b3c5cf96013db81%29%3B%0A%20%20%20%20%20%20%20%20%0A%0A%20%20%20%20%20%20%20%20circle_marker_cdea243043e144c8bca0b93134771977.bindPopup%28popup_c132453b18774d8f95dea95cacc111d2%29%0A%20%20%20%20%20%20%20%20%3B%0A%0A%20%20%20%20%20%20%20%20%0A%20%20%20%20%0A%20%20%20%20%0A%20%20%20%20%20%20%20%20%20%20%20%20var%20circle_marker_e527c95fcdd34b438a68079a1a67adde%20%3D%20L.circleMarker%28%0A%20%20%20%20%20%20%20%20%20%20%20%20%20%20%20%20%5B33.0%2C%2044.0%5D%2C%0A%20%20%20%20%20%20%20%20%20%20%20%20%20%20%20%20%7B%22bubblingMouseEvents%22%3A%20true%2C%20%22color%22%3A%20%22%233388ff%22%2C%20%22dashArray%22%3A%20null%2C%20%22dashOffset%22%3A%20null%2C%20%22fill%22%3A%20true%2C%20%22fillColor%22%3A%20%22red%22%2C%20%22fillOpacity%22%3A%200.2%2C%20%22fillRule%22%3A%20%22evenodd%22%2C%20%22lineCap%22%3A%20%22round%22%2C%20%22lineJoin%22%3A%20%22round%22%2C%20%22opacity%22%3A%201.0%2C%20%22radius%22%3A%206.084127448138132%2C%20%22stroke%22%3A%20true%2C%20%22weight%22%3A%203%7D%0A%20%20%20%20%20%20%20%20%20%20%20%20%29.addTo%28map_8f87285f909e45c9934e020e26ba2b97%29%3B%0A%20%20%20%20%20%20%20%20%0A%20%20%20%20%0A%20%20%20%20%20%20%20%20var%20popup_4e6fd66ba4a84708a727708d886e6085%20%3D%20L.popup%28%7B%22maxWidth%22%3A%20%22100%25%22%7D%29%3B%0A%0A%20%20%20%20%20%20%20%20%0A%20%20%20%20%20%20%20%20%20%20%20%20var%20html_25444bd58ace4eb791ecff9d8c650109%20%3D%20%24%28%60%3Cdiv%20id%3D%22html_25444bd58ace4eb791ecff9d8c650109%22%20style%3D%22width%3A%20100.0%25%3B%20height%3A%20100.0%25%3B%22%3EIraq%3C/div%3E%60%29%5B0%5D%3B%0A%20%20%20%20%20%20%20%20%20%20%20%20popup_4e6fd66ba4a84708a727708d886e6085.setContent%28html_25444bd58ace4eb791ecff9d8c650109%29%3B%0A%20%20%20%20%20%20%20%20%0A%0A%20%20%20%20%20%20%20%20circle_marker_e527c95fcdd34b438a68079a1a67adde.bindPopup%28popup_4e6fd66ba4a84708a727708d886e6085%29%0A%20%20%20%20%20%20%20%20%3B%0A%0A%20%20%20%20%20%20%20%20%0A%20%20%20%20%0A%20%20%20%20%0A%20%20%20%20%20%20%20%20%20%20%20%20var%20circle_marker_4fcebd3a7ae1476abd4dd40a253ee354%20%3D%20L.circleMarker%28%0A%20%20%20%20%20%20%20%20%20%20%20%20%20%20%20%20%5B31.5%2C%2034.75%5D%2C%0A%20%20%20%20%20%20%20%20%20%20%20%20%20%20%20%20%7B%22bubblingMouseEvents%22%3A%20true%2C%20%22color%22%3A%20%22%233388ff%22%2C%20%22dashArray%22%3A%20null%2C%20%22dashOffset%22%3A%20null%2C%20%22fill%22%3A%20true%2C%20%22fillColor%22%3A%20%22red%22%2C%20%22fillOpacity%22%3A%200.2%2C%20%22fillRule%22%3A%20%22evenodd%22%2C%20%22lineCap%22%3A%20%22round%22%2C%20%22lineJoin%22%3A%20%22round%22%2C%20%22opacity%22%3A%201.0%2C%20%22radius%22%3A%200.9549814945354589%2C%20%22stroke%22%3A%20true%2C%20%22weight%22%3A%203%7D%0A%20%20%20%20%20%20%20%20%20%20%20%20%29.addTo%28map_8f87285f909e45c9934e020e26ba2b97%29%3B%0A%20%20%20%20%20%20%20%20%0A%20%20%20%20%0A%20%20%20%20%20%20%20%20var%20popup_c174d140b424488ab640c2cfb4a951df%20%3D%20L.popup%28%7B%22maxWidth%22%3A%20%22100%25%22%7D%29%3B%0A%0A%20%20%20%20%20%20%20%20%0A%20%20%20%20%20%20%20%20%20%20%20%20var%20html_befef01672154f45993f100c60b9c615%20%3D%20%24%28%60%3Cdiv%20id%3D%22html_befef01672154f45993f100c60b9c615%22%20style%3D%22width%3A%20100.0%25%3B%20height%3A%20100.0%25%3B%22%3EIsrael%3C/div%3E%60%29%5B0%5D%3B%0A%20%20%20%20%20%20%20%20%20%20%20%20popup_c174d140b424488ab640c2cfb4a951df.setContent%28html_befef01672154f45993f100c60b9c615%29%3B%0A%20%20%20%20%20%20%20%20%0A%0A%20%20%20%20%20%20%20%20circle_marker_4fcebd3a7ae1476abd4dd40a253ee354.bindPopup%28popup_c174d140b424488ab640c2cfb4a951df%29%0A%20%20%20%20%20%20%20%20%3B%0A%0A%20%20%20%20%20%20%20%20%0A%20%20%20%20%0A%20%20%20%20%0A%20%20%20%20%20%20%20%20%20%20%20%20var%20circle_marker_e7d09d4224044361b9b951218014769c%20%3D%20L.circleMarker%28%0A%20%20%20%20%20%20%20%20%20%20%20%20%20%20%20%20%5B42.83333%2C%2012.83333%5D%2C%0A%20%20%20%20%20%20%20%20%20%20%20%20%20%20%20%20%7B%22bubblingMouseEvents%22%3A%20true%2C%20%22color%22%3A%20%22%233388ff%22%2C%20%22dashArray%22%3A%20null%2C%20%22dashOffset%22%3A%20null%2C%20%22fill%22%3A%20true%2C%20%22fillColor%22%3A%20%22black%22%2C%20%22fillOpacity%22%3A%200.2%2C%20%22fillRule%22%3A%20%22evenodd%22%2C%20%22lineCap%22%3A%20%22round%22%2C%20%22lineJoin%22%3A%20%22round%22%2C%20%22opacity%22%3A%201.0%2C%20%22radius%22%3A%205.049074400874107%2C%20%22stroke%22%3A%20true%2C%20%22weight%22%3A%203%7D%0A%20%20%20%20%20%20%20%20%20%20%20%20%29.addTo%28map_8f87285f909e45c9934e020e26ba2b97%29%3B%0A%20%20%20%20%20%20%20%20%0A%20%20%20%20%0A%20%20%20%20%20%20%20%20var%20popup_3685fabe2e0c482ab121168ea37839e0%20%3D%20L.popup%28%7B%22maxWidth%22%3A%20%22100%25%22%7D%29%3B%0A%0A%20%20%20%20%20%20%20%20%0A%20%20%20%20%20%20%20%20%20%20%20%20var%20html_bb6269fb87594496a7778d49158531de%20%3D%20%24%28%60%3Cdiv%20id%3D%22html_bb6269fb87594496a7778d49158531de%22%20style%3D%22width%3A%20100.0%25%3B%20height%3A%20100.0%25%3B%22%3EItaly%3C/div%3E%60%29%5B0%5D%3B%0A%20%20%20%20%20%20%20%20%20%20%20%20popup_3685fabe2e0c482ab121168ea37839e0.setContent%28html_bb6269fb87594496a7778d49158531de%29%3B%0A%20%20%20%20%20%20%20%20%0A%0A%20%20%20%20%20%20%20%20circle_marker_e7d09d4224044361b9b951218014769c.bindPopup%28popup_3685fabe2e0c482ab121168ea37839e0%29%0A%20%20%20%20%20%20%20%20%3B%0A%0A%20%20%20%20%20%20%20%20%0A%20%20%20%20%0A%20%20%20%20%0A%20%20%20%20%20%20%20%20%20%20%20%20var%20circle_marker_105b34e1e7e349b49e37c421ad73e925%20%3D%20L.circleMarker%28%0A%20%20%20%20%20%20%20%20%20%20%20%20%20%20%20%20%5B18.16667%2C%20-77.25%5D%2C%0A%20%20%20%20%20%20%20%20%20%20%20%20%20%20%20%20%7B%22bubblingMouseEvents%22%3A%20true%2C%20%22color%22%3A%20%22%233388ff%22%2C%20%22dashArray%22%3A%20null%2C%20%22dashOffset%22%3A%20null%2C%20%22fill%22%3A%20true%2C%20%22fillColor%22%3A%20%22green%22%2C%20%22fillOpacity%22%3A%200.2%2C%20%22fillRule%22%3A%20%22evenodd%22%2C%20%22lineCap%22%3A%20%22round%22%2C%20%22lineJoin%22%3A%20%22round%22%2C%20%22opacity%22%3A%201.0%2C%20%22radius%22%3A%200.4633573332008104%2C%20%22stroke%22%3A%20true%2C%20%22weight%22%3A%203%7D%0A%20%20%20%20%20%20%20%20%20%20%20%20%29.addTo%28map_8f87285f909e45c9934e020e26ba2b97%29%3B%0A%20%20%20%20%20%20%20%20%0A%20%20%20%20%0A%20%20%20%20%20%20%20%20var%20popup_710533016152417081b741ce8d026ba8%20%3D%20L.popup%28%7B%22maxWidth%22%3A%20%22100%25%22%7D%29%3B%0A%0A%20%20%20%20%20%20%20%20%0A%20%20%20%20%20%20%20%20%20%20%20%20var%20html_f0f42053d2b649a886086234a98f821f%20%3D%20%24%28%60%3Cdiv%20id%3D%22html_f0f42053d2b649a886086234a98f821f%22%20style%3D%22width%3A%20100.0%25%3B%20height%3A%20100.0%25%3B%22%3EJamaica%3C/div%3E%60%29%5B0%5D%3B%0A%20%20%20%20%20%20%20%20%20%20%20%20popup_710533016152417081b741ce8d026ba8.setContent%28html_f0f42053d2b649a886086234a98f821f%29%3B%0A%20%20%20%20%20%20%20%20%0A%0A%20%20%20%20%20%20%20%20circle_marker_105b34e1e7e349b49e37c421ad73e925.bindPopup%28popup_710533016152417081b741ce8d026ba8%29%0A%20%20%20%20%20%20%20%20%3B%0A%0A%20%20%20%20%20%20%20%20%0A%20%20%20%20%0A%20%20%20%20%0A%20%20%20%20%20%20%20%20%20%20%20%20var%20circle_marker_7fadf43841af4a808fdc8cab2de46b58%20%3D%20L.circleMarker%28%0A%20%20%20%20%20%20%20%20%20%20%20%20%20%20%20%20%5B31.0%2C%2036.0%5D%2C%0A%20%20%20%20%20%20%20%20%20%20%20%20%20%20%20%20%7B%22bubblingMouseEvents%22%3A%20true%2C%20%22color%22%3A%20%22%233388ff%22%2C%20%22dashArray%22%3A%20null%2C%20%22dashOffset%22%3A%20null%2C%20%22fill%22%3A%20true%2C%20%22fillColor%22%3A%20%22red%22%2C%20%22fillOpacity%22%3A%200.2%2C%20%22fillRule%22%3A%20%22evenodd%22%2C%20%22lineCap%22%3A%20%22round%22%2C%20%22lineJoin%22%3A%20%22round%22%2C%20%22opacity%22%3A%201.0%2C%20%22radius%22%3A%200.4300072242232263%2C%20%22stroke%22%3A%20true%2C%20%22weight%22%3A%203%7D%0A%20%20%20%20%20%20%20%20%20%20%20%20%29.addTo%28map_8f87285f909e45c9934e020e26ba2b97%29%3B%0A%20%20%20%20%20%20%20%20%0A%20%20%20%20%0A%20%20%20%20%20%20%20%20var%20popup_513cb785efa448b6b250480306be736e%20%3D%20L.popup%28%7B%22maxWidth%22%3A%20%22100%25%22%7D%29%3B%0A%0A%20%20%20%20%20%20%20%20%0A%20%20%20%20%20%20%20%20%20%20%20%20var%20html_9be52c99a66646d8a6d35178b49b4072%20%3D%20%24%28%60%3Cdiv%20id%3D%22html_9be52c99a66646d8a6d35178b49b4072%22%20style%3D%22width%3A%20100.0%25%3B%20height%3A%20100.0%25%3B%22%3EJordan%3C/div%3E%60%29%5B0%5D%3B%0A%20%20%20%20%20%20%20%20%20%20%20%20popup_513cb785efa448b6b250480306be736e.setContent%28html_9be52c99a66646d8a6d35178b49b4072%29%3B%0A%20%20%20%20%20%20%20%20%0A%0A%20%20%20%20%20%20%20%20circle_marker_7fadf43841af4a808fdc8cab2de46b58.bindPopup%28popup_513cb785efa448b6b250480306be736e%29%0A%20%20%20%20%20%20%20%20%3B%0A%0A%20%20%20%20%20%20%20%20%0A%20%20%20%20%0A%20%20%20%20%0A%20%20%20%20%20%20%20%20%20%20%20%20var%20circle_marker_4065e2a1105c4c05b02d1c640e2d0a53%20%3D%20L.circleMarker%28%0A%20%20%20%20%20%20%20%20%20%20%20%20%20%20%20%20%5B35.68536%2C%20139.75309%5D%2C%0A%20%20%20%20%20%20%20%20%20%20%20%20%20%20%20%20%7B%22bubblingMouseEvents%22%3A%20true%2C%20%22color%22%3A%20%22%233388ff%22%2C%20%22dashArray%22%3A%20null%2C%20%22dashOffset%22%3A%20null%2C%20%22fill%22%3A%20true%2C%20%22fillColor%22%3A%20%22red%22%2C%20%22fillOpacity%22%3A%200.2%2C%20%22fillRule%22%3A%20%22evenodd%22%2C%20%22lineCap%22%3A%20%22round%22%2C%20%22lineJoin%22%3A%20%22round%22%2C%20%22opacity%22%3A%201.0%2C%20%22radius%22%3A%203.784269826192565%2C%20%22stroke%22%3A%20true%2C%20%22weight%22%3A%203%7D%0A%20%20%20%20%20%20%20%20%20%20%20%20%29.addTo%28map_8f87285f909e45c9934e020e26ba2b97%29%3B%0A%20%20%20%20%20%20%20%20%0A%20%20%20%20%0A%20%20%20%20%20%20%20%20var%20popup_a20f8c49528d48d592b2cd0513a07890%20%3D%20L.popup%28%7B%22maxWidth%22%3A%20%22100%25%22%7D%29%3B%0A%0A%20%20%20%20%20%20%20%20%0A%20%20%20%20%20%20%20%20%20%20%20%20var%20html_13742a924b794e00bc390f94f518421b%20%3D%20%24%28%60%3Cdiv%20id%3D%22html_13742a924b794e00bc390f94f518421b%22%20style%3D%22width%3A%20100.0%25%3B%20height%3A%20100.0%25%3B%22%3EJapan%3C/div%3E%60%29%5B0%5D%3B%0A%20%20%20%20%20%20%20%20%20%20%20%20popup_a20f8c49528d48d592b2cd0513a07890.setContent%28html_13742a924b794e00bc390f94f518421b%29%3B%0A%20%20%20%20%20%20%20%20%0A%0A%20%20%20%20%20%20%20%20circle_marker_4065e2a1105c4c05b02d1c640e2d0a53.bindPopup%28popup_a20f8c49528d48d592b2cd0513a07890%29%0A%20%20%20%20%20%20%20%20%3B%0A%0A%20%20%20%20%20%20%20%20%0A%20%20%20%20%0A%20%20%20%20%0A%20%20%20%20%20%20%20%20%20%20%20%20var%20circle_marker_37cfea9cd80c4434be4a15a2125caf9b%20%3D%20L.circleMarker%28%0A%20%20%20%20%20%20%20%20%20%20%20%20%20%20%20%20%5B48.0%2C%2068.0%5D%2C%0A%20%20%20%20%20%20%20%20%20%20%20%20%20%20%20%20%7B%22bubblingMouseEvents%22%3A%20true%2C%20%22color%22%3A%20%22%233388ff%22%2C%20%22dashArray%22%3A%20null%2C%20%22dashOffset%22%3A%20null%2C%20%22fill%22%3A%20true%2C%20%22fillColor%22%3A%20%22red%22%2C%20%22fillOpacity%22%3A%200.2%2C%20%22fillRule%22%3A%20%22evenodd%22%2C%20%22lineCap%22%3A%20%22round%22%2C%20%22lineJoin%22%3A%20%22round%22%2C%20%22opacity%22%3A%201.0%2C%20%22radius%22%3A%200.5571211448310092%2C%20%22stroke%22%3A%20true%2C%20%22weight%22%3A%203%7D%0A%20%20%20%20%20%20%20%20%20%20%20%20%29.addTo%28map_8f87285f909e45c9934e020e26ba2b97%29%3B%0A%20%20%20%20%20%20%20%20%0A%20%20%20%20%0A%20%20%20%20%20%20%20%20var%20popup_0faa630daec24b429f5913b9eb834c34%20%3D%20L.popup%28%7B%22maxWidth%22%3A%20%22100%25%22%7D%29%3B%0A%0A%20%20%20%20%20%20%20%20%0A%20%20%20%20%20%20%20%20%20%20%20%20var%20html_9eb12add4f58401c91b01961ede29d3f%20%3D%20%24%28%60%3Cdiv%20id%3D%22html_9eb12add4f58401c91b01961ede29d3f%22%20style%3D%22width%3A%20100.0%25%3B%20height%3A%20100.0%25%3B%22%3EKazakhstan%3C/div%3E%60%29%5B0%5D%3B%0A%20%20%20%20%20%20%20%20%20%20%20%20popup_0faa630daec24b429f5913b9eb834c34.setContent%28html_9eb12add4f58401c91b01961ede29d3f%29%3B%0A%20%20%20%20%20%20%20%20%0A%0A%20%20%20%20%20%20%20%20circle_marker_37cfea9cd80c4434be4a15a2125caf9b.bindPopup%28popup_0faa630daec24b429f5913b9eb834c34%29%0A%20%20%20%20%20%20%20%20%3B%0A%0A%20%20%20%20%20%20%20%20%0A%20%20%20%20%0A%20%20%20%20%0A%20%20%20%20%20%20%20%20%20%20%20%20var%20circle_marker_6f95bcbf0a73496099a683c30c06be8b%20%3D%20L.circleMarker%28%0A%20%20%20%20%20%20%20%20%20%20%20%20%20%20%20%20%5B1.0%2C%2038.0%5D%2C%0A%20%20%20%20%20%20%20%20%20%20%20%20%20%20%20%20%7B%22bubblingMouseEvents%22%3A%20true%2C%20%22color%22%3A%20%22%233388ff%22%2C%20%22dashArray%22%3A%20null%2C%20%22dashOffset%22%3A%20null%2C%20%22fill%22%3A%20true%2C%20%22fillColor%22%3A%20%22blue%22%2C%20%22fillOpacity%22%3A%200.2%2C%20%22fillRule%22%3A%20%22evenodd%22%2C%20%22lineCap%22%3A%20%22round%22%2C%20%22lineJoin%22%3A%20%22round%22%2C%20%22opacity%22%3A%201.0%2C%20%22radius%22%3A%2024.088125640567295%2C%20%22stroke%22%3A%20true%2C%20%22weight%22%3A%203%7D%0A%20%20%20%20%20%20%20%20%20%20%20%20%29.addTo%28map_8f87285f909e45c9934e020e26ba2b97%29%3B%0A%20%20%20%20%20%20%20%20%0A%20%20%20%20%0A%20%20%20%20%20%20%20%20var%20popup_04bc012de5e34daaadbb0708844933b7%20%3D%20L.popup%28%7B%22maxWidth%22%3A%20%22100%25%22%7D%29%3B%0A%0A%20%20%20%20%20%20%20%20%0A%20%20%20%20%20%20%20%20%20%20%20%20var%20html_927d6b5b6a054da9873e8cdbcd2b0e76%20%3D%20%24%28%60%3Cdiv%20id%3D%22html_927d6b5b6a054da9873e8cdbcd2b0e76%22%20style%3D%22width%3A%20100.0%25%3B%20height%3A%20100.0%25%3B%22%3EKenya%3C/div%3E%60%29%5B0%5D%3B%0A%20%20%20%20%20%20%20%20%20%20%20%20popup_04bc012de5e34daaadbb0708844933b7.setContent%28html_927d6b5b6a054da9873e8cdbcd2b0e76%29%3B%0A%20%20%20%20%20%20%20%20%0A%0A%20%20%20%20%20%20%20%20circle_marker_6f95bcbf0a73496099a683c30c06be8b.bindPopup%28popup_04bc012de5e34daaadbb0708844933b7%29%0A%20%20%20%20%20%20%20%20%3B%0A%0A%20%20%20%20%20%20%20%20%0A%20%20%20%20%0A%20%20%20%20%0A%20%20%20%20%20%20%20%20%20%20%20%20var%20circle_marker_21c9e1de5c3c4b51aa7d770d5b566ce2%20%3D%20L.circleMarker%28%0A%20%20%20%20%20%20%20%20%20%20%20%20%20%20%20%20%5B41.5%2C%2075.0%5D%2C%0A%20%20%20%20%20%20%20%20%20%20%20%20%20%20%20%20%7B%22bubblingMouseEvents%22%3A%20true%2C%20%22color%22%3A%20%22%233388ff%22%2C%20%22dashArray%22%3A%20null%2C%20%22dashOffset%22%3A%20null%2C%20%22fill%22%3A%20true%2C%20%22fillColor%22%3A%20%22red%22%2C%20%22fillOpacity%22%3A%200.2%2C%20%22fillRule%22%3A%20%22evenodd%22%2C%20%22lineCap%22%3A%20%22round%22%2C%20%22lineJoin%22%3A%20%22round%22%2C%20%22opacity%22%3A%201.0%2C%20%22radius%22%3A%202.9697977196085015%2C%20%22stroke%22%3A%20true%2C%20%22weight%22%3A%203%7D%0A%20%20%20%20%20%20%20%20%20%20%20%20%29.addTo%28map_8f87285f909e45c9934e020e26ba2b97%29%3B%0A%20%20%20%20%20%20%20%20%0A%20%20%20%20%0A%20%20%20%20%20%20%20%20var%20popup_3c0096c5a6c0470fbc14e795a686602c%20%3D%20L.popup%28%7B%22maxWidth%22%3A%20%22100%25%22%7D%29%3B%0A%0A%20%20%20%20%20%20%20%20%0A%20%20%20%20%20%20%20%20%20%20%20%20var%20html_06aa791f025249a98e56686ce6eea3db%20%3D%20%24%28%60%3Cdiv%20id%3D%22html_06aa791f025249a98e56686ce6eea3db%22%20style%3D%22width%3A%20100.0%25%3B%20height%3A%20100.0%25%3B%22%3EKyrgyz%20Republic%3C/div%3E%60%29%5B0%5D%3B%0A%20%20%20%20%20%20%20%20%20%20%20%20popup_3c0096c5a6c0470fbc14e795a686602c.setContent%28html_06aa791f025249a98e56686ce6eea3db%29%3B%0A%20%20%20%20%20%20%20%20%0A%0A%20%20%20%20%20%20%20%20circle_marker_21c9e1de5c3c4b51aa7d770d5b566ce2.bindPopup%28popup_3c0096c5a6c0470fbc14e795a686602c%29%0A%20%20%20%20%20%20%20%20%3B%0A%0A%20%20%20%20%20%20%20%20%0A%20%20%20%20%0A%20%20%20%20%0A%20%20%20%20%20%20%20%20%20%20%20%20var%20circle_marker_386e36d75a7f47c7afbafda3381a927e%20%3D%20L.circleMarker%28%0A%20%20%20%20%20%20%20%20%20%20%20%20%20%20%20%20%5B13.0%2C%20105.0%5D%2C%0A%20%20%20%20%20%20%20%20%20%20%20%20%20%20%20%20%7B%22bubblingMouseEvents%22%3A%20true%2C%20%22color%22%3A%20%22%233388ff%22%2C%20%22dashArray%22%3A%20null%2C%20%22dashOffset%22%3A%20null%2C%20%22fill%22%3A%20true%2C%20%22fillColor%22%3A%20%22red%22%2C%20%22fillOpacity%22%3A%200.2%2C%20%22fillRule%22%3A%20%22evenodd%22%2C%20%22lineCap%22%3A%20%22round%22%2C%20%22lineJoin%22%3A%20%22round%22%2C%20%22opacity%22%3A%201.0%2C%20%22radius%22%3A%206.766458594858778%2C%20%22stroke%22%3A%20true%2C%20%22weight%22%3A%203%7D%0A%20%20%20%20%20%20%20%20%20%20%20%20%29.addTo%28map_8f87285f909e45c9934e020e26ba2b97%29%3B%0A%20%20%20%20%20%20%20%20%0A%20%20%20%20%0A%20%20%20%20%20%20%20%20var%20popup_6ec4b1e140704020b6e6b628486d8e36%20%3D%20L.popup%28%7B%22maxWidth%22%3A%20%22100%25%22%7D%29%3B%0A%0A%20%20%20%20%20%20%20%20%0A%20%20%20%20%20%20%20%20%20%20%20%20var%20html_61ef66a413c047cdaaa6bea0bee9a046%20%3D%20%24%28%60%3Cdiv%20id%3D%22html_61ef66a413c047cdaaa6bea0bee9a046%22%20style%3D%22width%3A%20100.0%25%3B%20height%3A%20100.0%25%3B%22%3ECambodia%3C/div%3E%60%29%5B0%5D%3B%0A%20%20%20%20%20%20%20%20%20%20%20%20popup_6ec4b1e140704020b6e6b628486d8e36.setContent%28html_61ef66a413c047cdaaa6bea0bee9a046%29%3B%0A%20%20%20%20%20%20%20%20%0A%0A%20%20%20%20%20%20%20%20circle_marker_386e36d75a7f47c7afbafda3381a927e.bindPopup%28popup_6ec4b1e140704020b6e6b628486d8e36%29%0A%20%20%20%20%20%20%20%20%3B%0A%0A%20%20%20%20%20%20%20%20%0A%20%20%20%20%0A%20%20%20%20%0A%20%20%20%20%20%20%20%20%20%20%20%20var%20circle_marker_9a76d595f22749c1ac04a6d5f2df1509%20%3D%20L.circleMarker%28%0A%20%20%20%20%20%20%20%20%20%20%20%20%20%20%20%20%5B18.0%2C%20105.0%5D%2C%0A%20%20%20%20%20%20%20%20%20%20%20%20%20%20%20%20%7B%22bubblingMouseEvents%22%3A%20true%2C%20%22color%22%3A%20%22%233388ff%22%2C%20%22dashArray%22%3A%20null%2C%20%22dashOffset%22%3A%20null%2C%20%22fill%22%3A%20true%2C%20%22fillColor%22%3A%20%22red%22%2C%20%22fillOpacity%22%3A%200.2%2C%20%22fillRule%22%3A%20%22evenodd%22%2C%20%22lineCap%22%3A%20%22round%22%2C%20%22lineJoin%22%3A%20%22round%22%2C%20%22opacity%22%3A%201.0%2C%20%22radius%22%3A%207.758371982276796%2C%20%22stroke%22%3A%20true%2C%20%22weight%22%3A%203%7D%0A%20%20%20%20%20%20%20%20%20%20%20%20%29.addTo%28map_8f87285f909e45c9934e020e26ba2b97%29%3B%0A%20%20%20%20%20%20%20%20%0A%20%20%20%20%0A%20%20%20%20%20%20%20%20var%20popup_fb99da6ac5344642baa0b9248c2ec0eb%20%3D%20L.popup%28%7B%22maxWidth%22%3A%20%22100%25%22%7D%29%3B%0A%0A%20%20%20%20%20%20%20%20%0A%20%20%20%20%20%20%20%20%20%20%20%20var%20html_5ba85d150b194505807e4a58fae8d255%20%3D%20%24%28%60%3Cdiv%20id%3D%22html_5ba85d150b194505807e4a58fae8d255%22%20style%3D%22width%3A%20100.0%25%3B%20height%3A%20100.0%25%3B%22%3ELao%3C/div%3E%60%29%5B0%5D%3B%0A%20%20%20%20%20%20%20%20%20%20%20%20popup_fb99da6ac5344642baa0b9248c2ec0eb.setContent%28html_5ba85d150b194505807e4a58fae8d255%29%3B%0A%20%20%20%20%20%20%20%20%0A%0A%20%20%20%20%20%20%20%20circle_marker_9a76d595f22749c1ac04a6d5f2df1509.bindPopup%28popup_fb99da6ac5344642baa0b9248c2ec0eb%29%0A%20%20%20%20%20%20%20%20%3B%0A%0A%20%20%20%20%20%20%20%20%0A%20%20%20%20%0A%20%20%20%20%0A%20%20%20%20%20%20%20%20%20%20%20%20var%20circle_marker_37e204bcd7d54e0683476c8b8a6990e7%20%3D%20L.circleMarker%28%0A%20%20%20%20%20%20%20%20%20%20%20%20%20%20%20%20%5B6.5%2C%20-9.5%5D%2C%0A%20%20%20%20%20%20%20%20%20%20%20%20%20%20%20%20%7B%22bubblingMouseEvents%22%3A%20true%2C%20%22color%22%3A%20%22%233388ff%22%2C%20%22dashArray%22%3A%20null%2C%20%22dashOffset%22%3A%20null%2C%20%22fill%22%3A%20true%2C%20%22fillColor%22%3A%20%22blue%22%2C%20%22fillOpacity%22%3A%200.2%2C%20%22fillRule%22%3A%20%22evenodd%22%2C%20%22lineCap%22%3A%20%22round%22%2C%20%22lineJoin%22%3A%20%22round%22%2C%20%22opacity%22%3A%201.0%2C%20%22radius%22%3A%2010.185772240421114%2C%20%22stroke%22%3A%20true%2C%20%22weight%22%3A%203%7D%0A%20%20%20%20%20%20%20%20%20%20%20%20%29.addTo%28map_8f87285f909e45c9934e020e26ba2b97%29%3B%0A%20%20%20%20%20%20%20%20%0A%20%20%20%20%0A%20%20%20%20%20%20%20%20var%20popup_cc8f25193bf344e89107f1d6fc3310da%20%3D%20L.popup%28%7B%22maxWidth%22%3A%20%22100%25%22%7D%29%3B%0A%0A%20%20%20%20%20%20%20%20%0A%20%20%20%20%20%20%20%20%20%20%20%20var%20html_55c40e210e6e4c399a28de377130aba9%20%3D%20%24%28%60%3Cdiv%20id%3D%22html_55c40e210e6e4c399a28de377130aba9%22%20style%3D%22width%3A%20100.0%25%3B%20height%3A%20100.0%25%3B%22%3ELiberia%3C/div%3E%60%29%5B0%5D%3B%0A%20%20%20%20%20%20%20%20%20%20%20%20popup_cc8f25193bf344e89107f1d6fc3310da.setContent%28html_55c40e210e6e4c399a28de377130aba9%29%3B%0A%20%20%20%20%20%20%20%20%0A%0A%20%20%20%20%20%20%20%20circle_marker_37e204bcd7d54e0683476c8b8a6990e7.bindPopup%28popup_cc8f25193bf344e89107f1d6fc3310da%29%0A%20%20%20%20%20%20%20%20%3B%0A%0A%20%20%20%20%20%20%20%20%0A%20%20%20%20%0A%20%20%20%20%0A%20%20%20%20%20%20%20%20%20%20%20%20var%20circle_marker_d5381ac1a80d4337ac21533af5ad9a47%20%3D%20L.circleMarker%28%0A%20%20%20%20%20%20%20%20%20%20%20%20%20%20%20%20%5B13.88333%2C%20-60.96667%5D%2C%0A%20%20%20%20%20%20%20%20%20%20%20%20%20%20%20%20%7B%22bubblingMouseEvents%22%3A%20true%2C%20%22color%22%3A%20%22%233388ff%22%2C%20%22dashArray%22%3A%20null%2C%20%22dashOffset%22%3A%20null%2C%20%22fill%22%3A%20true%2C%20%22fillColor%22%3A%20%22green%22%2C%20%22fillOpacity%22%3A%200.2%2C%20%22fillRule%22%3A%20%22evenodd%22%2C%20%22lineCap%22%3A%20%22round%22%2C%20%22lineJoin%22%3A%20%22round%22%2C%20%22opacity%22%3A%201.0%2C%20%22radius%22%3A%201.0777350206264305%2C%20%22stroke%22%3A%20true%2C%20%22weight%22%3A%203%7D%0A%20%20%20%20%20%20%20%20%20%20%20%20%29.addTo%28map_8f87285f909e45c9934e020e26ba2b97%29%3B%0A%20%20%20%20%20%20%20%20%0A%20%20%20%20%0A%20%20%20%20%20%20%20%20var%20popup_e62b3b1ff52c47e3a58f765cf4fd7d69%20%3D%20L.popup%28%7B%22maxWidth%22%3A%20%22100%25%22%7D%29%3B%0A%0A%20%20%20%20%20%20%20%20%0A%20%20%20%20%20%20%20%20%20%20%20%20var%20html_b68c9e379aef4960aa04b2553739b3e8%20%3D%20%24%28%60%3Cdiv%20id%3D%22html_b68c9e379aef4960aa04b2553739b3e8%22%20style%3D%22width%3A%20100.0%25%3B%20height%3A%20100.0%25%3B%22%3ESt.%20Lucia%3C/div%3E%60%29%5B0%5D%3B%0A%20%20%20%20%20%20%20%20%20%20%20%20popup_e62b3b1ff52c47e3a58f765cf4fd7d69.setContent%28html_b68c9e379aef4960aa04b2553739b3e8%29%3B%0A%20%20%20%20%20%20%20%20%0A%0A%20%20%20%20%20%20%20%20circle_marker_d5381ac1a80d4337ac21533af5ad9a47.bindPopup%28popup_e62b3b1ff52c47e3a58f765cf4fd7d69%29%0A%20%20%20%20%20%20%20%20%3B%0A%0A%20%20%20%20%20%20%20%20%0A%20%20%20%20%0A%20%20%20%20%0A%20%20%20%20%20%20%20%20%20%20%20%20var%20circle_marker_2cc0ece02ff14886b5a2febf17b8492e%20%3D%20L.circleMarker%28%0A%20%20%20%20%20%20%20%20%20%20%20%20%20%20%20%20%5B7.75%2C%2080.75%5D%2C%0A%20%20%20%20%20%20%20%20%20%20%20%20%20%20%20%20%7B%22bubblingMouseEvents%22%3A%20true%2C%20%22color%22%3A%20%22%233388ff%22%2C%20%22dashArray%22%3A%20null%2C%20%22dashOffset%22%3A%20null%2C%20%22fill%22%3A%20true%2C%20%22fillColor%22%3A%20%22red%22%2C%20%22fillOpacity%22%3A%200.2%2C%20%22fillRule%22%3A%20%22evenodd%22%2C%20%22lineCap%22%3A%20%22round%22%2C%20%22lineJoin%22%3A%20%22round%22%2C%20%22opacity%22%3A%201.0%2C%20%22radius%22%3A%205.148541404016821%2C%20%22stroke%22%3A%20true%2C%20%22weight%22%3A%203%7D%0A%20%20%20%20%20%20%20%20%20%20%20%20%29.addTo%28map_8f87285f909e45c9934e020e26ba2b97%29%3B%0A%20%20%20%20%20%20%20%20%0A%20%20%20%20%0A%20%20%20%20%20%20%20%20var%20popup_e509f7cf182c4f3b8de41b44afe5efb7%20%3D%20L.popup%28%7B%22maxWidth%22%3A%20%22100%25%22%7D%29%3B%0A%0A%20%20%20%20%20%20%20%20%0A%20%20%20%20%20%20%20%20%20%20%20%20var%20html_6d3916fc99f44e2cbcad9c17949518ec%20%3D%20%24%28%60%3Cdiv%20id%3D%22html_6d3916fc99f44e2cbcad9c17949518ec%22%20style%3D%22width%3A%20100.0%25%3B%20height%3A%20100.0%25%3B%22%3ESri%20Lanka%3C/div%3E%60%29%5B0%5D%3B%0A%20%20%20%20%20%20%20%20%20%20%20%20popup_e509f7cf182c4f3b8de41b44afe5efb7.setContent%28html_6d3916fc99f44e2cbcad9c17949518ec%29%3B%0A%20%20%20%20%20%20%20%20%0A%0A%20%20%20%20%20%20%20%20circle_marker_2cc0ece02ff14886b5a2febf17b8492e.bindPopup%28popup_e509f7cf182c4f3b8de41b44afe5efb7%29%0A%20%20%20%20%20%20%20%20%3B%0A%0A%20%20%20%20%20%20%20%20%0A%20%20%20%20%0A%20%20%20%20%0A%20%20%20%20%20%20%20%20%20%20%20%20var%20circle_marker_618f74291b6944afbea8f8ac86c85c27%20%3D%20L.circleMarker%28%0A%20%20%20%20%20%20%20%20%20%20%20%20%20%20%20%20%5B-29.5%2C%2028.25%5D%2C%0A%20%20%20%20%20%20%20%20%20%20%20%20%20%20%20%20%7B%22bubblingMouseEvents%22%3A%20true%2C%20%22color%22%3A%20%22%233388ff%22%2C%20%22dashArray%22%3A%20null%2C%20%22dashOffset%22%3A%20null%2C%20%22fill%22%3A%20true%2C%20%22fillColor%22%3A%20%22blue%22%2C%20%22fillOpacity%22%3A%200.2%2C%20%22fillRule%22%3A%20%22evenodd%22%2C%20%22lineCap%22%3A%20%22round%22%2C%20%22lineJoin%22%3A%20%22round%22%2C%20%22opacity%22%3A%201.0%2C%20%22radius%22%3A%205.97591567065859%2C%20%22stroke%22%3A%20true%2C%20%22weight%22%3A%203%7D%0A%20%20%20%20%20%20%20%20%20%20%20%20%29.addTo%28map_8f87285f909e45c9934e020e26ba2b97%29%3B%0A%20%20%20%20%20%20%20%20%0A%20%20%20%20%0A%20%20%20%20%20%20%20%20var%20popup_d183efc66f184f0fa958b2c5993a4a69%20%3D%20L.popup%28%7B%22maxWidth%22%3A%20%22100%25%22%7D%29%3B%0A%0A%20%20%20%20%20%20%20%20%0A%20%20%20%20%20%20%20%20%20%20%20%20var%20html_d86fa041880240db981de04317af756b%20%3D%20%24%28%60%3Cdiv%20id%3D%22html_d86fa041880240db981de04317af756b%22%20style%3D%22width%3A%20100.0%25%3B%20height%3A%20100.0%25%3B%22%3ELesotho%3C/div%3E%60%29%5B0%5D%3B%0A%20%20%20%20%20%20%20%20%20%20%20%20popup_d183efc66f184f0fa958b2c5993a4a69.setContent%28html_d86fa041880240db981de04317af756b%29%3B%0A%20%20%20%20%20%20%20%20%0A%0A%20%20%20%20%20%20%20%20circle_marker_618f74291b6944afbea8f8ac86c85c27.bindPopup%28popup_d183efc66f184f0fa958b2c5993a4a69%29%0A%20%20%20%20%20%20%20%20%3B%0A%0A%20%20%20%20%20%20%20%20%0A%20%20%20%20%0A%20%20%20%20%0A%20%20%20%20%20%20%20%20%20%20%20%20var%20circle_marker_7133279a4c3b4a22a9a93b12f8ab18d7%20%3D%20L.circleMarker%28%0A%20%20%20%20%20%20%20%20%20%20%20%20%20%20%20%20%5B55.41667%2C%2024.0%5D%2C%0A%20%20%20%20%20%20%20%20%20%20%20%20%20%20%20%20%7B%22bubblingMouseEvents%22%3A%20true%2C%20%22color%22%3A%20%22%233388ff%22%2C%20%22dashArray%22%3A%20null%2C%20%22dashOffset%22%3A%20null%2C%20%22fill%22%3A%20true%2C%20%22fillColor%22%3A%20%22black%22%2C%20%22fillOpacity%22%3A%200.2%2C%20%22fillRule%22%3A%20%22evenodd%22%2C%20%22lineCap%22%3A%20%22round%22%2C%20%22lineJoin%22%3A%20%22round%22%2C%20%22opacity%22%3A%201.0%2C%20%22radius%22%3A%200.9084678711420302%2C%20%22stroke%22%3A%20true%2C%20%22weight%22%3A%203%7D%0A%20%20%20%20%20%20%20%20%20%20%20%20%29.addTo%28map_8f87285f909e45c9934e020e26ba2b97%29%3B%0A%20%20%20%20%20%20%20%20%0A%20%20%20%20%0A%20%20%20%20%20%20%20%20var%20popup_b2d2b10968d14af6a941866bcd0af679%20%3D%20L.popup%28%7B%22maxWidth%22%3A%20%22100%25%22%7D%29%3B%0A%0A%20%20%20%20%20%20%20%20%0A%20%20%20%20%20%20%20%20%20%20%20%20var%20html_16883262574c4005bf932fbe48c05e6e%20%3D%20%24%28%60%3Cdiv%20id%3D%22html_16883262574c4005bf932fbe48c05e6e%22%20style%3D%22width%3A%20100.0%25%3B%20height%3A%20100.0%25%3B%22%3ELithuania%3C/div%3E%60%29%5B0%5D%3B%0A%20%20%20%20%20%20%20%20%20%20%20%20popup_b2d2b10968d14af6a941866bcd0af679.setContent%28html_16883262574c4005bf932fbe48c05e6e%29%3B%0A%20%20%20%20%20%20%20%20%0A%0A%20%20%20%20%20%20%20%20circle_marker_7133279a4c3b4a22a9a93b12f8ab18d7.bindPopup%28popup_b2d2b10968d14af6a941866bcd0af679%29%0A%20%20%20%20%20%20%20%20%3B%0A%0A%20%20%20%20%20%20%20%20%0A%20%20%20%20%0A%20%20%20%20%0A%20%20%20%20%20%20%20%20%20%20%20%20var%20circle_marker_d09d414bc83c4d3fa3938ac7273ca27d%20%3D%20L.circleMarker%28%0A%20%20%20%20%20%20%20%20%20%20%20%20%20%20%20%20%5B57.0%2C%2025.0%5D%2C%0A%20%20%20%20%20%20%20%20%20%20%20%20%20%20%20%20%7B%22bubblingMouseEvents%22%3A%20true%2C%20%22color%22%3A%20%22%233388ff%22%2C%20%22dashArray%22%3A%20null%2C%20%22dashOffset%22%3A%20null%2C%20%22fill%22%3A%20true%2C%20%22fillColor%22%3A%20%22black%22%2C%20%22fillOpacity%22%3A%200.2%2C%20%22fillRule%22%3A%20%22evenodd%22%2C%20%22lineCap%22%3A%20%22round%22%2C%20%22lineJoin%22%3A%20%22round%22%2C%20%22opacity%22%3A%201.0%2C%20%22radius%22%3A%200.8495129039372447%2C%20%22stroke%22%3A%20true%2C%20%22weight%22%3A%203%7D%0A%20%20%20%20%20%20%20%20%20%20%20%20%29.addTo%28map_8f87285f909e45c9934e020e26ba2b97%29%3B%0A%20%20%20%20%20%20%20%20%0A%20%20%20%20%0A%20%20%20%20%20%20%20%20var%20popup_2d9858bb2e5e43738b28d780c6d8e89d%20%3D%20L.popup%28%7B%22maxWidth%22%3A%20%22100%25%22%7D%29%3B%0A%0A%20%20%20%20%20%20%20%20%0A%20%20%20%20%20%20%20%20%20%20%20%20var%20html_27c7ed1e3b664721aa81a81bae8bccd6%20%3D%20%24%28%60%3Cdiv%20id%3D%22html_27c7ed1e3b664721aa81a81bae8bccd6%22%20style%3D%22width%3A%20100.0%25%3B%20height%3A%20100.0%25%3B%22%3ELatvia%3C/div%3E%60%29%5B0%5D%3B%0A%20%20%20%20%20%20%20%20%20%20%20%20popup_2d9858bb2e5e43738b28d780c6d8e89d.setContent%28html_27c7ed1e3b664721aa81a81bae8bccd6%29%3B%0A%20%20%20%20%20%20%20%20%0A%0A%20%20%20%20%20%20%20%20circle_marker_d09d414bc83c4d3fa3938ac7273ca27d.bindPopup%28popup_2d9858bb2e5e43738b28d780c6d8e89d%29%0A%20%20%20%20%20%20%20%20%3B%0A%0A%20%20%20%20%20%20%20%20%0A%20%20%20%20%0A%20%20%20%20%0A%20%20%20%20%20%20%20%20%20%20%20%20var%20circle_marker_8fe807e0a63f46ab9922dbec25d9657c%20%3D%20L.circleMarker%28%0A%20%20%20%20%20%20%20%20%20%20%20%20%20%20%20%20%5B32.0%2C%20-6.0%5D%2C%0A%20%20%20%20%20%20%20%20%20%20%20%20%20%20%20%20%7B%22bubblingMouseEvents%22%3A%20true%2C%20%22color%22%3A%20%22%233388ff%22%2C%20%22dashArray%22%3A%20null%2C%20%22dashOffset%22%3A%20null%2C%20%22fill%22%3A%20true%2C%20%22fillColor%22%3A%20%22blue%22%2C%20%22fillOpacity%22%3A%200.2%2C%20%22fillRule%22%3A%20%22evenodd%22%2C%20%22lineCap%22%3A%20%22round%22%2C%20%22lineJoin%22%3A%20%22round%22%2C%20%22opacity%22%3A%201.0%2C%20%22radius%22%3A%205.143803409376387%2C%20%22stroke%22%3A%20true%2C%20%22weight%22%3A%203%7D%0A%20%20%20%20%20%20%20%20%20%20%20%20%29.addTo%28map_8f87285f909e45c9934e020e26ba2b97%29%3B%0A%20%20%20%20%20%20%20%20%0A%20%20%20%20%0A%20%20%20%20%20%20%20%20var%20popup_d473e263bf1b4a69baeaa74a9afcfcde%20%3D%20L.popup%28%7B%22maxWidth%22%3A%20%22100%25%22%7D%29%3B%0A%0A%20%20%20%20%20%20%20%20%0A%20%20%20%20%20%20%20%20%20%20%20%20var%20html_3a6628deee1440569e605105d9ebf2a1%20%3D%20%24%28%60%3Cdiv%20id%3D%22html_3a6628deee1440569e605105d9ebf2a1%22%20style%3D%22width%3A%20100.0%25%3B%20height%3A%20100.0%25%3B%22%3EMorocco%3C/div%3E%60%29%5B0%5D%3B%0A%20%20%20%20%20%20%20%20%20%20%20%20popup_d473e263bf1b4a69baeaa74a9afcfcde.setContent%28html_3a6628deee1440569e605105d9ebf2a1%29%3B%0A%20%20%20%20%20%20%20%20%0A%0A%20%20%20%20%20%20%20%20circle_marker_8fe807e0a63f46ab9922dbec25d9657c.bindPopup%28popup_d473e263bf1b4a69baeaa74a9afcfcde%29%0A%20%20%20%20%20%20%20%20%3B%0A%0A%20%20%20%20%20%20%20%20%0A%20%20%20%20%0A%20%20%20%20%0A%20%20%20%20%20%20%20%20%20%20%20%20var%20circle_marker_8e265efa1be14349bf178e7b6ce31c1d%20%3D%20L.circleMarker%28%0A%20%20%20%20%20%20%20%20%20%20%20%20%20%20%20%20%5B47.25%2C%2028.58333%5D%2C%0A%20%20%20%20%20%20%20%20%20%20%20%20%20%20%20%20%7B%22bubblingMouseEvents%22%3A%20true%2C%20%22color%22%3A%20%22%233388ff%22%2C%20%22dashArray%22%3A%20null%2C%20%22dashOffset%22%3A%20null%2C%20%22fill%22%3A%20true%2C%20%22fillColor%22%3A%20%22black%22%2C%20%22fillOpacity%22%3A%200.2%2C%20%22fillRule%22%3A%20%22evenodd%22%2C%20%22lineCap%22%3A%20%22round%22%2C%20%22lineJoin%22%3A%20%22round%22%2C%20%22opacity%22%3A%201.0%2C%20%22radius%22%3A%200.5469439011777409%2C%20%22stroke%22%3A%20true%2C%20%22weight%22%3A%203%7D%0A%20%20%20%20%20%20%20%20%20%20%20%20%29.addTo%28map_8f87285f909e45c9934e020e26ba2b97%29%3B%0A%20%20%20%20%20%20%20%20%0A%20%20%20%20%0A%20%20%20%20%20%20%20%20var%20popup_a3f949313b08496cb07c42acd53d59bd%20%3D%20L.popup%28%7B%22maxWidth%22%3A%20%22100%25%22%7D%29%3B%0A%0A%20%20%20%20%20%20%20%20%0A%20%20%20%20%20%20%20%20%20%20%20%20var%20html_4dfcc88babed40708caf8cb96982bf5f%20%3D%20%24%28%60%3Cdiv%20id%3D%22html_4dfcc88babed40708caf8cb96982bf5f%22%20style%3D%22width%3A%20100.0%25%3B%20height%3A%20100.0%25%3B%22%3EMoldova%3C/div%3E%60%29%5B0%5D%3B%0A%20%20%20%20%20%20%20%20%20%20%20%20popup_a3f949313b08496cb07c42acd53d59bd.setContent%28html_4dfcc88babed40708caf8cb96982bf5f%29%3B%0A%20%20%20%20%20%20%20%20%0A%0A%20%20%20%20%20%20%20%20circle_marker_8e265efa1be14349bf178e7b6ce31c1d.bindPopup%28popup_a3f949313b08496cb07c42acd53d59bd%29%0A%20%20%20%20%20%20%20%20%3B%0A%0A%20%20%20%20%20%20%20%20%0A%20%20%20%20%0A%20%20%20%20%0A%20%20%20%20%20%20%20%20%20%20%20%20var%20circle_marker_53816fc01d1e4656a07270c24340ae0f%20%3D%20L.circleMarker%28%0A%20%20%20%20%20%20%20%20%20%20%20%20%20%20%20%20%5B-20.0%2C%2047.0%5D%2C%0A%20%20%20%20%20%20%20%20%20%20%20%20%20%20%20%20%7B%22bubblingMouseEvents%22%3A%20true%2C%20%22color%22%3A%20%22%233388ff%22%2C%20%22dashArray%22%3A%20null%2C%20%22dashOffset%22%3A%20null%2C%20%22fill%22%3A%20true%2C%20%22fillColor%22%3A%20%22blue%22%2C%20%22fillOpacity%22%3A%200.2%2C%20%22fillRule%22%3A%20%22evenodd%22%2C%20%22lineCap%22%3A%20%22round%22%2C%20%22lineJoin%22%3A%20%22round%22%2C%20%22opacity%22%3A%201.0%2C%20%22radius%22%3A%2024.295318258386423%2C%20%22stroke%22%3A%20true%2C%20%22weight%22%3A%203%7D%0A%20%20%20%20%20%20%20%20%20%20%20%20%29.addTo%28map_8f87285f909e45c9934e020e26ba2b97%29%3B%0A%20%20%20%20%20%20%20%20%0A%20%20%20%20%0A%20%20%20%20%20%20%20%20var%20popup_6e8cac1af60f4afb8e5fdb4a253d3547%20%3D%20L.popup%28%7B%22maxWidth%22%3A%20%22100%25%22%7D%29%3B%0A%0A%20%20%20%20%20%20%20%20%0A%20%20%20%20%20%20%20%20%20%20%20%20var%20html_c6117ab7603b4012bcae21731c58ba0d%20%3D%20%24%28%60%3Cdiv%20id%3D%22html_c6117ab7603b4012bcae21731c58ba0d%22%20style%3D%22width%3A%20100.0%25%3B%20height%3A%20100.0%25%3B%22%3EMadagascar%3C/div%3E%60%29%5B0%5D%3B%0A%20%20%20%20%20%20%20%20%20%20%20%20popup_6e8cac1af60f4afb8e5fdb4a253d3547.setContent%28html_c6117ab7603b4012bcae21731c58ba0d%29%3B%0A%20%20%20%20%20%20%20%20%0A%0A%20%20%20%20%20%20%20%20circle_marker_53816fc01d1e4656a07270c24340ae0f.bindPopup%28popup_6e8cac1af60f4afb8e5fdb4a253d3547%29%0A%20%20%20%20%20%20%20%20%3B%0A%0A%20%20%20%20%20%20%20%20%0A%20%20%20%20%0A%20%20%20%20%0A%20%20%20%20%20%20%20%20%20%20%20%20var%20circle_marker_c98413d8a1104760a8cc89947d22c23c%20%3D%20L.circleMarker%28%0A%20%20%20%20%20%20%20%20%20%20%20%20%20%20%20%20%5B3.2%2C%2073.0%5D%2C%0A%20%20%20%20%20%20%20%20%20%20%20%20%20%20%20%20%7B%22bubblingMouseEvents%22%3A%20true%2C%20%22color%22%3A%20%22%233388ff%22%2C%20%22dashArray%22%3A%20null%2C%20%22dashOffset%22%3A%20null%2C%20%22fill%22%3A%20true%2C%20%22fillColor%22%3A%20%22red%22%2C%20%22fillOpacity%22%3A%200.2%2C%20%22fillRule%22%3A%20%22evenodd%22%2C%20%22lineCap%22%3A%20%22round%22%2C%20%22lineJoin%22%3A%20%22round%22%2C%20%22opacity%22%3A%201.0%2C%20%22radius%22%3A%200.4150917264789626%2C%20%22stroke%22%3A%20true%2C%20%22weight%22%3A%203%7D%0A%20%20%20%20%20%20%20%20%20%20%20%20%29.addTo%28map_8f87285f909e45c9934e020e26ba2b97%29%3B%0A%20%20%20%20%20%20%20%20%0A%20%20%20%20%0A%20%20%20%20%20%20%20%20var%20popup_a1a0d322f82446ac911c989019ffed64%20%3D%20L.popup%28%7B%22maxWidth%22%3A%20%22100%25%22%7D%29%3B%0A%0A%20%20%20%20%20%20%20%20%0A%20%20%20%20%20%20%20%20%20%20%20%20var%20html_00181c4873154560b0e9523d81c618cf%20%3D%20%24%28%60%3Cdiv%20id%3D%22html_00181c4873154560b0e9523d81c618cf%22%20style%3D%22width%3A%20100.0%25%3B%20height%3A%20100.0%25%3B%22%3EMaldives%3C/div%3E%60%29%5B0%5D%3B%0A%20%20%20%20%20%20%20%20%20%20%20%20popup_a1a0d322f82446ac911c989019ffed64.setContent%28html_00181c4873154560b0e9523d81c618cf%29%3B%0A%20%20%20%20%20%20%20%20%0A%0A%20%20%20%20%20%20%20%20circle_marker_c98413d8a1104760a8cc89947d22c23c.bindPopup%28popup_a1a0d322f82446ac911c989019ffed64%29%0A%20%20%20%20%20%20%20%20%3B%0A%0A%20%20%20%20%20%20%20%20%0A%20%20%20%20%0A%20%20%20%20%0A%20%20%20%20%20%20%20%20%20%20%20%20var%20circle_marker_d4624a048f744c3fbcc1952305d39117%20%3D%20L.circleMarker%28%0A%20%20%20%20%20%20%20%20%20%20%20%20%20%20%20%20%5B19.42847%2C%20-99.12766%5D%2C%0A%20%20%20%20%20%20%20%20%20%20%20%20%20%20%20%20%7B%22bubblingMouseEvents%22%3A%20true%2C%20%22color%22%3A%20%22%233388ff%22%2C%20%22dashArray%22%3A%20null%2C%20%22dashOffset%22%3A%20null%2C%20%22fill%22%3A%20true%2C%20%22fillColor%22%3A%20%22green%22%2C%20%22fillOpacity%22%3A%200.2%2C%20%22fillRule%22%3A%20%22evenodd%22%2C%20%22lineCap%22%3A%20%22round%22%2C%20%22lineJoin%22%3A%20%22round%22%2C%20%22opacity%22%3A%201.0%2C%20%22radius%22%3A%206.116077917408222%2C%20%22stroke%22%3A%20true%2C%20%22weight%22%3A%203%7D%0A%20%20%20%20%20%20%20%20%20%20%20%20%29.addTo%28map_8f87285f909e45c9934e020e26ba2b97%29%3B%0A%20%20%20%20%20%20%20%20%0A%20%20%20%20%0A%20%20%20%20%20%20%20%20var%20popup_f5b6193ad4ab4a178a7bc3ae6277ef8a%20%3D%20L.popup%28%7B%22maxWidth%22%3A%20%22100%25%22%7D%29%3B%0A%0A%20%20%20%20%20%20%20%20%0A%20%20%20%20%20%20%20%20%20%20%20%20var%20html_25fbe79377aa41e7acdb73cdc5ae907e%20%3D%20%24%28%60%3Cdiv%20id%3D%22html_25fbe79377aa41e7acdb73cdc5ae907e%22%20style%3D%22width%3A%20100.0%25%3B%20height%3A%20100.0%25%3B%22%3EMexico%3C/div%3E%60%29%5B0%5D%3B%0A%20%20%20%20%20%20%20%20%20%20%20%20popup_f5b6193ad4ab4a178a7bc3ae6277ef8a.setContent%28html_25fbe79377aa41e7acdb73cdc5ae907e%29%3B%0A%20%20%20%20%20%20%20%20%0A%0A%20%20%20%20%20%20%20%20circle_marker_d4624a048f744c3fbcc1952305d39117.bindPopup%28popup_f5b6193ad4ab4a178a7bc3ae6277ef8a%29%0A%20%20%20%20%20%20%20%20%3B%0A%0A%20%20%20%20%20%20%20%20%0A%20%20%20%20%0A%20%20%20%20%0A%20%20%20%20%20%20%20%20%20%20%20%20var%20circle_marker_02bf9432973a42fd81fc1eb40d7a8003%20%3D%20L.circleMarker%28%0A%20%20%20%20%20%20%20%20%20%20%20%20%20%20%20%20%5B41.66667%2C%2021.75%5D%2C%0A%20%20%20%20%20%20%20%20%20%20%20%20%20%20%20%20%7B%22bubblingMouseEvents%22%3A%20true%2C%20%22color%22%3A%20%22%233388ff%22%2C%20%22dashArray%22%3A%20null%2C%20%22dashOffset%22%3A%20null%2C%20%22fill%22%3A%20true%2C%20%22fillColor%22%3A%20%22black%22%2C%20%22fillOpacity%22%3A%200.2%2C%20%22fillRule%22%3A%20%22evenodd%22%2C%20%22lineCap%22%3A%20%22round%22%2C%20%22lineJoin%22%3A%20%22round%22%2C%20%22opacity%22%3A%201.0%2C%20%22radius%22%3A%200.42959989759002715%2C%20%22stroke%22%3A%20true%2C%20%22weight%22%3A%203%7D%0A%20%20%20%20%20%20%20%20%20%20%20%20%29.addTo%28map_8f87285f909e45c9934e020e26ba2b97%29%3B%0A%20%20%20%20%20%20%20%20%0A%20%20%20%20%0A%20%20%20%20%20%20%20%20var%20popup_6b537d6f8b214b0099b1482891994d0e%20%3D%20L.popup%28%7B%22maxWidth%22%3A%20%22100%25%22%7D%29%3B%0A%0A%20%20%20%20%20%20%20%20%0A%20%20%20%20%20%20%20%20%20%20%20%20var%20html_2aafe1396f494f008a05dd627033e997%20%3D%20%24%28%60%3Cdiv%20id%3D%22html_2aafe1396f494f008a05dd627033e997%22%20style%3D%22width%3A%20100.0%25%3B%20height%3A%20100.0%25%3B%22%3ENorth%20Macedonia%3C/div%3E%60%29%5B0%5D%3B%0A%20%20%20%20%20%20%20%20%20%20%20%20popup_6b537d6f8b214b0099b1482891994d0e.setContent%28html_2aafe1396f494f008a05dd627033e997%29%3B%0A%20%20%20%20%20%20%20%20%0A%0A%20%20%20%20%20%20%20%20circle_marker_02bf9432973a42fd81fc1eb40d7a8003.bindPopup%28popup_6b537d6f8b214b0099b1482891994d0e%29%0A%20%20%20%20%20%20%20%20%3B%0A%0A%20%20%20%20%20%20%20%20%0A%20%20%20%20%0A%20%20%20%20%0A%20%20%20%20%20%20%20%20%20%20%20%20var%20circle_marker_14b56ed60ca54413b5043024995ad409%20%3D%20L.circleMarker%28%0A%20%20%20%20%20%20%20%20%20%20%20%20%20%20%20%20%5B18.0%2C%20-2.0%5D%2C%0A%20%20%20%20%20%20%20%20%20%20%20%20%20%20%20%20%7B%22bubblingMouseEvents%22%3A%20true%2C%20%22color%22%3A%20%22%233388ff%22%2C%20%22dashArray%22%3A%20null%2C%20%22dashOffset%22%3A%20null%2C%20%22fill%22%3A%20true%2C%20%22fillColor%22%3A%20%22blue%22%2C%20%22fillOpacity%22%3A%200.2%2C%20%22fillRule%22%3A%20%22evenodd%22%2C%20%22lineCap%22%3A%20%22round%22%2C%20%22lineJoin%22%3A%20%22round%22%2C%20%22opacity%22%3A%201.0%2C%20%22radius%22%3A%2015.570484664876235%2C%20%22stroke%22%3A%20true%2C%20%22weight%22%3A%203%7D%0A%20%20%20%20%20%20%20%20%20%20%20%20%29.addTo%28map_8f87285f909e45c9934e020e26ba2b97%29%3B%0A%20%20%20%20%20%20%20%20%0A%20%20%20%20%0A%20%20%20%20%20%20%20%20var%20popup_e59d0dd569c84a11814d10b8956cb03b%20%3D%20L.popup%28%7B%22maxWidth%22%3A%20%22100%25%22%7D%29%3B%0A%0A%20%20%20%20%20%20%20%20%0A%20%20%20%20%20%20%20%20%20%20%20%20var%20html_57b8ba77fdad42a49105c2f735f2f7f1%20%3D%20%24%28%60%3Cdiv%20id%3D%22html_57b8ba77fdad42a49105c2f735f2f7f1%22%20style%3D%22width%3A%20100.0%25%3B%20height%3A%20100.0%25%3B%22%3EMali%3C/div%3E%60%29%5B0%5D%3B%0A%20%20%20%20%20%20%20%20%20%20%20%20popup_e59d0dd569c84a11814d10b8956cb03b.setContent%28html_57b8ba77fdad42a49105c2f735f2f7f1%29%3B%0A%20%20%20%20%20%20%20%20%0A%0A%20%20%20%20%20%20%20%20circle_marker_14b56ed60ca54413b5043024995ad409.bindPopup%28popup_e59d0dd569c84a11814d10b8956cb03b%29%0A%20%20%20%20%20%20%20%20%3B%0A%0A%20%20%20%20%20%20%20%20%0A%20%20%20%20%0A%20%20%20%20%0A%20%20%20%20%20%20%20%20%20%20%20%20var%20circle_marker_de2b9e0bbfe8451b8da45e3f25f916ba%20%3D%20L.circleMarker%28%0A%20%20%20%20%20%20%20%20%20%20%20%20%20%20%20%20%5B42.75%2C%2019.25%5D%2C%0A%20%20%20%20%20%20%20%20%20%20%20%20%20%20%20%20%7B%22bubblingMouseEvents%22%3A%20true%2C%20%22color%22%3A%20%22%233388ff%22%2C%20%22dashArray%22%3A%20null%2C%20%22dashOffset%22%3A%20null%2C%20%22fill%22%3A%20true%2C%20%22fillColor%22%3A%20%22black%22%2C%20%22fillOpacity%22%3A%200.2%2C%20%22fillRule%22%3A%20%22evenodd%22%2C%20%22lineCap%22%3A%20%22round%22%2C%20%22lineJoin%22%3A%20%22round%22%2C%20%22opacity%22%3A%201.0%2C%20%22radius%22%3A%200.2042802635564556%2C%20%22stroke%22%3A%20true%2C%20%22weight%22%3A%203%7D%0A%20%20%20%20%20%20%20%20%20%20%20%20%29.addTo%28map_8f87285f909e45c9934e020e26ba2b97%29%3B%0A%20%20%20%20%20%20%20%20%0A%20%20%20%20%0A%20%20%20%20%20%20%20%20var%20popup_d070524ca37c4afd815b6cd5b77eeb6c%20%3D%20L.popup%28%7B%22maxWidth%22%3A%20%22100%25%22%7D%29%3B%0A%0A%20%20%20%20%20%20%20%20%0A%20%20%20%20%20%20%20%20%20%20%20%20var%20html_857d4e047d3c4990a7eed7951d21343d%20%3D%20%24%28%60%3Cdiv%20id%3D%22html_857d4e047d3c4990a7eed7951d21343d%22%20style%3D%22width%3A%20100.0%25%3B%20height%3A%20100.0%25%3B%22%3EMontenegro%3C/div%3E%60%29%5B0%5D%3B%0A%20%20%20%20%20%20%20%20%20%20%20%20popup_d070524ca37c4afd815b6cd5b77eeb6c.setContent%28html_857d4e047d3c4990a7eed7951d21343d%29%3B%0A%20%20%20%20%20%20%20%20%0A%0A%20%20%20%20%20%20%20%20circle_marker_de2b9e0bbfe8451b8da45e3f25f916ba.bindPopup%28popup_d070524ca37c4afd815b6cd5b77eeb6c%29%0A%20%20%20%20%20%20%20%20%3B%0A%0A%20%20%20%20%20%20%20%20%0A%20%20%20%20%0A%20%20%20%20%0A%20%20%20%20%20%20%20%20%20%20%20%20var%20circle_marker_38cf631448d14fd8879abe7f7223af93%20%3D%20L.circleMarker%28%0A%20%20%20%20%20%20%20%20%20%20%20%20%20%20%20%20%5B-18.25%2C%2035.0%5D%2C%0A%20%20%20%20%20%20%20%20%20%20%20%20%20%20%20%20%7B%22bubblingMouseEvents%22%3A%20true%2C%20%22color%22%3A%20%22%233388ff%22%2C%20%22dashArray%22%3A%20null%2C%20%22dashOffset%22%3A%20null%2C%20%22fill%22%3A%20true%2C%20%22fillColor%22%3A%20%22blue%22%2C%20%22fillOpacity%22%3A%200.2%2C%20%22fillRule%22%3A%20%22evenodd%22%2C%20%22lineCap%22%3A%20%22round%22%2C%20%22lineJoin%22%3A%20%22round%22%2C%20%22opacity%22%3A%201.0%2C%20%22radius%22%3A%2021.32458555367499%2C%20%22stroke%22%3A%20true%2C%20%22weight%22%3A%203%7D%0A%20%20%20%20%20%20%20%20%20%20%20%20%29.addTo%28map_8f87285f909e45c9934e020e26ba2b97%29%3B%0A%20%20%20%20%20%20%20%20%0A%20%20%20%20%0A%20%20%20%20%20%20%20%20var%20popup_3929b5e8212e49cab64e02d8968eb7d2%20%3D%20L.popup%28%7B%22maxWidth%22%3A%20%22100%25%22%7D%29%3B%0A%0A%20%20%20%20%20%20%20%20%0A%20%20%20%20%20%20%20%20%20%20%20%20var%20html_9c884792d74347c999c5b0b994f88259%20%3D%20%24%28%60%3Cdiv%20id%3D%22html_9c884792d74347c999c5b0b994f88259%22%20style%3D%22width%3A%20100.0%25%3B%20height%3A%20100.0%25%3B%22%3EMozambique%3C/div%3E%60%29%5B0%5D%3B%0A%20%20%20%20%20%20%20%20%20%20%20%20popup_3929b5e8212e49cab64e02d8968eb7d2.setContent%28html_9c884792d74347c999c5b0b994f88259%29%3B%0A%20%20%20%20%20%20%20%20%0A%0A%20%20%20%20%20%20%20%20circle_marker_38cf631448d14fd8879abe7f7223af93.bindPopup%28popup_3929b5e8212e49cab64e02d8968eb7d2%29%0A%20%20%20%20%20%20%20%20%3B%0A%0A%20%20%20%20%20%20%20%20%0A%20%20%20%20%0A%20%20%20%20%0A%20%20%20%20%20%20%20%20%20%20%20%20var%20circle_marker_dc06c0e0cc6a4fb887872f5760fb6730%20%3D%20L.circleMarker%28%0A%20%20%20%20%20%20%20%20%20%20%20%20%20%20%20%20%5B20.25%2C%20-10.5%5D%2C%0A%20%20%20%20%20%20%20%20%20%20%20%20%20%20%20%20%7B%22bubblingMouseEvents%22%3A%20true%2C%20%22color%22%3A%20%22%233388ff%22%2C%20%22dashArray%22%3A%20null%2C%20%22dashOffset%22%3A%20null%2C%20%22fill%22%3A%20true%2C%20%22fillColor%22%3A%20%22blue%22%2C%20%22fillOpacity%22%3A%200.2%2C%20%22fillRule%22%3A%20%22evenodd%22%2C%20%22lineCap%22%3A%20%22round%22%2C%20%22lineJoin%22%3A%20%22round%22%2C%20%22opacity%22%3A%201.0%2C%20%22radius%22%3A%205.104874523724298%2C%20%22stroke%22%3A%20true%2C%20%22weight%22%3A%203%7D%0A%20%20%20%20%20%20%20%20%20%20%20%20%29.addTo%28map_8f87285f909e45c9934e020e26ba2b97%29%3B%0A%20%20%20%20%20%20%20%20%0A%20%20%20%20%0A%20%20%20%20%20%20%20%20var%20popup_5de5331092d847f79cedb0e182435ce7%20%3D%20L.popup%28%7B%22maxWidth%22%3A%20%22100%25%22%7D%29%3B%0A%0A%20%20%20%20%20%20%20%20%0A%20%20%20%20%20%20%20%20%20%20%20%20var%20html_67f97b4822fb4074b4b82a6151c28583%20%3D%20%24%28%60%3Cdiv%20id%3D%22html_67f97b4822fb4074b4b82a6151c28583%22%20style%3D%22width%3A%20100.0%25%3B%20height%3A%20100.0%25%3B%22%3EMauritania%3C/div%3E%60%29%5B0%5D%3B%0A%20%20%20%20%20%20%20%20%20%20%20%20popup_5de5331092d847f79cedb0e182435ce7.setContent%28html_67f97b4822fb4074b4b82a6151c28583%29%3B%0A%20%20%20%20%20%20%20%20%0A%0A%20%20%20%20%20%20%20%20circle_marker_dc06c0e0cc6a4fb887872f5760fb6730.bindPopup%28popup_5de5331092d847f79cedb0e182435ce7%29%0A%20%20%20%20%20%20%20%20%3B%0A%0A%20%20%20%20%20%20%20%20%0A%20%20%20%20%0A%20%20%20%20%0A%20%20%20%20%20%20%20%20%20%20%20%20var%20circle_marker_1006ffe569ed4ae3955125a52993643a%20%3D%20L.circleMarker%28%0A%20%20%20%20%20%20%20%20%20%20%20%20%20%20%20%20%5B-13.5%2C%2034.0%5D%2C%0A%20%20%20%20%20%20%20%20%20%20%20%20%20%20%20%20%7B%22bubblingMouseEvents%22%3A%20true%2C%20%22color%22%3A%20%22%233388ff%22%2C%20%22dashArray%22%3A%20null%2C%20%22dashOffset%22%3A%20null%2C%20%22fill%22%3A%20true%2C%20%22fillColor%22%3A%20%22blue%22%2C%20%22fillOpacity%22%3A%200.2%2C%20%22fillRule%22%3A%20%22evenodd%22%2C%20%22lineCap%22%3A%20%22round%22%2C%20%22lineJoin%22%3A%20%22round%22%2C%20%22opacity%22%3A%201.0%2C%20%22radius%22%3A%2018.27467628792681%2C%20%22stroke%22%3A%20true%2C%20%22weight%22%3A%203%7D%0A%20%20%20%20%20%20%20%20%20%20%20%20%29.addTo%28map_8f87285f909e45c9934e020e26ba2b97%29%3B%0A%20%20%20%20%20%20%20%20%0A%20%20%20%20%0A%20%20%20%20%20%20%20%20var%20popup_e74de70928f443b6be293ecad1ac5b09%20%3D%20L.popup%28%7B%22maxWidth%22%3A%20%22100%25%22%7D%29%3B%0A%0A%20%20%20%20%20%20%20%20%0A%20%20%20%20%20%20%20%20%20%20%20%20var%20html_585637a472654bb6b937115633dda084%20%3D%20%24%28%60%3Cdiv%20id%3D%22html_585637a472654bb6b937115633dda084%22%20style%3D%22width%3A%20100.0%25%3B%20height%3A%20100.0%25%3B%22%3EMalawi%3C/div%3E%60%29%5B0%5D%3B%0A%20%20%20%20%20%20%20%20%20%20%20%20popup_e74de70928f443b6be293ecad1ac5b09.setContent%28html_585637a472654bb6b937115633dda084%29%3B%0A%20%20%20%20%20%20%20%20%0A%0A%20%20%20%20%20%20%20%20circle_marker_1006ffe569ed4ae3955125a52993643a.bindPopup%28popup_e74de70928f443b6be293ecad1ac5b09%29%0A%20%20%20%20%20%20%20%20%3B%0A%0A%20%20%20%20%20%20%20%20%0A%20%20%20%20%0A%20%20%20%20%0A%20%20%20%20%20%20%20%20%20%20%20%20var%20circle_marker_b3f75bf1da2046b792da0c3ab3ef65c4%20%3D%20L.circleMarker%28%0A%20%20%20%20%20%20%20%20%20%20%20%20%20%20%20%20%5B2.5%2C%20112.5%5D%2C%0A%20%20%20%20%20%20%20%20%20%20%20%20%20%20%20%20%7B%22bubblingMouseEvents%22%3A%20true%2C%20%22color%22%3A%20%22%233388ff%22%2C%20%22dashArray%22%3A%20null%2C%20%22dashOffset%22%3A%20null%2C%20%22fill%22%3A%20true%2C%20%22fillColor%22%3A%20%22red%22%2C%20%22fillOpacity%22%3A%200.2%2C%20%22fillRule%22%3A%20%22evenodd%22%2C%20%22lineCap%22%3A%20%22round%22%2C%20%22lineJoin%22%3A%20%22round%22%2C%20%22opacity%22%3A%201.0%2C%20%22stroke%22%3A%20true%2C%20%22weight%22%3A%203%7D%0A%20%20%20%20%20%20%20%20%20%20%20%20%29.addTo%28map_8f87285f909e45c9934e020e26ba2b97%29%3B%0A%20%20%20%20%20%20%20%20%0A%20%20%20%20%0A%20%20%20%20%20%20%20%20var%20popup_5437031f29ba49eea9397f87d2f7328b%20%3D%20L.popup%28%7B%22maxWidth%22%3A%20%22100%25%22%7D%29%3B%0A%0A%20%20%20%20%20%20%20%20%0A%20%20%20%20%20%20%20%20%20%20%20%20var%20html_c579bc0e4e054da89aaf96262ccfe3c1%20%3D%20%24%28%60%3Cdiv%20id%3D%22html_c579bc0e4e054da89aaf96262ccfe3c1%22%20style%3D%22width%3A%20100.0%25%3B%20height%3A%20100.0%25%3B%22%3EMalaysia%3C/div%3E%60%29%5B0%5D%3B%0A%20%20%20%20%20%20%20%20%20%20%20%20popup_5437031f29ba49eea9397f87d2f7328b.setContent%28html_c579bc0e4e054da89aaf96262ccfe3c1%29%3B%0A%20%20%20%20%20%20%20%20%0A%0A%20%20%20%20%20%20%20%20circle_marker_b3f75bf1da2046b792da0c3ab3ef65c4.bindPopup%28popup_5437031f29ba49eea9397f87d2f7328b%29%0A%20%20%20%20%20%20%20%20%3B%0A%0A%20%20%20%20%20%20%20%20%0A%20%20%20%20%0A%20%20%20%20%0A%20%20%20%20%20%20%20%20%20%20%20%20var%20circle_marker_7569182bd6a74ffa8945378889870fe7%20%3D%20L.circleMarker%28%0A%20%20%20%20%20%20%20%20%20%20%20%20%20%20%20%20%5B-22.0%2C%2017.0%5D%2C%0A%20%20%20%20%20%20%20%20%20%20%20%20%20%20%20%20%7B%22bubblingMouseEvents%22%3A%20true%2C%20%22color%22%3A%20%22%233388ff%22%2C%20%22dashArray%22%3A%20null%2C%20%22dashOffset%22%3A%20null%2C%20%22fill%22%3A%20true%2C%20%22fillColor%22%3A%20%22blue%22%2C%20%22fillOpacity%22%3A%200.2%2C%20%22fillRule%22%3A%20%22evenodd%22%2C%20%22lineCap%22%3A%20%22round%22%2C%20%22lineJoin%22%3A%20%22round%22%2C%20%22opacity%22%3A%201.0%2C%20%22radius%22%3A%203.9845687128006193%2C%20%22stroke%22%3A%20true%2C%20%22weight%22%3A%203%7D%0A%20%20%20%20%20%20%20%20%20%20%20%20%29.addTo%28map_8f87285f909e45c9934e020e26ba2b97%29%3B%0A%20%20%20%20%20%20%20%20%0A%20%20%20%20%0A%20%20%20%20%20%20%20%20var%20popup_5024ae30c7e74f729948e90bf1758c26%20%3D%20L.popup%28%7B%22maxWidth%22%3A%20%22100%25%22%7D%29%3B%0A%0A%20%20%20%20%20%20%20%20%0A%20%20%20%20%20%20%20%20%20%20%20%20var%20html_228878c216c04754b91404fae53df286%20%3D%20%24%28%60%3Cdiv%20id%3D%22html_228878c216c04754b91404fae53df286%22%20style%3D%22width%3A%20100.0%25%3B%20height%3A%20100.0%25%3B%22%3ENamibia%3C/div%3E%60%29%5B0%5D%3B%0A%20%20%20%20%20%20%20%20%20%20%20%20popup_5024ae30c7e74f729948e90bf1758c26.setContent%28html_228878c216c04754b91404fae53df286%29%3B%0A%20%20%20%20%20%20%20%20%0A%0A%20%20%20%20%20%20%20%20circle_marker_7569182bd6a74ffa8945378889870fe7.bindPopup%28popup_5024ae30c7e74f729948e90bf1758c26%29%0A%20%20%20%20%20%20%20%20%3B%0A%0A%20%20%20%20%20%20%20%20%0A%20%20%20%20%0A%20%20%20%20%0A%20%20%20%20%20%20%20%20%20%20%20%20var%20circle_marker_63be93472a47454c8bc6686fea8f4b56%20%3D%20L.circleMarker%28%0A%20%20%20%20%20%20%20%20%20%20%20%20%20%20%20%20%5B18.0%2C%209.0%5D%2C%0A%20%20%20%20%20%20%20%20%20%20%20%20%20%20%20%20%7B%22bubblingMouseEvents%22%3A%20true%2C%20%22color%22%3A%20%22%233388ff%22%2C%20%22dashArray%22%3A%20null%2C%20%22dashOffset%22%3A%20null%2C%20%22fill%22%3A%20true%2C%20%22fillColor%22%3A%20%22blue%22%2C%20%22fillOpacity%22%3A%200.2%2C%20%22fillRule%22%3A%20%22evenodd%22%2C%20%22lineCap%22%3A%20%22round%22%2C%20%22lineJoin%22%3A%20%22round%22%2C%20%22opacity%22%3A%201.0%2C%20%22radius%22%3A%2014.624343601209656%2C%20%22stroke%22%3A%20true%2C%20%22weight%22%3A%203%7D%0A%20%20%20%20%20%20%20%20%20%20%20%20%29.addTo%28map_8f87285f909e45c9934e020e26ba2b97%29%3B%0A%20%20%20%20%20%20%20%20%0A%20%20%20%20%0A%20%20%20%20%20%20%20%20var%20popup_109cba3080624c16b049f20a913433e4%20%3D%20L.popup%28%7B%22maxWidth%22%3A%20%22100%25%22%7D%29%3B%0A%0A%20%20%20%20%20%20%20%20%0A%20%20%20%20%20%20%20%20%20%20%20%20var%20html_6f84309a7462445c812f415871d8ba1c%20%3D%20%24%28%60%3Cdiv%20id%3D%22html_6f84309a7462445c812f415871d8ba1c%22%20style%3D%22width%3A%20100.0%25%3B%20height%3A%20100.0%25%3B%22%3ENiger%3C/div%3E%60%29%5B0%5D%3B%0A%20%20%20%20%20%20%20%20%20%20%20%20popup_109cba3080624c16b049f20a913433e4.setContent%28html_6f84309a7462445c812f415871d8ba1c%29%3B%0A%20%20%20%20%20%20%20%20%0A%0A%20%20%20%20%20%20%20%20circle_marker_63be93472a47454c8bc6686fea8f4b56.bindPopup%28popup_109cba3080624c16b049f20a913433e4%29%0A%20%20%20%20%20%20%20%20%3B%0A%0A%20%20%20%20%20%20%20%20%0A%20%20%20%20%0A%20%20%20%20%0A%20%20%20%20%20%20%20%20%20%20%20%20var%20circle_marker_08e963e8a51f44728e7d37d53db77919%20%3D%20L.circleMarker%28%0A%20%20%20%20%20%20%20%20%20%20%20%20%20%20%20%20%5B10.0%2C%208.0%5D%2C%0A%20%20%20%20%20%20%20%20%20%20%20%20%20%20%20%20%7B%22bubblingMouseEvents%22%3A%20true%2C%20%22color%22%3A%20%22%233388ff%22%2C%20%22dashArray%22%3A%20null%2C%20%22dashOffset%22%3A%20null%2C%20%22fill%22%3A%20true%2C%20%22fillColor%22%3A%20%22blue%22%2C%20%22fillOpacity%22%3A%200.2%2C%20%22fillRule%22%3A%20%22evenodd%22%2C%20%22lineCap%22%3A%20%22round%22%2C%20%22lineJoin%22%3A%20%22round%22%2C%20%22opacity%22%3A%201.0%2C%20%22radius%22%3A%2055.94290002503713%2C%20%22stroke%22%3A%20true%2C%20%22weight%22%3A%203%7D%0A%20%20%20%20%20%20%20%20%20%20%20%20%29.addTo%28map_8f87285f909e45c9934e020e26ba2b97%29%3B%0A%20%20%20%20%20%20%20%20%0A%20%20%20%20%0A%20%20%20%20%20%20%20%20var%20popup_ce9be2e211af4c94b3be4b8b478c0dc5%20%3D%20L.popup%28%7B%22maxWidth%22%3A%20%22100%25%22%7D%29%3B%0A%0A%20%20%20%20%20%20%20%20%0A%20%20%20%20%20%20%20%20%20%20%20%20var%20html_644ad7a11dbc4db8b41d4802c677db1e%20%3D%20%24%28%60%3Cdiv%20id%3D%22html_644ad7a11dbc4db8b41d4802c677db1e%22%20style%3D%22width%3A%20100.0%25%3B%20height%3A%20100.0%25%3B%22%3ENigeria%3C/div%3E%60%29%5B0%5D%3B%0A%20%20%20%20%20%20%20%20%20%20%20%20popup_ce9be2e211af4c94b3be4b8b478c0dc5.setContent%28html_644ad7a11dbc4db8b41d4802c677db1e%29%3B%0A%20%20%20%20%20%20%20%20%0A%0A%20%20%20%20%20%20%20%20circle_marker_08e963e8a51f44728e7d37d53db77919.bindPopup%28popup_ce9be2e211af4c94b3be4b8b478c0dc5%29%0A%20%20%20%20%20%20%20%20%3B%0A%0A%20%20%20%20%20%20%20%20%0A%20%20%20%20%0A%20%20%20%20%0A%20%20%20%20%20%20%20%20%20%20%20%20var%20circle_marker_9a5df4212ea7402095df2601f6021af3%20%3D%20L.circleMarker%28%0A%20%20%20%20%20%20%20%20%20%20%20%20%20%20%20%20%5B13.0%2C%20-85.0%5D%2C%0A%20%20%20%20%20%20%20%20%20%20%20%20%20%20%20%20%7B%22bubblingMouseEvents%22%3A%20true%2C%20%22color%22%3A%20%22%233388ff%22%2C%20%22dashArray%22%3A%20null%2C%20%22dashOffset%22%3A%20null%2C%20%22fill%22%3A%20true%2C%20%22fillColor%22%3A%20%22green%22%2C%20%22fillOpacity%22%3A%200.2%2C%20%22fillRule%22%3A%20%22evenodd%22%2C%20%22lineCap%22%3A%20%22round%22%2C%20%22lineJoin%22%3A%20%22round%22%2C%20%22opacity%22%3A%201.0%2C%20%22radius%22%3A%203.9789367881465885%2C%20%22stroke%22%3A%20true%2C%20%22weight%22%3A%203%7D%0A%20%20%20%20%20%20%20%20%20%20%20%20%29.addTo%28map_8f87285f909e45c9934e020e26ba2b97%29%3B%0A%20%20%20%20%20%20%20%20%0A%20%20%20%20%0A%20%20%20%20%20%20%20%20var%20popup_fac2d66b1f434282939d81d11aea7419%20%3D%20L.popup%28%7B%22maxWidth%22%3A%20%22100%25%22%7D%29%3B%0A%0A%20%20%20%20%20%20%20%20%0A%20%20%20%20%20%20%20%20%20%20%20%20var%20html_601ab22454674ea7802d70a813c8f8cb%20%3D%20%24%28%60%3Cdiv%20id%3D%22html_601ab22454674ea7802d70a813c8f8cb%22%20style%3D%22width%3A%20100.0%25%3B%20height%3A%20100.0%25%3B%22%3ENicaragua%3C/div%3E%60%29%5B0%5D%3B%0A%20%20%20%20%20%20%20%20%20%20%20%20popup_fac2d66b1f434282939d81d11aea7419.setContent%28html_601ab22454674ea7802d70a813c8f8cb%29%3B%0A%20%20%20%20%20%20%20%20%0A%0A%20%20%20%20%20%20%20%20circle_marker_9a5df4212ea7402095df2601f6021af3.bindPopup%28popup_fac2d66b1f434282939d81d11aea7419%29%0A%20%20%20%20%20%20%20%20%3B%0A%0A%20%20%20%20%20%20%20%20%0A%20%20%20%20%0A%20%20%20%20%0A%20%20%20%20%20%20%20%20%20%20%20%20var%20circle_marker_c78f641fff8345019f3a2a9ce5c806a7%20%3D%20L.circleMarker%28%0A%20%20%20%20%20%20%20%20%20%20%20%20%20%20%20%20%5B52.25%2C%205.75%5D%2C%0A%20%20%20%20%20%20%20%20%20%20%20%20%20%20%20%20%7B%22bubblingMouseEvents%22%3A%20true%2C%20%22color%22%3A%20%22%233388ff%22%2C%20%22dashArray%22%3A%20null%2C%20%22dashOffset%22%3A%20null%2C%20%22fill%22%3A%20true%2C%20%22fillColor%22%3A%20%22black%22%2C%20%22fillOpacity%22%3A%200.2%2C%20%22fillRule%22%3A%20%22evenodd%22%2C%20%22lineCap%22%3A%20%22round%22%2C%20%22lineJoin%22%3A%20%22round%22%2C%20%22opacity%22%3A%201.0%2C%20%22radius%22%3A%201.363308998513233%2C%20%22stroke%22%3A%20true%2C%20%22weight%22%3A%203%7D%0A%20%20%20%20%20%20%20%20%20%20%20%20%29.addTo%28map_8f87285f909e45c9934e020e26ba2b97%29%3B%0A%20%20%20%20%20%20%20%20%0A%20%20%20%20%0A%20%20%20%20%20%20%20%20var%20popup_68999d779ac5429aba7bb1d5f6eb7cf5%20%3D%20L.popup%28%7B%22maxWidth%22%3A%20%22100%25%22%7D%29%3B%0A%0A%20%20%20%20%20%20%20%20%0A%20%20%20%20%20%20%20%20%20%20%20%20var%20html_f440ec74a62b468d96e5c0bcad1ea339%20%3D%20%24%28%60%3Cdiv%20id%3D%22html_f440ec74a62b468d96e5c0bcad1ea339%22%20style%3D%22width%3A%20100.0%25%3B%20height%3A%20100.0%25%3B%22%3ENetherlands%3C/div%3E%60%29%5B0%5D%3B%0A%20%20%20%20%20%20%20%20%20%20%20%20popup_68999d779ac5429aba7bb1d5f6eb7cf5.setContent%28html_f440ec74a62b468d96e5c0bcad1ea339%29%3B%0A%20%20%20%20%20%20%20%20%0A%0A%20%20%20%20%20%20%20%20circle_marker_c78f641fff8345019f3a2a9ce5c806a7.bindPopup%28popup_68999d779ac5429aba7bb1d5f6eb7cf5%29%0A%20%20%20%20%20%20%20%20%3B%0A%0A%20%20%20%20%20%20%20%20%0A%20%20%20%20%0A%20%20%20%20%0A%20%20%20%20%20%20%20%20%20%20%20%20var%20circle_marker_779f2882d0d246d980852db2400467b3%20%3D%20L.circleMarker%28%0A%20%20%20%20%20%20%20%20%20%20%20%20%20%20%20%20%5B62.0%2C%2010.0%5D%2C%0A%20%20%20%20%20%20%20%20%20%20%20%20%20%20%20%20%7B%22bubblingMouseEvents%22%3A%20true%2C%20%22color%22%3A%20%22%233388ff%22%2C%20%22dashArray%22%3A%20null%2C%20%22dashOffset%22%3A%20null%2C%20%22fill%22%3A%20true%2C%20%22fillColor%22%3A%20%22black%22%2C%20%22fillOpacity%22%3A%200.2%2C%20%22fillRule%22%3A%20%22evenodd%22%2C%20%22lineCap%22%3A%20%22round%22%2C%20%22lineJoin%22%3A%20%22round%22%2C%20%22opacity%22%3A%201.0%2C%20%22radius%22%3A%201.0207778467534643%2C%20%22stroke%22%3A%20true%2C%20%22weight%22%3A%203%7D%0A%20%20%20%20%20%20%20%20%20%20%20%20%29.addTo%28map_8f87285f909e45c9934e020e26ba2b97%29%3B%0A%20%20%20%20%20%20%20%20%0A%20%20%20%20%0A%20%20%20%20%20%20%20%20var%20popup_ecaf63c63f064f8bb2b4eb06d8af8bbf%20%3D%20L.popup%28%7B%22maxWidth%22%3A%20%22100%25%22%7D%29%3B%0A%0A%20%20%20%20%20%20%20%20%0A%20%20%20%20%20%20%20%20%20%20%20%20var%20html_0c816ae4c71d481aaf3685cc4ab2b0bb%20%3D%20%24%28%60%3Cdiv%20id%3D%22html_0c816ae4c71d481aaf3685cc4ab2b0bb%22%20style%3D%22width%3A%20100.0%25%3B%20height%3A%20100.0%25%3B%22%3ENorway%3C/div%3E%60%29%5B0%5D%3B%0A%20%20%20%20%20%20%20%20%20%20%20%20popup_ecaf63c63f064f8bb2b4eb06d8af8bbf.setContent%28html_0c816ae4c71d481aaf3685cc4ab2b0bb%29%3B%0A%20%20%20%20%20%20%20%20%0A%0A%20%20%20%20%20%20%20%20circle_marker_779f2882d0d246d980852db2400467b3.bindPopup%28popup_ecaf63c63f064f8bb2b4eb06d8af8bbf%29%0A%20%20%20%20%20%20%20%20%3B%0A%0A%20%20%20%20%20%20%20%20%0A%20%20%20%20%0A%20%20%20%20%0A%20%20%20%20%20%20%20%20%20%20%20%20var%20circle_marker_b7b154caab7e4b0bb3d6d085e14d23a6%20%3D%20L.circleMarker%28%0A%20%20%20%20%20%20%20%20%20%20%20%20%20%20%20%20%5B28.0%2C%2084.0%5D%2C%0A%20%20%20%20%20%20%20%20%20%20%20%20%20%20%20%20%7B%22bubblingMouseEvents%22%3A%20true%2C%20%22color%22%3A%20%22%233388ff%22%2C%20%22dashArray%22%3A%20null%2C%20%22dashOffset%22%3A%20null%2C%20%22fill%22%3A%20true%2C%20%22fillColor%22%3A%20%22red%22%2C%20%22fillOpacity%22%3A%200.2%2C%20%22fillRule%22%3A%20%22evenodd%22%2C%20%22lineCap%22%3A%20%22round%22%2C%20%22lineJoin%22%3A%20%22round%22%2C%20%22opacity%22%3A%201.0%2C%20%22radius%22%3A%2014.287409177153314%2C%20%22stroke%22%3A%20true%2C%20%22weight%22%3A%203%7D%0A%20%20%20%20%20%20%20%20%20%20%20%20%29.addTo%28map_8f87285f909e45c9934e020e26ba2b97%29%3B%0A%20%20%20%20%20%20%20%20%0A%20%20%20%20%0A%20%20%20%20%20%20%20%20var%20popup_f29ed2a37df54392a75e2072cdfcabd6%20%3D%20L.popup%28%7B%22maxWidth%22%3A%20%22100%25%22%7D%29%3B%0A%0A%20%20%20%20%20%20%20%20%0A%20%20%20%20%20%20%20%20%20%20%20%20var%20html_e2b8e1efbf6c4157ad169a082423370c%20%3D%20%24%28%60%3Cdiv%20id%3D%22html_e2b8e1efbf6c4157ad169a082423370c%22%20style%3D%22width%3A%20100.0%25%3B%20height%3A%20100.0%25%3B%22%3ENepal%3C/div%3E%60%29%5B0%5D%3B%0A%20%20%20%20%20%20%20%20%20%20%20%20popup_f29ed2a37df54392a75e2072cdfcabd6.setContent%28html_e2b8e1efbf6c4157ad169a082423370c%29%3B%0A%20%20%20%20%20%20%20%20%0A%0A%20%20%20%20%20%20%20%20circle_marker_b7b154caab7e4b0bb3d6d085e14d23a6.bindPopup%28popup_f29ed2a37df54392a75e2072cdfcabd6%29%0A%20%20%20%20%20%20%20%20%3B%0A%0A%20%20%20%20%20%20%20%20%0A%20%20%20%20%0A%20%20%20%20%0A%20%20%20%20%20%20%20%20%20%20%20%20var%20circle_marker_b540dbc5fcc340c78d63e1f388cce3f2%20%3D%20L.circleMarker%28%0A%20%20%20%20%20%20%20%20%20%20%20%20%20%20%20%20%5B30.0%2C%2070.0%5D%2C%0A%20%20%20%20%20%20%20%20%20%20%20%20%20%20%20%20%7B%22bubblingMouseEvents%22%3A%20true%2C%20%22color%22%3A%20%22%233388ff%22%2C%20%22dashArray%22%3A%20null%2C%20%22dashOffset%22%3A%20null%2C%20%22fill%22%3A%20true%2C%20%22fillColor%22%3A%20%22red%22%2C%20%22fillOpacity%22%3A%200.2%2C%20%22fillRule%22%3A%20%22evenodd%22%2C%20%22lineCap%22%3A%20%22round%22%2C%20%22lineJoin%22%3A%20%22round%22%2C%20%22opacity%22%3A%201.0%2C%20%22radius%22%3A%2026.974340020303398%2C%20%22stroke%22%3A%20true%2C%20%22weight%22%3A%203%7D%0A%20%20%20%20%20%20%20%20%20%20%20%20%29.addTo%28map_8f87285f909e45c9934e020e26ba2b97%29%3B%0A%20%20%20%20%20%20%20%20%0A%20%20%20%20%0A%20%20%20%20%20%20%20%20var%20popup_c1e2d91ba3b14dfe9cc6c1dc82eb013c%20%3D%20L.popup%28%7B%22maxWidth%22%3A%20%22100%25%22%7D%29%3B%0A%0A%20%20%20%20%20%20%20%20%0A%20%20%20%20%20%20%20%20%20%20%20%20var%20html_92bbb6b8b177480bbf147f8d7fd43c53%20%3D%20%24%28%60%3Cdiv%20id%3D%22html_92bbb6b8b177480bbf147f8d7fd43c53%22%20style%3D%22width%3A%20100.0%25%3B%20height%3A%20100.0%25%3B%22%3EPakistan%3C/div%3E%60%29%5B0%5D%3B%0A%20%20%20%20%20%20%20%20%20%20%20%20popup_c1e2d91ba3b14dfe9cc6c1dc82eb013c.setContent%28html_92bbb6b8b177480bbf147f8d7fd43c53%29%3B%0A%20%20%20%20%20%20%20%20%0A%0A%20%20%20%20%20%20%20%20circle_marker_b540dbc5fcc340c78d63e1f388cce3f2.bindPopup%28popup_c1e2d91ba3b14dfe9cc6c1dc82eb013c%29%0A%20%20%20%20%20%20%20%20%3B%0A%0A%20%20%20%20%20%20%20%20%0A%20%20%20%20%0A%20%20%20%20%0A%20%20%20%20%20%20%20%20%20%20%20%20var%20circle_marker_25ee371dc50f46f09d38b2011f05ee10%20%3D%20L.circleMarker%28%0A%20%20%20%20%20%20%20%20%20%20%20%20%20%20%20%20%5B8.9936%2C%20-79.51973%5D%2C%0A%20%20%20%20%20%20%20%20%20%20%20%20%20%20%20%20%7B%22bubblingMouseEvents%22%3A%20true%2C%20%22color%22%3A%20%22%233388ff%22%2C%20%22dashArray%22%3A%20null%2C%20%22dashOffset%22%3A%20null%2C%20%22fill%22%3A%20true%2C%20%22fillColor%22%3A%20%22green%22%2C%20%22fillOpacity%22%3A%200.2%2C%20%22fillRule%22%3A%20%22evenodd%22%2C%20%22lineCap%22%3A%20%22round%22%2C%20%22lineJoin%22%3A%20%22round%22%2C%20%22opacity%22%3A%201.0%2C%20%22radius%22%3A%202.15090943062721%2C%20%22stroke%22%3A%20true%2C%20%22weight%22%3A%203%7D%0A%20%20%20%20%20%20%20%20%20%20%20%20%29.addTo%28map_8f87285f909e45c9934e020e26ba2b97%29%3B%0A%20%20%20%20%20%20%20%20%0A%20%20%20%20%0A%20%20%20%20%20%20%20%20var%20popup_1ef9dd0bb4b64da7920029ffa93e2773%20%3D%20L.popup%28%7B%22maxWidth%22%3A%20%22100%25%22%7D%29%3B%0A%0A%20%20%20%20%20%20%20%20%0A%20%20%20%20%20%20%20%20%20%20%20%20var%20html_0fddbe1ddb084328a650c704ed608ab6%20%3D%20%24%28%60%3Cdiv%20id%3D%22html_0fddbe1ddb084328a650c704ed608ab6%22%20style%3D%22width%3A%20100.0%25%3B%20height%3A%20100.0%25%3B%22%3EPanama%3C/div%3E%60%29%5B0%5D%3B%0A%20%20%20%20%20%20%20%20%20%20%20%20popup_1ef9dd0bb4b64da7920029ffa93e2773.setContent%28html_0fddbe1ddb084328a650c704ed608ab6%29%3B%0A%20%20%20%20%20%20%20%20%0A%0A%20%20%20%20%20%20%20%20circle_marker_25ee371dc50f46f09d38b2011f05ee10.bindPopup%28popup_1ef9dd0bb4b64da7920029ffa93e2773%29%0A%20%20%20%20%20%20%20%20%3B%0A%0A%20%20%20%20%20%20%20%20%0A%20%20%20%20%0A%20%20%20%20%0A%20%20%20%20%20%20%20%20%20%20%20%20var%20circle_marker_3fdc0bfbc6ef49909be677768aa549c1%20%3D%20L.circleMarker%28%0A%20%20%20%20%20%20%20%20%20%20%20%20%20%20%20%20%5B-10.0%2C%20-75.25%5D%2C%0A%20%20%20%20%20%20%20%20%20%20%20%20%20%20%20%20%7B%22bubblingMouseEvents%22%3A%20true%2C%20%22color%22%3A%20%22%233388ff%22%2C%20%22dashArray%22%3A%20null%2C%20%22dashOffset%22%3A%20null%2C%20%22fill%22%3A%20true%2C%20%22fillColor%22%3A%20%22green%22%2C%20%22fillOpacity%22%3A%200.2%2C%20%22fillRule%22%3A%20%22evenodd%22%2C%20%22lineCap%22%3A%20%22round%22%2C%20%22lineJoin%22%3A%20%22round%22%2C%20%22opacity%22%3A%201.0%2C%20%22radius%22%3A%205.167496139520397%2C%20%22stroke%22%3A%20true%2C%20%22weight%22%3A%203%7D%0A%20%20%20%20%20%20%20%20%20%20%20%20%29.addTo%28map_8f87285f909e45c9934e020e26ba2b97%29%3B%0A%20%20%20%20%20%20%20%20%0A%20%20%20%20%0A%20%20%20%20%20%20%20%20var%20popup_e5aeda2d49e744f2a41629f39b50409c%20%3D%20L.popup%28%7B%22maxWidth%22%3A%20%22100%25%22%7D%29%3B%0A%0A%20%20%20%20%20%20%20%20%0A%20%20%20%20%20%20%20%20%20%20%20%20var%20html_392581edd8084e1cb1f2d6d36c7c3410%20%3D%20%24%28%60%3Cdiv%20id%3D%22html_392581edd8084e1cb1f2d6d36c7c3410%22%20style%3D%22width%3A%20100.0%25%3B%20height%3A%20100.0%25%3B%22%3EPeru%3C/div%3E%60%29%5B0%5D%3B%0A%20%20%20%20%20%20%20%20%20%20%20%20popup_e5aeda2d49e744f2a41629f39b50409c.setContent%28html_392581edd8084e1cb1f2d6d36c7c3410%29%3B%0A%20%20%20%20%20%20%20%20%0A%0A%20%20%20%20%20%20%20%20circle_marker_3fdc0bfbc6ef49909be677768aa549c1.bindPopup%28popup_e5aeda2d49e744f2a41629f39b50409c%29%0A%20%20%20%20%20%20%20%20%3B%0A%0A%20%20%20%20%20%20%20%20%0A%20%20%20%20%0A%20%20%20%20%0A%20%20%20%20%20%20%20%20%20%20%20%20var%20circle_marker_35e21600439b46fead847beb7f6551b9%20%3D%20L.circleMarker%28%0A%20%20%20%20%20%20%20%20%20%20%20%20%20%20%20%20%5B13.0%2C%20122.0%5D%2C%0A%20%20%20%20%20%20%20%20%20%20%20%20%20%20%20%20%7B%22bubblingMouseEvents%22%3A%20true%2C%20%22color%22%3A%20%22%233388ff%22%2C%20%22dashArray%22%3A%20null%2C%20%22dashOffset%22%3A%20null%2C%20%22fill%22%3A%20true%2C%20%22fillColor%22%3A%20%22red%22%2C%20%22fillOpacity%22%3A%200.2%2C%20%22fillRule%22%3A%20%22evenodd%22%2C%20%22lineCap%22%3A%20%22round%22%2C%20%22lineJoin%22%3A%20%22round%22%2C%20%22opacity%22%3A%201.0%2C%20%22radius%22%3A%2023.813948433342183%2C%20%22stroke%22%3A%20true%2C%20%22weight%22%3A%203%7D%0A%20%20%20%20%20%20%20%20%20%20%20%20%29.addTo%28map_8f87285f909e45c9934e020e26ba2b97%29%3B%0A%20%20%20%20%20%20%20%20%0A%20%20%20%20%0A%20%20%20%20%20%20%20%20var%20popup_20a888c4ee864771903236321c85782e%20%3D%20L.popup%28%7B%22maxWidth%22%3A%20%22100%25%22%7D%29%3B%0A%0A%20%20%20%20%20%20%20%20%0A%20%20%20%20%20%20%20%20%20%20%20%20var%20html_886d5b30b8b447d7831130635d184400%20%3D%20%24%28%60%3Cdiv%20id%3D%22html_886d5b30b8b447d7831130635d184400%22%20style%3D%22width%3A%20100.0%25%3B%20height%3A%20100.0%25%3B%22%3EPhilippines%3C/div%3E%60%29%5B0%5D%3B%0A%20%20%20%20%20%20%20%20%20%20%20%20popup_20a888c4ee864771903236321c85782e.setContent%28html_886d5b30b8b447d7831130635d184400%29%3B%0A%20%20%20%20%20%20%20%20%0A%0A%20%20%20%20%20%20%20%20circle_marker_35e21600439b46fead847beb7f6551b9.bindPopup%28popup_20a888c4ee864771903236321c85782e%29%0A%20%20%20%20%20%20%20%20%3B%0A%0A%20%20%20%20%20%20%20%20%0A%20%20%20%20%0A%20%20%20%20%0A%20%20%20%20%20%20%20%20%20%20%20%20var%20circle_marker_c4594da0a7204d509185da6b43f273e4%20%3D%20L.circleMarker%28%0A%20%20%20%20%20%20%20%20%20%20%20%20%20%20%20%20%5B-6.0%2C%20147.0%5D%2C%0A%20%20%20%20%20%20%20%20%20%20%20%20%20%20%20%20%7B%22bubblingMouseEvents%22%3A%20true%2C%20%22color%22%3A%20%22%233388ff%22%2C%20%22dashArray%22%3A%20null%2C%20%22dashOffset%22%3A%20null%2C%20%22fill%22%3A%20true%2C%20%22fillColor%22%3A%20%22red%22%2C%20%22fillOpacity%22%3A%200.2%2C%20%22fillRule%22%3A%20%22evenodd%22%2C%20%22lineCap%22%3A%20%22round%22%2C%20%22lineJoin%22%3A%20%22round%22%2C%20%22opacity%22%3A%201.0%2C%20%22radius%22%3A%209.125985821420215%2C%20%22stroke%22%3A%20true%2C%20%22weight%22%3A%203%7D%0A%20%20%20%20%20%20%20%20%20%20%20%20%29.addTo%28map_8f87285f909e45c9934e020e26ba2b97%29%3B%0A%20%20%20%20%20%20%20%20%0A%20%20%20%20%0A%20%20%20%20%20%20%20%20var%20popup_6f3bf8ee848f43448661014df82808ff%20%3D%20L.popup%28%7B%22maxWidth%22%3A%20%22100%25%22%7D%29%3B%0A%0A%20%20%20%20%20%20%20%20%0A%20%20%20%20%20%20%20%20%20%20%20%20var%20html_ecf37476676e4bccb21c35c15a1cb5b9%20%3D%20%24%28%60%3Cdiv%20id%3D%22html_ecf37476676e4bccb21c35c15a1cb5b9%22%20style%3D%22width%3A%20100.0%25%3B%20height%3A%20100.0%25%3B%22%3EPapua%20New%20Guinea%3C/div%3E%60%29%5B0%5D%3B%0A%20%20%20%20%20%20%20%20%20%20%20%20popup_6f3bf8ee848f43448661014df82808ff.setContent%28html_ecf37476676e4bccb21c35c15a1cb5b9%29%3B%0A%20%20%20%20%20%20%20%20%0A%0A%20%20%20%20%20%20%20%20circle_marker_c4594da0a7204d509185da6b43f273e4.bindPopup%28popup_6f3bf8ee848f43448661014df82808ff%29%0A%20%20%20%20%20%20%20%20%3B%0A%0A%20%20%20%20%20%20%20%20%0A%20%20%20%20%0A%20%20%20%20%0A%20%20%20%20%20%20%20%20%20%20%20%20var%20circle_marker_ffaf5a59d2294d77a251fd922eef69b1%20%3D%20L.circleMarker%28%0A%20%20%20%20%20%20%20%20%20%20%20%20%20%20%20%20%5B52.0%2C%2020.0%5D%2C%0A%20%20%20%20%20%20%20%20%20%20%20%20%20%20%20%20%7B%22bubblingMouseEvents%22%3A%20true%2C%20%22color%22%3A%20%22%233388ff%22%2C%20%22dashArray%22%3A%20null%2C%20%22dashOffset%22%3A%20null%2C%20%22fill%22%3A%20true%2C%20%22fillColor%22%3A%20%22black%22%2C%20%22fillOpacity%22%3A%200.2%2C%20%22fillRule%22%3A%20%22evenodd%22%2C%20%22lineCap%22%3A%20%22round%22%2C%20%22lineJoin%22%3A%20%22round%22%2C%20%22opacity%22%3A%201.0%2C%20%22stroke%22%3A%20true%2C%20%22weight%22%3A%203%7D%0A%20%20%20%20%20%20%20%20%20%20%20%20%29.addTo%28map_8f87285f909e45c9934e020e26ba2b97%29%3B%0A%20%20%20%20%20%20%20%20%0A%20%20%20%20%0A%20%20%20%20%20%20%20%20var%20popup_79c429b57c324fcf80493f91b56b184a%20%3D%20L.popup%28%7B%22maxWidth%22%3A%20%22100%25%22%7D%29%3B%0A%0A%20%20%20%20%20%20%20%20%0A%20%20%20%20%20%20%20%20%20%20%20%20var%20html_ffb4cc638f0540a2aa4f2bf62aeea55e%20%3D%20%24%28%60%3Cdiv%20id%3D%22html_ffb4cc638f0540a2aa4f2bf62aeea55e%22%20style%3D%22width%3A%20100.0%25%3B%20height%3A%20100.0%25%3B%22%3EPoland%3C/div%3E%60%29%5B0%5D%3B%0A%20%20%20%20%20%20%20%20%20%20%20%20popup_79c429b57c324fcf80493f91b56b184a.setContent%28html_ffb4cc638f0540a2aa4f2bf62aeea55e%29%3B%0A%20%20%20%20%20%20%20%20%0A%0A%20%20%20%20%20%20%20%20circle_marker_ffaf5a59d2294d77a251fd922eef69b1.bindPopup%28popup_79c429b57c324fcf80493f91b56b184a%29%0A%20%20%20%20%20%20%20%20%3B%0A%0A%20%20%20%20%20%20%20%20%0A%20%20%20%20%0A%20%20%20%20%0A%20%20%20%20%20%20%20%20%20%20%20%20var%20circle_marker_67d0b699225244a1b4541f30b7e2f531%20%3D%20L.circleMarker%28%0A%20%20%20%20%20%20%20%20%20%20%20%20%20%20%20%20%5B-23.33333%2C%20-58.0%5D%2C%0A%20%20%20%20%20%20%20%20%20%20%20%20%20%20%20%20%7B%22bubblingMouseEvents%22%3A%20true%2C%20%22color%22%3A%20%22%233388ff%22%2C%20%22dashArray%22%3A%20null%2C%20%22dashOffset%22%3A%20null%2C%20%22fill%22%3A%20true%2C%20%22fillColor%22%3A%20%22green%22%2C%20%22fillOpacity%22%3A%200.2%2C%20%22fillRule%22%3A%20%22evenodd%22%2C%20%22lineCap%22%3A%20%22round%22%2C%20%22lineJoin%22%3A%20%22round%22%2C%20%22opacity%22%3A%201.0%2C%20%22radius%22%3A%202.454808263447154%2C%20%22stroke%22%3A%20true%2C%20%22weight%22%3A%203%7D%0A%20%20%20%20%20%20%20%20%20%20%20%20%29.addTo%28map_8f87285f909e45c9934e020e26ba2b97%29%3B%0A%20%20%20%20%20%20%20%20%0A%20%20%20%20%0A%20%20%20%20%20%20%20%20var%20popup_236c59202b614925ae72b24286da4035%20%3D%20L.popup%28%7B%22maxWidth%22%3A%20%22100%25%22%7D%29%3B%0A%0A%20%20%20%20%20%20%20%20%0A%20%20%20%20%20%20%20%20%20%20%20%20var%20html_a59a10a93ee3419f9d7476dd7b7e08ea%20%3D%20%24%28%60%3Cdiv%20id%3D%22html_a59a10a93ee3419f9d7476dd7b7e08ea%22%20style%3D%22width%3A%20100.0%25%3B%20height%3A%20100.0%25%3B%22%3EParaguay%3C/div%3E%60%29%5B0%5D%3B%0A%20%20%20%20%20%20%20%20%20%20%20%20popup_236c59202b614925ae72b24286da4035.setContent%28html_a59a10a93ee3419f9d7476dd7b7e08ea%29%3B%0A%20%20%20%20%20%20%20%20%0A%0A%20%20%20%20%20%20%20%20circle_marker_67d0b699225244a1b4541f30b7e2f531.bindPopup%28popup_236c59202b614925ae72b24286da4035%29%0A%20%20%20%20%20%20%20%20%3B%0A%0A%20%20%20%20%20%20%20%20%0A%20%20%20%20%0A%20%20%20%20%0A%20%20%20%20%20%20%20%20%20%20%20%20var%20circle_marker_8ae2817962d24adfad1dbdce85d6c54d%20%3D%20L.circleMarker%28%0A%20%20%20%20%20%20%20%20%20%20%20%20%20%20%20%20%5B31.92157%2C%2035.20329%5D%2C%0A%20%20%20%20%20%20%20%20%20%20%20%20%20%20%20%20%7B%22bubblingMouseEvents%22%3A%20true%2C%20%22color%22%3A%20%22%233388ff%22%2C%20%22dashArray%22%3A%20null%2C%20%22dashOffset%22%3A%20null%2C%20%22fill%22%3A%20true%2C%20%22fillColor%22%3A%20%22red%22%2C%20%22fillOpacity%22%3A%200.2%2C%20%22fillRule%22%3A%20%22evenodd%22%2C%20%22lineCap%22%3A%20%22round%22%2C%20%22lineJoin%22%3A%20%22round%22%2C%20%22opacity%22%3A%201.0%2C%20%22radius%22%3A%200.3213900403973964%2C%20%22stroke%22%3A%20true%2C%20%22weight%22%3A%203%7D%0A%20%20%20%20%20%20%20%20%20%20%20%20%29.addTo%28map_8f87285f909e45c9934e020e26ba2b97%29%3B%0A%20%20%20%20%20%20%20%20%0A%20%20%20%20%0A%20%20%20%20%20%20%20%20var%20popup_bf355b59b1d54203bbfa7420ecef57b0%20%3D%20L.popup%28%7B%22maxWidth%22%3A%20%22100%25%22%7D%29%3B%0A%0A%20%20%20%20%20%20%20%20%0A%20%20%20%20%20%20%20%20%20%20%20%20var%20html_82f0660bf4c44eaebced79d4035d2879%20%3D%20%24%28%60%3Cdiv%20id%3D%22html_82f0660bf4c44eaebced79d4035d2879%22%20style%3D%22width%3A%20100.0%25%3B%20height%3A%20100.0%25%3B%22%3EPalestine%3C/div%3E%60%29%5B0%5D%3B%0A%20%20%20%20%20%20%20%20%20%20%20%20popup_bf355b59b1d54203bbfa7420ecef57b0.setContent%28html_82f0660bf4c44eaebced79d4035d2879%29%3B%0A%20%20%20%20%20%20%20%20%0A%0A%20%20%20%20%20%20%20%20circle_marker_8ae2817962d24adfad1dbdce85d6c54d.bindPopup%28popup_bf355b59b1d54203bbfa7420ecef57b0%29%0A%20%20%20%20%20%20%20%20%3B%0A%0A%20%20%20%20%20%20%20%20%0A%20%20%20%20%0A%20%20%20%20%0A%20%20%20%20%20%20%20%20%20%20%20%20var%20circle_marker_87f1c68f966c4f6196c449c60568d853%20%3D%20L.circleMarker%28%0A%20%20%20%20%20%20%20%20%20%20%20%20%20%20%20%20%5B46.0%2C%2025.0%5D%2C%0A%20%20%20%20%20%20%20%20%20%20%20%20%20%20%20%20%7B%22bubblingMouseEvents%22%3A%20true%2C%20%22color%22%3A%20%22%233388ff%22%2C%20%22dashArray%22%3A%20null%2C%20%22dashOffset%22%3A%20null%2C%20%22fill%22%3A%20true%2C%20%22fillColor%22%3A%20%22black%22%2C%20%22fillOpacity%22%3A%200.2%2C%20%22fillRule%22%3A%20%22evenodd%22%2C%20%22lineCap%22%3A%20%22round%22%2C%20%22lineJoin%22%3A%20%22round%22%2C%20%22opacity%22%3A%201.0%2C%20%22stroke%22%3A%20true%2C%20%22weight%22%3A%203%7D%0A%20%20%20%20%20%20%20%20%20%20%20%20%29.addTo%28map_8f87285f909e45c9934e020e26ba2b97%29%3B%0A%20%20%20%20%20%20%20%20%0A%20%20%20%20%0A%20%20%20%20%20%20%20%20var%20popup_7c961af8aad9404da119a5875de39074%20%3D%20L.popup%28%7B%22maxWidth%22%3A%20%22100%25%22%7D%29%3B%0A%0A%20%20%20%20%20%20%20%20%0A%20%20%20%20%20%20%20%20%20%20%20%20var%20html_75abf05488a54168a4f635a2ae34f988%20%3D%20%24%28%60%3Cdiv%20id%3D%22html_75abf05488a54168a4f635a2ae34f988%22%20style%3D%22width%3A%20100.0%25%3B%20height%3A%20100.0%25%3B%22%3ERomania%3C/div%3E%60%29%5B0%5D%3B%0A%20%20%20%20%20%20%20%20%20%20%20%20popup_7c961af8aad9404da119a5875de39074.setContent%28html_75abf05488a54168a4f635a2ae34f988%29%3B%0A%20%20%20%20%20%20%20%20%0A%0A%20%20%20%20%20%20%20%20circle_marker_87f1c68f966c4f6196c449c60568d853.bindPopup%28popup_7c961af8aad9404da119a5875de39074%29%0A%20%20%20%20%20%20%20%20%3B%0A%0A%20%20%20%20%20%20%20%20%0A%20%20%20%20%0A%20%20%20%20%0A%20%20%20%20%20%20%20%20%20%20%20%20var%20circle_marker_3cca4199cd5d4b969948e76daac586b9%20%3D%20L.circleMarker%28%0A%20%20%20%20%20%20%20%20%20%20%20%20%20%20%20%20%5B60.0%2C%20100.0%5D%2C%0A%20%20%20%20%20%20%20%20%20%20%20%20%20%20%20%20%7B%22bubblingMouseEvents%22%3A%20true%2C%20%22color%22%3A%20%22%233388ff%22%2C%20%22dashArray%22%3A%20null%2C%20%22dashOffset%22%3A%20null%2C%20%22fill%22%3A%20true%2C%20%22fillColor%22%3A%20%22black%22%2C%20%22fillOpacity%22%3A%200.2%2C%20%22fillRule%22%3A%20%22evenodd%22%2C%20%22lineCap%22%3A%20%22round%22%2C%20%22lineJoin%22%3A%20%22round%22%2C%20%22opacity%22%3A%201.0%2C%20%22radius%22%3A%201.1705268361253016%2C%20%22stroke%22%3A%20true%2C%20%22weight%22%3A%203%7D%0A%20%20%20%20%20%20%20%20%20%20%20%20%29.addTo%28map_8f87285f909e45c9934e020e26ba2b97%29%3B%0A%20%20%20%20%20%20%20%20%0A%20%20%20%20%0A%20%20%20%20%20%20%20%20var%20popup_ee27f6047c914ae6a7a32d74aca72861%20%3D%20L.popup%28%7B%22maxWidth%22%3A%20%22100%25%22%7D%29%3B%0A%0A%20%20%20%20%20%20%20%20%0A%20%20%20%20%20%20%20%20%20%20%20%20var%20html_03b478cf4ef54c0aa0ead297516f03cf%20%3D%20%24%28%60%3Cdiv%20id%3D%22html_03b478cf4ef54c0aa0ead297516f03cf%22%20style%3D%22width%3A%20100.0%25%3B%20height%3A%20100.0%25%3B%22%3ERussia%3C/div%3E%60%29%5B0%5D%3B%0A%20%20%20%20%20%20%20%20%20%20%20%20popup_ee27f6047c914ae6a7a32d74aca72861.setContent%28html_03b478cf4ef54c0aa0ead297516f03cf%29%3B%0A%20%20%20%20%20%20%20%20%0A%0A%20%20%20%20%20%20%20%20circle_marker_3cca4199cd5d4b969948e76daac586b9.bindPopup%28popup_ee27f6047c914ae6a7a32d74aca72861%29%0A%20%20%20%20%20%20%20%20%3B%0A%0A%20%20%20%20%20%20%20%20%0A%20%20%20%20%0A%20%20%20%20%0A%20%20%20%20%20%20%20%20%20%20%20%20var%20circle_marker_b4f5cad581324693a09d2874591bc181%20%3D%20L.circleMarker%28%0A%20%20%20%20%20%20%20%20%20%20%20%20%20%20%20%20%5B-2.0%2C%2030.0%5D%2C%0A%20%20%20%20%20%20%20%20%20%20%20%20%20%20%20%20%7B%22bubblingMouseEvents%22%3A%20true%2C%20%22color%22%3A%20%22%233388ff%22%2C%20%22dashArray%22%3A%20null%2C%20%22dashOffset%22%3A%20null%2C%20%22fill%22%3A%20true%2C%20%22fillColor%22%3A%20%22blue%22%2C%20%22fillOpacity%22%3A%200.2%2C%20%22fillRule%22%3A%20%22evenodd%22%2C%20%22lineCap%22%3A%20%22round%22%2C%20%22lineJoin%22%3A%20%22round%22%2C%20%22opacity%22%3A%201.0%2C%20%22radius%22%3A%2014.191124420279852%2C%20%22stroke%22%3A%20true%2C%20%22weight%22%3A%203%7D%0A%20%20%20%20%20%20%20%20%20%20%20%20%29.addTo%28map_8f87285f909e45c9934e020e26ba2b97%29%3B%0A%20%20%20%20%20%20%20%20%0A%20%20%20%20%0A%20%20%20%20%20%20%20%20var%20popup_2db1a958e82a4bdfaf133b8e5e3fe795%20%3D%20L.popup%28%7B%22maxWidth%22%3A%20%22100%25%22%7D%29%3B%0A%0A%20%20%20%20%20%20%20%20%0A%20%20%20%20%20%20%20%20%20%20%20%20var%20html_ee95eb43a97145a4b707469df01c5a52%20%3D%20%24%28%60%3Cdiv%20id%3D%22html_ee95eb43a97145a4b707469df01c5a52%22%20style%3D%22width%3A%20100.0%25%3B%20height%3A%20100.0%25%3B%22%3ERwanda%3C/div%3E%60%29%5B0%5D%3B%0A%20%20%20%20%20%20%20%20%20%20%20%20popup_2db1a958e82a4bdfaf133b8e5e3fe795.setContent%28html_ee95eb43a97145a4b707469df01c5a52%29%3B%0A%20%20%20%20%20%20%20%20%0A%0A%20%20%20%20%20%20%20%20circle_marker_b4f5cad581324693a09d2874591bc181.bindPopup%28popup_2db1a958e82a4bdfaf133b8e5e3fe795%29%0A%20%20%20%20%20%20%20%20%3B%0A%0A%20%20%20%20%20%20%20%20%0A%20%20%20%20%0A%20%20%20%20%0A%20%20%20%20%20%20%20%20%20%20%20%20var%20circle_marker_1ca8abfe01fb45bdb7d9be61ea247f6f%20%3D%20L.circleMarker%28%0A%20%20%20%20%20%20%20%20%20%20%20%20%20%20%20%20%5B16.0%2C%2030.0%5D%2C%0A%20%20%20%20%20%20%20%20%20%20%20%20%20%20%20%20%7B%22bubblingMouseEvents%22%3A%20true%2C%20%22color%22%3A%20%22%233388ff%22%2C%20%22dashArray%22%3A%20null%2C%20%22dashOffset%22%3A%20null%2C%20%22fill%22%3A%20true%2C%20%22fillColor%22%3A%20%22blue%22%2C%20%22fillOpacity%22%3A%200.2%2C%20%22fillRule%22%3A%20%22evenodd%22%2C%20%22lineCap%22%3A%20%22round%22%2C%20%22lineJoin%22%3A%20%22round%22%2C%20%22opacity%22%3A%201.0%2C%20%22radius%22%3A%2014.75537843817308%2C%20%22stroke%22%3A%20true%2C%20%22weight%22%3A%203%7D%0A%20%20%20%20%20%20%20%20%20%20%20%20%29.addTo%28map_8f87285f909e45c9934e020e26ba2b97%29%3B%0A%20%20%20%20%20%20%20%20%0A%20%20%20%20%0A%20%20%20%20%20%20%20%20var%20popup_9fcf2e42f93b43ed99d363dada1b14a8%20%3D%20L.popup%28%7B%22maxWidth%22%3A%20%22100%25%22%7D%29%3B%0A%0A%20%20%20%20%20%20%20%20%0A%20%20%20%20%20%20%20%20%20%20%20%20var%20html_a8b62a245a9142178f73eddc04f9d3b7%20%3D%20%24%28%60%3Cdiv%20id%3D%22html_a8b62a245a9142178f73eddc04f9d3b7%22%20style%3D%22width%3A%20100.0%25%3B%20height%3A%20100.0%25%3B%22%3ESudan%3C/div%3E%60%29%5B0%5D%3B%0A%20%20%20%20%20%20%20%20%20%20%20%20popup_9fcf2e42f93b43ed99d363dada1b14a8.setContent%28html_a8b62a245a9142178f73eddc04f9d3b7%29%3B%0A%20%20%20%20%20%20%20%20%0A%0A%20%20%20%20%20%20%20%20circle_marker_1ca8abfe01fb45bdb7d9be61ea247f6f.bindPopup%28popup_9fcf2e42f93b43ed99d363dada1b14a8%29%0A%20%20%20%20%20%20%20%20%3B%0A%0A%20%20%20%20%20%20%20%20%0A%20%20%20%20%0A%20%20%20%20%0A%20%20%20%20%20%20%20%20%20%20%20%20var%20circle_marker_201394145a6b4072bb26a73e3b3c31bd%20%3D%20L.circleMarker%28%0A%20%20%20%20%20%20%20%20%20%20%20%20%20%20%20%20%5B14.5%2C%20-14.25%5D%2C%0A%20%20%20%20%20%20%20%20%20%20%20%20%20%20%20%20%7B%22bubblingMouseEvents%22%3A%20true%2C%20%22color%22%3A%20%22%233388ff%22%2C%20%22dashArray%22%3A%20null%2C%20%22dashOffset%22%3A%20null%2C%20%22fill%22%3A%20true%2C%20%22fillColor%22%3A%20%22blue%22%2C%20%22fillOpacity%22%3A%200.2%2C%20%22fillRule%22%3A%20%22evenodd%22%2C%20%22lineCap%22%3A%20%22round%22%2C%20%22lineJoin%22%3A%20%22round%22%2C%20%22opacity%22%3A%201.0%2C%20%22radius%22%3A%2011.723984438242729%2C%20%22stroke%22%3A%20true%2C%20%22weight%22%3A%203%7D%0A%20%20%20%20%20%20%20%20%20%20%20%20%29.addTo%28map_8f87285f909e45c9934e020e26ba2b97%29%3B%0A%20%20%20%20%20%20%20%20%0A%20%20%20%20%0A%20%20%20%20%20%20%20%20var%20popup_82aad9d033034e2e960974174ad7cb4d%20%3D%20L.popup%28%7B%22maxWidth%22%3A%20%22100%25%22%7D%29%3B%0A%0A%20%20%20%20%20%20%20%20%0A%20%20%20%20%20%20%20%20%20%20%20%20var%20html_483fa5986840432f9fda7e9e3ab15a15%20%3D%20%24%28%60%3Cdiv%20id%3D%22html_483fa5986840432f9fda7e9e3ab15a15%22%20style%3D%22width%3A%20100.0%25%3B%20height%3A%20100.0%25%3B%22%3ESenegal%3C/div%3E%60%29%5B0%5D%3B%0A%20%20%20%20%20%20%20%20%20%20%20%20popup_82aad9d033034e2e960974174ad7cb4d.setContent%28html_483fa5986840432f9fda7e9e3ab15a15%29%3B%0A%20%20%20%20%20%20%20%20%0A%0A%20%20%20%20%20%20%20%20circle_marker_201394145a6b4072bb26a73e3b3c31bd.bindPopup%28popup_82aad9d033034e2e960974174ad7cb4d%29%0A%20%20%20%20%20%20%20%20%3B%0A%0A%20%20%20%20%20%20%20%20%0A%20%20%20%20%0A%20%20%20%20%0A%20%20%20%20%20%20%20%20%20%20%20%20var%20circle_marker_be3c446f8a2a44189455a83e71d9058d%20%3D%20L.circleMarker%28%0A%20%20%20%20%20%20%20%20%20%20%20%20%20%20%20%20%5B8.5%2C%20-11.5%5D%2C%0A%20%20%20%20%20%20%20%20%20%20%20%20%20%20%20%20%7B%22bubblingMouseEvents%22%3A%20true%2C%20%22color%22%3A%20%22%233388ff%22%2C%20%22dashArray%22%3A%20null%2C%20%22dashOffset%22%3A%20null%2C%20%22fill%22%3A%20true%2C%20%22fillColor%22%3A%20%22blue%22%2C%20%22fillOpacity%22%3A%200.2%2C%20%22fillRule%22%3A%20%22evenodd%22%2C%20%22lineCap%22%3A%20%22round%22%2C%20%22lineJoin%22%3A%20%22round%22%2C%20%22opacity%22%3A%201.0%2C%20%22radius%22%3A%2010.75395518279574%2C%20%22stroke%22%3A%20true%2C%20%22weight%22%3A%203%7D%0A%20%20%20%20%20%20%20%20%20%20%20%20%29.addTo%28map_8f87285f909e45c9934e020e26ba2b97%29%3B%0A%20%20%20%20%20%20%20%20%0A%20%20%20%20%0A%20%20%20%20%20%20%20%20var%20popup_6370011972f54ba5bf0a554830b32f1f%20%3D%20L.popup%28%7B%22maxWidth%22%3A%20%22100%25%22%7D%29%3B%0A%0A%20%20%20%20%20%20%20%20%0A%20%20%20%20%20%20%20%20%20%20%20%20var%20html_6a1a955367754147a5355676a4f02394%20%3D%20%24%28%60%3Cdiv%20id%3D%22html_6a1a955367754147a5355676a4f02394%22%20style%3D%22width%3A%20100.0%25%3B%20height%3A%20100.0%25%3B%22%3ESierra%20Leone%3C/div%3E%60%29%5B0%5D%3B%0A%20%20%20%20%20%20%20%20%20%20%20%20popup_6370011972f54ba5bf0a554830b32f1f.setContent%28html_6a1a955367754147a5355676a4f02394%29%3B%0A%20%20%20%20%20%20%20%20%0A%0A%20%20%20%20%20%20%20%20circle_marker_be3c446f8a2a44189455a83e71d9058d.bindPopup%28popup_6370011972f54ba5bf0a554830b32f1f%29%0A%20%20%20%20%20%20%20%20%3B%0A%0A%20%20%20%20%20%20%20%20%0A%20%20%20%20%0A%20%20%20%20%0A%20%20%20%20%20%20%20%20%20%20%20%20var%20circle_marker_a6ac5a50339a430a9ad1b282b01dfcc1%20%3D%20L.circleMarker%28%0A%20%20%20%20%20%20%20%20%20%20%20%20%20%20%20%20%5B13.83333%2C%20-88.91667%5D%2C%0A%20%20%20%20%20%20%20%20%20%20%20%20%20%20%20%20%7B%22bubblingMouseEvents%22%3A%20true%2C%20%22color%22%3A%20%22%233388ff%22%2C%20%22dashArray%22%3A%20null%2C%20%22dashOffset%22%3A%20null%2C%20%22fill%22%3A%20true%2C%20%22fillColor%22%3A%20%22green%22%2C%20%22fillOpacity%22%3A%200.2%2C%20%22fillRule%22%3A%20%22evenodd%22%2C%20%22lineCap%22%3A%20%22round%22%2C%20%22lineJoin%22%3A%20%22round%22%2C%20%22opacity%22%3A%201.0%2C%20%22radius%22%3A%202.231596251861578%2C%20%22stroke%22%3A%20true%2C%20%22weight%22%3A%203%7D%0A%20%20%20%20%20%20%20%20%20%20%20%20%29.addTo%28map_8f87285f909e45c9934e020e26ba2b97%29%3B%0A%20%20%20%20%20%20%20%20%0A%20%20%20%20%0A%20%20%20%20%20%20%20%20var%20popup_9bcc9ef447204aaaa8aca88be8602334%20%3D%20L.popup%28%7B%22maxWidth%22%3A%20%22100%25%22%7D%29%3B%0A%0A%20%20%20%20%20%20%20%20%0A%20%20%20%20%20%20%20%20%20%20%20%20var%20html_93e3295e91914fa39510a45d6a9dd499%20%3D%20%24%28%60%3Cdiv%20id%3D%22html_93e3295e91914fa39510a45d6a9dd499%22%20style%3D%22width%3A%20100.0%25%3B%20height%3A%20100.0%25%3B%22%3EEl%20Salvador%3C/div%3E%60%29%5B0%5D%3B%0A%20%20%20%20%20%20%20%20%20%20%20%20popup_9bcc9ef447204aaaa8aca88be8602334.setContent%28html_93e3295e91914fa39510a45d6a9dd499%29%3B%0A%20%20%20%20%20%20%20%20%0A%0A%20%20%20%20%20%20%20%20circle_marker_a6ac5a50339a430a9ad1b282b01dfcc1.bindPopup%28popup_9bcc9ef447204aaaa8aca88be8602334%29%0A%20%20%20%20%20%20%20%20%3B%0A%0A%20%20%20%20%20%20%20%20%0A%20%20%20%20%0A%20%20%20%20%0A%20%20%20%20%20%20%20%20%20%20%20%20var%20circle_marker_9204af8fca4c4f999ace1d8d8c048708%20%3D%20L.circleMarker%28%0A%20%20%20%20%20%20%20%20%20%20%20%20%20%20%20%20%5B44.81892%2C%2020.45998%5D%2C%0A%20%20%20%20%20%20%20%20%20%20%20%20%20%20%20%20%7B%22bubblingMouseEvents%22%3A%20true%2C%20%22color%22%3A%20%22%233388ff%22%2C%20%22dashArray%22%3A%20null%2C%20%22dashOffset%22%3A%20null%2C%20%22fill%22%3A%20true%2C%20%22fillColor%22%3A%20%22black%22%2C%20%22fillOpacity%22%3A%200.2%2C%20%22fillRule%22%3A%20%22evenodd%22%2C%20%22lineCap%22%3A%20%22round%22%2C%20%22lineJoin%22%3A%20%22round%22%2C%20%22opacity%22%3A%201.0%2C%20%22radius%22%3A%200.37830163207185913%2C%20%22stroke%22%3A%20true%2C%20%22weight%22%3A%203%7D%0A%20%20%20%20%20%20%20%20%20%20%20%20%29.addTo%28map_8f87285f909e45c9934e020e26ba2b97%29%3B%0A%20%20%20%20%20%20%20%20%0A%20%20%20%20%0A%20%20%20%20%20%20%20%20var%20popup_6f940e5db35b436ca140c78be10de7da%20%3D%20L.popup%28%7B%22maxWidth%22%3A%20%22100%25%22%7D%29%3B%0A%0A%20%20%20%20%20%20%20%20%0A%20%20%20%20%20%20%20%20%20%20%20%20var%20html_aea7ad24c9f84369840e8e37d219d3e7%20%3D%20%24%28%60%3Cdiv%20id%3D%22html_aea7ad24c9f84369840e8e37d219d3e7%22%20style%3D%22width%3A%20100.0%25%3B%20height%3A%20100.0%25%3B%22%3ESerbia%3C/div%3E%60%29%5B0%5D%3B%0A%20%20%20%20%20%20%20%20%20%20%20%20popup_6f940e5db35b436ca140c78be10de7da.setContent%28html_aea7ad24c9f84369840e8e37d219d3e7%29%3B%0A%20%20%20%20%20%20%20%20%0A%0A%20%20%20%20%20%20%20%20circle_marker_9204af8fca4c4f999ace1d8d8c048708.bindPopup%28popup_6f940e5db35b436ca140c78be10de7da%29%0A%20%20%20%20%20%20%20%20%3B%0A%0A%20%20%20%20%20%20%20%20%0A%20%20%20%20%0A%20%20%20%20%0A%20%20%20%20%20%20%20%20%20%20%20%20var%20circle_marker_16fdb76316244a9babbb4367c9f70329%20%3D%20L.circleMarker%28%0A%20%20%20%20%20%20%20%20%20%20%20%20%20%20%20%20%5B1.0%2C%207.0%5D%2C%0A%20%20%20%20%20%20%20%20%20%20%20%20%20%20%20%20%7B%22bubblingMouseEvents%22%3A%20true%2C%20%22color%22%3A%20%22%233388ff%22%2C%20%22dashArray%22%3A%20null%2C%20%22dashOffset%22%3A%20null%2C%20%22fill%22%3A%20true%2C%20%22fillColor%22%3A%20%22blue%22%2C%20%22fillOpacity%22%3A%200.2%2C%20%22fillRule%22%3A%20%22evenodd%22%2C%20%22lineCap%22%3A%20%22round%22%2C%20%22lineJoin%22%3A%20%22round%22%2C%20%22opacity%22%3A%201.0%2C%20%22radius%22%3A%201.5808990803845295%2C%20%22stroke%22%3A%20true%2C%20%22weight%22%3A%203%7D%0A%20%20%20%20%20%20%20%20%20%20%20%20%29.addTo%28map_8f87285f909e45c9934e020e26ba2b97%29%3B%0A%20%20%20%20%20%20%20%20%0A%20%20%20%20%0A%20%20%20%20%20%20%20%20var%20popup_2481462bd5cf4225aab9321eedc2645a%20%3D%20L.popup%28%7B%22maxWidth%22%3A%20%22100%25%22%7D%29%3B%0A%0A%20%20%20%20%20%20%20%20%0A%20%20%20%20%20%20%20%20%20%20%20%20var%20html_b59ee84b9d9c4371b3eed6b46a3ca373%20%3D%20%24%28%60%3Cdiv%20id%3D%22html_b59ee84b9d9c4371b3eed6b46a3ca373%22%20style%3D%22width%3A%20100.0%25%3B%20height%3A%20100.0%25%3B%22%3ESao%20Tome%20and%20Principe%3C/div%3E%60%29%5B0%5D%3B%0A%20%20%20%20%20%20%20%20%20%20%20%20popup_2481462bd5cf4225aab9321eedc2645a.setContent%28html_b59ee84b9d9c4371b3eed6b46a3ca373%29%3B%0A%20%20%20%20%20%20%20%20%0A%0A%20%20%20%20%20%20%20%20circle_marker_16fdb76316244a9babbb4367c9f70329.bindPopup%28popup_2481462bd5cf4225aab9321eedc2645a%29%0A%20%20%20%20%20%20%20%20%3B%0A%0A%20%20%20%20%20%20%20%20%0A%20%20%20%20%0A%20%20%20%20%0A%20%20%20%20%20%20%20%20%20%20%20%20var%20circle_marker_51d980c837274b94ab1f15f20d2f47dd%20%3D%20L.circleMarker%28%0A%20%20%20%20%20%20%20%20%20%20%20%20%20%20%20%20%5B4.0%2C%20-56.0%5D%2C%0A%20%20%20%20%20%20%20%20%20%20%20%20%20%20%20%20%7B%22bubblingMouseEvents%22%3A%20true%2C%20%22color%22%3A%20%22%233388ff%22%2C%20%22dashArray%22%3A%20null%2C%20%22dashOffset%22%3A%20null%2C%20%22fill%22%3A%20true%2C%20%22fillColor%22%3A%20%22green%22%2C%20%22fillOpacity%22%3A%200.2%2C%20%22fillRule%22%3A%20%22evenodd%22%2C%20%22lineCap%22%3A%20%22round%22%2C%20%22lineJoin%22%3A%20%22round%22%2C%20%22opacity%22%3A%201.0%2C%20%22radius%22%3A%201.6178179347920572%2C%20%22stroke%22%3A%20true%2C%20%22weight%22%3A%203%7D%0A%20%20%20%20%20%20%20%20%20%20%20%20%29.addTo%28map_8f87285f909e45c9934e020e26ba2b97%29%3B%0A%20%20%20%20%20%20%20%20%0A%20%20%20%20%0A%20%20%20%20%20%20%20%20var%20popup_28040a7c1df14e9f9bc59209c89509e7%20%3D%20L.popup%28%7B%22maxWidth%22%3A%20%22100%25%22%7D%29%3B%0A%0A%20%20%20%20%20%20%20%20%0A%20%20%20%20%20%20%20%20%20%20%20%20var%20html_26473137b5bc4850b98dd594a40fe8c2%20%3D%20%24%28%60%3Cdiv%20id%3D%22html_26473137b5bc4850b98dd594a40fe8c2%22%20style%3D%22width%3A%20100.0%25%3B%20height%3A%20100.0%25%3B%22%3ESuriname%3C/div%3E%60%29%5B0%5D%3B%0A%20%20%20%20%20%20%20%20%20%20%20%20popup_28040a7c1df14e9f9bc59209c89509e7.setContent%28html_26473137b5bc4850b98dd594a40fe8c2%29%3B%0A%20%20%20%20%20%20%20%20%0A%0A%20%20%20%20%20%20%20%20circle_marker_51d980c837274b94ab1f15f20d2f47dd.bindPopup%28popup_28040a7c1df14e9f9bc59209c89509e7%29%0A%20%20%20%20%20%20%20%20%3B%0A%0A%20%20%20%20%20%20%20%20%0A%20%20%20%20%0A%20%20%20%20%0A%20%20%20%20%20%20%20%20%20%20%20%20var%20circle_marker_78c7b20789414473a7d667732d139f12%20%3D%20L.circleMarker%28%0A%20%20%20%20%20%20%20%20%20%20%20%20%20%20%20%20%5B48.66667%2C%2019.5%5D%2C%0A%20%20%20%20%20%20%20%20%20%20%20%20%20%20%20%20%7B%22bubblingMouseEvents%22%3A%20true%2C%20%22color%22%3A%20%22%233388ff%22%2C%20%22dashArray%22%3A%20null%2C%20%22dashOffset%22%3A%20null%2C%20%22fill%22%3A%20true%2C%20%22fillColor%22%3A%20%22black%22%2C%20%22fillOpacity%22%3A%200.2%2C%20%22fillRule%22%3A%20%22evenodd%22%2C%20%22lineCap%22%3A%20%22round%22%2C%20%22lineJoin%22%3A%20%22round%22%2C%20%22opacity%22%3A%201.0%2C%20%22radius%22%3A%200.7183841719231987%2C%20%22stroke%22%3A%20true%2C%20%22weight%22%3A%203%7D%0A%20%20%20%20%20%20%20%20%20%20%20%20%29.addTo%28map_8f87285f909e45c9934e020e26ba2b97%29%3B%0A%20%20%20%20%20%20%20%20%0A%20%20%20%20%0A%20%20%20%20%20%20%20%20var%20popup_01a36630dbbb4d6f9939c67dc6c9de35%20%3D%20L.popup%28%7B%22maxWidth%22%3A%20%22100%25%22%7D%29%3B%0A%0A%20%20%20%20%20%20%20%20%0A%20%20%20%20%20%20%20%20%20%20%20%20var%20html_38b6538d04a745ea87053f2e7282869b%20%3D%20%24%28%60%3Cdiv%20id%3D%22html_38b6538d04a745ea87053f2e7282869b%22%20style%3D%22width%3A%20100.0%25%3B%20height%3A%20100.0%25%3B%22%3ESlovak%20Republic%3C/div%3E%60%29%5B0%5D%3B%0A%20%20%20%20%20%20%20%20%20%20%20%20popup_01a36630dbbb4d6f9939c67dc6c9de35.setContent%28html_38b6538d04a745ea87053f2e7282869b%29%3B%0A%20%20%20%20%20%20%20%20%0A%0A%20%20%20%20%20%20%20%20circle_marker_78c7b20789414473a7d667732d139f12.bindPopup%28popup_01a36630dbbb4d6f9939c67dc6c9de35%29%0A%20%20%20%20%20%20%20%20%3B%0A%0A%20%20%20%20%20%20%20%20%0A%20%20%20%20%0A%20%20%20%20%0A%20%20%20%20%20%20%20%20%20%20%20%20var%20circle_marker_b60d379a9b1b447fbbb032d7dc948b82%20%3D%20L.circleMarker%28%0A%20%20%20%20%20%20%20%20%20%20%20%20%20%20%20%20%5B46.08333%2C%2015.0%5D%2C%0A%20%20%20%20%20%20%20%20%20%20%20%20%20%20%20%20%7B%22bubblingMouseEvents%22%3A%20true%2C%20%22color%22%3A%20%22%233388ff%22%2C%20%22dashArray%22%3A%20null%2C%20%22dashOffset%22%3A%20null%2C%20%22fill%22%3A%20true%2C%20%22fillColor%22%3A%20%22black%22%2C%20%22fillOpacity%22%3A%200.2%2C%20%22fillRule%22%3A%20%22evenodd%22%2C%20%22lineCap%22%3A%20%22round%22%2C%20%22lineJoin%22%3A%20%22round%22%2C%20%22opacity%22%3A%201.0%2C%20%22stroke%22%3A%20true%2C%20%22weight%22%3A%203%7D%0A%20%20%20%20%20%20%20%20%20%20%20%20%29.addTo%28map_8f87285f909e45c9934e020e26ba2b97%29%3B%0A%20%20%20%20%20%20%20%20%0A%20%20%20%20%0A%20%20%20%20%20%20%20%20var%20popup_1e1c559e21214042aac28569e9cd3614%20%3D%20L.popup%28%7B%22maxWidth%22%3A%20%22100%25%22%7D%29%3B%0A%0A%20%20%20%20%20%20%20%20%0A%20%20%20%20%20%20%20%20%20%20%20%20var%20html_c9eea555fdfe4bc99ebeb3a9cedd4fac%20%3D%20%24%28%60%3Cdiv%20id%3D%22html_c9eea555fdfe4bc99ebeb3a9cedd4fac%22%20style%3D%22width%3A%20100.0%25%3B%20height%3A%20100.0%25%3B%22%3ESlovenia%3C/div%3E%60%29%5B0%5D%3B%0A%20%20%20%20%20%20%20%20%20%20%20%20popup_1e1c559e21214042aac28569e9cd3614.setContent%28html_c9eea555fdfe4bc99ebeb3a9cedd4fac%29%3B%0A%20%20%20%20%20%20%20%20%0A%0A%20%20%20%20%20%20%20%20circle_marker_b60d379a9b1b447fbbb032d7dc948b82.bindPopup%28popup_1e1c559e21214042aac28569e9cd3614%29%0A%20%20%20%20%20%20%20%20%3B%0A%0A%20%20%20%20%20%20%20%20%0A%20%20%20%20%0A%20%20%20%20%0A%20%20%20%20%20%20%20%20%20%20%20%20var%20circle_marker_1962d0c1d9d340a1b4e65f44e5f519b9%20%3D%20L.circleMarker%28%0A%20%20%20%20%20%20%20%20%20%20%20%20%20%20%20%20%5B62.0%2C%2015.0%5D%2C%0A%20%20%20%20%20%20%20%20%20%20%20%20%20%20%20%20%7B%22bubblingMouseEvents%22%3A%20true%2C%20%22color%22%3A%20%22%233388ff%22%2C%20%22dashArray%22%3A%20null%2C%20%22dashOffset%22%3A%20null%2C%20%22fill%22%3A%20true%2C%20%22fillColor%22%3A%20%22black%22%2C%20%22fillOpacity%22%3A%200.2%2C%20%22fillRule%22%3A%20%22evenodd%22%2C%20%22lineCap%22%3A%20%22round%22%2C%20%22lineJoin%22%3A%20%22round%22%2C%20%22opacity%22%3A%201.0%2C%20%22radius%22%3A%201.0228182985905399%2C%20%22stroke%22%3A%20true%2C%20%22weight%22%3A%203%7D%0A%20%20%20%20%20%20%20%20%20%20%20%20%29.addTo%28map_8f87285f909e45c9934e020e26ba2b97%29%3B%0A%20%20%20%20%20%20%20%20%0A%20%20%20%20%0A%20%20%20%20%20%20%20%20var%20popup_eafbb3ade6af4ede929d568e53d8e561%20%3D%20L.popup%28%7B%22maxWidth%22%3A%20%22100%25%22%7D%29%3B%0A%0A%20%20%20%20%20%20%20%20%0A%20%20%20%20%20%20%20%20%20%20%20%20var%20html_11f4be0604fc4f58ab83ce129b6de70f%20%3D%20%24%28%60%3Cdiv%20id%3D%22html_11f4be0604fc4f58ab83ce129b6de70f%22%20style%3D%22width%3A%20100.0%25%3B%20height%3A%20100.0%25%3B%22%3ESweden%3C/div%3E%60%29%5B0%5D%3B%0A%20%20%20%20%20%20%20%20%20%20%20%20popup_eafbb3ade6af4ede929d568e53d8e561.setContent%28html_11f4be0604fc4f58ab83ce129b6de70f%29%3B%0A%20%20%20%20%20%20%20%20%0A%0A%20%20%20%20%20%20%20%20circle_marker_1962d0c1d9d340a1b4e65f44e5f519b9.bindPopup%28popup_eafbb3ade6af4ede929d568e53d8e561%29%0A%20%20%20%20%20%20%20%20%3B%0A%0A%20%20%20%20%20%20%20%20%0A%20%20%20%20%0A%20%20%20%20%0A%20%20%20%20%20%20%20%20%20%20%20%20var%20circle_marker_bef38f1deb994f22894d117196391b93%20%3D%20L.circleMarker%28%0A%20%20%20%20%20%20%20%20%20%20%20%20%20%20%20%20%5B-26.5%2C%2031.5%5D%2C%0A%20%20%20%20%20%20%20%20%20%20%20%20%20%20%20%20%7B%22bubblingMouseEvents%22%3A%20true%2C%20%22color%22%3A%20%22%233388ff%22%2C%20%22dashArray%22%3A%20null%2C%20%22dashOffset%22%3A%20null%2C%20%22fill%22%3A%20true%2C%20%22fillColor%22%3A%20%22blue%22%2C%20%22fillOpacity%22%3A%200.2%2C%20%22fillRule%22%3A%20%22evenodd%22%2C%20%22lineCap%22%3A%20%22round%22%2C%20%22lineJoin%22%3A%20%22round%22%2C%20%22opacity%22%3A%201.0%2C%20%22radius%22%3A%203.6497571987716015%2C%20%22stroke%22%3A%20true%2C%20%22weight%22%3A%203%7D%0A%20%20%20%20%20%20%20%20%20%20%20%20%29.addTo%28map_8f87285f909e45c9934e020e26ba2b97%29%3B%0A%20%20%20%20%20%20%20%20%0A%20%20%20%20%0A%20%20%20%20%20%20%20%20var%20popup_6c86208fd2e347a6b4c9b840ce5eaba9%20%3D%20L.popup%28%7B%22maxWidth%22%3A%20%22100%25%22%7D%29%3B%0A%0A%20%20%20%20%20%20%20%20%0A%20%20%20%20%20%20%20%20%20%20%20%20var%20html_00c9112894b24bac9dc72010406defb4%20%3D%20%24%28%60%3Cdiv%20id%3D%22html_00c9112894b24bac9dc72010406defb4%22%20style%3D%22width%3A%20100.0%25%3B%20height%3A%20100.0%25%3B%22%3ESwaziland%3C/div%3E%60%29%5B0%5D%3B%0A%20%20%20%20%20%20%20%20%20%20%20%20popup_6c86208fd2e347a6b4c9b840ce5eaba9.setContent%28html_00c9112894b24bac9dc72010406defb4%29%3B%0A%20%20%20%20%20%20%20%20%0A%0A%20%20%20%20%20%20%20%20circle_marker_bef38f1deb994f22894d117196391b93.bindPopup%28popup_6c86208fd2e347a6b4c9b840ce5eaba9%29%0A%20%20%20%20%20%20%20%20%3B%0A%0A%20%20%20%20%20%20%20%20%0A%20%20%20%20%0A%20%20%20%20%0A%20%20%20%20%20%20%20%20%20%20%20%20var%20circle_marker_28a59aeb8c2140c0873729bd3f52ad83%20%3D%20L.circleMarker%28%0A%20%20%20%20%20%20%20%20%20%20%20%20%20%20%20%20%5B-4.58333%2C%2055.66667%5D%2C%0A%20%20%20%20%20%20%20%20%20%20%20%20%20%20%20%20%7B%22bubblingMouseEvents%22%3A%20true%2C%20%22color%22%3A%20%22%233388ff%22%2C%20%22dashArray%22%3A%20null%2C%20%22dashOffset%22%3A%20null%2C%20%22fill%22%3A%20true%2C%20%22fillColor%22%3A%20%22blue%22%2C%20%22fillOpacity%22%3A%200.2%2C%20%22fillRule%22%3A%20%22evenodd%22%2C%20%22lineCap%22%3A%20%22round%22%2C%20%22lineJoin%22%3A%20%22round%22%2C%20%22opacity%22%3A%201.0%2C%20%22radius%22%3A%200.08519075891779829%2C%20%22stroke%22%3A%20true%2C%20%22weight%22%3A%203%7D%0A%20%20%20%20%20%20%20%20%20%20%20%20%29.addTo%28map_8f87285f909e45c9934e020e26ba2b97%29%3B%0A%20%20%20%20%20%20%20%20%0A%20%20%20%20%0A%20%20%20%20%20%20%20%20var%20popup_e62bd8d04c61470192a6c26da12c1fa0%20%3D%20L.popup%28%7B%22maxWidth%22%3A%20%22100%25%22%7D%29%3B%0A%0A%20%20%20%20%20%20%20%20%0A%20%20%20%20%20%20%20%20%20%20%20%20var%20html_98fb188b661b4c93a57e555f9a1213f7%20%3D%20%24%28%60%3Cdiv%20id%3D%22html_98fb188b661b4c93a57e555f9a1213f7%22%20style%3D%22width%3A%20100.0%25%3B%20height%3A%20100.0%25%3B%22%3ESeychelles%3C/div%3E%60%29%5B0%5D%3B%0A%20%20%20%20%20%20%20%20%20%20%20%20popup_e62bd8d04c61470192a6c26da12c1fa0.setContent%28html_98fb188b661b4c93a57e555f9a1213f7%29%3B%0A%20%20%20%20%20%20%20%20%0A%0A%20%20%20%20%20%20%20%20circle_marker_28a59aeb8c2140c0873729bd3f52ad83.bindPopup%28popup_e62bd8d04c61470192a6c26da12c1fa0%29%0A%20%20%20%20%20%20%20%20%3B%0A%0A%20%20%20%20%20%20%20%20%0A%20%20%20%20%0A%20%20%20%20%0A%20%20%20%20%20%20%20%20%20%20%20%20var%20circle_marker_6063ed600c034d0e82b1cb0c18a14053%20%3D%20L.circleMarker%28%0A%20%20%20%20%20%20%20%20%20%20%20%20%20%20%20%20%5B35.0%2C%2038.0%5D%2C%0A%20%20%20%20%20%20%20%20%20%20%20%20%20%20%20%20%7B%22bubblingMouseEvents%22%3A%20true%2C%20%22color%22%3A%20%22%233388ff%22%2C%20%22dashArray%22%3A%20null%2C%20%22dashOffset%22%3A%20null%2C%20%22fill%22%3A%20true%2C%20%22fillColor%22%3A%20%22red%22%2C%20%22fillOpacity%22%3A%200.2%2C%20%22fillRule%22%3A%20%22evenodd%22%2C%20%22lineCap%22%3A%20%22round%22%2C%20%22lineJoin%22%3A%20%22round%22%2C%20%22opacity%22%3A%201.0%2C%20%22radius%22%3A%203.4099601627152856%2C%20%22stroke%22%3A%20true%2C%20%22weight%22%3A%203%7D%0A%20%20%20%20%20%20%20%20%20%20%20%20%29.addTo%28map_8f87285f909e45c9934e020e26ba2b97%29%3B%0A%20%20%20%20%20%20%20%20%0A%20%20%20%20%0A%20%20%20%20%20%20%20%20var%20popup_b8db9cea6f3c4166b032166c48d032f5%20%3D%20L.popup%28%7B%22maxWidth%22%3A%20%22100%25%22%7D%29%3B%0A%0A%20%20%20%20%20%20%20%20%0A%20%20%20%20%20%20%20%20%20%20%20%20var%20html_f77e00cc42f0456999b6d0a34595a77c%20%3D%20%24%28%60%3Cdiv%20id%3D%22html_f77e00cc42f0456999b6d0a34595a77c%22%20style%3D%22width%3A%20100.0%25%3B%20height%3A%20100.0%25%3B%22%3ESyria%3C/div%3E%60%29%5B0%5D%3B%0A%20%20%20%20%20%20%20%20%20%20%20%20popup_b8db9cea6f3c4166b032166c48d032f5.setContent%28html_f77e00cc42f0456999b6d0a34595a77c%29%3B%0A%20%20%20%20%20%20%20%20%0A%0A%20%20%20%20%20%20%20%20circle_marker_6063ed600c034d0e82b1cb0c18a14053.bindPopup%28popup_b8db9cea6f3c4166b032166c48d032f5%29%0A%20%20%20%20%20%20%20%20%3B%0A%0A%20%20%20%20%20%20%20%20%0A%20%20%20%20%0A%20%20%20%20%0A%20%20%20%20%20%20%20%20%20%20%20%20var%20circle_marker_15ca0360a89546a4a22e7cac17bde050%20%3D%20L.circleMarker%28%0A%20%20%20%20%20%20%20%20%20%20%20%20%20%20%20%20%5B15.0%2C%2019.0%5D%2C%0A%20%20%20%20%20%20%20%20%20%20%20%20%20%20%20%20%7B%22bubblingMouseEvents%22%3A%20true%2C%20%22color%22%3A%20%22%233388ff%22%2C%20%22dashArray%22%3A%20null%2C%20%22dashOffset%22%3A%20null%2C%20%22fill%22%3A%20true%2C%20%22fillColor%22%3A%20%22blue%22%2C%20%22fillOpacity%22%3A%200.2%2C%20%22fillRule%22%3A%20%22evenodd%22%2C%20%22lineCap%22%3A%20%22round%22%2C%20%22lineJoin%22%3A%20%22round%22%2C%20%22opacity%22%3A%201.0%2C%20%22radius%22%3A%2011.78726800446764%2C%20%22stroke%22%3A%20true%2C%20%22weight%22%3A%203%7D%0A%20%20%20%20%20%20%20%20%20%20%20%20%29.addTo%28map_8f87285f909e45c9934e020e26ba2b97%29%3B%0A%20%20%20%20%20%20%20%20%0A%20%20%20%20%0A%20%20%20%20%20%20%20%20var%20popup_97a30b9c2c2e4707bf30278c6f3e9a19%20%3D%20L.popup%28%7B%22maxWidth%22%3A%20%22100%25%22%7D%29%3B%0A%0A%20%20%20%20%20%20%20%20%0A%20%20%20%20%20%20%20%20%20%20%20%20var%20html_7758b91d493e4516b56ee2009315eccc%20%3D%20%24%28%60%3Cdiv%20id%3D%22html_7758b91d493e4516b56ee2009315eccc%22%20style%3D%22width%3A%20100.0%25%3B%20height%3A%20100.0%25%3B%22%3EChad%3C/div%3E%60%29%5B0%5D%3B%0A%20%20%20%20%20%20%20%20%20%20%20%20popup_97a30b9c2c2e4707bf30278c6f3e9a19.setContent%28html_7758b91d493e4516b56ee2009315eccc%29%3B%0A%20%20%20%20%20%20%20%20%0A%0A%20%20%20%20%20%20%20%20circle_marker_15ca0360a89546a4a22e7cac17bde050.bindPopup%28popup_97a30b9c2c2e4707bf30278c6f3e9a19%29%0A%20%20%20%20%20%20%20%20%3B%0A%0A%20%20%20%20%20%20%20%20%0A%20%20%20%20%0A%20%20%20%20%0A%20%20%20%20%20%20%20%20%20%20%20%20var%20circle_marker_367037dae862467188177ed16b70c661%20%3D%20L.circleMarker%28%0A%20%20%20%20%20%20%20%20%20%20%20%20%20%20%20%20%5B8.66667%2C%201.08333%5D%2C%0A%20%20%20%20%20%20%20%20%20%20%20%20%20%20%20%20%7B%22bubblingMouseEvents%22%3A%20true%2C%20%22color%22%3A%20%22%233388ff%22%2C%20%22dashArray%22%3A%20null%2C%20%22dashOffset%22%3A%20null%2C%20%22fill%22%3A%20true%2C%20%22fillColor%22%3A%20%22blue%22%2C%20%22fillOpacity%22%3A%200.2%2C%20%22fillRule%22%3A%20%22evenodd%22%2C%20%22lineCap%22%3A%20%22round%22%2C%20%22lineJoin%22%3A%20%22round%22%2C%20%22opacity%22%3A%201.0%2C%20%22radius%22%3A%2010.35531519401904%2C%20%22stroke%22%3A%20true%2C%20%22weight%22%3A%203%7D%0A%20%20%20%20%20%20%20%20%20%20%20%20%29.addTo%28map_8f87285f909e45c9934e020e26ba2b97%29%3B%0A%20%20%20%20%20%20%20%20%0A%20%20%20%20%0A%20%20%20%20%20%20%20%20var%20popup_4b2b389576ed45f2978a3ceb038deaf2%20%3D%20L.popup%28%7B%22maxWidth%22%3A%20%22100%25%22%7D%29%3B%0A%0A%20%20%20%20%20%20%20%20%0A%20%20%20%20%20%20%20%20%20%20%20%20var%20html_b350eec5bc054ed6b6577aa854998ae0%20%3D%20%24%28%60%3Cdiv%20id%3D%22html_b350eec5bc054ed6b6577aa854998ae0%22%20style%3D%22width%3A%20100.0%25%3B%20height%3A%20100.0%25%3B%22%3ETogo%3C/div%3E%60%29%5B0%5D%3B%0A%20%20%20%20%20%20%20%20%20%20%20%20popup_4b2b389576ed45f2978a3ceb038deaf2.setContent%28html_b350eec5bc054ed6b6577aa854998ae0%29%3B%0A%20%20%20%20%20%20%20%20%0A%0A%20%20%20%20%20%20%20%20circle_marker_367037dae862467188177ed16b70c661.bindPopup%28popup_4b2b389576ed45f2978a3ceb038deaf2%29%0A%20%20%20%20%20%20%20%20%3B%0A%0A%20%20%20%20%20%20%20%20%0A%20%20%20%20%0A%20%20%20%20%0A%20%20%20%20%20%20%20%20%20%20%20%20var%20circle_marker_69ad49b52d674f65b0c00e3b278d1679%20%3D%20L.circleMarker%28%0A%20%20%20%20%20%20%20%20%20%20%20%20%20%20%20%20%5B15.5%2C%20101.0%5D%2C%0A%20%20%20%20%20%20%20%20%20%20%20%20%20%20%20%20%7B%22bubblingMouseEvents%22%3A%20true%2C%20%22color%22%3A%20%22%233388ff%22%2C%20%22dashArray%22%3A%20null%2C%20%22dashOffset%22%3A%20null%2C%20%22fill%22%3A%20true%2C%20%22fillColor%22%3A%20%22red%22%2C%20%22fillOpacity%22%3A%200.2%2C%20%22fillRule%22%3A%20%22evenodd%22%2C%20%22lineCap%22%3A%20%22round%22%2C%20%22lineJoin%22%3A%20%22round%22%2C%20%22opacity%22%3A%201.0%2C%20%22radius%22%3A%202.574986229895502%2C%20%22stroke%22%3A%20true%2C%20%22weight%22%3A%203%7D%0A%20%20%20%20%20%20%20%20%20%20%20%20%29.addTo%28map_8f87285f909e45c9934e020e26ba2b97%29%3B%0A%20%20%20%20%20%20%20%20%0A%20%20%20%20%0A%20%20%20%20%20%20%20%20var%20popup_023c3affe0fc4d5584db4eaff2ac5f43%20%3D%20L.popup%28%7B%22maxWidth%22%3A%20%22100%25%22%7D%29%3B%0A%0A%20%20%20%20%20%20%20%20%0A%20%20%20%20%20%20%20%20%20%20%20%20var%20html_88678b9986da453cba0417a9d41442b6%20%3D%20%24%28%60%3Cdiv%20id%3D%22html_88678b9986da453cba0417a9d41442b6%22%20style%3D%22width%3A%20100.0%25%3B%20height%3A%20100.0%25%3B%22%3EThailand%3C/div%3E%60%29%5B0%5D%3B%0A%20%20%20%20%20%20%20%20%20%20%20%20popup_023c3affe0fc4d5584db4eaff2ac5f43.setContent%28html_88678b9986da453cba0417a9d41442b6%29%3B%0A%20%20%20%20%20%20%20%20%0A%0A%20%20%20%20%20%20%20%20circle_marker_69ad49b52d674f65b0c00e3b278d1679.bindPopup%28popup_023c3affe0fc4d5584db4eaff2ac5f43%29%0A%20%20%20%20%20%20%20%20%3B%0A%0A%20%20%20%20%20%20%20%20%0A%20%20%20%20%0A%20%20%20%20%0A%20%20%20%20%20%20%20%20%20%20%20%20var%20circle_marker_792bef47826d4048b332c9066106e180%20%3D%20L.circleMarker%28%0A%20%20%20%20%20%20%20%20%20%20%20%20%20%20%20%20%5B39.0%2C%2071.0%5D%2C%0A%20%20%20%20%20%20%20%20%20%20%20%20%20%20%20%20%7B%22bubblingMouseEvents%22%3A%20true%2C%20%22color%22%3A%20%22%233388ff%22%2C%20%22dashArray%22%3A%20null%2C%20%22dashOffset%22%3A%20null%2C%20%22fill%22%3A%20true%2C%20%22fillColor%22%3A%20%22red%22%2C%20%22fillOpacity%22%3A%200.2%2C%20%22fillRule%22%3A%20%22evenodd%22%2C%20%22lineCap%22%3A%20%22round%22%2C%20%22lineJoin%22%3A%20%22round%22%2C%20%22opacity%22%3A%201.0%2C%20%22radius%22%3A%203.937311718658916%2C%20%22stroke%22%3A%20true%2C%20%22weight%22%3A%203%7D%0A%20%20%20%20%20%20%20%20%20%20%20%20%29.addTo%28map_8f87285f909e45c9934e020e26ba2b97%29%3B%0A%20%20%20%20%20%20%20%20%0A%20%20%20%20%0A%20%20%20%20%20%20%20%20var%20popup_8ed7d8908245486eb46e669c29c80432%20%3D%20L.popup%28%7B%22maxWidth%22%3A%20%22100%25%22%7D%29%3B%0A%0A%20%20%20%20%20%20%20%20%0A%20%20%20%20%20%20%20%20%20%20%20%20var%20html_072126307c20402889ac69af4aa743ed%20%3D%20%24%28%60%3Cdiv%20id%3D%22html_072126307c20402889ac69af4aa743ed%22%20style%3D%22width%3A%20100.0%25%3B%20height%3A%20100.0%25%3B%22%3ETajikistan%3C/div%3E%60%29%5B0%5D%3B%0A%20%20%20%20%20%20%20%20%20%20%20%20popup_8ed7d8908245486eb46e669c29c80432.setContent%28html_072126307c20402889ac69af4aa743ed%29%3B%0A%20%20%20%20%20%20%20%20%0A%0A%20%20%20%20%20%20%20%20circle_marker_792bef47826d4048b332c9066106e180.bindPopup%28popup_8ed7d8908245486eb46e669c29c80432%29%0A%20%20%20%20%20%20%20%20%3B%0A%0A%20%20%20%20%20%20%20%20%0A%20%20%20%20%0A%20%20%20%20%0A%20%20%20%20%20%20%20%20%20%20%20%20var%20circle_marker_b278bee8a2724ed68458c4a9c4a13007%20%3D%20L.circleMarker%28%0A%20%20%20%20%20%20%20%20%20%20%20%20%20%20%20%20%5B39.75%2C%2059.66667%5D%2C%0A%20%20%20%20%20%20%20%20%20%20%20%20%20%20%20%20%7B%22bubblingMouseEvents%22%3A%20true%2C%20%22color%22%3A%20%22%233388ff%22%2C%20%22dashArray%22%3A%20null%2C%20%22dashOffset%22%3A%20null%2C%20%22fill%22%3A%20true%2C%20%22fillColor%22%3A%20%22red%22%2C%20%22fillOpacity%22%3A%200.2%2C%20%22fillRule%22%3A%20%22evenodd%22%2C%20%22lineCap%22%3A%20%22round%22%2C%20%22lineJoin%22%3A%20%22round%22%2C%20%22opacity%22%3A%201.0%2C%20%22radius%22%3A%206.339658544041773%2C%20%22stroke%22%3A%20true%2C%20%22weight%22%3A%203%7D%0A%20%20%20%20%20%20%20%20%20%20%20%20%29.addTo%28map_8f87285f909e45c9934e020e26ba2b97%29%3B%0A%20%20%20%20%20%20%20%20%0A%20%20%20%20%0A%20%20%20%20%20%20%20%20var%20popup_4183c171208242a98fda6fef7d5467be%20%3D%20L.popup%28%7B%22maxWidth%22%3A%20%22100%25%22%7D%29%3B%0A%0A%20%20%20%20%20%20%20%20%0A%20%20%20%20%20%20%20%20%20%20%20%20var%20html_6ece3cf3a6a044778c007af48b6e9bc6%20%3D%20%24%28%60%3Cdiv%20id%3D%22html_6ece3cf3a6a044778c007af48b6e9bc6%22%20style%3D%22width%3A%20100.0%25%3B%20height%3A%20100.0%25%3B%22%3ETurkmenistan%3C/div%3E%60%29%5B0%5D%3B%0A%20%20%20%20%20%20%20%20%20%20%20%20popup_4183c171208242a98fda6fef7d5467be.setContent%28html_6ece3cf3a6a044778c007af48b6e9bc6%29%3B%0A%20%20%20%20%20%20%20%20%0A%0A%20%20%20%20%20%20%20%20circle_marker_b278bee8a2724ed68458c4a9c4a13007.bindPopup%28popup_4183c171208242a98fda6fef7d5467be%29%0A%20%20%20%20%20%20%20%20%3B%0A%0A%20%20%20%20%20%20%20%20%0A%20%20%20%20%0A%20%20%20%20%0A%20%20%20%20%20%20%20%20%20%20%20%20var%20circle_marker_f7872e4e23bd40229fb0905659e12146%20%3D%20L.circleMarker%28%0A%20%20%20%20%20%20%20%20%20%20%20%20%20%20%20%20%5B-8.83333%2C%20125.75%5D%2C%0A%20%20%20%20%20%20%20%20%20%20%20%20%20%20%20%20%7B%22bubblingMouseEvents%22%3A%20true%2C%20%22color%22%3A%20%22%233388ff%22%2C%20%22dashArray%22%3A%20null%2C%20%22dashOffset%22%3A%20null%2C%20%22fill%22%3A%20true%2C%20%22fillColor%22%3A%20%22red%22%2C%20%22fillOpacity%22%3A%200.2%2C%20%22fillRule%22%3A%20%22evenodd%22%2C%20%22lineCap%22%3A%20%22round%22%2C%20%22lineJoin%22%3A%20%22round%22%2C%20%22opacity%22%3A%201.0%2C%20%22radius%22%3A%203.4838832413106937%2C%20%22stroke%22%3A%20true%2C%20%22weight%22%3A%203%7D%0A%20%20%20%20%20%20%20%20%20%20%20%20%29.addTo%28map_8f87285f909e45c9934e020e26ba2b97%29%3B%0A%20%20%20%20%20%20%20%20%0A%20%20%20%20%0A%20%20%20%20%20%20%20%20var%20popup_a78b3b44460d433388f2dfb3053cd6fd%20%3D%20L.popup%28%7B%22maxWidth%22%3A%20%22100%25%22%7D%29%3B%0A%0A%20%20%20%20%20%20%20%20%0A%20%20%20%20%20%20%20%20%20%20%20%20var%20html_c6dc60a92adb4b168821a91c16313767%20%3D%20%24%28%60%3Cdiv%20id%3D%22html_c6dc60a92adb4b168821a91c16313767%22%20style%3D%22width%3A%20100.0%25%3B%20height%3A%20100.0%25%3B%22%3ETimor-Leste%3C/div%3E%60%29%5B0%5D%3B%0A%20%20%20%20%20%20%20%20%20%20%20%20popup_a78b3b44460d433388f2dfb3053cd6fd.setContent%28html_c6dc60a92adb4b168821a91c16313767%29%3B%0A%20%20%20%20%20%20%20%20%0A%0A%20%20%20%20%20%20%20%20circle_marker_f7872e4e23bd40229fb0905659e12146.bindPopup%28popup_a78b3b44460d433388f2dfb3053cd6fd%29%0A%20%20%20%20%20%20%20%20%3B%0A%0A%20%20%20%20%20%20%20%20%0A%20%20%20%20%0A%20%20%20%20%0A%20%20%20%20%20%20%20%20%20%20%20%20var%20circle_marker_172d7f9cbd18471aadaceef7a1c59305%20%3D%20L.circleMarker%28%0A%20%20%20%20%20%20%20%20%20%20%20%20%20%20%20%20%5B11.0%2C%20-61.0%5D%2C%0A%20%20%20%20%20%20%20%20%20%20%20%20%20%20%20%20%7B%22bubblingMouseEvents%22%3A%20true%2C%20%22color%22%3A%20%22%233388ff%22%2C%20%22dashArray%22%3A%20null%2C%20%22dashOffset%22%3A%20null%2C%20%22fill%22%3A%20true%2C%20%22fillColor%22%3A%20%22green%22%2C%20%22fillOpacity%22%3A%200.2%2C%20%22fillRule%22%3A%20%22evenodd%22%2C%20%22lineCap%22%3A%20%22round%22%2C%20%22lineJoin%22%3A%20%22round%22%2C%20%22opacity%22%3A%201.0%2C%20%22radius%22%3A%201.3261575894870345%2C%20%22stroke%22%3A%20true%2C%20%22weight%22%3A%203%7D%0A%20%20%20%20%20%20%20%20%20%20%20%20%29.addTo%28map_8f87285f909e45c9934e020e26ba2b97%29%3B%0A%20%20%20%20%20%20%20%20%0A%20%20%20%20%0A%20%20%20%20%20%20%20%20var%20popup_b5481e14a588466495f1db31b60ffd6e%20%3D%20L.popup%28%7B%22maxWidth%22%3A%20%22100%25%22%7D%29%3B%0A%0A%20%20%20%20%20%20%20%20%0A%20%20%20%20%20%20%20%20%20%20%20%20var%20html_e8a015664d1243bd9ee8a877c252bfaf%20%3D%20%24%28%60%3Cdiv%20id%3D%22html_e8a015664d1243bd9ee8a877c252bfaf%22%20style%3D%22width%3A%20100.0%25%3B%20height%3A%20100.0%25%3B%22%3ETrinidad%20and%20Tobago%3C/div%3E%60%29%5B0%5D%3B%0A%20%20%20%20%20%20%20%20%20%20%20%20popup_b5481e14a588466495f1db31b60ffd6e.setContent%28html_e8a015664d1243bd9ee8a877c252bfaf%29%3B%0A%20%20%20%20%20%20%20%20%0A%0A%20%20%20%20%20%20%20%20circle_marker_172d7f9cbd18471aadaceef7a1c59305.bindPopup%28popup_b5481e14a588466495f1db31b60ffd6e%29%0A%20%20%20%20%20%20%20%20%3B%0A%0A%20%20%20%20%20%20%20%20%0A%20%20%20%20%0A%20%20%20%20%0A%20%20%20%20%20%20%20%20%20%20%20%20var%20circle_marker_667551f52b2c4dceba6bb34bd61f00f7%20%3D%20L.circleMarker%28%0A%20%20%20%20%20%20%20%20%20%20%20%20%20%20%20%20%5B34.0%2C%209.0%5D%2C%0A%20%20%20%20%20%20%20%20%20%20%20%20%20%20%20%20%7B%22bubblingMouseEvents%22%3A%20true%2C%20%22color%22%3A%20%22%233388ff%22%2C%20%22dashArray%22%3A%20null%2C%20%22dashOffset%22%3A%20null%2C%20%22fill%22%3A%20true%2C%20%22fillColor%22%3A%20%22blue%22%2C%20%22fillOpacity%22%3A%200.2%2C%20%22fillRule%22%3A%20%22evenodd%22%2C%20%22lineCap%22%3A%20%22round%22%2C%20%22lineJoin%22%3A%20%22round%22%2C%20%22opacity%22%3A%201.0%2C%20%22radius%22%3A%201.5827604478426454%2C%20%22stroke%22%3A%20true%2C%20%22weight%22%3A%203%7D%0A%20%20%20%20%20%20%20%20%20%20%20%20%29.addTo%28map_8f87285f909e45c9934e020e26ba2b97%29%3B%0A%20%20%20%20%20%20%20%20%0A%20%20%20%20%0A%20%20%20%20%20%20%20%20var%20popup_17c65e8800354e79872d1a119774c858%20%3D%20L.popup%28%7B%22maxWidth%22%3A%20%22100%25%22%7D%29%3B%0A%0A%20%20%20%20%20%20%20%20%0A%20%20%20%20%20%20%20%20%20%20%20%20var%20html_fcc7cdc36bd842bbb3c70e160c9463a7%20%3D%20%24%28%60%3Cdiv%20id%3D%22html_fcc7cdc36bd842bbb3c70e160c9463a7%22%20style%3D%22width%3A%20100.0%25%3B%20height%3A%20100.0%25%3B%22%3ETunisia%3C/div%3E%60%29%5B0%5D%3B%0A%20%20%20%20%20%20%20%20%20%20%20%20popup_17c65e8800354e79872d1a119774c858.setContent%28html_fcc7cdc36bd842bbb3c70e160c9463a7%29%3B%0A%20%20%20%20%20%20%20%20%0A%0A%20%20%20%20%20%20%20%20circle_marker_667551f52b2c4dceba6bb34bd61f00f7.bindPopup%28popup_17c65e8800354e79872d1a119774c858%29%0A%20%20%20%20%20%20%20%20%3B%0A%0A%20%20%20%20%20%20%20%20%0A%20%20%20%20%0A%20%20%20%20%0A%20%20%20%20%20%20%20%20%20%20%20%20var%20circle_marker_a166b7670ee64f6d929e44c6408c4a6c%20%3D%20L.circleMarker%28%0A%20%20%20%20%20%20%20%20%20%20%20%20%20%20%20%20%5B39.0%2C%2035.0%5D%2C%0A%20%20%20%20%20%20%20%20%20%20%20%20%20%20%20%20%7B%22bubblingMouseEvents%22%3A%20true%2C%20%22color%22%3A%20%22%233388ff%22%2C%20%22dashArray%22%3A%20null%2C%20%22dashOffset%22%3A%20null%2C%20%22fill%22%3A%20true%2C%20%22fillColor%22%3A%20%22black%22%2C%20%22fillOpacity%22%3A%200.2%2C%20%22fillRule%22%3A%20%22evenodd%22%2C%20%22lineCap%22%3A%20%22round%22%2C%20%22lineJoin%22%3A%20%22round%22%2C%20%22opacity%22%3A%201.0%2C%20%22radius%22%3A%201.3571310413650737%2C%20%22stroke%22%3A%20true%2C%20%22weight%22%3A%203%7D%0A%20%20%20%20%20%20%20%20%20%20%20%20%29.addTo%28map_8f87285f909e45c9934e020e26ba2b97%29%3B%0A%20%20%20%20%20%20%20%20%0A%20%20%20%20%0A%20%20%20%20%20%20%20%20var%20popup_04a73459027141d39d202b3c637f1e5c%20%3D%20L.popup%28%7B%22maxWidth%22%3A%20%22100%25%22%7D%29%3B%0A%0A%20%20%20%20%20%20%20%20%0A%20%20%20%20%20%20%20%20%20%20%20%20var%20html_ad3a9a02ccaa442a8a8ed287c17a77ac%20%3D%20%24%28%60%3Cdiv%20id%3D%22html_ad3a9a02ccaa442a8a8ed287c17a77ac%22%20style%3D%22width%3A%20100.0%25%3B%20height%3A%20100.0%25%3B%22%3ETurkey%3C/div%3E%60%29%5B0%5D%3B%0A%20%20%20%20%20%20%20%20%20%20%20%20popup_04a73459027141d39d202b3c637f1e5c.setContent%28html_ad3a9a02ccaa442a8a8ed287c17a77ac%29%3B%0A%20%20%20%20%20%20%20%20%0A%0A%20%20%20%20%20%20%20%20circle_marker_a166b7670ee64f6d929e44c6408c4a6c.bindPopup%28popup_04a73459027141d39d202b3c637f1e5c%29%0A%20%20%20%20%20%20%20%20%3B%0A%0A%20%20%20%20%20%20%20%20%0A%20%20%20%20%0A%20%20%20%20%0A%20%20%20%20%20%20%20%20%20%20%20%20var%20circle_marker_22b762a6b7b244788600841a33ade7a4%20%3D%20L.circleMarker%28%0A%20%20%20%20%20%20%20%20%20%20%20%20%20%20%20%20%5B-6.0%2C%2035.0%5D%2C%0A%20%20%20%20%20%20%20%20%20%20%20%20%20%20%20%20%7B%22bubblingMouseEvents%22%3A%20true%2C%20%22color%22%3A%20%22%233388ff%22%2C%20%22dashArray%22%3A%20null%2C%20%22dashOffset%22%3A%20null%2C%20%22fill%22%3A%20true%2C%20%22fillColor%22%3A%20%22blue%22%2C%20%22fillOpacity%22%3A%200.2%2C%20%22fillRule%22%3A%20%22evenodd%22%2C%20%22lineCap%22%3A%20%22round%22%2C%20%22lineJoin%22%3A%20%22round%22%2C%20%22opacity%22%3A%201.0%2C%20%22radius%22%3A%2024.774201262059734%2C%20%22stroke%22%3A%20true%2C%20%22weight%22%3A%203%7D%0A%20%20%20%20%20%20%20%20%20%20%20%20%29.addTo%28map_8f87285f909e45c9934e020e26ba2b97%29%3B%0A%20%20%20%20%20%20%20%20%0A%20%20%20%20%0A%20%20%20%20%20%20%20%20var%20popup_a96a1339d5ef4e679b64e6c70964e446%20%3D%20L.popup%28%7B%22maxWidth%22%3A%20%22100%25%22%7D%29%3B%0A%0A%20%20%20%20%20%20%20%20%0A%20%20%20%20%20%20%20%20%20%20%20%20var%20html_b8b5f4f6f1d34c649ba43cb758aa088a%20%3D%20%24%28%60%3Cdiv%20id%3D%22html_b8b5f4f6f1d34c649ba43cb758aa088a%22%20style%3D%22width%3A%20100.0%25%3B%20height%3A%20100.0%25%3B%22%3ETanzania%3C/div%3E%60%29%5B0%5D%3B%0A%20%20%20%20%20%20%20%20%20%20%20%20popup_a96a1339d5ef4e679b64e6c70964e446.setContent%28html_b8b5f4f6f1d34c649ba43cb758aa088a%29%3B%0A%20%20%20%20%20%20%20%20%0A%0A%20%20%20%20%20%20%20%20circle_marker_22b762a6b7b244788600841a33ade7a4.bindPopup%28popup_a96a1339d5ef4e679b64e6c70964e446%29%0A%20%20%20%20%20%20%20%20%3B%0A%0A%20%20%20%20%20%20%20%20%0A%20%20%20%20%0A%20%20%20%20%0A%20%20%20%20%20%20%20%20%20%20%20%20var%20circle_marker_c1ecca8d4a164e06bb880468533d4307%20%3D%20L.circleMarker%28%0A%20%20%20%20%20%20%20%20%20%20%20%20%20%20%20%20%5B1.25%2C%2032.5%5D%2C%0A%20%20%20%20%20%20%20%20%20%20%20%20%20%20%20%20%7B%22bubblingMouseEvents%22%3A%20true%2C%20%22color%22%3A%20%22%233388ff%22%2C%20%22dashArray%22%3A%20null%2C%20%22dashOffset%22%3A%20null%2C%20%22fill%22%3A%20true%2C%20%22fillColor%22%3A%20%22blue%22%2C%20%22fillOpacity%22%3A%200.2%2C%20%22fillRule%22%3A%20%22evenodd%22%2C%20%22lineCap%22%3A%20%22round%22%2C%20%22lineJoin%22%3A%20%22round%22%2C%20%22opacity%22%3A%201.0%2C%20%22radius%22%3A%2019.74773153351201%2C%20%22stroke%22%3A%20true%2C%20%22weight%22%3A%203%7D%0A%20%20%20%20%20%20%20%20%20%20%20%20%29.addTo%28map_8f87285f909e45c9934e020e26ba2b97%29%3B%0A%20%20%20%20%20%20%20%20%0A%20%20%20%20%0A%20%20%20%20%20%20%20%20var%20popup_77c3a38389c143569faca85363d5ee4d%20%3D%20L.popup%28%7B%22maxWidth%22%3A%20%22100%25%22%7D%29%3B%0A%0A%20%20%20%20%20%20%20%20%0A%20%20%20%20%20%20%20%20%20%20%20%20var%20html_9bd35d7a5a5b46459a82b49c4668e998%20%3D%20%24%28%60%3Cdiv%20id%3D%22html_9bd35d7a5a5b46459a82b49c4668e998%22%20style%3D%22width%3A%20100.0%25%3B%20height%3A%20100.0%25%3B%22%3EUganda%3C/div%3E%60%29%5B0%5D%3B%0A%20%20%20%20%20%20%20%20%20%20%20%20popup_77c3a38389c143569faca85363d5ee4d.setContent%28html_9bd35d7a5a5b46459a82b49c4668e998%29%3B%0A%20%20%20%20%20%20%20%20%0A%0A%20%20%20%20%20%20%20%20circle_marker_c1ecca8d4a164e06bb880468533d4307.bindPopup%28popup_77c3a38389c143569faca85363d5ee4d%29%0A%20%20%20%20%20%20%20%20%3B%0A%0A%20%20%20%20%20%20%20%20%0A%20%20%20%20%0A%20%20%20%20%0A%20%20%20%20%20%20%20%20%20%20%20%20var%20circle_marker_86bad3ed3e75476c969b934abc9cc846%20%3D%20L.circleMarker%28%0A%20%20%20%20%20%20%20%20%20%20%20%20%20%20%20%20%5B49.0%2C%2032.0%5D%2C%0A%20%20%20%20%20%20%20%20%20%20%20%20%20%20%20%20%7B%22bubblingMouseEvents%22%3A%20true%2C%20%22color%22%3A%20%22%233388ff%22%2C%20%22dashArray%22%3A%20null%2C%20%22dashOffset%22%3A%20null%2C%20%22fill%22%3A%20true%2C%20%22fillColor%22%3A%20%22black%22%2C%20%22fillOpacity%22%3A%200.2%2C%20%22fillRule%22%3A%20%22evenodd%22%2C%20%22lineCap%22%3A%20%22round%22%2C%20%22lineJoin%22%3A%20%22round%22%2C%20%22opacity%22%3A%201.0%2C%20%22stroke%22%3A%20true%2C%20%22weight%22%3A%203%7D%0A%20%20%20%20%20%20%20%20%20%20%20%20%29.addTo%28map_8f87285f909e45c9934e020e26ba2b97%29%3B%0A%20%20%20%20%20%20%20%20%0A%20%20%20%20%0A%20%20%20%20%20%20%20%20var%20popup_9ea6055b26f8490c8b3236a9730a54e2%20%3D%20L.popup%28%7B%22maxWidth%22%3A%20%22100%25%22%7D%29%3B%0A%0A%20%20%20%20%20%20%20%20%0A%20%20%20%20%20%20%20%20%20%20%20%20var%20html_6d13f660df4c4bdbb97ceac8b8c53b9a%20%3D%20%24%28%60%3Cdiv%20id%3D%22html_6d13f660df4c4bdbb97ceac8b8c53b9a%22%20style%3D%22width%3A%20100.0%25%3B%20height%3A%20100.0%25%3B%22%3EUkraine%3C/div%3E%60%29%5B0%5D%3B%0A%20%20%20%20%20%20%20%20%20%20%20%20popup_9ea6055b26f8490c8b3236a9730a54e2.setContent%28html_6d13f660df4c4bdbb97ceac8b8c53b9a%29%3B%0A%20%20%20%20%20%20%20%20%0A%0A%20%20%20%20%20%20%20%20circle_marker_86bad3ed3e75476c969b934abc9cc846.bindPopup%28popup_9ea6055b26f8490c8b3236a9730a54e2%29%0A%20%20%20%20%20%20%20%20%3B%0A%0A%20%20%20%20%20%20%20%20%0A%20%20%20%20%0A%20%20%20%20%0A%20%20%20%20%20%20%20%20%20%20%20%20var%20circle_marker_a88a5b7ae833453f9e2624f5e437f5eb%20%3D%20L.circleMarker%28%0A%20%20%20%20%20%20%20%20%20%20%20%20%20%20%20%20%5B-33.0%2C%20-56.0%5D%2C%0A%20%20%20%20%20%20%20%20%20%20%20%20%20%20%20%20%7B%22bubblingMouseEvents%22%3A%20true%2C%20%22color%22%3A%20%22%233388ff%22%2C%20%22dashArray%22%3A%20null%2C%20%22dashOffset%22%3A%20null%2C%20%22fill%22%3A%20true%2C%20%22fillColor%22%3A%20%22green%22%2C%20%22fillOpacity%22%3A%200.2%2C%20%22fillRule%22%3A%20%22evenodd%22%2C%20%22lineCap%22%3A%20%22round%22%2C%20%22lineJoin%22%3A%20%22round%22%2C%20%22opacity%22%3A%201.0%2C%20%22radius%22%3A%200.5757498723159213%2C%20%22stroke%22%3A%20true%2C%20%22weight%22%3A%203%7D%0A%20%20%20%20%20%20%20%20%20%20%20%20%29.addTo%28map_8f87285f909e45c9934e020e26ba2b97%29%3B%0A%20%20%20%20%20%20%20%20%0A%20%20%20%20%0A%20%20%20%20%20%20%20%20var%20popup_ad2c21fcfd72464bad70b80f0f4effb8%20%3D%20L.popup%28%7B%22maxWidth%22%3A%20%22100%25%22%7D%29%3B%0A%0A%20%20%20%20%20%20%20%20%0A%20%20%20%20%20%20%20%20%20%20%20%20var%20html_d87ac74569214c2088c78d2ff533c60a%20%3D%20%24%28%60%3Cdiv%20id%3D%22html_d87ac74569214c2088c78d2ff533c60a%22%20style%3D%22width%3A%20100.0%25%3B%20height%3A%20100.0%25%3B%22%3EUruguay%3C/div%3E%60%29%5B0%5D%3B%0A%20%20%20%20%20%20%20%20%20%20%20%20popup_ad2c21fcfd72464bad70b80f0f4effb8.setContent%28html_d87ac74569214c2088c78d2ff533c60a%29%3B%0A%20%20%20%20%20%20%20%20%0A%0A%20%20%20%20%20%20%20%20circle_marker_a88a5b7ae833453f9e2624f5e437f5eb.bindPopup%28popup_ad2c21fcfd72464bad70b80f0f4effb8%29%0A%20%20%20%20%20%20%20%20%3B%0A%0A%20%20%20%20%20%20%20%20%0A%20%20%20%20%0A%20%20%20%20%0A%20%20%20%20%20%20%20%20%20%20%20%20var%20circle_marker_de09273853514c2cabb1d085184e73b4%20%3D%20L.circleMarker%28%0A%20%20%20%20%20%20%20%20%20%20%20%20%20%20%20%20%5B39.76%2C%20-98.5%5D%2C%0A%20%20%20%20%20%20%20%20%20%20%20%20%20%20%20%20%7B%22bubblingMouseEvents%22%3A%20true%2C%20%22color%22%3A%20%22%233388ff%22%2C%20%22dashArray%22%3A%20null%2C%20%22dashOffset%22%3A%20null%2C%20%22fill%22%3A%20true%2C%20%22fillColor%22%3A%20%22green%22%2C%20%22fillOpacity%22%3A%200.2%2C%20%22fillRule%22%3A%20%22evenodd%22%2C%20%22lineCap%22%3A%20%22round%22%2C%20%22lineJoin%22%3A%20%22round%22%2C%20%22opacity%22%3A%201.0%2C%20%22radius%22%3A%2012.816534715641207%2C%20%22stroke%22%3A%20true%2C%20%22weight%22%3A%203%7D%0A%20%20%20%20%20%20%20%20%20%20%20%20%29.addTo%28map_8f87285f909e45c9934e020e26ba2b97%29%3B%0A%20%20%20%20%20%20%20%20%0A%20%20%20%20%0A%20%20%20%20%20%20%20%20var%20popup_96d4e8324134470f8773bb2e73395435%20%3D%20L.popup%28%7B%22maxWidth%22%3A%20%22100%25%22%7D%29%3B%0A%0A%20%20%20%20%20%20%20%20%0A%20%20%20%20%20%20%20%20%20%20%20%20var%20html_23b40e07e90243f393edc1a4f85cfa1c%20%3D%20%24%28%60%3Cdiv%20id%3D%22html_23b40e07e90243f393edc1a4f85cfa1c%22%20style%3D%22width%3A%20100.0%25%3B%20height%3A%20100.0%25%3B%22%3EUnited%20States%3C/div%3E%60%29%5B0%5D%3B%0A%20%20%20%20%20%20%20%20%20%20%20%20popup_96d4e8324134470f8773bb2e73395435.setContent%28html_23b40e07e90243f393edc1a4f85cfa1c%29%3B%0A%20%20%20%20%20%20%20%20%0A%0A%20%20%20%20%20%20%20%20circle_marker_de09273853514c2cabb1d085184e73b4.bindPopup%28popup_96d4e8324134470f8773bb2e73395435%29%0A%20%20%20%20%20%20%20%20%3B%0A%0A%20%20%20%20%20%20%20%20%0A%20%20%20%20%0A%20%20%20%20%0A%20%20%20%20%20%20%20%20%20%20%20%20var%20circle_marker_99fa79dd292c4e11a954682fe259f0fe%20%3D%20L.circleMarker%28%0A%20%20%20%20%20%20%20%20%20%20%20%20%20%20%20%20%5B8.0%2C%20-66.0%5D%2C%0A%20%20%20%20%20%20%20%20%20%20%20%20%20%20%20%20%7B%22bubblingMouseEvents%22%3A%20true%2C%20%22color%22%3A%20%22%233388ff%22%2C%20%22dashArray%22%3A%20null%2C%20%22dashOffset%22%3A%20null%2C%20%22fill%22%3A%20true%2C%20%22fillColor%22%3A%20%22green%22%2C%20%22fillOpacity%22%3A%200.2%2C%20%22fillRule%22%3A%20%22evenodd%22%2C%20%22lineCap%22%3A%20%22round%22%2C%20%22lineJoin%22%3A%20%22round%22%2C%20%22opacity%22%3A%201.0%2C%20%22radius%22%3A%207.747224893287904%2C%20%22stroke%22%3A%20true%2C%20%22weight%22%3A%203%7D%0A%20%20%20%20%20%20%20%20%20%20%20%20%29.addTo%28map_8f87285f909e45c9934e020e26ba2b97%29%3B%0A%20%20%20%20%20%20%20%20%0A%20%20%20%20%0A%20%20%20%20%20%20%20%20var%20popup_7ea445c80b974bbf940d30de880083f4%20%3D%20L.popup%28%7B%22maxWidth%22%3A%20%22100%25%22%7D%29%3B%0A%0A%20%20%20%20%20%20%20%20%0A%20%20%20%20%20%20%20%20%20%20%20%20var%20html_053720781e994c07a2be05b0d7a2a28d%20%3D%20%24%28%60%3Cdiv%20id%3D%22html_053720781e994c07a2be05b0d7a2a28d%22%20style%3D%22width%3A%20100.0%25%3B%20height%3A%20100.0%25%3B%22%3EVenezuela%3C/div%3E%60%29%5B0%5D%3B%0A%20%20%20%20%20%20%20%20%20%20%20%20popup_7ea445c80b974bbf940d30de880083f4.setContent%28html_053720781e994c07a2be05b0d7a2a28d%29%3B%0A%20%20%20%20%20%20%20%20%0A%0A%20%20%20%20%20%20%20%20circle_marker_99fa79dd292c4e11a954682fe259f0fe.bindPopup%28popup_7ea445c80b974bbf940d30de880083f4%29%0A%20%20%20%20%20%20%20%20%3B%0A%0A%20%20%20%20%20%20%20%20%0A%20%20%20%20%0A%20%20%20%20%0A%20%20%20%20%20%20%20%20%20%20%20%20var%20circle_marker_a27655c5e6d64642b9217c3ae1b3e9f8%20%3D%20L.circleMarker%28%0A%20%20%20%20%20%20%20%20%20%20%20%20%20%20%20%20%5B16.16667%2C%20107.83333%5D%2C%0A%20%20%20%20%20%20%20%20%20%20%20%20%20%20%20%20%7B%22bubblingMouseEvents%22%3A%20true%2C%20%22color%22%3A%20%22%233388ff%22%2C%20%22dashArray%22%3A%20null%2C%20%22dashOffset%22%3A%20null%2C%20%22fill%22%3A%20true%2C%20%22fillColor%22%3A%20%22red%22%2C%20%22fillOpacity%22%3A%200.2%2C%20%22fillRule%22%3A%20%22evenodd%22%2C%20%22lineCap%22%3A%20%22round%22%2C%20%22lineJoin%22%3A%20%22round%22%2C%20%22opacity%22%3A%201.0%2C%20%22radius%22%3A%208.265735545694868%2C%20%22stroke%22%3A%20true%2C%20%22weight%22%3A%203%7D%0A%20%20%20%20%20%20%20%20%20%20%20%20%29.addTo%28map_8f87285f909e45c9934e020e26ba2b97%29%3B%0A%20%20%20%20%20%20%20%20%0A%20%20%20%20%0A%20%20%20%20%20%20%20%20var%20popup_693a9ff83ea846218a8147e823a30083%20%3D%20L.popup%28%7B%22maxWidth%22%3A%20%22100%25%22%7D%29%3B%0A%0A%20%20%20%20%20%20%20%20%0A%20%20%20%20%20%20%20%20%20%20%20%20var%20html_dbda8ca3224441edbf9a31174886d605%20%3D%20%24%28%60%3Cdiv%20id%3D%22html_dbda8ca3224441edbf9a31174886d605%22%20style%3D%22width%3A%20100.0%25%3B%20height%3A%20100.0%25%3B%22%3EVietnam%3C/div%3E%60%29%5B0%5D%3B%0A%20%20%20%20%20%20%20%20%20%20%20%20popup_693a9ff83ea846218a8147e823a30083.setContent%28html_dbda8ca3224441edbf9a31174886d605%29%3B%0A%20%20%20%20%20%20%20%20%0A%0A%20%20%20%20%20%20%20%20circle_marker_a27655c5e6d64642b9217c3ae1b3e9f8.bindPopup%28popup_693a9ff83ea846218a8147e823a30083%29%0A%20%20%20%20%20%20%20%20%3B%0A%0A%20%20%20%20%20%20%20%20%0A%20%20%20%20%0A%20%20%20%20%0A%20%20%20%20%20%20%20%20%20%20%20%20var%20circle_marker_7e2788f8b694487aa39548b251e36214%20%3D%20L.circleMarker%28%0A%20%20%20%20%20%20%20%20%20%20%20%20%20%20%20%20%5B15.5%2C%2047.5%5D%2C%0A%20%20%20%20%20%20%20%20%20%20%20%20%20%20%20%20%7B%22bubblingMouseEvents%22%3A%20true%2C%20%22color%22%3A%20%22%233388ff%22%2C%20%22dashArray%22%3A%20null%2C%20%22dashOffset%22%3A%20null%2C%20%22fill%22%3A%20true%2C%20%22fillColor%22%3A%20%22red%22%2C%20%22fillOpacity%22%3A%200.2%2C%20%22fillRule%22%3A%20%22evenodd%22%2C%20%22lineCap%22%3A%20%22round%22%2C%20%22lineJoin%22%3A%20%22round%22%2C%20%22opacity%22%3A%201.0%2C%20%22radius%22%3A%208.490153480403475%2C%20%22stroke%22%3A%20true%2C%20%22weight%22%3A%203%7D%0A%20%20%20%20%20%20%20%20%20%20%20%20%29.addTo%28map_8f87285f909e45c9934e020e26ba2b97%29%3B%0A%20%20%20%20%20%20%20%20%0A%20%20%20%20%0A%20%20%20%20%20%20%20%20var%20popup_cb1caf14a91e426b9d2b5229226fafbb%20%3D%20L.popup%28%7B%22maxWidth%22%3A%20%22100%25%22%7D%29%3B%0A%0A%20%20%20%20%20%20%20%20%0A%20%20%20%20%20%20%20%20%20%20%20%20var%20html_e1d7b89f43c34fa7b055addde03d5ff3%20%3D%20%24%28%60%3Cdiv%20id%3D%22html_e1d7b89f43c34fa7b055addde03d5ff3%22%20style%3D%22width%3A%20100.0%25%3B%20height%3A%20100.0%25%3B%22%3EYemen%3C/div%3E%60%29%5B0%5D%3B%0A%20%20%20%20%20%20%20%20%20%20%20%20popup_cb1caf14a91e426b9d2b5229226fafbb.setContent%28html_e1d7b89f43c34fa7b055addde03d5ff3%29%3B%0A%20%20%20%20%20%20%20%20%0A%0A%20%20%20%20%20%20%20%20circle_marker_7e2788f8b694487aa39548b251e36214.bindPopup%28popup_cb1caf14a91e426b9d2b5229226fafbb%29%0A%20%20%20%20%20%20%20%20%3B%0A%0A%20%20%20%20%20%20%20%20%0A%20%20%20%20%0A%20%20%20%20%0A%20%20%20%20%20%20%20%20%20%20%20%20var%20circle_marker_c56b32a0f7664936b7af0e31ee811c6f%20%3D%20L.circleMarker%28%0A%20%20%20%20%20%20%20%20%20%20%20%20%20%20%20%20%5B-29.0%2C%2024.0%5D%2C%0A%20%20%20%20%20%20%20%20%20%20%20%20%20%20%20%20%7B%22bubblingMouseEvents%22%3A%20true%2C%20%22color%22%3A%20%22%233388ff%22%2C%20%22dashArray%22%3A%20null%2C%20%22dashOffset%22%3A%20null%2C%20%22fill%22%3A%20true%2C%20%22fillColor%22%3A%20%22blue%22%2C%20%22fillOpacity%22%3A%200.2%2C%20%22fillRule%22%3A%20%22evenodd%22%2C%20%22lineCap%22%3A%20%22round%22%2C%20%22lineJoin%22%3A%20%22round%22%2C%20%22opacity%22%3A%201.0%2C%20%22radius%22%3A%2012.392457273107668%2C%20%22stroke%22%3A%20true%2C%20%22weight%22%3A%203%7D%0A%20%20%20%20%20%20%20%20%20%20%20%20%29.addTo%28map_8f87285f909e45c9934e020e26ba2b97%29%3B%0A%20%20%20%20%20%20%20%20%0A%20%20%20%20%0A%20%20%20%20%20%20%20%20var%20popup_1353de7b5248480784064368237872dd%20%3D%20L.popup%28%7B%22maxWidth%22%3A%20%22100%25%22%7D%29%3B%0A%0A%20%20%20%20%20%20%20%20%0A%20%20%20%20%20%20%20%20%20%20%20%20var%20html_4713ca78243c484e999804795cffdd47%20%3D%20%24%28%60%3Cdiv%20id%3D%22html_4713ca78243c484e999804795cffdd47%22%20style%3D%22width%3A%20100.0%25%3B%20height%3A%20100.0%25%3B%22%3ESouth%20Africa%3C/div%3E%60%29%5B0%5D%3B%0A%20%20%20%20%20%20%20%20%20%20%20%20popup_1353de7b5248480784064368237872dd.setContent%28html_4713ca78243c484e999804795cffdd47%29%3B%0A%20%20%20%20%20%20%20%20%0A%0A%20%20%20%20%20%20%20%20circle_marker_c56b32a0f7664936b7af0e31ee811c6f.bindPopup%28popup_1353de7b5248480784064368237872dd%29%0A%20%20%20%20%20%20%20%20%3B%0A%0A%20%20%20%20%20%20%20%20%0A%20%20%20%20%0A%20%20%20%20%0A%20%20%20%20%20%20%20%20%20%20%20%20var%20circle_marker_083d83809c494daea793c797fa62f903%20%3D%20L.circleMarker%28%0A%20%20%20%20%20%20%20%20%20%20%20%20%20%20%20%20%5B-14.33333%2C%2028.5%5D%2C%0A%20%20%20%20%20%20%20%20%20%20%20%20%20%20%20%20%7B%22bubblingMouseEvents%22%3A%20true%2C%20%22color%22%3A%20%22%233388ff%22%2C%20%22dashArray%22%3A%20null%2C%20%22dashOffset%22%3A%20null%2C%20%22fill%22%3A%20true%2C%20%22fillColor%22%3A%20%22blue%22%2C%20%22fillOpacity%22%3A%200.2%2C%20%22fillRule%22%3A%20%22evenodd%22%2C%20%22lineCap%22%3A%20%22round%22%2C%20%22lineJoin%22%3A%20%22round%22%2C%20%22opacity%22%3A%201.0%2C%20%22radius%22%3A%2017.940846416721868%2C%20%22stroke%22%3A%20true%2C%20%22weight%22%3A%203%7D%0A%20%20%20%20%20%20%20%20%20%20%20%20%29.addTo%28map_8f87285f909e45c9934e020e26ba2b97%29%3B%0A%20%20%20%20%20%20%20%20%0A%20%20%20%20%0A%20%20%20%20%20%20%20%20var%20popup_112ec3c020cb4ae980bef5558a39a080%20%3D%20L.popup%28%7B%22maxWidth%22%3A%20%22100%25%22%7D%29%3B%0A%0A%20%20%20%20%20%20%20%20%0A%20%20%20%20%20%20%20%20%20%20%20%20var%20html_b118dd9dee204bce8a4f18791a940287%20%3D%20%24%28%60%3Cdiv%20id%3D%22html_b118dd9dee204bce8a4f18791a940287%22%20style%3D%22width%3A%20100.0%25%3B%20height%3A%20100.0%25%3B%22%3EZambia%3C/div%3E%60%29%5B0%5D%3B%0A%20%20%20%20%20%20%20%20%20%20%20%20popup_112ec3c020cb4ae980bef5558a39a080.setContent%28html_b118dd9dee204bce8a4f18791a940287%29%3B%0A%20%20%20%20%20%20%20%20%0A%0A%20%20%20%20%20%20%20%20circle_marker_083d83809c494daea793c797fa62f903.bindPopup%28popup_112ec3c020cb4ae980bef5558a39a080%29%0A%20%20%20%20%20%20%20%20%3B%0A%0A%20%20%20%20%20%20%20%20%0A%20%20%20%20%0A%3C/script%3E onload=\"this.contentDocument.open();this.contentDocument.write(    decodeURIComponent(this.getAttribute('data-html')));this.contentDocument.close();\" allowfullscreen webkitallowfullscreen mozallowfullscreen></iframe></div></div>"
      ],
      "text/plain": [
       "<datascience.maps.Map at 0x7f22acf24c10>"
      ]
     },
     "execution_count": 45,
     "metadata": {},
     "output_type": "execute_result"
    }
   ],
   "source": [
    "# It may take a few seconds to generate this map.\n",
    "colors = {'africa': 'blue', 'europe': 'black', 'asia': 'red', 'americas': 'green'}\n",
    "scaled = poverty_map.with_columns(\n",
    "    'labels', poverty_map.column('name'),\n",
    "    'colors', poverty_map.apply(colors.get, 'region'),\n",
    "    'areas', 1e-4 * poverty_map.column('poverty_total')\n",
    ").drop('name', 'region', 'poverty_total')\n",
    "\n",
    "Circle.map_table(scaled)"
   ]
  },
  {
   "cell_type": "markdown",
   "id": "5a053349",
   "metadata": {
    "deletable": false,
    "editable": false
   },
   "source": [
    "Although people lived in extreme poverty throughout the world in 2010 (with more than 5 million in the United States), the largest numbers were in Asia and Africa."
   ]
  },
  {
   "cell_type": "markdown",
   "id": "0632c5dc",
   "metadata": {
    "deletable": false,
    "editable": false
   },
   "source": [
    "#### Part 2.5 (5 pts)\n"
   ]
  },
  {
   "cell_type": "markdown",
   "id": "d854949a",
   "metadata": {
    "deletable": false,
    "editable": false
   },
   "source": [
    " Assign `largest` to a two-column table with the `name` (not the 3-letter code) and `poverty_total` of the 10 countries with the largest number of people living in extreme poverty.\n",
    "\n",
    "*Hint*: How can we use `take` and `np.arange` in conjunction with each other?\n",
    "\n"
   ]
  },
  {
   "cell_type": "code",
   "execution_count": 46,
   "id": "743b6878",
   "metadata": {
    "deletable": false,
    "tags": []
   },
   "outputs": [
    {
     "data": {
      "text/html": [
       "<table border=\"1\" class=\"dataframe\">\n",
       "    <thead>\n",
       "        <tr>\n",
       "            <th>name</th> <th>poverty_total</th>\n",
       "        </tr>\n",
       "    </thead>\n",
       "    <tbody>\n",
       "        <tr>\n",
       "            <td>India           </td> <td>291,660,639.00</td>\n",
       "        </tr>\n",
       "        <tr>\n",
       "            <td>Nigeria         </td> <td>98,319,537.00 </td>\n",
       "        </tr>\n",
       "        <tr>\n",
       "            <td>China           </td> <td>85,687,544.00 </td>\n",
       "        </tr>\n",
       "        <tr>\n",
       "            <td>Bangladesh      </td> <td>63,826,375.00 </td>\n",
       "        </tr>\n",
       "        <tr>\n",
       "            <td>Congo, Dem. Rep.</td> <td>56,635,412.00 </td>\n",
       "        </tr>\n",
       "        <tr>\n",
       "            <td>Indonesia       </td> <td>39,177,145.00 </td>\n",
       "        </tr>\n",
       "        <tr>\n",
       "            <td>Ethiopia        </td> <td>32,242,742.00 </td>\n",
       "        </tr>\n",
       "        <tr>\n",
       "            <td>Pakistan        </td> <td>22,858,700.00 </td>\n",
       "        </tr>\n",
       "        <tr>\n",
       "            <td>Tanzania        </td> <td>19,281,872.00 </td>\n",
       "        </tr>\n",
       "        <tr>\n",
       "            <td>Madagascar      </td> <td>18,543,643.00 </td>\n",
       "        </tr>\n",
       "    </tbody>\n",
       "</table>"
      ],
      "text/plain": [
       "name             | poverty_total\n",
       "India            | 291,660,639.00\n",
       "Nigeria          | 98,319,537.00\n",
       "China            | 85,687,544.00\n",
       "Bangladesh       | 63,826,375.00\n",
       "Congo, Dem. Rep. | 56,635,412.00\n",
       "Indonesia        | 39,177,145.00\n",
       "Ethiopia         | 32,242,742.00\n",
       "Pakistan         | 22,858,700.00\n",
       "Tanzania         | 19,281,872.00\n",
       "Madagascar       | 18,543,643.00"
      ]
     },
     "execution_count": 46,
     "metadata": {},
     "output_type": "execute_result"
    }
   ],
   "source": [
    "largest = poverty_map.sort('poverty_total', descending= True).take(np.arange(0,10)).select('name', 'poverty_total')\n",
    "largest.set_format('poverty_total', NumberFormatter)"
   ]
  },
  {
   "cell_type": "code",
   "execution_count": 47,
   "id": "e0a1d4d4",
   "metadata": {
    "deletable": false,
    "editable": false
   },
   "outputs": [
    {
     "data": {
      "text/html": [
       "<p><strong><pre style='display: inline;'>q2.5</pre></strong> passed!</p>"
      ],
      "text/plain": [
       "q2.5 results: All test cases passed!"
      ]
     },
     "execution_count": 47,
     "metadata": {},
     "output_type": "execute_result"
    }
   ],
   "source": [
    "grader.check(\"q2.5\")"
   ]
  },
  {
   "cell_type": "markdown",
   "id": "f2de745c",
   "metadata": {
    "deletable": false,
    "editable": false
   },
   "source": [
    "<font color=\"indigo\">\n",
    "\n",
    "**Checks:** The grader only checks:\n",
    "* largest.labels == ('name', 'poverty_total')\n",
    "* largest.column('name').item(0) == 'India'\n",
    "* largest.num_rows == 10\n",
    "\n",
    "</font>\n"
   ]
  },
  {
   "cell_type": "markdown",
   "id": "7c4e4e56",
   "metadata": {
    "deletable": false,
    "editable": false
   },
   "source": [
    "<!-- BEGIN QUESTION -->\n",
    "\n",
    "#### Part 2.6 (5 pts)\n"
   ]
  },
  {
   "cell_type": "markdown",
   "id": "0619ff1a",
   "metadata": {
    "deletable": false,
    "editable": false
   },
   "source": [
    "It is important to study the absolute number of people living in poverty, not just the percent. The absolute number is an important factor in determining the amount of resources needed to support people living in poverty. "
   ]
  },
  {
   "cell_type": "markdown",
   "id": "a392d160",
   "metadata": {
    "deletable": false,
    "editable": false
   },
   "source": [
    "To do that, we'll now write a function called `poverty_timeline` that takes **the name of a country** (not the geo code) as its argument. It should draw a line plot of the number of people living in poverty in that country with time on the horizontal axis. The line plot should have a point for each row in the `poverty` table for that country. To compute the population living in poverty from a poverty percentage, multiply by the population of the country **in that year**.\n",
    "\n",
    "*Hint:* To make your plot, you will first need to make a table.\n",
    "\n",
    "*Hint:* This question is long. Feel free to create cells and experiment. You can create cells by going to the toolbar and hitting the `+` button."
   ]
  },
  {
   "cell_type": "code",
   "execution_count": 48,
   "id": "b318bfa3",
   "metadata": {
    "deletable": false,
    "tags": []
   },
   "outputs": [],
   "source": [
    "\n",
    "def poverty_timeline(country):\n",
    "    '''Draw a timeline of people living in extreme poverty in a country.'''\n",
    "    geo = countries.where('name', are.equal_to(country)).column('country').item(0)\n",
    "    # This solution will take multiple lines of code. Use as many as you need\n",
    "    pop_data = population\n",
    "    #filter geos\n",
    "    table1 = poverty.where('geo', are.equal_to(geo))\n",
    "    table2 = population.where('geo', are.equal_to(geo))\n",
    "    \n",
    "    table3 = table2.join('time',table1)\n",
    "    \n",
    "    table4 = table3.with_column('Population in poverty',table3.column('extreme_poverty_percent_people_below_125_a_day')*table3.column('population_total')).select('time', 'Population in poverty')\n",
    "   \n",
    "    table4.plot('time','Population in poverty')\n",
    "    \n",
    "    # Don't change anything below this line. \n",
    "    plots.title(country)\n",
    "    plots.ylim(bottom=0)\n",
    "    plots.show() # This should be the last line of your function. \n"
   ]
  },
  {
   "cell_type": "code",
   "execution_count": 49,
   "id": "7d142a0b",
   "metadata": {
    "deletable": false,
    "tags": []
   },
   "outputs": [
    {
     "data": {
      "image/png": "[encoded data removed]",
      "text/plain": [
       "<Figure size 432x432 with 1 Axes>"
      ]
     },
     "metadata": {},
     "output_type": "display_data"
    }
   ],
   "source": [
    "poverty_timeline('India')  # sample call"
   ]
  },
  {
   "cell_type": "markdown",
   "id": "9becaec9",
   "metadata": {
    "deletable": false,
    "editable": false
   },
   "source": [
    "<!-- END QUESTION -->\n",
    "\n",
    "Finally, draw the line plots below to see how the world is changing. Pay attention to the axes! You can check your work by comparing your graphs to the ones on [gapminder.org](https://www.gapminder.org/tools/#$state$entities$show$country$/$in@=ind;;;;&marker$axis_y$which=number_of_people_in_poverty&scaleType=linear&spaceRef:null;;;&chart-type=linechart).\n",
    "\n"
   ]
  },
  {
   "cell_type": "code",
   "execution_count": 50,
   "id": "94a72fcf",
   "metadata": {
    "deletable": false,
    "editable": false
   },
   "outputs": [
    {
     "data": {
      "image/png": "[encoded data removed]",
      "text/plain": [
       "<Figure size 432x432 with 1 Axes>"
      ]
     },
     "metadata": {},
     "output_type": "display_data"
    },
    {
     "data": {
      "image/png": "[encoded data removed]",
      "text/plain": [
       "<Figure size 432x432 with 1 Axes>"
      ]
     },
     "metadata": {},
     "output_type": "display_data"
    },
    {
     "data": {
      "image/png": "[encoded data removed]",
      "text/plain": [
       "<Figure size 432x432 with 1 Axes>"
      ]
     },
     "metadata": {},
     "output_type": "display_data"
    },
    {
     "data": {
      "image/png": "[encoded data removed]",
      "text/plain": [
       "<Figure size 432x432 with 1 Axes>"
      ]
     },
     "metadata": {},
     "output_type": "display_data"
    },
    {
     "data": {
      "image/png": "[encoded data removed]",
      "text/plain": [
       "<Figure size 432x432 with 1 Axes>"
      ]
     },
     "metadata": {},
     "output_type": "display_data"
    }
   ],
   "source": [
    "poverty_timeline('India')\n",
    "poverty_timeline('Nigeria')\n",
    "poverty_timeline('China')\n",
    "poverty_timeline('Colombia')\n",
    "poverty_timeline('United States')"
   ]
  },
  {
   "cell_type": "markdown",
   "id": "f0524da0",
   "metadata": {
    "deletable": false,
    "editable": false
   },
   "source": [
    "Although the number of people living in extreme poverty increased in some countries including Nigeria and the United States, the decreases in other countries, most notably the massive decreases in China and India, have shaped the overall trend that extreme poverty is decreasing worldwide, both in percentage and in absolute number. \n",
    "\n",
    "To learn more, watch [Hans Rosling in a 2015 film](https://www.gapminder.org/videos/dont-panic-end-poverty/) about the UN goal of eradicating extreme poverty from the world. "
   ]
  },
  {
   "cell_type": "markdown",
   "id": "3ba428e3",
   "metadata": {
    "deletable": false,
    "editable": false
   },
   "source": [
    "### Visualizing the Poverty Timeline in All Countries"
   ]
  },
  {
   "cell_type": "markdown",
   "id": "70990db2",
   "metadata": {
    "deletable": false,
    "editable": false
   },
   "source": [
    "Below, we've also added an interactive dropdown menu for you to visualize `poverty_timeline` graphs for other countries. Note that each dropdown menu selection may take a few seconds to run."
   ]
  },
  {
   "cell_type": "code",
   "execution_count": 51,
   "id": "655d13c2",
   "metadata": {
    "deletable": false,
    "editable": false
   },
   "outputs": [
    {
     "data": {
      "application/vnd.jupyter.widget-view+json": {
       "model_id": "7c0fcefb9a48406ba3b26e236377fc71",
       "version_major": 2,
       "version_minor": 0
      },
      "text/plain": [
       "interactive(children=(Dropdown(description='country', options=('Angola', 'Albania', 'Argentina', 'Armenia', 'A…"
      ]
     },
     "metadata": {},
     "output_type": "display_data"
    }
   ],
   "source": [
    "# Just run this cell\n",
    "\n",
    "all_countries = poverty_map.column('name')\n",
    "_ = widgets.interact(poverty_timeline, country=list(all_countries))"
   ]
  },
  {
   "cell_type": "markdown",
   "id": "a863db46",
   "metadata": {
    "deletable": false,
    "editable": false
   },
   "source": [
    "## 3. You're Done!\n"
   ]
  },
  {
   "cell_type": "markdown",
   "id": "e817f872",
   "metadata": {
    "deletable": false,
    "editable": false
   },
   "source": [
    "Congratulations on discovering some important facts about global poverty and demonstrating your mastery of table manipulation and data visualization. Time to submit...\n",
    "\n",
    "**Important submission information:** Follow these steps to submit your work:\n",
    "* Run the tests and verify that they pass as you expect. \n",
    "* Choose **Save Notebook** from the **File** menu.\n",
    "* **Run the final cell** and click the link below to download the zip file. \n",
    "\n",
    "Once you have downloaded that file, go to [Gradescope](https://www.gradescope.com/) and submit the zip file to the corresponding assignment. The name of this assignment is \"Project 1\". **Be sure your work is saved before running the last cell!**\n",
    "\n",
    "Once you have submitted, your Gradescope assignment should show you passing all the tests you passed in your assignment notebook."
   ]
  },
  {
   "cell_type": "markdown",
   "id": "e7cd5c26",
   "metadata": {
    "deletable": false,
    "editable": false
   },
   "source": [
    "---\n",
    "\n",
    "To double-check your work, the cell below will rerun all of the autograder tests."
   ]
  },
  {
   "cell_type": "code",
   "execution_count": 52,
   "id": "e0a6cd56",
   "metadata": {
    "deletable": false,
    "editable": false
   },
   "outputs": [
    {
     "data": {
      "text/plain": [
       "q1.1 results: All test cases passed!\n",
       "\n",
       "q1.12 results: All test cases passed!\n",
       "\n",
       "q1.13 results: All test cases passed!\n",
       "\n",
       "q1.14 results: All test cases passed!\n",
       "\n",
       "q1.15 results: All test cases passed!\n",
       "\n",
       "q1.2 results: All test cases passed!\n",
       "\n",
       "q1.5 results: All test cases passed!\n",
       "\n",
       "q1.7 results: All test cases passed!\n",
       "\n",
       "q1.9 results: All test cases passed!\n",
       "\n",
       "q2.1 results: All test cases passed!\n",
       "\n",
       "q2.2 results: All test cases passed!\n",
       "\n",
       "q2.3 results: All test cases passed!\n",
       "\n",
       "q2.4 results: All test cases passed!\n",
       "\n",
       "q2.5 results: All test cases passed!"
      ]
     },
     "execution_count": 52,
     "metadata": {},
     "output_type": "execute_result"
    }
   ],
   "source": [
    "grader.check_all()"
   ]
  },
  {
   "cell_type": "markdown",
   "id": "7be14b29",
   "metadata": {
    "deletable": false,
    "editable": false
   },
   "source": [
    "## Submission\n",
    "\n",
    "Make sure you have run all cells in your notebook in order before running the cell below, so that all images/graphs appear in the output. The cell below will generate a zip file for you to submit. **Please save before exporting!**"
   ]
  },
  {
   "cell_type": "code",
   "execution_count": 53,
   "id": "69a0aefe",
   "metadata": {
    "deletable": false,
    "editable": false
   },
   "outputs": [
    {
     "data": {
      "text/html": [
       "\n",
       "            <p>Your submission has been exported. Click <a href=\"project1_2022_10_27T21_35_40_327397.zip\" download=\"project1_2022_10_27T21_35_40_327397.zip\" target=\"_blank\">here</a>\n",
       "            to download the zip file.</p>\n",
       "            "
      ],
      "text/plain": [
       "<IPython.core.display.HTML object>"
      ]
     },
     "metadata": {},
     "output_type": "display_data"
    }
   ],
   "source": [
    "# Save your notebook first, then run this cell to export your submission.\n",
    "grader.export()"
   ]
  },
  {
   "cell_type": "markdown",
   "id": "2a935b4e",
   "metadata": {},
   "source": [
    " "
   ]
  }
 ],
 "metadata": {
  "kernelspec": {
   "display_name": "Python 3 (ipykernel)",
   "language": "python",
   "name": "python3"
  },
  "language_info": {
   "codemirror_mode": {
    "name": "ipython",
    "version": 3
   },
   "file_extension": ".py",
   "mimetype": "text/x-python",
   "name": "python",
   "nbconvert_exporter": "python",
   "pygments_lexer": "ipython3",
   "version": "3.9.7"
  },
  "otter": {
   "tests": {
    "q1.1": {
     "name": "q1.1",
     "points": 5,
     "suites": [
      {
       "cases": [
        {
         "code": ">>> b_pop.labels == ('time', 'population_total')\nTrue",
         "failure_message": "Check your column labels and spelling",
         "hidden": false,
         "locked": false
        },
        {
         "code": ">>> np.array_equal(b_pop.sort(\"time\").column(\"time\"), np.arange(1970, 2021))\nTrue",
         "failure_message": "Times should range from 1970 through 2015",
         "hidden": false,
         "locked": false
        }
       ],
       "scored": true,
       "setup": "",
       "teardown": "",
       "type": "doctest"
      }
     ]
    },
    "q1.12": {
     "name": "q1.12",
     "points": 5,
     "suites": [
      {
       "cases": [
        {
         "code": ">>> stats_for_year(1990).labels == ('geo', 'population_total', 'children_per_woman_total_fertility', 'child_mortality_under_5_per_1000_born')\nTrue",
         "hidden": false,
         "locked": false
        },
        {
         "code": ">>> stats_for_year(1990).num_rows == 50\nTrue",
         "hidden": false,
         "locked": false
        },
        {
         "code": ">>> print(stats_for_year(1960).sort('geo').take(np.arange(5, 50, 5)))\ngeo  | population_total | children_per_woman_total_fertility | child_mortality_under_5_per_1000_born\ncan  | 17847404         | 3.88                               | 32.6\ndza  | 11057864         | 7.52                               | 242.54\ngbr  | 52370595         | 2.69                               | 26.56\nirq  | 7289753          | 6.25                               | 191.93\nmar  | 12328532         | 7.04                               | 237.06\nnga  | 45138460         | 6.35                               | 339.85\npol  | 29614201         | 3.11                               | 65.03\ntur  | 27472339         | 6.37                               | 258.29\nuzb  | 8526299          | 6.26                               | 169.4\n",
         "hidden": false,
         "locked": false
        },
        {
         "code": ">>> print(stats_for_year(2010).sort('geo').take(np.arange(3, 50, 5)))\ngeo  | population_total | children_per_woman_total_fertility | child_mortality_under_5_per_1000_born\nbgd  | 147575433        | 2.28                               | 49.1\ncol  | 45222699         | 2.01                               | 18.47\neth  | 87639962         | 4.92                               | 82.94\nind  | 1234281163       | 2.6                                | 58.23\nken  | 42030684         | 4.37                               | 56.54\nmoz  | 23531567         | 5.56                               | 104.53\nper  | 29027680         | 2.55                               | 20.13\nsdn  | 34545014         | 4.88                               | 75.92\nukr  | 45792086         | 1.45                               | 11.72\nyem  | 23154854         | 4.67                               | 55.96\n",
         "hidden": false,
         "locked": false
        }
       ],
       "scored": true,
       "setup": "",
       "teardown": "",
       "type": "doctest"
      }
     ]
    },
    "q1.13": {
     "name": "q1.13",
     "points": 5,
     "suites": [
      {
       "cases": [
        {
         "code": ">>> pop_for_year(1972) == 3355562066\nTrue",
         "hidden": false,
         "locked": false
        },
        {
         "code": ">>> pop_for_year(2020) == 6765161289\nTrue",
         "hidden": false,
         "locked": false
        },
        {
         "code": ">>> pop_for_year(1989) == 4576679948\nTrue",
         "hidden": false,
         "locked": false
        },
        {
         "code": ">>> pop_for_year(2002) == 5514129422\nTrue",
         "hidden": false,
         "locked": false
        }
       ],
       "scored": true,
       "setup": "",
       "teardown": "",
       "type": "doctest"
      }
     ]
    },
    "q1.14": {
     "name": "q1.14",
     "points": 5,
     "suites": [
      {
       "cases": [
        {
         "code": ">>> pop_by_decade.labels == ('decade', 'population')\nTrue",
         "failure_message": "Check column labels",
         "hidden": false,
         "locked": false
        },
        {
         "code": ">>> pop_by_decade.column(0).item(0) == 1960\nTrue",
         "failure_message": "First row should be for 1960",
         "hidden": false,
         "locked": false
        }
       ],
       "scored": true,
       "setup": "",
       "teardown": "",
       "type": "doctest"
      }
     ]
    },
    "q1.15": {
     "name": "q1.15",
     "points": 5,
     "suites": [
      {
       "cases": [
        {
         "code": ">>> region_counts.labels == ('region', 'count')\nTrue",
         "failure_message": "Check your column labels and spelling",
         "hidden": false,
         "locked": false
        },
        {
         "code": ">>> sum(region_counts.column('count')) == 50\nTrue",
         "failure_message": "Counts must sum to 50",
         "hidden": false,
         "locked": false
        }
       ],
       "scored": true,
       "setup": "",
       "teardown": "",
       "type": "doctest"
      }
     ]
    },
    "q1.2": {
     "name": "q1.2",
     "points": 5,
     "suites": [
      {
       "cases": [
        {
         "code": ">>> 0.005 <= b_five_growth.sort('time').column('annual_growth').item(0) <= 0.05\nTrue",
         "hidden": false,
         "locked": false
        },
        {
         "code": ">>> 0.01 < max(b_five_growth.column('annual_growth')) < 0.03\nTrue",
         "hidden": false,
         "locked": false
        }
       ],
       "scored": true,
       "setup": "",
       "teardown": "",
       "type": "doctest"
      }
     ]
    },
    "q1.5": {
     "name": "q1.5",
     "points": 5,
     "suites": [
      {
       "cases": [
        {
         "code": ">>> fertility_over_time('usa', 2010).labels == ('Year', 'Children per woman')\nTrue",
         "failure_message": "Check your column labels and spelling",
         "hidden": false,
         "locked": false
        },
        {
         "code": ">>> np.array_equal(fertility_over_time('usa', 2010).column('Year'), np.arange(2010, 2021))\nTrue",
         "failure_message": "Check that you use the start year to determine the data range.",
         "hidden": false,
         "locked": false
        },
        {
         "code": ">>> # Check that you use the start year to determine the data range.\n>>> np.array_equal(fertility_over_time('usa', 2005).column('Year'), np.arange(2005, 2021))\nTrue",
         "hidden": false,
         "locked": false
        }
       ],
       "scored": true,
       "setup": "",
       "teardown": "",
       "type": "doctest"
      }
     ]
    },
    "q1.7": {
     "name": "q1.7",
     "points": 5,
     "suites": [
      {
       "cases": [
        {
         "code": ">>> 'Child deaths per 1000 born' in post_1969_fertility_and_child_mortality.labels\nTrue",
         "failure_message": "Make sure your column labels are correct",
         "hidden": false,
         "locked": false
        },
        {
         "code": ">>> 'Children per woman' in post_1969_fertility_and_child_mortality.labels\nTrue",
         "failure_message": "Make sure your column labels are correct",
         "hidden": false,
         "locked": false
        },
        {
         "code": ">>> # Make sure you are using the date range 1970-2020\n>>> post_1969_fertility_and_child_mortality.num_rows == 51\nTrue",
         "hidden": false,
         "locked": false
        }
       ],
       "scored": true,
       "setup": "",
       "teardown": "",
       "type": "doctest"
      }
     ]
    },
    "q1.9": {
     "name": "q1.9",
     "points": 4,
     "suites": [
      {
       "cases": [
        {
         "code": ">>> 0 <= percent_2010 <= 100\nTrue",
         "failure_message": "Your answer should be a number between 0 and 100.",
         "hidden": false,
         "locked": false
        },
        {
         "code": ">>> 0 <= percent_1960 <= 100\nTrue",
         "failure_message": "Your answer should be a number between 0 and 100.",
         "hidden": false,
         "locked": false
        }
       ],
       "scored": true,
       "setup": "",
       "teardown": "",
       "type": "doctest"
      }
     ]
    },
    "q2.1": {
     "name": "q2.1",
     "points": 5,
     "suites": [
      {
       "cases": [
        {
         "code": ">>> # Please don't edit the last line.\n>>> latest_poverty.labels==('geo', 'time','poverty_percent')\nTrue",
         "hidden": false,
         "locked": false
        },
        {
         "code": ">>> # The result should have one row per country.\n>>> latest_poverty.num_rows == 145\nTrue",
         "hidden": false,
         "locked": false
        }
       ],
       "scored": true,
       "setup": "",
       "teardown": "",
       "type": "doctest"
      }
     ]
    },
    "q2.2": {
     "name": "q2.2",
     "points": 5,
     "suites": [
      {
       "cases": [
        {
         "code": ">>> recent_poverty_total.labels==('geo', 'poverty_percent','population_total','poverty_total')\nTrue",
         "failure_message": "Check your column labels and spelling",
         "hidden": false,
         "locked": false
        },
        {
         "code": ">>> recent_poverty_total.where('geo',are.equal_to('aus')).column('population_total').item(0) == 22154687\nTrue",
         "failure_message": "Careful, the population of Australia in 2010 was 22,154,687",
         "hidden": false,
         "locked": false
        },
        {
         "code": ">>> np.isclose(recent_poverty_total.where('geo', 'aus').column('poverty_total').item(0), 301304)\nTrue",
         "failure_message": "The number of people estimated to be living in extreme poverty in Australia should be 301,304. That's 22,154,687 * 0.0136 rounded to the nearest integer.",
         "hidden": false,
         "locked": false
        }
       ],
       "scored": true,
       "setup": "",
       "teardown": "",
       "type": "doctest"
      }
     ]
    },
    "q2.3": {
     "name": "q2.3",
     "points": 5,
     "suites": [
      {
       "cases": [
        {
         "code": ">>> 10 <= poverty_percent <= 20\nTrue",
         "hidden": false,
         "locked": false
        }
       ],
       "scored": true,
       "setup": "",
       "teardown": "",
       "type": "doctest"
      }
     ]
    },
    "q2.4": {
     "name": "q2.4",
     "points": 5,
     "suites": [
      {
       "cases": [
        {
         "code": ">>> poverty_map.labels == ('latitude', 'longitude', 'name', 'region', 'poverty_total')\nTrue",
         "failure_message": "Check your column labels and spelling",
         "hidden": false,
         "locked": false
        },
        {
         "code": ">>> list(np.sort(np.unique(poverty_map.column('region')))) == ['africa', 'americas', 'asia', 'europe']\nTrue",
         "failure_message": "Something is wrong with your region column.",
         "hidden": false,
         "locked": false
        }
       ],
       "scored": true,
       "setup": "",
       "teardown": "",
       "type": "doctest"
      }
     ]
    },
    "q2.5": {
     "name": "q2.5",
     "points": 5,
     "suites": [
      {
       "cases": [
        {
         "code": ">>> largest.labels == ('name', 'poverty_total')\nTrue",
         "failure_message": "Check your column labels and spelling",
         "hidden": false,
         "locked": false
        },
        {
         "code": ">>> # MESSAGE India is the country with the largest number of people living in extreme poverty.\n>>> largest.column('name').item(0) == 'India'\nTrue",
         "hidden": false,
         "locked": false
        },
        {
         "code": ">>> largest.num_rows == 10\nTrue",
         "failure_message": "The table should contain exactly 10 rows.",
         "hidden": false,
         "locked": false
        }
       ],
       "scored": true,
       "setup": "",
       "teardown": "",
       "type": "doctest"
      }
     ]
    }
   }
  },
  "widgets": {
   "application/vnd.jupyter.widget-state+json": {
    "state": {
     "09e4d166b40d4484948244bd78f09143": {
      "model_module": "@jupyter-widgets/controls",
      "model_module_version": "1.5.0",
      "model_name": "SliderStyleModel",
      "state": {
       "_model_module": "@jupyter-widgets/controls",
       "_model_module_version": "1.5.0",
       "_model_name": "SliderStyleModel",
       "_view_count": null,
       "_view_module": "@jupyter-widgets/base",
       "_view_module_version": "1.2.0",
       "_view_name": "StyleView",
       "description_width": "",
       "handle_color": null
      }
     },
     "09fbc61036be4087ac56e454b750a3a8": {
      "model_module": "@jupyter-widgets/base",
      "model_module_version": "1.2.0",
      "model_name": "LayoutModel",
      "state": {
       "_model_module": "@jupyter-widgets/base",
       "_model_module_version": "1.2.0",
       "_model_name": "LayoutModel",
       "_view_count": null,
       "_view_module": "@jupyter-widgets/base",
       "_view_module_version": "1.2.0",
       "_view_name": "LayoutView",
       "align_content": null,
       "align_items": null,
       "align_self": null,
       "border": null,
       "bottom": null,
       "display": null,
       "flex": null,
       "flex_flow": null,
       "grid_area": null,
       "grid_auto_columns": null,
       "grid_auto_flow": null,
       "grid_auto_rows": null,
       "grid_column": null,
       "grid_gap": null,
       "grid_row": null,
       "grid_template_areas": null,
       "grid_template_columns": null,
       "grid_template_rows": null,
       "height": null,
       "justify_content": null,
       "justify_items": null,
       "left": null,
       "margin": null,
       "max_height": null,
       "max_width": null,
       "min_height": null,
       "min_width": null,
       "object_fit": null,
       "object_position": null,
       "order": null,
       "overflow": null,
       "overflow_x": null,
       "overflow_y": null,
       "padding": null,
       "right": null,
       "top": null,
       "visibility": null,
       "width": null
      }
     },
     "4546da29534e428c9c9bb472de75a05a": {
      "model_module": "@jupyter-widgets/base",
      "model_module_version": "1.2.0",
      "model_name": "LayoutModel",
      "state": {
       "_model_module": "@jupyter-widgets/base",
       "_model_module_version": "1.2.0",
       "_model_name": "LayoutModel",
       "_view_count": null,
       "_view_module": "@jupyter-widgets/base",
       "_view_module_version": "1.2.0",
       "_view_name": "LayoutView",
       "align_content": null,
       "align_items": null,
       "align_self": null,
       "border": null,
       "bottom": null,
       "display": null,
       "flex": null,
       "flex_flow": null,
       "grid_area": null,
       "grid_auto_columns": null,
       "grid_auto_flow": null,
       "grid_auto_rows": null,
       "grid_column": null,
       "grid_gap": null,
       "grid_row": null,
       "grid_template_areas": null,
       "grid_template_columns": null,
       "grid_template_rows": null,
       "height": null,
       "justify_content": null,
       "justify_items": null,
       "left": null,
       "margin": null,
       "max_height": null,
       "max_width": null,
       "min_height": null,
       "min_width": null,
       "object_fit": null,
       "object_position": null,
       "order": null,
       "overflow": null,
       "overflow_x": null,
       "overflow_y": null,
       "padding": null,
       "right": null,
       "top": null,
       "visibility": null,
       "width": null
      }
     },
     "45e4c59c08f3447690b408e84052de55": {
      "model_module": "@jupyter-widgets/controls",
      "model_module_version": "1.5.0",
      "model_name": "VBoxModel",
      "state": {
       "_dom_classes": [
        "widget-interact"
       ],
       "_model_module": "@jupyter-widgets/controls",
       "_model_module_version": "1.5.0",
       "_model_name": "VBoxModel",
       "_view_count": null,
       "_view_module": "@jupyter-widgets/controls",
       "_view_module_version": "1.5.0",
       "_view_name": "VBoxView",
       "box_style": "",
       "children": [
        "IPY_MODEL_9b8e60f60ab9481a92cfd9e28fc8ae5d",
        "IPY_MODEL_e17a623ceab74024a3d87ae352b8b5d3"
       ],
       "layout": "IPY_MODEL_4546da29534e428c9c9bb472de75a05a"
      }
     },
     "5e2f118aadfe4c77a4da6797c0c5254f": {
      "model_module": "@jupyter-widgets/controls",
      "model_module_version": "1.5.0",
      "model_name": "DescriptionStyleModel",
      "state": {
       "_model_module": "@jupyter-widgets/controls",
       "_model_module_version": "1.5.0",
       "_model_name": "DescriptionStyleModel",
       "_view_count": null,
       "_view_module": "@jupyter-widgets/base",
       "_view_module_version": "1.2.0",
       "_view_name": "StyleView",
       "description_width": ""
      }
     },
     "79d8cf47d86248faa25678d8bc612ef9": {
      "model_module": "@jupyter-widgets/base",
      "model_module_version": "1.2.0",
      "model_name": "LayoutModel",
      "state": {
       "_model_module": "@jupyter-widgets/base",
       "_model_module_version": "1.2.0",
       "_model_name": "LayoutModel",
       "_view_count": null,
       "_view_module": "@jupyter-widgets/base",
       "_view_module_version": "1.2.0",
       "_view_name": "LayoutView",
       "align_content": null,
       "align_items": null,
       "align_self": null,
       "border": null,
       "bottom": null,
       "display": null,
       "flex": null,
       "flex_flow": null,
       "grid_area": null,
       "grid_auto_columns": null,
       "grid_auto_flow": null,
       "grid_auto_rows": null,
       "grid_column": null,
       "grid_gap": null,
       "grid_row": null,
       "grid_template_areas": null,
       "grid_template_columns": null,
       "grid_template_rows": null,
       "height": null,
       "justify_content": null,
       "justify_items": null,
       "left": null,
       "margin": null,
       "max_height": null,
       "max_width": null,
       "min_height": null,
       "min_width": null,
       "object_fit": null,
       "object_position": null,
       "order": null,
       "overflow": null,
       "overflow_x": null,
       "overflow_y": null,
       "padding": null,
       "right": null,
       "top": null,
       "visibility": null,
       "width": null
      }
     },
     "8af758cb2e434a088f24a2fda775fb82": {
      "model_module": "@jupyter-widgets/output",
      "model_module_version": "1.0.0",
      "model_name": "OutputModel",
      "state": {
       "_dom_classes": [],
       "_model_module": "@jupyter-widgets/output",
       "_model_module_version": "1.0.0",
       "_model_name": "OutputModel",
       "_view_count": null,
       "_view_module": "@jupyter-widgets/output",
       "_view_module_version": "1.0.0",
       "_view_name": "OutputView",
       "layout": "IPY_MODEL_99bc50ea2d33419f9104df76972382d2",
       "msg_id": "",
       "outputs": []
      }
     },
     "99bc50ea2d33419f9104df76972382d2": {
      "model_module": "@jupyter-widgets/base",
      "model_module_version": "1.2.0",
      "model_name": "LayoutModel",
      "state": {
       "_model_module": "@jupyter-widgets/base",
       "_model_module_version": "1.2.0",
       "_model_name": "LayoutModel",
       "_view_count": null,
       "_view_module": "@jupyter-widgets/base",
       "_view_module_version": "1.2.0",
       "_view_name": "LayoutView",
       "align_content": null,
       "align_items": null,
       "align_self": null,
       "border": null,
       "bottom": null,
       "display": null,
       "flex": null,
       "flex_flow": null,
       "grid_area": null,
       "grid_auto_columns": null,
       "grid_auto_flow": null,
       "grid_auto_rows": null,
       "grid_column": null,
       "grid_gap": null,
       "grid_row": null,
       "grid_template_areas": null,
       "grid_template_columns": null,
       "grid_template_rows": null,
       "height": null,
       "justify_content": null,
       "justify_items": null,
       "left": null,
       "margin": null,
       "max_height": null,
       "max_width": null,
       "min_height": null,
       "min_width": null,
       "object_fit": null,
       "object_position": null,
       "order": null,
       "overflow": null,
       "overflow_x": null,
       "overflow_y": null,
       "padding": null,
       "right": null,
       "top": null,
       "visibility": null,
       "width": null
      }
     },
     "9b8e60f60ab9481a92cfd9e28fc8ae5d": {
      "model_module": "@jupyter-widgets/controls",
      "model_module_version": "1.5.0",
      "model_name": "IntSliderModel",
      "state": {
       "_dom_classes": [],
       "_model_module": "@jupyter-widgets/controls",
       "_model_module_version": "1.5.0",
       "_model_name": "IntSliderModel",
       "_view_count": null,
       "_view_module": "@jupyter-widgets/controls",
       "_view_module_version": "1.5.0",
       "_view_name": "IntSliderView",
       "continuous_update": true,
       "description": "year",
       "description_tooltip": null,
       "disabled": false,
       "layout": "IPY_MODEL_b277202f1fa4479688b0bfffec7eca35",
       "max": 2020,
       "min": 1960,
       "orientation": "horizontal",
       "readout": true,
       "readout_format": "d",
       "step": 1,
       "style": "IPY_MODEL_09e4d166b40d4484948244bd78f09143",
       "value": 1960
      }
     },
     "a6a3a411a42549d4b829cc5f73f0dc31": {
      "model_module": "@jupyter-widgets/controls",
      "model_module_version": "1.5.0",
      "model_name": "DropdownModel",
      "state": {
       "_dom_classes": [],
       "_model_module": "@jupyter-widgets/controls",
       "_model_module_version": "1.5.0",
       "_model_name": "DropdownModel",
       "_options_labels": [
        "Angola",
        "Albania",
        "Argentina",
        "Armenia",
        "Australia",
        "Austria",
        "Azerbaijan",
        "Burundi",
        "Belgium",
        "Benin",
        "Burkina Faso",
        "Bangladesh",
        "Bulgaria",
        "Bosnia and Herzegovina",
        "Belarus",
        "Belize",
        "Bolivia",
        "Brazil",
        "Bhutan",
        "Botswana",
        "Central African Republic",
        "Canada",
        "Switzerland",
        "Chile",
        "China",
        "Cote d'Ivoire",
        "Cameroon",
        "Congo, Dem. Rep.",
        "Congo, Rep.",
        "Colombia",
        "Comoros",
        "Cape Verde",
        "Costa Rica",
        "Czech Republic",
        "Germany",
        "Djibouti",
        "Denmark",
        "Dominican Republic",
        "Algeria",
        "Ecuador",
        "Egypt",
        "Spain",
        "Estonia",
        "Ethiopia",
        "Finland",
        "Fiji",
        "France",
        "Micronesia, Fed. Sts.",
        "Gabon",
        "United Kingdom",
        "Georgia",
        "Ghana",
        "Guinea",
        "Gambia",
        "Guinea-Bissau",
        "Greece",
        "Guatemala",
        "Guyana",
        "Honduras",
        "Croatia",
        "Haiti",
        "Hungary",
        "Indonesia",
        "India",
        "Ireland",
        "Iran",
        "Iraq",
        "Israel",
        "Italy",
        "Jamaica",
        "Jordan",
        "Japan",
        "Kazakhstan",
        "Kenya",
        "Kyrgyz Republic",
        "Cambodia",
        "Lao",
        "Liberia",
        "St. Lucia",
        "Sri Lanka",
        "Lesotho",
        "Lithuania",
        "Latvia",
        "Morocco",
        "Moldova",
        "Madagascar",
        "Maldives",
        "Mexico",
        "North Macedonia",
        "Mali",
        "Montenegro",
        "Mozambique",
        "Mauritania",
        "Malawi",
        "Malaysia",
        "Namibia",
        "Niger",
        "Nigeria",
        "Nicaragua",
        "Netherlands",
        "Norway",
        "Nepal",
        "Pakistan",
        "Panama",
        "Peru",
        "Philippines",
        "Papua New Guinea",
        "Poland",
        "Paraguay",
        "Palestine",
        "Romania",
        "Russia",
        "Rwanda",
        "Sudan",
        "Senegal",
        "Sierra Leone",
        "El Salvador",
        "Serbia",
        "Sao Tome and Principe",
        "Suriname",
        "Slovak Republic",
        "Slovenia",
        "Sweden",
        "Swaziland",
        "Seychelles",
        "Syria",
        "Chad",
        "Togo",
        "Thailand",
        "Tajikistan",
        "Turkmenistan",
        "Timor-Leste",
        "Trinidad and Tobago",
        "Tunisia",
        "Turkey",
        "Tanzania",
        "Uganda",
        "Ukraine",
        "Uruguay",
        "United States",
        "Venezuela",
        "Vietnam",
        "Yemen",
        "South Africa",
        "Zambia"
       ],
       "_view_count": null,
       "_view_module": "@jupyter-widgets/controls",
       "_view_module_version": "1.5.0",
       "_view_name": "DropdownView",
       "description": "country",
       "description_tooltip": null,
       "disabled": false,
       "index": 0,
       "layout": "IPY_MODEL_79d8cf47d86248faa25678d8bc612ef9",
       "style": "IPY_MODEL_5e2f118aadfe4c77a4da6797c0c5254f"
      }
     },
     "b277202f1fa4479688b0bfffec7eca35": {
      "model_module": "@jupyter-widgets/base",
      "model_module_version": "1.2.0",
      "model_name": "LayoutModel",
      "state": {
       "_model_module": "@jupyter-widgets/base",
       "_model_module_version": "1.2.0",
       "_model_name": "LayoutModel",
       "_view_count": null,
       "_view_module": "@jupyter-widgets/base",
       "_view_module_version": "1.2.0",
       "_view_name": "LayoutView",
       "align_content": null,
       "align_items": null,
       "align_self": null,
       "border": null,
       "bottom": null,
       "display": null,
       "flex": null,
       "flex_flow": null,
       "grid_area": null,
       "grid_auto_columns": null,
       "grid_auto_flow": null,
       "grid_auto_rows": null,
       "grid_column": null,
       "grid_gap": null,
       "grid_row": null,
       "grid_template_areas": null,
       "grid_template_columns": null,
       "grid_template_rows": null,
       "height": null,
       "justify_content": null,
       "justify_items": null,
       "left": null,
       "margin": null,
       "max_height": null,
       "max_width": null,
       "min_height": null,
       "min_width": null,
       "object_fit": null,
       "object_position": null,
       "order": null,
       "overflow": null,
       "overflow_x": null,
       "overflow_y": null,
       "padding": null,
       "right": null,
       "top": null,
       "visibility": null,
       "width": null
      }
     },
     "d5af5ca4aa2545fc902e2c96041d3058": {
      "model_module": "@jupyter-widgets/controls",
      "model_module_version": "1.5.0",
      "model_name": "VBoxModel",
      "state": {
       "_dom_classes": [
        "widget-interact"
       ],
       "_model_module": "@jupyter-widgets/controls",
       "_model_module_version": "1.5.0",
       "_model_name": "VBoxModel",
       "_view_count": null,
       "_view_module": "@jupyter-widgets/controls",
       "_view_module_version": "1.5.0",
       "_view_name": "VBoxView",
       "box_style": "",
       "children": [
        "IPY_MODEL_a6a3a411a42549d4b829cc5f73f0dc31",
        "IPY_MODEL_8af758cb2e434a088f24a2fda775fb82"
       ],
       "layout": "IPY_MODEL_d7744ab26bea43fbb04f562b8a2dc5b3"
      }
     },
     "d7744ab26bea43fbb04f562b8a2dc5b3": {
      "model_module": "@jupyter-widgets/base",
      "model_module_version": "1.2.0",
      "model_name": "LayoutModel",
      "state": {
       "_model_module": "@jupyter-widgets/base",
       "_model_module_version": "1.2.0",
       "_model_name": "LayoutModel",
       "_view_count": null,
       "_view_module": "@jupyter-widgets/base",
       "_view_module_version": "1.2.0",
       "_view_name": "LayoutView",
       "align_content": null,
       "align_items": null,
       "align_self": null,
       "border": null,
       "bottom": null,
       "display": null,
       "flex": null,
       "flex_flow": null,
       "grid_area": null,
       "grid_auto_columns": null,
       "grid_auto_flow": null,
       "grid_auto_rows": null,
       "grid_column": null,
       "grid_gap": null,
       "grid_row": null,
       "grid_template_areas": null,
       "grid_template_columns": null,
       "grid_template_rows": null,
       "height": null,
       "justify_content": null,
       "justify_items": null,
       "left": null,
       "margin": null,
       "max_height": null,
       "max_width": null,
       "min_height": null,
       "min_width": null,
       "object_fit": null,
       "object_position": null,
       "order": null,
       "overflow": null,
       "overflow_x": null,
       "overflow_y": null,
       "padding": null,
       "right": null,
       "top": null,
       "visibility": null,
       "width": null
      }
     },
     "e17a623ceab74024a3d87ae352b8b5d3": {
      "model_module": "@jupyter-widgets/output",
      "model_module_version": "1.0.0",
      "model_name": "OutputModel",
      "state": {
       "_dom_classes": [],
       "_model_module": "@jupyter-widgets/output",
       "_model_module_version": "1.0.0",
       "_model_name": "OutputModel",
       "_view_count": null,
       "_view_module": "@jupyter-widgets/output",
       "_view_module_version": "1.0.0",
       "_view_name": "OutputView",
       "layout": "IPY_MODEL_09fbc61036be4087ac56e454b750a3a8",
       "msg_id": "",
       "outputs": []
      }
     }
    },
    "version_major": 2,
    "version_minor": 0
   }
  }
 },
 "nbformat": 4,
 "nbformat_minor": 5
}
